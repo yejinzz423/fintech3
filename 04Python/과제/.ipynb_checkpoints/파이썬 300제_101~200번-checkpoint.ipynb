{
 "cells": [
  {
   "cell_type": "markdown",
   "id": "74078c10",
   "metadata": {},
   "source": [
    "# 101\n",
    "파이썬에서 True 혹은 False를 갖는 데이터 타입은 무엇인가?"
   ]
  },
  {
   "cell_type": "markdown",
   "id": "31ec2a9e",
   "metadata": {},
   "source": [
    "# 102\n",
    "아래 코드의 출력 결과를 예상하라\n",
    "* print(3 == 5)"
   ]
  },
  {
   "cell_type": "markdown",
   "id": "416b6e9f",
   "metadata": {},
   "source": [
    "# 103\n",
    "아래 코드의 출력 결과를 예상하라\n",
    "* print(3 < 5)"
   ]
  },
  {
   "cell_type": "markdown",
   "id": "d7a180d1",
   "metadata": {},
   "source": [
    "# 104\n",
    "아래 코드의 결과를 예상하라.\n",
    "* x = 4\n",
    "* print(1 < x < 5)"
   ]
  },
  {
   "cell_type": "markdown",
   "id": "d7c66dde",
   "metadata": {},
   "source": [
    "# 105\n",
    "아래 코드의 결과를 예상하라.\n",
    "* print ((3 == 3) and (4 != 3))"
   ]
  },
  {
   "cell_type": "markdown",
   "id": "83565299",
   "metadata": {},
   "source": [
    "# 106\n",
    "아래 코드에서 에러가 발생하는 원인에 대해 설명하라.\n",
    "* print(3 => 4)"
   ]
  },
  {
   "cell_type": "markdown",
   "id": "d8edc3d7",
   "metadata": {},
   "source": [
    "# 107\n",
    "아래 코드의 출력 결과를 예상하라\n",
    "* if 4 < 3:\n",
    "*    print(\"Hello World\")"
   ]
  },
  {
   "cell_type": "markdown",
   "id": "e17a5757",
   "metadata": {},
   "source": [
    "# 108\n",
    "아래 코드의 출력 결과를 예상하라\n",
    ">if 4 < 3: <br>\n",
    ">    print(\"Hello World.\") <br>\n",
    ">else: <br>\n",
    ">    print(\"Hi, there.\") <br>"
   ]
  },
  {
   "cell_type": "markdown",
   "id": "5caebe6b",
   "metadata": {},
   "source": [
    "# 109\n",
    "아래 코드의 출력 결과를 예상하라\n",
    ">if True : <br>\n",
    "    print (\"1\") <br>\n",
    "    print (\"2\")<br>\n",
    "else :<br>\n",
    "    print(\"3\")<br>\n",
    "print(\"4\")"
   ]
  },
  {
   "cell_type": "markdown",
   "id": "be8efa65",
   "metadata": {},
   "source": [
    "# 110\n",
    "아래 코드의 출력 결과를 예상하라\n",
    ">if True : <br>\n",
    "    if False: <br>\n",
    "        print(\"1\") <br>\n",
    "        print(\"2\") <br>\n",
    "    else: <br>\n",
    "        print(\"3\") <br>\n",
    "else : <br>\n",
    "    print(\"4\") <br>\n",
    "print(\"5\")"
   ]
  },
  {
   "cell_type": "markdown",
   "id": "d4abbbfc",
   "metadata": {},
   "source": [
    "# 111\n",
    "사용자로부터 입력받은 문자열을 두 번 출력하라. 아래는 사용자가 \"안녕하세요\"를 입력한 경우의 출력 결과이다.\n",
    "> 안녕하세요 <br>\n",
    "안녕하세요안녕하세요"
   ]
  },
  {
   "cell_type": "markdown",
   "id": "d3060374",
   "metadata": {},
   "source": [
    "# 112\n",
    "사용자로부터 하나의 숫자를 입력받고, 입력 받은 숫자에 10을 더해 출력하라. (30)"
   ]
  },
  {
   "cell_type": "markdown",
   "id": "d6fb1558",
   "metadata": {},
   "source": [
    "# 113\n",
    "사용자로부터 하나의 숫자를 입력 받고 짝수/홀수를 판별하라. (30)"
   ]
  },
  {
   "cell_type": "markdown",
   "id": "241cc6cc",
   "metadata": {},
   "source": [
    "# 114\n",
    "사용자로부터 값을 입력받은 후 해당 값에 20을 더한 값을 출력하라. 단 사용자가 입력한 값과 20을 더한 계산 값이 255를 초과하는 경우 255를 출력해야 한다. (200)"
   ]
  },
  {
   "cell_type": "markdown",
   "id": "f03b70b6",
   "metadata": {},
   "source": [
    "# 115\n",
    "사용자로부터 하나의 값을 입력받은 후 해당 값에 20을 뺀 값을 출력하라. 단 출력 값의 범위는 0~255이다. 예를 들어 결괏값이 0보다 작은 값이되는 경우 0을 출력하고 255보다 큰 값이 되는 경우 255를 출력해야 한다. (200)"
   ]
  },
  {
   "cell_type": "markdown",
   "id": "511dfda2",
   "metadata": {},
   "source": [
    "# 116\n",
    "사용자로부터 입력 받은 시간이 정각인지 판별하라. (2:00 / 3:10)"
   ]
  },
  {
   "cell_type": "markdown",
   "id": "b7d84e77",
   "metadata": {},
   "source": [
    "# 117\n",
    "사용자로 입력받은 단어가 아래 fruit 리스트에 포함되어 있는지를 확인하라. 포함되었다면 \"정답입니다\"를 아닐 경우 \"오답입니다\" 출력하라. (사과)\n",
    "* fruit = [\"사과\", \"포도\", \"홍시\"]"
   ]
  },
  {
   "cell_type": "markdown",
   "id": "58c72564",
   "metadata": {},
   "source": [
    "# 118\n",
    "투자 경고 종목 리스트가 있을 때 사용자로부터 종목명을 입력 받은 후 해당 종목이 투자 경고 종목이라면 '투자 경고 종목입니다'를 아니면 \"투자 경고 종목이 아닙니다.\"를 출력하는 프로그램을 작성하라.\n",
    "* warn_investment_list = [\"Microsoft\", \"Google\", \"Naver\", \"Kakao\", \"SAMSUNG\", \"LG\"]"
   ]
  },
  {
   "cell_type": "markdown",
   "id": "0a547e01",
   "metadata": {},
   "source": [
    "# 119\n",
    "아래와 같이 fruit 딕셔너리가 정의되어 있다. 사용자가 입력한 값이 딕셔너리 키 (key) 값에 포함되었다면 \"정답입니다\"를 아닐 경우 \"오답입니다\" 출력하라.\n",
    "* fruit = {\"봄\" : \"딸기\", \"여름\" : \"토마토\", \"가을\" : \"사과\"}"
   ]
  },
  {
   "cell_type": "markdown",
   "id": "56f39022",
   "metadata": {},
   "source": [
    "# 120\n",
    "아래와 같이 fruit 딕셔너리가 정의되어 있다. 사용자가 입력한 값이 딕셔너리 값 (value)에 포함되었다면 \"정답입니다\"를 아닐 경우 \"오답입니다\" 출력하라.\n",
    "* fruit = {\"봄\" : \"딸기\", \"여름\" : \"토마토\", \"가을\" : \"사과\"}"
   ]
  },
  {
   "cell_type": "markdown",
   "id": "d2369816",
   "metadata": {},
   "source": [
    "# 121\n",
    "사용자로부터 문자 한 개를 입력 받고, 소문자일 경우 대문자로, 대문자 일 경우, 소문자로 변경해서 출력하라. (a)"
   ]
  },
  {
   "attachments": {
    "image.png": {
     "image/png": "[encoded data removed]"
    }
   },
   "cell_type": "markdown",
   "id": "9d66c279",
   "metadata": {},
   "source": [
    "# 122\n",
    "점수 구간에 해당하는 학점이 아래와 같이 정의되어 있다. 사용자로부터 score를 입력받아 학점을 출력하라. (83)\n",
    "![image.png](attachment:image.png)"
   ]
  },
  {
   "attachments": {
    "image.png": {
     "image/png": "[encoded data removed]"
    }
   },
   "cell_type": "markdown",
   "id": "87b565bc",
   "metadata": {},
   "source": [
    "# 123\n",
    "사용자로부터 달러, 엔, 유로, 또는 위안 금액을 입력받은 후 이를 원으로 변환하는 프로그램을 작성하라. 각 통화별 환율은 다음과 같다. 사용자는 100 달러, 1000 엔, 13 유로, 100 위안과 같이 금액과 통화명 사이에 공백을 넣어 입력한다고 가정한다. ($100)\n",
    "![image.png](attachment:image.png)"
   ]
  },
  {
   "cell_type": "markdown",
   "id": "60b5134f",
   "metadata": {},
   "source": [
    "# 124\n",
    "사용자로부터 세 개의 숫자를 입력 받은 후 가장 큰 숫자를 출력하라. (10, 9, 20)"
   ]
  },
  {
   "attachments": {
    "image.png": {
     "image/png": "[encoded data removed]"
    }
   },
   "cell_type": "markdown",
   "id": "c67bf2b6",
   "metadata": {},
   "source": [
    "# 125\n",
    "휴대폰 번호 앞자리에 따라 통신사는 아래와 같이 구분된다. 사용자로부터 휴대전화 번호를 입력 받고, 통신사를 출력하는 프로그램을 작성하라. (011-345-1922)\n",
    "![image.png](attachment:image.png)"
   ]
  },
  {
   "attachments": {
    "image.png": {
     "image/png": "[encoded data removed]"
    }
   },
   "cell_type": "markdown",
   "id": "e94cbfb4",
   "metadata": {},
   "source": [
    "# 126\n",
    "우편번호는 5자리로 구성되는데, 앞의 세자리는 구를 나타낸다. 예를들어, 강북구의 경우 010, 011, 012 세 자리로 시작한다.<br>\n",
    "사용자로 부터 5자리 우편번호를 입력받고 구를 판별하라 (01400)\n",
    "![image.png](attachment:image.png)"
   ]
  },
  {
   "cell_type": "markdown",
   "id": "7b2800d8",
   "metadata": {},
   "source": [
    "# 127\n",
    "주민등록번호 뒷 자리 7자리 중 첫째 자리는 성별을 나타내는데, 1, 3은 남자 2, 4는 여자를 의미한다. 사용자로부터 13자리의 주민등록번호를 입력 받은 후 성별 (남자, 여자)를 출력하는 프로그램을 작성하라. (821010-1635210)"
   ]
  },
  {
   "attachments": {
    "image.png": {
     "image/png": "[encoded data removed]"
    }
   },
   "cell_type": "markdown",
   "id": "1eb9a7ad",
   "metadata": {},
   "source": [
    "# 128\n",
    "주민등록번호의 뒷 자리 7자리 중 두번째와 세번째는 지역코드를 의미한다. 주민 등록 번호를 입력 받은 후 출생지가 서울인지 아닌지 판단하는 코드를 작성하라 (821010-1635210)\n",
    "![image.png](attachment:image.png)"
   ]
  },
  {
   "cell_type": "markdown",
   "id": "17622519",
   "metadata": {},
   "source": [
    "# 129\n",
    "주민등록번호는 13자리로 구성되는데 마지막 자리수는 주민등록번호의 유효성을 체크하는데 사용된다. 먼저 앞에서부터 12자리의 숫자에 2, 3, 4, 5, 6, 7, 8, 9, 2, 3, 4, 5를 차례로 곱한 뒤 그 값을 전부 더한다. 연산 결과 값을 11로 나누면 나머지가 나오는데 11에서 나머지를 뺀 값이 주민등록번호의 마지막 번호가 된다.\n",
    "> 8 2 1 0 1 0 - 1 6 3 5 2 1 0\n",
    "x 2 3 4 5 6 7   8 9 2 3 4 5 \n",
    "-----------------------------\n",
    "1차 계산: (8*2 + 2*3 + 1*4 + 0*5 + 1*6 + 0*7 + 1*8 + 6*9 + 3*2 + 5*3 + 2*4 + 1*5) = (128 % 11) = 7\n",
    "2차 계산: 11 -7 = 4\n",
    "\n",
    "<br>\n",
    "위와 같이 821010-1635210에 대해서 계산을 해보면 마지막 자리는 4가 되어야 함을 알 수 있다. 즉, 821010-1635210은 유효하지 않은 주민등록번호임을 알 수 있다.\n",
    "다음과 같이 사용자로부터 주민등록번호를 입력받은 후 주민등록번호가 유효한지를 출력하는 프로그램을 작성하라. (821010-1635210)"
   ]
  },
  {
   "attachments": {
    "image-2.png": {
     "image/png": "[encoded data removed]"
    }
   },
   "cell_type": "markdown",
   "id": "3d3b58f1",
   "metadata": {},
   "source": [
    "# 130\n",
    "아래 코드는 비트코인의 가격 정보를 딕셔너리로 가져오는 코드이다.\n",
    ">import requests\n",
    "btc = requests.get(\"https://api.bithumb.com/public/ticker/\").json()['data'] \n",
    "\n",
    "<br>\n",
    "btc 딕셔너리 안에는 시가, 종가, 최고가, 최저가 등이 저장되어 있다. 최고가와 최저가의 차이를 변동폭으로 정의할 때 (시가 + 변동폭)이 최고가 보다 높을 경우 \"상승장\", 그렇지 않은 경우 \"하락장\" 문자열을 출력하라. <br>\n",
    "\n",
    "![image-2.png](attachment:image-2.png)"
   ]
  },
  {
   "cell_type": "markdown",
   "id": "7503f887",
   "metadata": {},
   "source": []
  },
  {
   "cell_type": "markdown",
   "id": "3a53800d",
   "metadata": {},
   "source": []
  },
  {
   "cell_type": "markdown",
   "id": "b5d400b5",
   "metadata": {},
   "source": []
  },
  {
   "cell_type": "markdown",
   "id": "844b5dbf",
   "metadata": {},
   "source": []
  },
  {
   "cell_type": "markdown",
   "id": "a7288549",
   "metadata": {},
   "source": []
  },
  {
   "cell_type": "markdown",
   "id": "077f774d",
   "metadata": {},
   "source": []
  },
  {
   "cell_type": "markdown",
   "id": "593f4d24",
   "metadata": {},
   "source": []
  },
  {
   "cell_type": "markdown",
   "id": "ad004eaa",
   "metadata": {},
   "source": []
  },
  {
   "cell_type": "markdown",
   "id": "27bdaef8",
   "metadata": {},
   "source": []
  },
  {
   "cell_type": "markdown",
   "id": "2c2ad144",
   "metadata": {},
   "source": []
  },
  {
   "cell_type": "markdown",
   "id": "bc2c832c",
   "metadata": {},
   "source": []
  },
  {
   "cell_type": "markdown",
   "id": "d1351df6",
   "metadata": {},
   "source": []
  },
  {
   "cell_type": "markdown",
   "id": "b8e126bd",
   "metadata": {},
   "source": []
  },
  {
   "cell_type": "markdown",
   "id": "d70c6ce3",
   "metadata": {},
   "source": []
  },
  {
   "cell_type": "markdown",
   "id": "2964fd81",
   "metadata": {},
   "source": []
  },
  {
   "cell_type": "markdown",
   "id": "8eac4a62",
   "metadata": {},
   "source": []
  },
  {
   "cell_type": "markdown",
   "id": "57c6e542",
   "metadata": {},
   "source": []
  }
 ],
 "metadata": {
  "kernelspec": {
   "display_name": "Python 3 (ipykernel)",
   "language": "python",
   "name": "python3"
  },
  "language_info": {
   "codemirror_mode": {
    "name": "ipython",
    "version": 3
   },
   "file_extension": ".py",
   "mimetype": "text/x-python",
   "name": "python",
   "nbconvert_exporter": "python",
   "pygments_lexer": "ipython3",
   "version": "3.9.23"
  }
 },
 "nbformat": 4,
 "nbformat_minor": 5
}
