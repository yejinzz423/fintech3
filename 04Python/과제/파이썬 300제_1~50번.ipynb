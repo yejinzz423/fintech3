{
 "cells": [
  {
   "cell_type": "markdown",
   "id": "42e45abf",
   "metadata": {},
   "source": [
    "## 001 print 기초\n",
    "화면에 Hello World 문자열을 출력하세요."
   ]
  },
  {
   "cell_type": "code",
   "execution_count": 1,
   "id": "28ccdbbf",
   "metadata": {},
   "outputs": [
    {
     "name": "stdout",
     "output_type": "stream",
     "text": [
      "Hello World\n"
     ]
    }
   ],
   "source": [
    "print(\"Hello\",\"World\")"
   ]
  },
  {
   "cell_type": "markdown",
   "id": "10ae0073",
   "metadata": {},
   "source": [
    "## 002 print 기초\n",
    "화면에 Mary's cosmetics을 출력하세요. (중간에 '가 있음에 주의하세요)"
   ]
  },
  {
   "cell_type": "code",
   "execution_count": 2,
   "id": "d0e337ec",
   "metadata": {},
   "outputs": [
    {
     "name": "stdout",
     "output_type": "stream",
     "text": [
      "Mary's cosmetics\n"
     ]
    }
   ],
   "source": [
    "print(\"Mary's\",\"cosmetics\")"
   ]
  },
  {
   "cell_type": "markdown",
   "id": "1c2cea1c",
   "metadata": {},
   "source": [
    "## 003 print 기초\n",
    "화면에 아래 문장을 출력하세요. (중간에 \"가 있음에 주의하세요.)\n",
    "* 신씨가 소리질렀다. \"도둑이야\"."
   ]
  },
  {
   "cell_type": "code",
   "execution_count": 3,
   "id": "46c1136e",
   "metadata": {},
   "outputs": [
    {
     "name": "stdout",
     "output_type": "stream",
     "text": [
      "신씨가 소리질렀다. \"도둑이야\".\n"
     ]
    }
   ],
   "source": [
    "print(\"신씨가\",\"소리질렀다.\",'\"도둑이야\".')"
   ]
  },
  {
   "cell_type": "markdown",
   "id": "28c3590c",
   "metadata": {},
   "source": [
    "## 004 print 기초\n",
    "화면에 C:\\Windows를 출력하세요."
   ]
  },
  {
   "cell_type": "code",
   "execution_count": 4,
   "id": "6c2369f6",
   "metadata": {},
   "outputs": [
    {
     "name": "stdout",
     "output_type": "stream",
     "text": [
      "C:\\Windows\n"
     ]
    }
   ],
   "source": [
    "print(\"C:\\Windows\")"
   ]
  },
  {
   "cell_type": "markdown",
   "id": "3bbbd7ae",
   "metadata": {},
   "source": [
    "## 005 print 탭과 줄바꿈\n",
    "다음 코드를 실행해보고 \\t와 \\n의 역할을 설명해보세요.\n",
    "* print(\"안녕하세요.\\n만나서\\t\\t반갑습니다.\")"
   ]
  },
  {
   "cell_type": "code",
   "execution_count": 5,
   "id": "17d236ab",
   "metadata": {},
   "outputs": [
    {
     "name": "stdout",
     "output_type": "stream",
     "text": [
      "안녕하세요.\n",
      "만나서\t\t반갑습니다.\n"
     ]
    }
   ],
   "source": [
    "print(\"안녕하세요.\\n만나서\\t\\t반갑습니다.\")"
   ]
  },
  {
   "cell_type": "code",
   "execution_count": 7,
   "id": "16f44978",
   "metadata": {},
   "outputs": [],
   "source": [
    "# \\t = 탭\n",
    "# \\n = 줄바꿈"
   ]
  },
  {
   "cell_type": "markdown",
   "id": "1da3304f",
   "metadata": {},
   "source": [
    "## 006 print 여러 데이터 출력\n",
    "print 함수에 두 개의 단어를 입력한 예제입니다. 아래 코드의 출력 결과를 예상해봅시다.\n",
    "* print (\"오늘은\", \"일요일\")"
   ]
  },
  {
   "cell_type": "code",
   "execution_count": 8,
   "id": "d1c5a9d3",
   "metadata": {},
   "outputs": [
    {
     "name": "stdout",
     "output_type": "stream",
     "text": [
      "오늘은 일요일\n"
     ]
    }
   ],
   "source": [
    "print (\"오늘은\", \"일요일\")"
   ]
  },
  {
   "cell_type": "markdown",
   "id": "838cef55",
   "metadata": {},
   "source": [
    "## 007 print 기초\n",
    "print() 함수를 사용하여 다음과 같이 출력하세요.\n",
    "* naver;kakao;sk;samsung"
   ]
  },
  {
   "cell_type": "code",
   "execution_count": 9,
   "id": "3574ddd1",
   "metadata": {},
   "outputs": [
    {
     "name": "stdout",
     "output_type": "stream",
     "text": [
      "naver;kakao;sk;samsung\n"
     ]
    }
   ],
   "source": [
    "print(\"naver\", \"kakao\", \"sk\", \"samsung\", sep=\";\")"
   ]
  },
  {
   "cell_type": "markdown",
   "id": "0ff17176",
   "metadata": {},
   "source": [
    "## 008 print 기초\n",
    "print() 함수를 사용하여 다음과 같이 출력하세요.\n",
    "* naver/kakao/sk/samsung"
   ]
  },
  {
   "cell_type": "code",
   "execution_count": 10,
   "id": "261bbf2b",
   "metadata": {},
   "outputs": [
    {
     "name": "stdout",
     "output_type": "stream",
     "text": [
      "naver/kakao/sk/samsung\n"
     ]
    }
   ],
   "source": [
    "print(\"naver\", \"kakao\", \"sk\", \"samsung\", sep=\"/\")"
   ]
  },
  {
   "cell_type": "markdown",
   "id": "742974bb",
   "metadata": {},
   "source": [
    "## 009 print 줄바꿈\n",
    "다음 코드를 수정하여 줄바꿈이 없이 출력하세요. (힌트: end='') print 함수는 두 번 사용합니다. 세미콜론 (;)은 한줄에 여러 개의 명령을 작성하기 위해 사용합니다.\n",
    "* print(\"first\");print(\"second\")"
   ]
  },
  {
   "cell_type": "code",
   "execution_count": 14,
   "id": "ed7fc1d2",
   "metadata": {},
   "outputs": [
    {
     "name": "stdout",
     "output_type": "stream",
     "text": [
      "first second\n"
     ]
    }
   ],
   "source": [
    "print(\"first\", end=' ');print(\"second\")"
   ]
  },
  {
   "cell_type": "markdown",
   "id": "e751f677",
   "metadata": {},
   "source": [
    "## 010 연산 결과 출력\n",
    "5/3의 결과를 화면에 출력하세요."
   ]
  },
  {
   "cell_type": "code",
   "execution_count": 15,
   "id": "6a04383d",
   "metadata": {
    "scrolled": true
   },
   "outputs": [
    {
     "name": "stdout",
     "output_type": "stream",
     "text": [
      "5/3\n"
     ]
    }
   ],
   "source": [
    "print(5,3, sep=\"/\")"
   ]
  },
  {
   "cell_type": "markdown",
   "id": "1bcadb09",
   "metadata": {},
   "source": [
    "## 011 변수 사용하기\n",
    "삼성전자라는 변수로 50,000원을 바인딩해보세요. 삼성전자 주식 10주를 보유하고 있을 때 총 평가금액을 출력하세요."
   ]
  },
  {
   "cell_type": "code",
   "execution_count": 17,
   "id": "4fc86936",
   "metadata": {},
   "outputs": [
    {
     "name": "stdout",
     "output_type": "stream",
     "text": [
      "500000\n"
     ]
    }
   ],
   "source": [
    "삼성전자 = 50000\n",
    "총평가금액 = 삼성전자 * 10\n",
    "print(총평가금액)"
   ]
  },
  {
   "attachments": {
    "image.png": {
     "image/png": "[encoded data removed]"
    }
   },
   "cell_type": "markdown",
   "id": "a83bfb4f",
   "metadata": {},
   "source": [
    "## 012 변수 사용하기\n",
    "다음 표는 삼성전자의 일부 투자정보입니다. 변수를 사용해서 시가총액, 현재가, PER 등을 바인딩해보세요.\n",
    "* ![image.png](attachment:image.png)"
   ]
  },
  {
   "cell_type": "code",
   "execution_count": 19,
   "id": "16ef3601",
   "metadata": {},
   "outputs": [],
   "source": [
    "시가총액 = \"298조\"\n",
    "현재가 = \"50,000원\"\n",
    "PER = 15.79"
   ]
  },
  {
   "cell_type": "code",
   "execution_count": 22,
   "id": "37c3bc02",
   "metadata": {},
   "outputs": [
    {
     "data": {
      "text/plain": [
       "15.79"
      ]
     },
     "execution_count": 22,
     "metadata": {},
     "output_type": "execute_result"
    }
   ],
   "source": [
    "PER"
   ]
  },
  {
   "cell_type": "markdown",
   "id": "bff8dd2b",
   "metadata": {},
   "source": [
    "## 013 문자열 출력\n",
    "변수 s와 t에는 각각 문자열이 바인딩 되어있습니다.\n",
    "* s = \"hello\" / t = \"python\"\n",
    "\n",
    "* 두 변수를 이용하여 아래와 같이 출력해보세요.\n",
    "* hello! python"
   ]
  },
  {
   "cell_type": "code",
   "execution_count": 27,
   "id": "7447f9f7",
   "metadata": {},
   "outputs": [
    {
     "name": "stdout",
     "output_type": "stream",
     "text": [
      "hello! python\n"
     ]
    }
   ],
   "source": [
    "s = \"hello\"\n",
    "t = \"python\"\n",
    "print(s+\"!\", t)"
   ]
  },
  {
   "cell_type": "markdown",
   "id": "8f112935",
   "metadata": {},
   "source": [
    "## 014 파이썬을 이용한 값 계산\n",
    "아래 코드의 실행 결과를 예상해보세요.\n",
    "* 2 + 2 * 3 "
   ]
  },
  {
   "cell_type": "code",
   "execution_count": 28,
   "id": "8099e1d9",
   "metadata": {},
   "outputs": [
    {
     "data": {
      "text/plain": [
       "8"
      ]
     },
     "execution_count": 28,
     "metadata": {},
     "output_type": "execute_result"
    }
   ],
   "source": [
    "2 + 2 * 3"
   ]
  },
  {
   "cell_type": "markdown",
   "id": "80835561",
   "metadata": {},
   "source": [
    "## 015 type 함수\n",
    "type() 함수는 데이터 타입을 판별합니다. 변수 a에는 128 숫자가 바인딩돼 있어 type 함수가 int (정수)형임을 알려줍니다. 아래 변수에 바인딩된 값의 타입을 판별해보세요.\n",
    "* a = \"132\""
   ]
  },
  {
   "cell_type": "code",
   "execution_count": 29,
   "id": "1dc35270",
   "metadata": {},
   "outputs": [
    {
     "data": {
      "text/plain": [
       "str"
      ]
     },
     "execution_count": 29,
     "metadata": {},
     "output_type": "execute_result"
    }
   ],
   "source": [
    "a = \"132\"\n",
    "type(a)"
   ]
  },
  {
   "cell_type": "markdown",
   "id": "6ad3b3ef",
   "metadata": {},
   "source": [
    "## 016 문자열을 정수로 변환\n",
    "문자열 '720'를 정수형으로 변환해보세요.\n",
    "* num_str = \"720\""
   ]
  },
  {
   "cell_type": "code",
   "execution_count": 32,
   "id": "8b19ecc7",
   "metadata": {},
   "outputs": [
    {
     "data": {
      "text/plain": [
       "int"
      ]
     },
     "execution_count": 32,
     "metadata": {},
     "output_type": "execute_result"
    }
   ],
   "source": [
    "num_str = \"720\"\n",
    "num_str = int(num_str)\n",
    "type(num_str)"
   ]
  },
  {
   "cell_type": "markdown",
   "id": "3f1c802a",
   "metadata": {},
   "source": [
    "## 017 정수를 문자열 100으로 변환\n",
    "정수 100을 문자열 '100'으로 변환해보세요.\n",
    "* num = 100"
   ]
  },
  {
   "cell_type": "code",
   "execution_count": 33,
   "id": "e11f5869",
   "metadata": {},
   "outputs": [
    {
     "data": {
      "text/plain": [
       "str"
      ]
     },
     "execution_count": 33,
     "metadata": {},
     "output_type": "execute_result"
    }
   ],
   "source": [
    "num = 100\n",
    "num = str(num)\n",
    "type(num)"
   ]
  },
  {
   "cell_type": "markdown",
   "id": "7acf6f4d",
   "metadata": {},
   "source": [
    "## 018 문자열을 실수로 변환\n",
    "문자열 \"15.79\"를 실수(float) 타입으로 변환해보세요."
   ]
  },
  {
   "cell_type": "code",
   "execution_count": 34,
   "id": "81726cdd",
   "metadata": {},
   "outputs": [
    {
     "data": {
      "text/plain": [
       "float"
      ]
     },
     "execution_count": 34,
     "metadata": {},
     "output_type": "execute_result"
    }
   ],
   "source": [
    "num_flo = \"15.79\"\n",
    "num_flo = float(num_flo)\n",
    "type(num_flo)"
   ]
  },
  {
   "cell_type": "markdown",
   "id": "839d078b",
   "metadata": {},
   "source": [
    "## 019 문자열을 정수로 변환\n",
    "year라는 변수가 문자열 타입의 연도를 바인딩하고 있습니다. 이를 정수로 변환한 후 최근 3년의 연도를 화면에 출력해보세요.\n",
    "* year = \"2020\""
   ]
  },
  {
   "cell_type": "code",
   "execution_count": 35,
   "id": "4d3a106b",
   "metadata": {},
   "outputs": [
    {
     "data": {
      "text/plain": [
       "int"
      ]
     },
     "execution_count": 35,
     "metadata": {},
     "output_type": "execute_result"
    }
   ],
   "source": [
    "year = \"2020\"\n",
    "year = int(year)\n",
    "type(year)"
   ]
  },
  {
   "cell_type": "code",
   "execution_count": 38,
   "id": "03893533",
   "metadata": {},
   "outputs": [
    {
     "name": "stdout",
     "output_type": "stream",
     "text": [
      "2019\n",
      "2018\n",
      "2017\n"
     ]
    }
   ],
   "source": [
    "print(year - 1)\n",
    "print(year - 2)\n",
    "print(year - 3)"
   ]
  },
  {
   "cell_type": "markdown",
   "id": "f7c79f47",
   "metadata": {},
   "source": [
    "## 020 파이썬 계산\n",
    "에이컨이 월 48,584원에 무이자 36개월의 조건으로 홈쇼핑에서 판매되고 있습니다. 총 금액은 계산한 후 이를 화면에 출력해보세요. (변수사용하기)"
   ]
  },
  {
   "cell_type": "code",
   "execution_count": 48,
   "id": "82e61077",
   "metadata": {},
   "outputs": [
    {
     "name": "stdout",
     "output_type": "stream",
     "text": [
      "총금액 1749024 원\n"
     ]
    }
   ],
   "source": [
    "air_month = 48584\n",
    "air=air_month * 36\n",
    "print(\"총금액\", air,\"원\")"
   ]
  },
  {
   "cell_type": "markdown",
   "id": "542c381a",
   "metadata": {},
   "source": [
    "## 021 문자열 인덱싱\n",
    "letters가 바인딩하는 문자열에서 첫번째와 세번째 문자를 출력하세요.\n",
    "* letters = 'python'"
   ]
  },
  {
   "cell_type": "markdown",
   "id": "ecc7acc1",
   "metadata": {},
   "source": [
    "## 022 문자열 슬라이싱\n",
    "자동차 번호가 다음과 같을 때 뒤에 4자리만 출력하세요.\n",
    "* license_plate = \"24가 2210\""
   ]
  },
  {
   "cell_type": "markdown",
   "id": "e519a97d",
   "metadata": {},
   "source": [
    "## 023 문자열 인덱싱\n",
    "아래의 문자열에서 '홀' 만 출력하세요.\n",
    "* string = \"홀짝홀짝홀짝\""
   ]
  },
  {
   "cell_type": "markdown",
   "id": "cba49dd1",
   "metadata": {},
   "source": [
    "## 024 문자열 슬라이싱\n",
    "문자열을 거꾸로 뒤집어 출력하세요.\n",
    "* string = \"PYTHON\""
   ]
  },
  {
   "cell_type": "markdown",
   "id": "fbcae9b6",
   "metadata": {},
   "source": [
    "## 025 문자열 치환\n",
    "아래의 전화번호에서 하이푼 ('-')을 제거하고 출력하세요.\n",
    "* phone_number = \"010-1111-2222\""
   ]
  },
  {
   "cell_type": "markdown",
   "id": "56b8973d",
   "metadata": {},
   "source": [
    "## 026 문자열 다루기\n",
    "25번 문제의 전화번호를 아래와 같이 모두 붙여 출력하세요."
   ]
  },
  {
   "cell_type": "markdown",
   "id": "7192c600",
   "metadata": {},
   "source": [
    "## 027 문자열 다루기\n",
    "url 에 저장된 웹 페이지 주소에서 도메인을 출력하세요.\n",
    "* url = \"http://sharebook.kr\""
   ]
  },
  {
   "cell_type": "markdown",
   "id": "42521151",
   "metadata": {},
   "source": [
    "## 028 문자열은 immutable\n",
    "아래 코드의 실행 결과를 예상해보세요.\n",
    "* lang = 'python'\n",
    "* lang[0] = 'P'\n",
    "* print(lang)"
   ]
  },
  {
   "cell_type": "markdown",
   "id": "5c0a4fb0",
   "metadata": {},
   "source": [
    "## 029 replace 메서드\n",
    "아래 문자열에서 소문자 'a'를 대문자 'A'로 변경하세요.\n",
    "* string = 'abcdfe2a354a32a'"
   ]
  },
  {
   "cell_type": "markdown",
   "id": "8f4b1707",
   "metadata": {},
   "source": [
    "## 030 replace 메서드\n",
    "아래 코드의 실행 결과를 예상해보세요.\n",
    "* string = 'abcd'\n",
    "* string.replace('b', 'B')\n",
    "* print(string)"
   ]
  },
  {
   "cell_type": "markdown",
   "id": "06a6af70",
   "metadata": {},
   "source": [
    "## 031 문자열 합치기\n",
    "아래 코드의 실행 결과를 예상해보세요.\n",
    "* a = \"3\"\n",
    "* b = \"4\"\n",
    "* print(a + b)"
   ]
  },
  {
   "cell_type": "markdown",
   "id": "181991e6",
   "metadata": {},
   "source": [
    "## 032 문자열 곱하기\n",
    "아래 코드의 실행 결과를 예상해보세요.\n",
    "* print(\"Hi\" * 3)"
   ]
  },
  {
   "cell_type": "markdown",
   "id": "3ba6aecc",
   "metadata": {},
   "source": [
    "## 033 문자열 곱하기\n",
    "화면에 '-'를 80개 출력하세요."
   ]
  },
  {
   "cell_type": "markdown",
   "id": "4cf87d3a",
   "metadata": {},
   "source": [
    "## 034 문자열 곱하기\n",
    "변수에 다음과 같은 문자열이 바인딩되어 있습니다.\n",
    "* t1 = 'python'\n",
    "* t2 = 'java'\n",
    "\n",
    "\n",
    "변수에 문자열 더하기와 문자열 곱하기를 사용해서 아래와 같이 출력해보세요.\n",
    "* python java python java python java python java"
   ]
  },
  {
   "cell_type": "markdown",
   "id": "9a32e2f9",
   "metadata": {},
   "source": [
    "## 035 문자열 출력\n",
    "변수에 다음과 같이 문자열과 정수가 바인딩되어 있을 때 % formatting을 사용해서 다음과 같이 출력해보세요.\n",
    "* name1 = \"김민수\" \n",
    "* age1 = 10\n",
    "* name2 = \"이철희\"\n",
    "* age2 = 13\n",
    "\n",
    "이름: 김민수 나이: 10\n",
    "\n",
    "이름: 이철희 나이: 13"
   ]
  },
  {
   "cell_type": "markdown",
   "id": "2a484629",
   "metadata": {},
   "source": [
    "## 036 문자열 출력\n",
    "문자열의 format( ) 메서드를 사용해서 035번 문제를 다시 풀어보세요."
   ]
  },
  {
   "cell_type": "markdown",
   "id": "cc827a20",
   "metadata": {},
   "source": [
    "## 037 문자열 출력\n",
    "파이썬 3.6부터 지원하는 f-string을 사용해서 035번 문제를 다시 풀어보세요."
   ]
  },
  {
   "cell_type": "markdown",
   "id": "ced5512e",
   "metadata": {},
   "source": [
    "## 038 컴마 제거하기\n",
    "삼성전자의 상장주식수가 다음과 같습니다. 컴마를 제거한 후 이를 정수 타입으로 변환해보세요.\n",
    "* 상장주식수 = \"5,969,782,550\""
   ]
  },
  {
   "cell_type": "markdown",
   "id": "3e2ca310",
   "metadata": {},
   "source": [
    "## 039 문자열 슬라이싱\n",
    "다음과 같은 문자열에서 '2020/03'만 출력하세요.\n",
    "* 분기 = \"2020/03(E) (IFRS연결)\""
   ]
  },
  {
   "cell_type": "markdown",
   "id": "d060097e",
   "metadata": {},
   "source": [
    "## 040 strip 메서드\n",
    "문자열의 좌우의 공백이 있을 때 이를 제거해보세요.\n",
    "* data = \"\\t삼성전자\\t\""
   ]
  },
  {
   "cell_type": "markdown",
   "id": "82b1c8e4",
   "metadata": {},
   "source": [
    "## 041 upper 메서드\n",
    "다음과 같은 문자열이 있을 때 이를 대문자 BTC_KRW로 변경하세요.\n",
    "* ticker = \"btc_krw\""
   ]
  },
  {
   "cell_type": "markdown",
   "id": "db462e75",
   "metadata": {},
   "source": [
    "## 042 lower 메서드\n",
    "다음과 같은 문자열이 있을 때 이를 소문자 btc_krw로 변경하세요.\n",
    "* ticker = \"BTC_KRW\""
   ]
  },
  {
   "cell_type": "markdown",
   "id": "8ffcaa04",
   "metadata": {},
   "source": [
    "## 043 capitalize 메서드\n",
    "문자열 'hello'가 있을 때 이를 'Hello'로 변경해보세요."
   ]
  },
  {
   "cell_type": "markdown",
   "id": "1797f132",
   "metadata": {},
   "source": [
    "## 044 endswith 메서드\n",
    "파일 이름이 문자열로 저장되어 있을 때 endswith 메서드를 사용해서 파일 이름이 'xlsx'로 끝나는지 확인해보세요.\n",
    "* file_name = \"보고서.xlsx\""
   ]
  },
  {
   "cell_type": "markdown",
   "id": "39715c27",
   "metadata": {},
   "source": [
    "## 045 endswith 메서드\n",
    "파일 이름이 문자열로 저장되어 있을 때 endswith 메서드를 사용해서 파일 이름이 'xlsx' 또는 'xls'로 끝나는지 확인해보세요.\n",
    "* file_name = \"보고서.xlsx\""
   ]
  },
  {
   "cell_type": "markdown",
   "id": "2214343b",
   "metadata": {},
   "source": [
    "## 046 startswith 메서드\n",
    "파일 이름이 문자열로 저장되어 있을 때 startswith 메서드를 사용해서 파일 이름이 '2020'로 시작하는지 확인해보세요.\n",
    "* file_name = \"2020_보고서.xlsx\""
   ]
  },
  {
   "cell_type": "markdown",
   "id": "5cb507a9",
   "metadata": {},
   "source": [
    "## 047 split 메서드\n",
    "다음과 같은 문자열이 있을 때 공백을 기준으로 문자열을 나눠보세요.\n",
    "* a = \"hello world\""
   ]
  },
  {
   "cell_type": "markdown",
   "id": "ec124d8a",
   "metadata": {},
   "source": [
    "## 048 split 메서드\n",
    "다음과 같이 문자열이 있을 때 btc와 krw로 나눠보세요.\n",
    "* ticker = \"btc_krw\""
   ]
  },
  {
   "cell_type": "markdown",
   "id": "81c1b0fc",
   "metadata": {},
   "source": [
    "## 049 split 메서드\n",
    "다음과 같이 날짜를 표현하는 문자열이 있을 때 연도, 월, 일로 나눠보세요.\n",
    "* date = \"2020-05-01\""
   ]
  },
  {
   "cell_type": "markdown",
   "id": "64cdb69f",
   "metadata": {},
   "source": [
    "## 050 rstrip 메서드\n",
    "문자열의 오른쪽에 공백이 있을 때 이를 제거해보세요.\n",
    "* data = \"039490\""
   ]
  }
 ],
 "metadata": {
  "kernelspec": {
   "display_name": "Python 3 (ipykernel)",
   "language": "python",
   "name": "python3"
  },
  "language_info": {
   "codemirror_mode": {
    "name": "ipython",
    "version": 3
   },
   "file_extension": ".py",
   "mimetype": "text/x-python",
   "name": "python",
   "nbconvert_exporter": "python",
   "pygments_lexer": "ipython3",
   "version": "3.9.23"
  }
 },
 "nbformat": 4,
 "nbformat_minor": 5
}
