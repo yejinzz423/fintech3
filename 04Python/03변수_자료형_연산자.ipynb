{
 "cells": [
  {
   "cell_type": "markdown",
   "id": "9d00ce59",
   "metadata": {},
   "source": [
    "# 변수\n",
    "* 자료를 담는 택배상자\n",
    "* 택배상자에는 자료를 1개만 넣을 수 있다.\n",
    "* 변수는 영문과 숫자를 조합해서 만들 수 있다.\n",
    "* 변수명의 시작은 반드시 영문자로 시작 or \\_영문자로 시작\n",
    "* 변수명이 숫자로 시작하거나 -같은 특수문자로 시작하면 오류\n",
    "* **예약어(이미 파이썬에서 사용하고 있는 함수명, 문법용 단어 ex)for, list, if, id)는 변수명으로 사용 불가**\n",
    "* **주의!!** 파이썬은 예약어를 써도 변수가 만들어진다. 예약어를 만들지 않도록 주의!\n",
    "* 변수명은 스네이크 표시법으로 작성 ex)user_name"
   ]
  },
  {
   "cell_type": "code",
   "execution_count": 4,
   "id": "f4d6e7eb",
   "metadata": {},
   "outputs": [],
   "source": [
    "a = 1"
   ]
  },
  {
   "cell_type": "markdown",
   "id": "64f238f1",
   "metadata": {},
   "source": [
    "* 여기서 등호는 '같다'가 아닌 오른쪽 자료를 왼쪽에 넣는다 의미"
   ]
  },
  {
   "cell_type": "code",
   "execution_count": 5,
   "id": "859f14c6",
   "metadata": {},
   "outputs": [
    {
     "name": "stdout",
     "output_type": "stream",
     "text": [
      "1\n"
     ]
    }
   ],
   "source": [
    "print(a)"
   ]
  },
  {
   "cell_type": "code",
   "execution_count": 6,
   "id": "b372882b",
   "metadata": {},
   "outputs": [],
   "source": [
    "b = 2"
   ]
  },
  {
   "cell_type": "code",
   "execution_count": 7,
   "id": "d0a770ba",
   "metadata": {},
   "outputs": [
    {
     "name": "stdout",
     "output_type": "stream",
     "text": [
      "2\n"
     ]
    }
   ],
   "source": [
    "print(b)"
   ]
  },
  {
   "cell_type": "code",
   "execution_count": 8,
   "id": "1bcef0bf",
   "metadata": {},
   "outputs": [
    {
     "data": {
      "text/plain": [
       "2643637528880"
      ]
     },
     "execution_count": 8,
     "metadata": {},
     "output_type": "execute_result"
    }
   ],
   "source": [
    "id(a)"
   ]
  },
  {
   "cell_type": "markdown",
   "id": "39453100",
   "metadata": {},
   "source": [
    "* 메모리 주소"
   ]
  },
  {
   "cell_type": "code",
   "execution_count": 10,
   "id": "df2a645f",
   "metadata": {},
   "outputs": [
    {
     "data": {
      "text/plain": [
       "2643637528912"
      ]
     },
     "execution_count": 10,
     "metadata": {},
     "output_type": "execute_result"
    }
   ],
   "source": [
    "id(b)"
   ]
  },
  {
   "cell_type": "code",
   "execution_count": 12,
   "id": "2ae02bbc",
   "metadata": {},
   "outputs": [],
   "source": [
    "id = 10"
   ]
  },
  {
   "cell_type": "code",
   "execution_count": 13,
   "id": "46b2b1ad",
   "metadata": {},
   "outputs": [
    {
     "name": "stdout",
     "output_type": "stream",
     "text": [
      "10\n"
     ]
    }
   ],
   "source": [
    "print(id)"
   ]
  },
  {
   "cell_type": "code",
   "execution_count": 14,
   "id": "0d8d9b90",
   "metadata": {},
   "outputs": [
    {
     "ename": "TypeError",
     "evalue": "'int' object is not callable",
     "output_type": "error",
     "traceback": [
      "\u001b[1;31m---------------------------------------------------------------------------\u001b[0m",
      "\u001b[1;31mTypeError\u001b[0m                                 Traceback (most recent call last)",
      "Cell \u001b[1;32mIn[14], line 1\u001b[0m\n\u001b[1;32m----> 1\u001b[0m \u001b[38;5;28;43mid\u001b[39;49m\u001b[43m(\u001b[49m\u001b[43mb\u001b[49m\u001b[43m)\u001b[49m\n",
      "\u001b[1;31mTypeError\u001b[0m: 'int' object is not callable"
     ]
    }
   ],
   "source": [
    "id(b)"
   ]
  },
  {
   "cell_type": "code",
   "execution_count": 5,
   "id": "d24283eb",
   "metadata": {},
   "outputs": [],
   "source": [
    "# 변수명 작성하기\n",
    "adfsdfefsdfasdf1234512 = 10"
   ]
  },
  {
   "cell_type": "code",
   "execution_count": 13,
   "id": "035eaf85",
   "metadata": {},
   "outputs": [
    {
     "data": {
      "text/plain": [
       "10"
      ]
     },
     "execution_count": 13,
     "metadata": {},
     "output_type": "execute_result"
    }
   ],
   "source": [
    "adfsdfefsdfasdf1234512"
   ]
  },
  {
   "cell_type": "code",
   "execution_count": 14,
   "id": "c0fde983",
   "metadata": {},
   "outputs": [
    {
     "ename": "SyntaxError",
     "evalue": "invalid syntax (1883882313.py, line 1)",
     "output_type": "error",
     "traceback": [
      "\u001b[1;36m  Cell \u001b[1;32mIn[14], line 1\u001b[1;36m\u001b[0m\n\u001b[1;33m    10a = 10\u001b[0m\n\u001b[1;37m      ^\u001b[0m\n\u001b[1;31mSyntaxError\u001b[0m\u001b[1;31m:\u001b[0m invalid syntax\n"
     ]
    }
   ],
   "source": [
    "10a = 10"
   ]
  },
  {
   "cell_type": "code",
   "execution_count": 8,
   "id": "4151abf1",
   "metadata": {},
   "outputs": [
    {
     "ename": "SyntaxError",
     "evalue": "invalid syntax (875084040.py, line 1)",
     "output_type": "error",
     "traceback": [
      "\u001b[1;36m  Cell \u001b[1;32mIn[8], line 1\u001b[1;36m\u001b[0m\n\u001b[1;33m    $a = 1\u001b[0m\n\u001b[1;37m    ^\u001b[0m\n\u001b[1;31mSyntaxError\u001b[0m\u001b[1;31m:\u001b[0m invalid syntax\n"
     ]
    }
   ],
   "source": [
    "$a = 1"
   ]
  },
  {
   "cell_type": "code",
   "execution_count": 16,
   "id": "e66c34ec",
   "metadata": {},
   "outputs": [
    {
     "data": {
      "text/plain": [
       "1"
      ]
     },
     "execution_count": 16,
     "metadata": {},
     "output_type": "execute_result"
    }
   ],
   "source": [
    "_a"
   ]
  },
  {
   "cell_type": "code",
   "execution_count": 11,
   "id": "cd57871b",
   "metadata": {},
   "outputs": [
    {
     "data": {
      "text/plain": [
       "'홍길동'"
      ]
     },
     "execution_count": 11,
     "metadata": {},
     "output_type": "execute_result"
    }
   ],
   "source": [
    "# 변수명을 2단어 이상으로 만들 때는 _로 연결하는 스네이크 표기법을 쓴다.\n",
    "user_name='홍길동'\n",
    "user_name"
   ]
  },
  {
   "cell_type": "code",
   "execution_count": 12,
   "id": "444999d5",
   "metadata": {},
   "outputs": [],
   "source": [
    "# 변수명은 변수명만으로 안에 무어이 있을지 예측 가능해야 한다.\n",
    "all_reviews=\"모든 리뷰\""
   ]
  },
  {
   "cell_type": "code",
   "execution_count": null,
   "id": "a2f0167d",
   "metadata": {},
   "outputs": [],
   "source": [
    "review_one = \"리뷰 한개\""
   ]
  },
  {
   "cell_type": "code",
   "execution_count": 18,
   "id": "291bf3a5",
   "metadata": {},
   "outputs": [],
   "source": [
    "hap = 0"
   ]
  },
  {
   "cell_type": "code",
   "execution_count": 19,
   "id": "856c7e6d",
   "metadata": {},
   "outputs": [
    {
     "name": "stdout",
     "output_type": "stream",
     "text": [
      "0\n"
     ]
    }
   ],
   "source": [
    "# 변수 지우기 del\n",
    "print(hap)"
   ]
  },
  {
   "cell_type": "code",
   "execution_count": 20,
   "id": "a3873b18",
   "metadata": {},
   "outputs": [],
   "source": [
    "del hap"
   ]
  },
  {
   "cell_type": "code",
   "execution_count": 21,
   "id": "ed96abff",
   "metadata": {},
   "outputs": [
    {
     "ename": "NameError",
     "evalue": "name 'hap' is not defined",
     "output_type": "error",
     "traceback": [
      "\u001b[1;31m---------------------------------------------------------------------------\u001b[0m",
      "\u001b[1;31mNameError\u001b[0m                                 Traceback (most recent call last)",
      "Cell \u001b[1;32mIn[21], line 1\u001b[0m\n\u001b[1;32m----> 1\u001b[0m \u001b[38;5;28mprint\u001b[39m(\u001b[43mhap\u001b[49m)\n",
      "\u001b[1;31mNameError\u001b[0m: name 'hap' is not defined"
     ]
    }
   ],
   "source": [
    "print(hap)"
   ]
  },
  {
   "cell_type": "markdown",
   "id": "1cec6b32",
   "metadata": {},
   "source": [
    "여러 개의 변수 동시에 만들고 자료 입력하기"
   ]
  },
  {
   "cell_type": "code",
   "execution_count": 22,
   "id": "05fe4117",
   "metadata": {},
   "outputs": [],
   "source": [
    "a=1\n",
    "b=2"
   ]
  },
  {
   "cell_type": "code",
   "execution_count": 23,
   "id": "576bbcbe",
   "metadata": {},
   "outputs": [],
   "source": [
    "a,b,c = 1,2,3"
   ]
  },
  {
   "cell_type": "code",
   "execution_count": 24,
   "id": "db08d955",
   "metadata": {},
   "outputs": [
    {
     "name": "stdout",
     "output_type": "stream",
     "text": [
      "1 2 3\n"
     ]
    }
   ],
   "source": [
    "print(a,b,c)"
   ]
  },
  {
   "cell_type": "code",
   "execution_count": 25,
   "id": "fa4bdcdc",
   "metadata": {},
   "outputs": [],
   "source": [
    "a,b,c = [5,6,7]"
   ]
  },
  {
   "cell_type": "code",
   "execution_count": 26,
   "id": "be2f72c5",
   "metadata": {},
   "outputs": [
    {
     "name": "stdout",
     "output_type": "stream",
     "text": [
      "5 6 7\n"
     ]
    }
   ],
   "source": [
    "print(a,b,c)"
   ]
  },
  {
   "cell_type": "code",
   "execution_count": 27,
   "id": "dfd6dc70",
   "metadata": {},
   "outputs": [],
   "source": [
    "a,b,c = (8,9,10)"
   ]
  },
  {
   "cell_type": "code",
   "execution_count": 28,
   "id": "7c9c8ccf",
   "metadata": {},
   "outputs": [
    {
     "name": "stdout",
     "output_type": "stream",
     "text": [
      "8 9 10\n"
     ]
    }
   ],
   "source": [
    "print(a,b,c)"
   ]
  },
  {
   "cell_type": "markdown",
   "id": "00b911f3",
   "metadata": {},
   "source": [
    "# 자료형(data type)\n",
    "## 파이썬의 자료형은 동적으로 변화\n",
    "* int: 정수(소숫점이 없는 숫자)\n",
    "* float: 실수(소숫점이 있는 숫자)\n",
    "* str: 문자 / 문자열\n",
    "* list: 여러개의 자료가 순서대로 저장된 자료형, 모든 자료형 넣을 수 있음 [자료]\n",
    "* tiple: list와 비슷하나 한 번 만들면 수정이 안됨, 모든 자료형 넣을 수 있음 (자료)\n",
    "* dictionary(dict): key:value 쌍으로 이루어진 자료형, 모든 자료형 넣을 수 있음 {key:value}\n",
    "* set: 집합자료형, 자료의 중복이 되지않음 {자료}"
   ]
  },
  {
   "cell_type": "markdown",
   "id": "864393af",
   "metadata": {},
   "source": [
    "# 데이터 타입을 출력하는 함수 type(변수)"
   ]
  },
  {
   "cell_type": "markdown",
   "id": "b480fc83",
   "metadata": {},
   "source": [
    "# 1. 정수형 변수(int)"
   ]
  },
  {
   "cell_type": "code",
   "execution_count": 29,
   "id": "a4734cd3",
   "metadata": {},
   "outputs": [
    {
     "name": "stdout",
     "output_type": "stream",
     "text": [
      "10\n",
      "<class 'int'>\n"
     ]
    }
   ],
   "source": [
    "a=10\n",
    "print(a)\n",
    "print(type(a))"
   ]
  },
  {
   "cell_type": "markdown",
   "id": "2bae1d64",
   "metadata": {},
   "source": [
    "# 2. 실수형 변수(float)"
   ]
  },
  {
   "cell_type": "code",
   "execution_count": 31,
   "id": "be13109f",
   "metadata": {},
   "outputs": [
    {
     "name": "stdout",
     "output_type": "stream",
     "text": [
      "3.14\n",
      "<class 'float'>\n"
     ]
    }
   ],
   "source": [
    "b=3.14\n",
    "print(b)\n",
    "print(type(b))"
   ]
  },
  {
   "cell_type": "markdown",
   "id": "512649fc",
   "metadata": {},
   "source": [
    "# 3. 문자형 변수(str)\n",
    "* 문자형 데이터는 반드시 따옴표 \\',\\\" 안에 작성해야 한다.\n",
    "* 문자: 문자 1개\n",
    "* 문자열: 문자가 여러개 있는 것, 열 즉, 순서가 있다."
   ]
  },
  {
   "cell_type": "code",
   "execution_count": 33,
   "id": "9e954368",
   "metadata": {},
   "outputs": [
    {
     "name": "stdout",
     "output_type": "stream",
     "text": [
      "문\n"
     ]
    }
   ],
   "source": [
    "c = \"문\"\n",
    "print(c)"
   ]
  },
  {
   "cell_type": "code",
   "execution_count": 34,
   "id": "9db881bf",
   "metadata": {},
   "outputs": [
    {
     "name": "stdout",
     "output_type": "stream",
     "text": [
      "문\n"
     ]
    }
   ],
   "source": [
    "c = '문'\n",
    "print(c)"
   ]
  },
  {
   "cell_type": "code",
   "execution_count": 35,
   "id": "03ae5163",
   "metadata": {},
   "outputs": [
    {
     "name": "stdout",
     "output_type": "stream",
     "text": [
      "문자열\n"
     ]
    }
   ],
   "source": [
    "c = \"문자열\"\n",
    "print(c)"
   ]
  },
  {
   "cell_type": "markdown",
   "id": "bd4a6f53",
   "metadata": {},
   "source": [
    "# 문자열 인덱싱: 문자열은 순서가 있으므로 변수명[번호] 형태로 해당 위치의 문자를 출력/추출 가능"
   ]
  },
  {
   "cell_type": "code",
   "execution_count": 37,
   "id": "15b5ba6f",
   "metadata": {},
   "outputs": [
    {
     "data": {
      "text/plain": [
       "'문자열'"
      ]
     },
     "execution_count": 37,
     "metadata": {},
     "output_type": "execute_result"
    }
   ],
   "source": [
    "c"
   ]
  },
  {
   "cell_type": "code",
   "execution_count": 39,
   "id": "8eb2f3b2",
   "metadata": {},
   "outputs": [
    {
     "data": {
      "text/plain": [
       "'자'"
      ]
     },
     "execution_count": 39,
     "metadata": {},
     "output_type": "execute_result"
    }
   ],
   "source": [
    "c[1]"
   ]
  },
  {
   "cell_type": "code",
   "execution_count": 42,
   "id": "70557755",
   "metadata": {},
   "outputs": [
    {
     "data": {
      "text/plain": [
       "'문'"
      ]
     },
     "execution_count": 42,
     "metadata": {},
     "output_type": "execute_result"
    }
   ],
   "source": [
    "c[0]"
   ]
  },
  {
   "cell_type": "code",
   "execution_count": 44,
   "id": "03fbb415",
   "metadata": {},
   "outputs": [],
   "source": [
    "long_char=\"문자열은 아무리 길이가 길어도 한 줄로 입력해야 한다. 만약 줄바꿈을 하고 싶다면 \\\\를 줄바꿈할 곳 끝에 넣고 줄바꿈을 할 수 있다.\""
   ]
  },
  {
   "cell_type": "code",
   "execution_count": 45,
   "id": "e2370cf7",
   "metadata": {},
   "outputs": [
    {
     "name": "stdout",
     "output_type": "stream",
     "text": [
      "문자열은 아무리 길이가 길어도 한 줄로 입력해야 한다. 만약 줄바꿈을 하고 싶다면 \\를 줄바꿈할 곳 끝에 넣고 줄바꿈을 할 수 있다.\n"
     ]
    }
   ],
   "source": [
    "print(long_char)"
   ]
  },
  {
   "cell_type": "code",
   "execution_count": 336,
   "id": "bf8452a8",
   "metadata": {},
   "outputs": [],
   "source": [
    "long_char2=\"\\문자열은 아무리 길이가 길어도 한 줄로 입력해야 한다.\\\n",
    "만약 줄바꿈을 하고 싶다면 \\\\를 줄바꿈할 곳 끝에 넣고 줄바꿈을 할 수 있다\""
   ]
  },
  {
   "cell_type": "code",
   "execution_count": 337,
   "id": "d6cdb588",
   "metadata": {},
   "outputs": [
    {
     "name": "stdout",
     "output_type": "stream",
     "text": [
      "\\문자열은 아무리 길이가 길어도 한 줄로 입력해야 한다.만약 줄바꿈을 하고 싶다면 \\를 줄바꿈할 곳 끝에 넣고 줄바꿈을 할 수 있다\n"
     ]
    }
   ],
   "source": [
    "print(long_char2)"
   ]
  },
  {
   "cell_type": "code",
   "execution_count": 50,
   "id": "62a3b3df",
   "metadata": {},
   "outputs": [],
   "source": [
    "long_char3=\"문자열은 아무리 길이가 길어도 한 줄로 입력해야 한다.\\\\ 만약 줄바꿈을 하고 싶다면 \\\\를 줄바꿈할 곳 끝에 넣고\\\\ 줄바꿈을 할 수 있다.\""
   ]
  },
  {
   "cell_type": "code",
   "execution_count": null,
   "id": "c42a7491",
   "metadata": {},
   "outputs": [],
   "source": [
    "# 출력시 줄바꿈으로 하고 싶을 때 \\n"
   ]
  },
  {
   "cell_type": "code",
   "execution_count": 55,
   "id": "bd493cf6",
   "metadata": {},
   "outputs": [],
   "source": [
    "long_char4=\"문자열은 아무리 길이가 길어도 한 줄로 입력해야 한다.\\n \\ 만약 줄바꿈을 하고 싶다면 \\n \\를 줄바꿈할 곳 끝에 넣고 \\n \\ 줄바꿈을 할 수 있다.\""
   ]
  },
  {
   "cell_type": "code",
   "execution_count": 56,
   "id": "920f4b9b",
   "metadata": {},
   "outputs": [
    {
     "name": "stdout",
     "output_type": "stream",
     "text": [
      "문자열은 아무리 길이가 길어도 한 줄로 입력해야 한다.\n",
      " \\ 만약 줄바꿈을 하고 싶다면 \n",
      " \\를 줄바꿈할 곳 끝에 넣고 \n",
      " \\ 줄바꿈을 할 수 있다.\n"
     ]
    }
   ],
   "source": [
    "print(long_char4)"
   ]
  },
  {
   "cell_type": "markdown",
   "id": "2abe63f3",
   "metadata": {},
   "source": [
    "# 이스케이프문자 없이 줄바꿈하며 입력하고 싶을 때\n",
    "\"\"\" \"\"\", ''' '''"
   ]
  },
  {
   "cell_type": "code",
   "execution_count": 65,
   "id": "bfef6fed",
   "metadata": {},
   "outputs": [],
   "source": [
    "long_char5 = \"\"\"문자열은 아무리 길이가 길어도 한 줄로 입력해야 한다. \n",
    "만약 줄바꿈을 하고 싶다면 \\\\를 줄바꿈할 곳 끝에 넣고 줄바꿈을 할 수 있다.\"\"\""
   ]
  },
  {
   "cell_type": "code",
   "execution_count": 66,
   "id": "caf4e4b0",
   "metadata": {},
   "outputs": [
    {
     "name": "stdout",
     "output_type": "stream",
     "text": [
      "문자열은 아무리 길이가 길어도 한 줄로 입력해야 한다. \n",
      "만약 줄바꿈을 하고 싶다면 \\를 줄바꿈할 곳 끝에 넣고 줄바꿈을 할 수 있다.\n"
     ]
    }
   ],
   "source": [
    "print(long_char5)"
   ]
  },
  {
   "cell_type": "code",
   "execution_count": 67,
   "id": "ac1e0531",
   "metadata": {},
   "outputs": [],
   "source": [
    "long_char6 = '''문자열은 아무리 길이가 길어도 한 줄로 입력해야 한다. \n",
    "만약 줄바꿈을 하고 싶다면 \\\\를 줄바꿈할 곳 끝에 넣고 줄바꿈을 할 수 있다.'''"
   ]
  },
  {
   "cell_type": "code",
   "execution_count": 68,
   "id": "0f584e4f",
   "metadata": {},
   "outputs": [
    {
     "name": "stdout",
     "output_type": "stream",
     "text": [
      "문자열은 아무리 길이가 길어도 한 줄로 입력해야 한다. \n",
      "만약 줄바꿈을 하고 싶다면 \\를 줄바꿈할 곳 끝에 넣고 줄바꿈을 할 수 있다.\n"
     ]
    }
   ],
   "source": [
    "print(long_char6)"
   ]
  },
  {
   "cell_type": "code",
   "execution_count": 338,
   "id": "6c4ca817",
   "metadata": {},
   "outputs": [
    {
     "data": {
      "text/plain": [
       "'문자열은 아무리 길이가 길어도 한 줄로 입력해야 한다. \\n만약 줄바꿈을 하고 싶다면 \\\\를 줄바꿈할 곳 끝에 넣고 줄바꿈을 할 수 있다.'"
      ]
     },
     "execution_count": 338,
     "metadata": {},
     "output_type": "execute_result"
    }
   ],
   "source": [
    "long_char6"
   ]
  },
  {
   "cell_type": "markdown",
   "id": "a7c7812f",
   "metadata": {},
   "source": [
    "# 문자열의 길이 재기 len(문자열/변수)"
   ]
  },
  {
   "cell_type": "code",
   "execution_count": 73,
   "id": "fea1b74c",
   "metadata": {},
   "outputs": [
    {
     "data": {
      "text/plain": [
       "75"
      ]
     },
     "execution_count": 73,
     "metadata": {},
     "output_type": "execute_result"
    }
   ],
   "source": [
    "len(\"문자열은 아무리 길이가 길어도 한 줄로 입력해야 한다. \\n만약 줄바꿈을 하고 싶다면 \\\\를 줄바꿈할 곳 끝에 넣고 줄바꿈을 할 수 있다.\")"
   ]
  },
  {
   "cell_type": "markdown",
   "id": "528c2815",
   "metadata": {},
   "source": [
    "# 문자열의 번호(index)는 길이 -1 이다.\n",
    "* len의 결과가 74일 경우 인덱스는 0-73번까지"
   ]
  },
  {
   "cell_type": "code",
   "execution_count": 74,
   "id": "652ae741",
   "metadata": {},
   "outputs": [
    {
     "data": {
      "text/plain": [
       "'.'"
      ]
     },
     "execution_count": 74,
     "metadata": {},
     "output_type": "execute_result"
    }
   ],
   "source": [
    "long_char6[74]"
   ]
  },
  {
   "cell_type": "markdown",
   "id": "4df5b70d",
   "metadata": {},
   "source": [
    "# 문자의 덧셈, 곱셈\n",
    "* 문자의 덧셈: 붙이기\n",
    "* 문자의 곱셈: 반복"
   ]
  },
  {
   "cell_type": "code",
   "execution_count": 75,
   "id": "a4c677c0",
   "metadata": {},
   "outputs": [],
   "source": [
    "c = \"python\"\n",
    "d = \"모르겠어요\""
   ]
  },
  {
   "cell_type": "code",
   "execution_count": 76,
   "id": "7f94e0ba",
   "metadata": {},
   "outputs": [
    {
     "name": "stdout",
     "output_type": "stream",
     "text": [
      "python 모르겠어요\n"
     ]
    }
   ],
   "source": [
    "print(c, d)"
   ]
  },
  {
   "cell_type": "code",
   "execution_count": 79,
   "id": "362ae44e",
   "metadata": {},
   "outputs": [
    {
     "name": "stdout",
     "output_type": "stream",
     "text": [
      "python모르겠어요\n"
     ]
    }
   ],
   "source": [
    "e = c + d\n",
    "print(e)"
   ]
  },
  {
   "cell_type": "code",
   "execution_count": 81,
   "id": "b1d04359",
   "metadata": {},
   "outputs": [
    {
     "name": "stdout",
     "output_type": "stream",
     "text": [
      "python 모르겠어요\n"
     ]
    }
   ],
   "source": [
    "# 문자 + 문자2 == 문자문자2\n",
    "f = c + \" \" + d\n",
    "print(f)"
   ]
  },
  {
   "cell_type": "code",
   "execution_count": 84,
   "id": "06dd63ce",
   "metadata": {},
   "outputs": [
    {
     "name": "stdout",
     "output_type": "stream",
     "text": [
      "***********\n",
      "Hello World\n",
      "***********\n"
     ]
    }
   ],
   "source": [
    "# 문자 곱셈 = 문자 반복\n",
    "a = \"*\"\n",
    "b = \"Hello World\"\n",
    "print(a*11)\n",
    "print(b)\n",
    "print(a*11)"
   ]
  },
  {
   "cell_type": "markdown",
   "id": "bca8f7ec",
   "metadata": {},
   "source": [
    "# 문자열의 인덱싱과 슬라이싱\n",
    "* 인덱싱: 문자열에 앞에서부터 부여된 숫자를 대괄호 안에 넣어서 그 위치의 문자를 출력하는 것.\n",
    "  * 변수[숫자]\n",
    "* 슬라이싱: 문자열에 부여된 인덱스 번호를 범위로 묶어서 가져오는 것.\n",
    "  * 변수[시작번호:끝번호+1:간격]"
   ]
  },
  {
   "cell_type": "code",
   "execution_count": 85,
   "id": "bcdc49e1",
   "metadata": {},
   "outputs": [],
   "source": [
    "sliceing = \"슬라이싱: 문자열에 부여된 인덱스 번호를 범위로 묶어서 가져오는 것\""
   ]
  },
  {
   "cell_type": "code",
   "execution_count": 86,
   "id": "adb9b4c0",
   "metadata": {},
   "outputs": [
    {
     "data": {
      "text/plain": [
       "'슬'"
      ]
     },
     "execution_count": 86,
     "metadata": {},
     "output_type": "execute_result"
    }
   ],
   "source": [
    "sliceing[0]"
   ]
  },
  {
   "cell_type": "code",
   "execution_count": 87,
   "id": "c534adfd",
   "metadata": {},
   "outputs": [
    {
     "data": {
      "text/plain": [
       "'문자열에'"
      ]
     },
     "execution_count": 87,
     "metadata": {},
     "output_type": "execute_result"
    }
   ],
   "source": [
    "sliceing[6:10]"
   ]
  },
  {
   "cell_type": "code",
   "execution_count": 90,
   "id": "0974ff7e",
   "metadata": {},
   "outputs": [
    {
     "data": {
      "text/plain": [
       "'슬이:문열 여 덱 호 위 어 져는것'"
      ]
     },
     "execution_count": 90,
     "metadata": {},
     "output_type": "execute_result"
    }
   ],
   "source": [
    "sliceing[: : 2]"
   ]
  },
  {
   "cell_type": "markdown",
   "id": "5808c19b",
   "metadata": {},
   "source": [
    "# 4. 리스트 list\n",
    "* list는 [] 안에 정수, 실수, 문자/문자열, 리스트, 튜플, 딕셔너리를 모두 넣어서 만든다.\n",
    "* 리스트는 여러가지 자료가 나열된 형태이므로 순서가 있다.\n",
    "* 인덱싱, 슬라이싱이 가능\n",
    "* 자료의 추가/삭제 가능"
   ]
  },
  {
   "cell_type": "code",
   "execution_count": 91,
   "id": "2195be59",
   "metadata": {},
   "outputs": [],
   "source": [
    "a = [1, 3.5, \"삼\", \"사십오\", [1,2,3], (4,5,6), {\"key\":\"value\"}]"
   ]
  },
  {
   "cell_type": "code",
   "execution_count": 92,
   "id": "9623a98e",
   "metadata": {},
   "outputs": [
    {
     "data": {
      "text/plain": [
       "[1, 3.5, '삼', '사십오', [1, 2, 3], (4, 5, 6), {'key': 'value'}]"
      ]
     },
     "execution_count": 92,
     "metadata": {},
     "output_type": "execute_result"
    }
   ],
   "source": [
    "a"
   ]
  },
  {
   "cell_type": "code",
   "execution_count": 96,
   "id": "d7309879",
   "metadata": {},
   "outputs": [
    {
     "name": "stdout",
     "output_type": "stream",
     "text": [
      "[[1, 2, 3], (4, 5, 6), {'key': 'value'}]\n"
     ]
    }
   ],
   "source": [
    "print(a[4:7])"
   ]
  },
  {
   "cell_type": "code",
   "execution_count": 97,
   "id": "c281ce8d",
   "metadata": {},
   "outputs": [
    {
     "name": "stdout",
     "output_type": "stream",
     "text": [
      "<class 'list'>\n"
     ]
    }
   ],
   "source": [
    "print(type(a))"
   ]
  },
  {
   "cell_type": "code",
   "execution_count": 100,
   "id": "8b60a525",
   "metadata": {},
   "outputs": [
    {
     "name": "stdout",
     "output_type": "stream",
     "text": [
      "<class 'str'>\n"
     ]
    }
   ],
   "source": [
    "print(type(a[3]))"
   ]
  },
  {
   "cell_type": "markdown",
   "id": "8a91239d",
   "metadata": {},
   "source": [
    "# 리스트 안에 리스트/튜플이 있는 경우"
   ]
  },
  {
   "cell_type": "code",
   "execution_count": 101,
   "id": "26b3676d",
   "metadata": {},
   "outputs": [
    {
     "data": {
      "text/plain": [
       "[1, 3.5, '삼', '사십오', [1, 2, 3], (4, 5, 6), {'key': 'value'}]"
      ]
     },
     "execution_count": 101,
     "metadata": {},
     "output_type": "execute_result"
    }
   ],
   "source": [
    "a"
   ]
  },
  {
   "cell_type": "code",
   "execution_count": 103,
   "id": "f428aa14",
   "metadata": {},
   "outputs": [
    {
     "data": {
      "text/plain": [
       "'오'"
      ]
     },
     "execution_count": 103,
     "metadata": {},
     "output_type": "execute_result"
    }
   ],
   "source": [
    "a [3][2]"
   ]
  },
  {
   "cell_type": "code",
   "execution_count": 105,
   "id": "f66689cc",
   "metadata": {},
   "outputs": [
    {
     "data": {
      "text/plain": [
       "3"
      ]
     },
     "execution_count": 105,
     "metadata": {},
     "output_type": "execute_result"
    }
   ],
   "source": [
    "a[4][2]"
   ]
  },
  {
   "cell_type": "markdown",
   "id": "3f2d8c9e",
   "metadata": {},
   "source": [
    "# 중첩리스트"
   ]
  },
  {
   "cell_type": "code",
   "execution_count": 115,
   "id": "461a8573",
   "metadata": {},
   "outputs": [],
   "source": [
    "b = [1, 3.5, '삼', '사십오', [1, 2, [4,5,[7,8,9],10]], (4, 5, 6), {'key': 'value'}]"
   ]
  },
  {
   "cell_type": "code",
   "execution_count": 118,
   "id": "4c31986c",
   "metadata": {},
   "outputs": [
    {
     "data": {
      "text/plain": [
       "9"
      ]
     },
     "execution_count": 118,
     "metadata": {},
     "output_type": "execute_result"
    }
   ],
   "source": [
    "b[4][2][2][2]"
   ]
  },
  {
   "cell_type": "markdown",
   "id": "b3a1bf5b",
   "metadata": {},
   "source": [
    "# len함수로 길이 구하기"
   ]
  },
  {
   "cell_type": "code",
   "execution_count": 119,
   "id": "f6735c72",
   "metadata": {},
   "outputs": [
    {
     "data": {
      "text/plain": [
       "7"
      ]
     },
     "execution_count": 119,
     "metadata": {},
     "output_type": "execute_result"
    }
   ],
   "source": [
    "len(b)"
   ]
  },
  {
   "cell_type": "code",
   "execution_count": 121,
   "id": "ba772336",
   "metadata": {},
   "outputs": [
    {
     "data": {
      "text/plain": [
       "3"
      ]
     },
     "execution_count": 121,
     "metadata": {},
     "output_type": "execute_result"
    }
   ],
   "source": [
    "len(b[3])"
   ]
  },
  {
   "cell_type": "code",
   "execution_count": 123,
   "id": "52441f7c",
   "metadata": {},
   "outputs": [
    {
     "data": {
      "text/plain": [
       "4"
      ]
     },
     "execution_count": 123,
     "metadata": {},
     "output_type": "execute_result"
    }
   ],
   "source": [
    "len(b[4][2])"
   ]
  },
  {
   "cell_type": "markdown",
   "id": "65c4e03e",
   "metadata": {},
   "source": [
    "# 리스트에 자료 추가하기 .append(자료)\n",
    "* append로 추가된 자료는 리스트의 가장 마지막에 추가 됨"
   ]
  },
  {
   "cell_type": "code",
   "execution_count": 124,
   "id": "4fe52ca9",
   "metadata": {},
   "outputs": [
    {
     "data": {
      "text/plain": [
       "[1,\n",
       " 3.5,\n",
       " '삼',\n",
       " '사십오',\n",
       " [1, 2, [4, 5, [7, 8, 9], 10]],\n",
       " (4, 5, 6),\n",
       " {'key': 'value'}]"
      ]
     },
     "execution_count": 124,
     "metadata": {},
     "output_type": "execute_result"
    }
   ],
   "source": [
    "b"
   ]
  },
  {
   "cell_type": "code",
   "execution_count": 126,
   "id": "951db939",
   "metadata": {},
   "outputs": [],
   "source": [
    "b.append(99)"
   ]
  },
  {
   "cell_type": "code",
   "execution_count": 127,
   "id": "88c1a58a",
   "metadata": {},
   "outputs": [
    {
     "data": {
      "text/plain": [
       "[1,\n",
       " 3.5,\n",
       " '삼',\n",
       " '사십오',\n",
       " [1, 2, [4, 5, [7, 8, 9], 10]],\n",
       " (4, 5, 6),\n",
       " {'key': 'value'},\n",
       " 99,\n",
       " 99]"
      ]
     },
     "execution_count": 127,
     "metadata": {},
     "output_type": "execute_result"
    }
   ],
   "source": [
    "b"
   ]
  },
  {
   "cell_type": "code",
   "execution_count": 129,
   "id": "423ef007",
   "metadata": {},
   "outputs": [],
   "source": [
    "b.append(99.999)"
   ]
  },
  {
   "cell_type": "code",
   "execution_count": 130,
   "id": "0d84bdb3",
   "metadata": {},
   "outputs": [
    {
     "data": {
      "text/plain": [
       "[1,\n",
       " 3.5,\n",
       " '삼',\n",
       " '사십오',\n",
       " [1, 2, [4, 5, [7, 8, 9], 10]],\n",
       " (4, 5, 6),\n",
       " {'key': 'value'},\n",
       " 99,\n",
       " 99,\n",
       " 99.999,\n",
       " 99.999]"
      ]
     },
     "execution_count": 130,
     "metadata": {},
     "output_type": "execute_result"
    }
   ],
   "source": [
    "b"
   ]
  },
  {
   "cell_type": "code",
   "execution_count": 131,
   "id": "db0843bf",
   "metadata": {},
   "outputs": [],
   "source": [
    "b.append((1,2,3))"
   ]
  },
  {
   "cell_type": "code",
   "execution_count": 132,
   "id": "2ba55cb4",
   "metadata": {},
   "outputs": [
    {
     "data": {
      "text/plain": [
       "[1,\n",
       " 3.5,\n",
       " '삼',\n",
       " '사십오',\n",
       " [1, 2, [4, 5, [7, 8, 9], 10]],\n",
       " (4, 5, 6),\n",
       " {'key': 'value'},\n",
       " 99,\n",
       " 99,\n",
       " 99.999,\n",
       " 99.999,\n",
       " (1, 2, 3)]"
      ]
     },
     "execution_count": 132,
     "metadata": {},
     "output_type": "execute_result"
    }
   ],
   "source": [
    "b"
   ]
  },
  {
   "cell_type": "code",
   "execution_count": 133,
   "id": "b992f991",
   "metadata": {},
   "outputs": [],
   "source": [
    "b.append({'key2': 'value2'})"
   ]
  },
  {
   "cell_type": "code",
   "execution_count": 134,
   "id": "18ba0310",
   "metadata": {},
   "outputs": [
    {
     "data": {
      "text/plain": [
       "[1,\n",
       " 3.5,\n",
       " '삼',\n",
       " '사십오',\n",
       " [1, 2, [4, 5, [7, 8, 9], 10]],\n",
       " (4, 5, 6),\n",
       " {'key': 'value'},\n",
       " 99,\n",
       " 99,\n",
       " 99.999,\n",
       " 99.999,\n",
       " (1, 2, 3),\n",
       " {'key2': 'value2'}]"
      ]
     },
     "execution_count": 134,
     "metadata": {},
     "output_type": "execute_result"
    }
   ],
   "source": [
    "b"
   ]
  },
  {
   "cell_type": "code",
   "execution_count": 136,
   "id": "6300e80a",
   "metadata": {},
   "outputs": [
    {
     "data": {
      "text/plain": [
       "[1,\n",
       " 3.5,\n",
       " '삼',\n",
       " '사십오',\n",
       " [1, 2, [4, 5, [7, 8, 9], 10]],\n",
       " (4, 5, 6),\n",
       " {'key': 'value'},\n",
       " 99,\n",
       " 99,\n",
       " (1, 2, 3),\n",
       " {'key2': 'value2'}]"
      ]
     },
     "execution_count": 136,
     "metadata": {},
     "output_type": "execute_result"
    }
   ],
   "source": [
    "del b[9]\n",
    "b"
   ]
  },
  {
   "cell_type": "markdown",
   "id": "34ed2ee8",
   "metadata": {},
   "source": [
    "리스트 자료 수정하기"
   ]
  },
  {
   "cell_type": "code",
   "execution_count": 139,
   "id": "e60f2609",
   "metadata": {},
   "outputs": [
    {
     "data": {
      "text/plain": [
       "[1000,\n",
       " 3.5,\n",
       " '삼',\n",
       " '사십오',\n",
       " [1, 2, [4, 5, [7, 8, 9], 10]],\n",
       " (4, 5, 6),\n",
       " {'key': 'value'},\n",
       " 99,\n",
       " 99,\n",
       " (1, 2, 3)]"
      ]
     },
     "execution_count": 139,
     "metadata": {},
     "output_type": "execute_result"
    }
   ],
   "source": [
    "b[0]=1000\n",
    "b"
   ]
  },
  {
   "cell_type": "code",
   "execution_count": 138,
   "id": "dcd1f218",
   "metadata": {},
   "outputs": [
    {
     "data": {
      "text/plain": [
       "[1,\n",
       " 3.5,\n",
       " '삼',\n",
       " '사십오',\n",
       " [1, 2, [4, 5, [7, 8, 9], 10]],\n",
       " (4, 5, 6),\n",
       " {'key': 'value'},\n",
       " 99,\n",
       " 99,\n",
       " (1, 2, 3)]"
      ]
     },
     "execution_count": 138,
     "metadata": {},
     "output_type": "execute_result"
    }
   ],
   "source": [
    "del b[10:12]\n",
    "b"
   ]
  },
  {
   "cell_type": "markdown",
   "id": "e680b1f0",
   "metadata": {},
   "source": [
    "# 5. 튜플 tuple\n",
    "* 여러가지 자료를 () 안에 넣어서 만드는 자료형\n",
    "* 모든 data type의 자료를 넣을 수 있다.\n",
    "* 한번 생성하면 수정 불가\n",
    "* 튜플이 리스트보다 실행 속도가 빠르다."
   ]
  },
  {
   "cell_type": "code",
   "execution_count": 140,
   "id": "8e983638",
   "metadata": {},
   "outputs": [],
   "source": [
    "t=(1,)"
   ]
  },
  {
   "cell_type": "code",
   "execution_count": 141,
   "id": "e8817bc9",
   "metadata": {},
   "outputs": [
    {
     "data": {
      "text/plain": [
       "(1,)"
      ]
     },
     "execution_count": 141,
     "metadata": {},
     "output_type": "execute_result"
    }
   ],
   "source": [
    "t"
   ]
  },
  {
   "cell_type": "code",
   "execution_count": 143,
   "id": "3c1d9773",
   "metadata": {},
   "outputs": [
    {
     "data": {
      "text/plain": [
       "2"
      ]
     },
     "execution_count": 143,
     "metadata": {},
     "output_type": "execute_result"
    }
   ],
   "source": [
    "t2=(2)\n",
    "t2"
   ]
  },
  {
   "cell_type": "code",
   "execution_count": 149,
   "id": "8a5f0d2f",
   "metadata": {},
   "outputs": [
    {
     "name": "stdout",
     "output_type": "stream",
     "text": [
      "<class 'int'> <class 'int'>\n"
     ]
    }
   ],
   "source": [
    "print(type(t), type(t2))"
   ]
  },
  {
   "cell_type": "code",
   "execution_count": 151,
   "id": "160a71d5",
   "metadata": {},
   "outputs": [
    {
     "data": {
      "text/plain": [
       "(1, 2.5, '문', '문자열', [3, 4, 5], (5, 6, 7), {'key': 'value'})"
      ]
     },
     "execution_count": 151,
     "metadata": {},
     "output_type": "execute_result"
    }
   ],
   "source": [
    "t3=(1, 2.5, \"문\", \"문자열\", [3,4,5], (5,6,7),{'key': 'value'})\n",
    "t3"
   ]
  },
  {
   "cell_type": "code",
   "execution_count": 153,
   "id": "58c85304",
   "metadata": {},
   "outputs": [
    {
     "data": {
      "text/plain": [
       "[3, 4, 5]"
      ]
     },
     "execution_count": 153,
     "metadata": {},
     "output_type": "execute_result"
    }
   ],
   "source": [
    "t3[4]"
   ]
  },
  {
   "cell_type": "code",
   "execution_count": 154,
   "id": "b778eed5",
   "metadata": {},
   "outputs": [
    {
     "data": {
      "text/plain": [
       "(1, 2.5, '문', '문자열')"
      ]
     },
     "execution_count": 154,
     "metadata": {},
     "output_type": "execute_result"
    }
   ],
   "source": [
    "t3[0:4]"
   ]
  },
  {
   "cell_type": "code",
   "execution_count": 155,
   "id": "2f608e71",
   "metadata": {},
   "outputs": [
    {
     "ename": "AttributeError",
     "evalue": "'tuple' object has no attribute 'append'",
     "output_type": "error",
     "traceback": [
      "\u001b[1;31m---------------------------------------------------------------------------\u001b[0m",
      "\u001b[1;31mAttributeError\u001b[0m                            Traceback (most recent call last)",
      "Cell \u001b[1;32mIn[155], line 1\u001b[0m\n\u001b[1;32m----> 1\u001b[0m \u001b[43mt3\u001b[49m\u001b[38;5;241;43m.\u001b[39;49m\u001b[43mappend\u001b[49m(\u001b[38;5;241m10\u001b[39m)\n",
      "\u001b[1;31mAttributeError\u001b[0m: 'tuple' object has no attribute 'append'"
     ]
    }
   ],
   "source": [
    "# 튜플은 자료 추가가 안됨\n",
    "t3.append(10)"
   ]
  },
  {
   "cell_type": "code",
   "execution_count": 156,
   "id": "09ba317e",
   "metadata": {},
   "outputs": [
    {
     "ename": "TypeError",
     "evalue": "'tuple' object does not support item assignment",
     "output_type": "error",
     "traceback": [
      "\u001b[1;31m---------------------------------------------------------------------------\u001b[0m",
      "\u001b[1;31mTypeError\u001b[0m                                 Traceback (most recent call last)",
      "Cell \u001b[1;32mIn[156], line 2\u001b[0m\n\u001b[0;32m      1\u001b[0m \u001b[38;5;66;03m# 튜플은 자료 수정도 안됨\u001b[39;00m\n\u001b[1;32m----> 2\u001b[0m \u001b[43mt3\u001b[49m\u001b[43m[\u001b[49m\u001b[38;5;241;43m0\u001b[39;49m\u001b[43m]\u001b[49m\u001b[38;5;241m=\u001b[39m\u001b[38;5;241m100\u001b[39m\n",
      "\u001b[1;31mTypeError\u001b[0m: 'tuple' object does not support item assignment"
     ]
    }
   ],
   "source": [
    "# 튜플은 자료 수정도 안됨\n",
    "t3[0]=100"
   ]
  },
  {
   "cell_type": "code",
   "execution_count": 157,
   "id": "3838e00f",
   "metadata": {},
   "outputs": [
    {
     "ename": "TypeError",
     "evalue": "'tuple' object doesn't support item deletion",
     "output_type": "error",
     "traceback": [
      "\u001b[1;31m---------------------------------------------------------------------------\u001b[0m",
      "\u001b[1;31mTypeError\u001b[0m                                 Traceback (most recent call last)",
      "Cell \u001b[1;32mIn[157], line 2\u001b[0m\n\u001b[0;32m      1\u001b[0m \u001b[38;5;66;03m# 튜플은 자료 삭제가 안된다.\u001b[39;00m\n\u001b[1;32m----> 2\u001b[0m \u001b[38;5;28;01mdel\u001b[39;00m t3[\u001b[38;5;241m0\u001b[39m]\n",
      "\u001b[1;31mTypeError\u001b[0m: 'tuple' object doesn't support item deletion"
     ]
    }
   ],
   "source": [
    "# 튜플은 자료 삭제가 안된다.\n",
    "del t3[0]"
   ]
  },
  {
   "cell_type": "markdown",
   "id": "7a0c06cb",
   "metadata": {},
   "source": [
    "# 6. 딕셔너리형(dict) JSON{\"key\":\"value\"}\n",
    "* key와 value로 이루어진 데이터형\n",
    "* json이라고도 불리며 웹상에서 데이터를 주고 받을때 주로 사용\n",
    "* 딕셔너리의 value에는 모든 자료형이 올 수 있음\n",
    "* 딕셔너리의 key에는 list, dict는 올 수 없음\n",
    "* key를 호출하면 value가 출력\n",
    "* 딕셔너리는 순서가 없는 자료형"
   ]
  },
  {
   "cell_type": "code",
   "execution_count": 169,
   "id": "20715675",
   "metadata": {},
   "outputs": [],
   "source": [
    "dict1={\"이름\":\"홍길동\", \"나이\":33, \"키\":175.4, \"가족\":['둘리','또치','도우너']} "
   ]
  },
  {
   "cell_type": "code",
   "execution_count": 166,
   "id": "43cdbd75",
   "metadata": {},
   "outputs": [
    {
     "data": {
      "text/plain": [
       "['둘리', '또치', '도우너']"
      ]
     },
     "execution_count": 166,
     "metadata": {},
     "output_type": "execute_result"
    }
   ],
   "source": [
    "dict1[\"가족\"]"
   ]
  },
  {
   "cell_type": "code",
   "execution_count": 172,
   "id": "a592c364",
   "metadata": {},
   "outputs": [
    {
     "name": "stdout",
     "output_type": "stream",
     "text": [
      "홍길동 <class 'str'>\n"
     ]
    }
   ],
   "source": [
    "print(dict1[\"이름\"], type(dict1[\"이름\"]))"
   ]
  },
  {
   "cell_type": "code",
   "execution_count": 173,
   "id": "3d9edd8a",
   "metadata": {},
   "outputs": [
    {
     "name": "stdout",
     "output_type": "stream",
     "text": [
      "33 <class 'int'>\n"
     ]
    }
   ],
   "source": [
    "print(dict1[\"나이\"], type(dict1[\"나이\"]))"
   ]
  },
  {
   "cell_type": "code",
   "execution_count": 174,
   "id": "3114e719",
   "metadata": {},
   "outputs": [
    {
     "name": "stdout",
     "output_type": "stream",
     "text": [
      "['둘리', '또치', '도우너'] <class 'list'>\n"
     ]
    }
   ],
   "source": [
    "print(dict1[\"가족\"], type(dict1[\"가족\"]))"
   ]
  },
  {
   "cell_type": "code",
   "execution_count": 175,
   "id": "233e95b1",
   "metadata": {},
   "outputs": [
    {
     "data": {
      "text/plain": [
       "'둘리'"
      ]
     },
     "execution_count": 175,
     "metadata": {},
     "output_type": "execute_result"
    }
   ],
   "source": [
    "dict1[\"가족\"][0]"
   ]
  },
  {
   "cell_type": "code",
   "execution_count": 348,
   "id": "ea82f3ff",
   "metadata": {},
   "outputs": [],
   "source": [
    "dict2={\"가족\":['둘리','또치','도우너',{\"키\":[145,155,165]}]} "
   ]
  },
  {
   "cell_type": "markdown",
   "id": "66d23b99",
   "metadata": {},
   "source": [
    "dict에서 len은 key의 갯수"
   ]
  },
  {
   "cell_type": "code",
   "execution_count": 180,
   "id": "788f0692",
   "metadata": {},
   "outputs": [
    {
     "data": {
      "text/plain": [
       "1"
      ]
     },
     "execution_count": 180,
     "metadata": {},
     "output_type": "execute_result"
    }
   ],
   "source": [
    "len(dict2)"
   ]
  },
  {
   "cell_type": "code",
   "execution_count": 182,
   "id": "1942fa25",
   "metadata": {},
   "outputs": [
    {
     "data": {
      "text/plain": [
       "155"
      ]
     },
     "execution_count": 182,
     "metadata": {},
     "output_type": "execute_result"
    }
   ],
   "source": [
    "dict2[\"가족\"][3][\"키\"][1]"
   ]
  },
  {
   "cell_type": "markdown",
   "id": "677d6e94",
   "metadata": {},
   "source": [
    "# 딕셔너리에 자료 추가/삭제하기\n",
    "* 자료추가\n",
    "  * 변수명['새로운 key'] = 새 자료 **key가 중복되면 안됨. 중복될 경우 나중값으로 덮어쓰기**\n",
    "* 자료삭제\n",
    "  * del 변수명['key']"
   ]
  },
  {
   "cell_type": "code",
   "execution_count": 349,
   "id": "720e4b5e",
   "metadata": {
    "scrolled": true
   },
   "outputs": [
    {
     "data": {
      "text/plain": [
       "{'가족': ['둘리', '또치', '도우너', {'키': [145, 155, 165]}]}"
      ]
     },
     "execution_count": 349,
     "metadata": {},
     "output_type": "execute_result"
    }
   ],
   "source": [
    "dict2"
   ]
  },
  {
   "cell_type": "code",
   "execution_count": 352,
   "id": "d73746fa",
   "metadata": {},
   "outputs": [
    {
     "data": {
      "text/plain": [
       "{'가족': ['둘리', '또치', '도우너', {'키': [145, 155, 165]}],\n",
       " '좋아하는 음식': ['자장면', '짬뽕', '볶음밥']}"
      ]
     },
     "execution_count": 352,
     "metadata": {},
     "output_type": "execute_result"
    }
   ],
   "source": [
    "dict2['좋아하는 음식']=['자장면','짬뽕','볶음밥']\n",
    "dict2"
   ]
  },
  {
   "cell_type": "code",
   "execution_count": 354,
   "id": "4c57d3ff",
   "metadata": {},
   "outputs": [
    {
     "data": {
      "text/plain": [
       "{'키': [145, 155, 165]}"
      ]
     },
     "execution_count": 354,
     "metadata": {},
     "output_type": "execute_result"
    }
   ],
   "source": [
    "dict2['가족'][3]"
   ]
  },
  {
   "cell_type": "code",
   "execution_count": 355,
   "id": "1befed5b",
   "metadata": {},
   "outputs": [
    {
     "data": {
      "text/plain": [
       "{'가족': ['둘리', '또치', '도우너'], '좋아하는 음식': ['자장면', '짬뽕', '볶음밥']}"
      ]
     },
     "execution_count": 355,
     "metadata": {},
     "output_type": "execute_result"
    }
   ],
   "source": [
    "del dict2['가족'][3]\n",
    "dict2"
   ]
  },
  {
   "cell_type": "code",
   "execution_count": 356,
   "id": "75e57782",
   "metadata": {},
   "outputs": [],
   "source": [
    "dict2['가족']=\"대가족\""
   ]
  },
  {
   "cell_type": "code",
   "execution_count": 357,
   "id": "000044d3",
   "metadata": {},
   "outputs": [
    {
     "data": {
      "text/plain": [
       "{'가족': '대가족', '좋아하는 음식': ['자장면', '짬뽕', '볶음밥']}"
      ]
     },
     "execution_count": 357,
     "metadata": {},
     "output_type": "execute_result"
    }
   ],
   "source": [
    "dict2"
   ]
  },
  {
   "cell_type": "markdown",
   "id": "63c560b0",
   "metadata": {},
   "source": [
    "# 형변환 함수\n",
    "* date type을 다른 걸로 바꾸는 것.\n",
    "* int, float, stl ,list, tuple, dict"
   ]
  },
  {
   "cell_type": "code",
   "execution_count": 215,
   "id": "959769b8",
   "metadata": {},
   "outputs": [
    {
     "name": "stdout",
     "output_type": "stream",
     "text": [
      "200 <class 'int'>\n"
     ]
    }
   ],
   "source": [
    "## 함수\n",
    "c = 200\n",
    "print (c, type (c))"
   ]
  },
  {
   "cell_type": "code",
   "execution_count": 359,
   "id": "e5cf111f",
   "metadata": {},
   "outputs": [
    {
     "name": "stdout",
     "output_type": "stream",
     "text": [
      "3.14 <class 'str'>\n"
     ]
    }
   ],
   "source": [
    "d = \"3.14\"\n",
    "print(d, type(d))"
   ]
  },
  {
   "cell_type": "markdown",
   "id": "5e096537",
   "metadata": {},
   "source": [
    "## str()숫자나 다른 자료형을 문자로 변환"
   ]
  },
  {
   "cell_type": "code",
   "execution_count": 361,
   "id": "5e50545b",
   "metadata": {},
   "outputs": [],
   "source": [
    "a = 10\n",
    "b = 34.5\n",
    "c = (1,2,4, \"오\")\n",
    "d = (\"육\", 7,8.5,9)\n",
    "e = {e:{1,2,3}}"
   ]
  },
  {
   "cell_type": "code",
   "execution_count": 362,
   "id": "3b40a4d6",
   "metadata": {},
   "outputs": [
    {
     "name": "stdout",
     "output_type": "stream",
     "text": [
      "10 <class 'str'>\n"
     ]
    }
   ],
   "source": [
    "print(str(a), type(str(a)))"
   ]
  },
  {
   "cell_type": "code",
   "execution_count": 363,
   "id": "1682ca28",
   "metadata": {},
   "outputs": [
    {
     "name": "stdout",
     "output_type": "stream",
     "text": [
      "34.5 <class 'str'>\n",
      "(1, 2, 4, '오') <class 'str'>\n",
      "('육', 7, 8.5, 9) <class 'str'>\n",
      "{'python': {1, 2, 3}} <class 'str'>\n"
     ]
    }
   ],
   "source": [
    "print(str(b), type(str(b)))\n",
    "print(str(c), type(str(c)))\n",
    "print(str(d), type(str(d)))\n",
    "print(str(e), type(str(e)))"
   ]
  },
  {
   "cell_type": "code",
   "execution_count": 364,
   "id": "61a9effc",
   "metadata": {
    "scrolled": true
   },
   "outputs": [
    {
     "name": "stdout",
     "output_type": "stream",
     "text": [
      "3.14 <class 'float'>\n"
     ]
    }
   ],
   "source": [
    "a = 3.14\n",
    "print(a, type (a))"
   ]
  },
  {
   "cell_type": "code",
   "execution_count": 365,
   "id": "3b3e876c",
   "metadata": {},
   "outputs": [
    {
     "name": "stdout",
     "output_type": "stream",
     "text": [
      "3 <class 'float'>\n"
     ]
    }
   ],
   "source": [
    "print(int(a), type (a))"
   ]
  },
  {
   "cell_type": "code",
   "execution_count": 366,
   "id": "ac48b3f6",
   "metadata": {},
   "outputs": [
    {
     "name": "stdout",
     "output_type": "stream",
     "text": [
      "3 <class 'int'>\n"
     ]
    }
   ],
   "source": [
    "b = 3\n",
    "print(b, type (b))"
   ]
  },
  {
   "cell_type": "code",
   "execution_count": 211,
   "id": "2d3fc41e",
   "metadata": {},
   "outputs": [
    {
     "name": "stdout",
     "output_type": "stream",
     "text": [
      "3\n"
     ]
    }
   ],
   "source": [
    "print(b)"
   ]
  },
  {
   "cell_type": "code",
   "execution_count": 210,
   "id": "4bf5e270",
   "metadata": {},
   "outputs": [
    {
     "data": {
      "text/plain": [
       "3"
      ]
     },
     "execution_count": 210,
     "metadata": {},
     "output_type": "execute_result"
    }
   ],
   "source": [
    "int(a)"
   ]
  },
  {
   "cell_type": "code",
   "execution_count": 212,
   "id": "202ac7a6",
   "metadata": {},
   "outputs": [
    {
     "name": "stdout",
     "output_type": "stream",
     "text": [
      "3 <class 'int'>\n"
     ]
    }
   ],
   "source": [
    "print(int(b), type (b))"
   ]
  },
  {
   "cell_type": "markdown",
   "id": "3c661db1",
   "metadata": {},
   "source": [
    "## list() 튜플이나 문자열로 되어 있는 리스트를 리스트로 변환"
   ]
  },
  {
   "cell_type": "code",
   "execution_count": 224,
   "id": "54414f57",
   "metadata": {},
   "outputs": [
    {
     "name": "stdout",
     "output_type": "stream",
     "text": [
      "('육', 7, 8.5, 9) ['육', 7, 8.5, 9] <class 'list'>\n"
     ]
    }
   ],
   "source": [
    "print(d, list(d), type(list(d)))"
   ]
  },
  {
   "cell_type": "code",
   "execution_count": 228,
   "id": "86855fc3",
   "metadata": {},
   "outputs": [
    {
     "name": "stdout",
     "output_type": "stream",
     "text": [
      "(1, 2, 4, '오') <class 'str'>\n"
     ]
    }
   ],
   "source": [
    "c = str(c)\n",
    "print(c, type(c))"
   ]
  },
  {
   "cell_type": "code",
   "execution_count": 230,
   "id": "ba1072d9",
   "metadata": {},
   "outputs": [
    {
     "name": "stdout",
     "output_type": "stream",
     "text": [
      "['(', '1', ',', ' ', '2', ',', ' ', '4', ',', ' ', \"'\", '오', \"'\", ')'] <class 'list'>\n"
     ]
    }
   ],
   "source": [
    "print(list(c), type(list (c)))"
   ]
  },
  {
   "cell_type": "code",
   "execution_count": 232,
   "id": "85cf342c",
   "metadata": {},
   "outputs": [
    {
     "name": "stdout",
     "output_type": "stream",
     "text": [
      "['육', 7, 8.5, 9] <class 'list'>\n"
     ]
    }
   ],
   "source": [
    "d = list(d)\n",
    "print(d, type(d))"
   ]
  },
  {
   "cell_type": "code",
   "execution_count": 233,
   "id": "9f455583",
   "metadata": {},
   "outputs": [],
   "source": [
    "d.append(\"튜플을 리스트로 변환 후 자료 입력\")"
   ]
  },
  {
   "cell_type": "code",
   "execution_count": 234,
   "id": "382cd953",
   "metadata": {},
   "outputs": [
    {
     "data": {
      "text/plain": [
       "['육', 7, 8.5, 9, '튜플을 리스트로 변환 후 자료 입력']"
      ]
     },
     "execution_count": 234,
     "metadata": {},
     "output_type": "execute_result"
    }
   ],
   "source": [
    "d"
   ]
  },
  {
   "cell_type": "markdown",
   "id": "2dcc025b",
   "metadata": {},
   "source": [
    "# tuple() 리스트를 튜플로 변환"
   ]
  },
  {
   "cell_type": "code",
   "execution_count": 236,
   "id": "b7a3f992",
   "metadata": {},
   "outputs": [
    {
     "name": "stdout",
     "output_type": "stream",
     "text": [
      "('육', 7, 8.5, 9, '튜플을 리스트로 변환 후 자료 입력') <class 'tuple'>\n"
     ]
    }
   ],
   "source": [
    "d=tuple(d)\n",
    "print(d, type(d))"
   ]
  },
  {
   "cell_type": "markdown",
   "id": "bbe17b12",
   "metadata": {},
   "source": [
    "# 연산자의 종류"
   ]
  },
  {
   "cell_type": "markdown",
   "id": "e42aedd0",
   "metadata": {},
   "source": [
    "## 산술연산자 +,-,*,/,%,//,**"
   ]
  },
  {
   "cell_type": "code",
   "execution_count": 241,
   "id": "d73d3ae6",
   "metadata": {},
   "outputs": [
    {
     "data": {
      "text/plain": [
       "2"
      ]
     },
     "execution_count": 241,
     "metadata": {},
     "output_type": "execute_result"
    }
   ],
   "source": [
    "# 덧셈\n",
    "1 + 1"
   ]
  },
  {
   "cell_type": "code",
   "execution_count": 242,
   "id": "e7a36281",
   "metadata": {},
   "outputs": [
    {
     "data": {
      "text/plain": [
       "1"
      ]
     },
     "execution_count": 242,
     "metadata": {},
     "output_type": "execute_result"
    }
   ],
   "source": [
    "# 뺄셈\n",
    "3 - 2"
   ]
  },
  {
   "cell_type": "code",
   "execution_count": 243,
   "id": "c7ba5d20",
   "metadata": {},
   "outputs": [],
   "source": [
    "a = 3\n",
    "b = 2"
   ]
  },
  {
   "cell_type": "code",
   "execution_count": 246,
   "id": "0cf515c7",
   "metadata": {},
   "outputs": [
    {
     "data": {
      "text/plain": [
       "1"
      ]
     },
     "execution_count": 246,
     "metadata": {},
     "output_type": "execute_result"
    }
   ],
   "source": [
    "a - b"
   ]
  },
  {
   "cell_type": "code",
   "execution_count": 247,
   "id": "9474cfb9",
   "metadata": {},
   "outputs": [
    {
     "data": {
      "text/plain": [
       "5"
      ]
     },
     "execution_count": 247,
     "metadata": {},
     "output_type": "execute_result"
    }
   ],
   "source": [
    "a + b"
   ]
  },
  {
   "cell_type": "code",
   "execution_count": 248,
   "id": "b7cc604f",
   "metadata": {},
   "outputs": [
    {
     "data": {
      "text/plain": [
       "6"
      ]
     },
     "execution_count": 248,
     "metadata": {},
     "output_type": "execute_result"
    }
   ],
   "source": [
    "# 곱셈\n",
    "a * b"
   ]
  },
  {
   "cell_type": "markdown",
   "id": "136dbb94",
   "metadata": {},
   "source": [
    "### 나눗셈을 할 경우 데이터 타입이 정수에서 실수로 바뀐다."
   ]
  },
  {
   "cell_type": "code",
   "execution_count": 249,
   "id": "44ec5eb5",
   "metadata": {},
   "outputs": [
    {
     "data": {
      "text/plain": [
       "0.6666666666666666"
      ]
     },
     "execution_count": 249,
     "metadata": {},
     "output_type": "execute_result"
    }
   ],
   "source": [
    "# 나눗셈의 결과는 반드시 실수로 나온다.\n",
    "b / a"
   ]
  },
  {
   "cell_type": "code",
   "execution_count": 252,
   "id": "72206afa",
   "metadata": {},
   "outputs": [],
   "source": [
    "a = 5\n",
    "b = 2"
   ]
  },
  {
   "cell_type": "code",
   "execution_count": 256,
   "id": "c343d4d9",
   "metadata": {},
   "outputs": [
    {
     "name": "stdout",
     "output_type": "stream",
     "text": [
      "2.5\n",
      "1\n",
      "0\n",
      "1\n"
     ]
    }
   ],
   "source": [
    "# 나머지 연산자 % 나눈 후 나머지만 출력\n",
    "# 홀수 짝수 구분시 주로 사용 %2 == 0 짝수, %2 == 1 홀수\n",
    "# 배수를 구할 떄 사용 %3 == 0 3의 배수, %7 == 7 7의 배수\n",
    "print(a/b)\n",
    "print(a%b)\n",
    "print(6%2)\n",
    "print(9%2)"
   ]
  },
  {
   "cell_type": "code",
   "execution_count": 258,
   "id": "cef75bbb",
   "metadata": {},
   "outputs": [
    {
     "name": "stdout",
     "output_type": "stream",
     "text": [
      "2.5\n",
      "2\n"
     ]
    }
   ],
   "source": [
    "# // 나눗셈 후 몫만 출력\n",
    "print(5/2)\n",
    "print(5//2)"
   ]
  },
  {
   "cell_type": "code",
   "execution_count": 259,
   "id": "73124aec",
   "metadata": {},
   "outputs": [
    {
     "name": "stdout",
     "output_type": "stream",
     "text": [
      "128\n"
     ]
    }
   ],
   "source": [
    "# ** 제곱\n",
    "print(2**7)"
   ]
  },
  {
   "cell_type": "markdown",
   "id": "d597366d",
   "metadata": {},
   "source": [
    "## 할당연산자\n",
    "* =, +=, -=, *=, /=, %="
   ]
  },
  {
   "cell_type": "code",
   "execution_count": 262,
   "id": "33e54188",
   "metadata": {},
   "outputs": [
    {
     "data": {
      "text/plain": [
       "10"
      ]
     },
     "execution_count": 262,
     "metadata": {},
     "output_type": "execute_result"
    }
   ],
   "source": [
    "# = : 오른쪽에 있는 자료를 왼쪽 변수에 집어넣는 할당 연산자\n",
    "a = 10\n",
    "a"
   ]
  },
  {
   "cell_type": "code",
   "execution_count": 382,
   "id": "7cf23bb2",
   "metadata": {},
   "outputs": [],
   "source": [
    "b = 2"
   ]
  },
  {
   "cell_type": "code",
   "execution_count": 371,
   "id": "b25b3035",
   "metadata": {},
   "outputs": [
    {
     "data": {
      "text/plain": [
       "12"
      ]
     },
     "execution_count": 371,
     "metadata": {},
     "output_type": "execute_result"
    }
   ],
   "source": [
    "# b = b + 10 => b += 10 (더하면서 할당해라!)\n",
    "b += 10\n",
    "b"
   ]
  },
  {
   "cell_type": "code",
   "execution_count": 376,
   "id": "a9867e60",
   "metadata": {},
   "outputs": [
    {
     "data": {
      "text/plain": [
       "0"
      ]
     },
     "execution_count": 376,
     "metadata": {},
     "output_type": "execute_result"
    }
   ],
   "source": [
    "# b = b - 2 => b -= 2 (빼면서 할당해라!)\n",
    "b -= 2\n",
    "b"
   ]
  },
  {
   "cell_type": "code",
   "execution_count": 379,
   "id": "6c55231e",
   "metadata": {},
   "outputs": [
    {
     "data": {
      "text/plain": [
       "6"
      ]
     },
     "execution_count": 379,
     "metadata": {},
     "output_type": "execute_result"
    }
   ],
   "source": [
    "# b = b *3 => b *= 3 \n",
    "b *= 3\n",
    "b"
   ]
  },
  {
   "cell_type": "code",
   "execution_count": 381,
   "id": "ef986891",
   "metadata": {},
   "outputs": [
    {
     "data": {
      "text/plain": [
       "0.6666666666666666"
      ]
     },
     "execution_count": 381,
     "metadata": {},
     "output_type": "execute_result"
    }
   ],
   "source": [
    "# b = b / 3 => b /= 3 \n",
    "b /= 3\n",
    "b"
   ]
  },
  {
   "cell_type": "code",
   "execution_count": 383,
   "id": "e3aaec60",
   "metadata": {},
   "outputs": [
    {
     "data": {
      "text/plain": [
       "0"
      ]
     },
     "execution_count": 383,
     "metadata": {},
     "output_type": "execute_result"
    }
   ],
   "source": [
    "# b = b % 2 => b %= 2 \n",
    "b %=2\n",
    "b"
   ]
  },
  {
   "cell_type": "markdown",
   "id": "1f6439de",
   "metadata": {},
   "source": [
    "# 비교연산자\n",
    "* 같다 ==\n",
    "* 다른다 !=\n",
    "* 초과 >\n",
    "* 이상 >=\n",
    "* 미만 <\n",
    "* 이하 <="
   ]
  },
  {
   "cell_type": "code",
   "execution_count": 384,
   "id": "30f6e9b1",
   "metadata": {},
   "outputs": [],
   "source": [
    "a = 3\n",
    "b = 3.0\n",
    "c = 5\n",
    "d = \"Python\"\n",
    "e = 'python'\n",
    "f = True\n",
    "g = False"
   ]
  },
  {
   "cell_type": "markdown",
   "id": "67bc3334",
   "metadata": {},
   "source": [
    "* == 같은면 True, 다르면 False"
   ]
  },
  {
   "cell_type": "code",
   "execution_count": 279,
   "id": "a32b50ec",
   "metadata": {},
   "outputs": [
    {
     "data": {
      "text/plain": [
       "True"
      ]
     },
     "execution_count": 279,
     "metadata": {},
     "output_type": "execute_result"
    }
   ],
   "source": [
    "a == b"
   ]
  },
  {
   "cell_type": "code",
   "execution_count": 280,
   "id": "66cf3742",
   "metadata": {},
   "outputs": [
    {
     "data": {
      "text/plain": [
       "False"
      ]
     },
     "execution_count": 280,
     "metadata": {},
     "output_type": "execute_result"
    }
   ],
   "source": [
    "a == c"
   ]
  },
  {
   "cell_type": "code",
   "execution_count": 283,
   "id": "ea36498c",
   "metadata": {},
   "outputs": [
    {
     "data": {
      "text/plain": [
       "False"
      ]
     },
     "execution_count": 283,
     "metadata": {},
     "output_type": "execute_result"
    }
   ],
   "source": [
    "d == e"
   ]
  },
  {
   "cell_type": "code",
   "execution_count": 287,
   "id": "dbfc7448",
   "metadata": {},
   "outputs": [
    {
     "data": {
      "text/plain": [
       "False"
      ]
     },
     "execution_count": 287,
     "metadata": {},
     "output_type": "execute_result"
    }
   ],
   "source": [
    "f == g"
   ]
  },
  {
   "cell_type": "markdown",
   "id": "829c2049",
   "metadata": {},
   "source": [
    "* != 같으면 False, 다르면 True"
   ]
  },
  {
   "cell_type": "code",
   "execution_count": 288,
   "id": "a034f624",
   "metadata": {},
   "outputs": [
    {
     "data": {
      "text/plain": [
       "False"
      ]
     },
     "execution_count": 288,
     "metadata": {},
     "output_type": "execute_result"
    }
   ],
   "source": [
    "a != b"
   ]
  },
  {
   "cell_type": "code",
   "execution_count": 289,
   "id": "cb9ed311",
   "metadata": {},
   "outputs": [
    {
     "data": {
      "text/plain": [
       "True"
      ]
     },
     "execution_count": 289,
     "metadata": {},
     "output_type": "execute_result"
    }
   ],
   "source": [
    "a != c"
   ]
  },
  {
   "cell_type": "code",
   "execution_count": 290,
   "id": "6cd38b13",
   "metadata": {},
   "outputs": [
    {
     "data": {
      "text/plain": [
       "True"
      ]
     },
     "execution_count": 290,
     "metadata": {},
     "output_type": "execute_result"
    }
   ],
   "source": [
    "d != e"
   ]
  },
  {
   "cell_type": "markdown",
   "id": "2068545c",
   "metadata": {},
   "source": [
    "* \\>: 왼쪽값을 오른쪽값과 비교해서 크면 True(초과) \n",
    "* \\<: 왼쪽값을 오른쪽값과 비교해서 작으면 True(미만)\n",
    "* \\>=: 왼쪽값을 오른쪽값과 비교해서 크거나 같으면 True(이상) \n",
    "* \\<=: 왼쪽값을 오른쪽값과 비교해서 크거나 작으면 True(이하) "
   ]
  },
  {
   "cell_type": "code",
   "execution_count": 292,
   "id": "0041e4c3",
   "metadata": {},
   "outputs": [
    {
     "data": {
      "text/plain": [
       "True"
      ]
     },
     "execution_count": 292,
     "metadata": {},
     "output_type": "execute_result"
    }
   ],
   "source": [
    "5 >= 3"
   ]
  },
  {
   "cell_type": "code",
   "execution_count": 293,
   "id": "7dae8f75",
   "metadata": {},
   "outputs": [
    {
     "data": {
      "text/plain": [
       "True"
      ]
     },
     "execution_count": 293,
     "metadata": {},
     "output_type": "execute_result"
    }
   ],
   "source": [
    "5 > 3"
   ]
  },
  {
   "cell_type": "code",
   "execution_count": 294,
   "id": "177e9470",
   "metadata": {},
   "outputs": [
    {
     "data": {
      "text/plain": [
       "False"
      ]
     },
     "execution_count": 294,
     "metadata": {},
     "output_type": "execute_result"
    }
   ],
   "source": [
    "5 <= 3"
   ]
  },
  {
   "cell_type": "code",
   "execution_count": 295,
   "id": "2c003e1a",
   "metadata": {},
   "outputs": [
    {
     "data": {
      "text/plain": [
       "False"
      ]
     },
     "execution_count": 295,
     "metadata": {},
     "output_type": "execute_result"
    }
   ],
   "source": [
    "5 < 5"
   ]
  },
  {
   "cell_type": "markdown",
   "id": "2b92dc4a",
   "metadata": {},
   "source": [
    "# 논리 연산자\n",
    "* and, or, not"
   ]
  },
  {
   "cell_type": "markdown",
   "id": "a0fab4b6",
   "metadata": {},
   "source": [
    "* and: 왼쪽과 오른쪽 값 모두 True 일 때 True, 하나라도 False 면 False"
   ]
  },
  {
   "cell_type": "code",
   "execution_count": 298,
   "id": "5cc186e3",
   "metadata": {},
   "outputs": [
    {
     "data": {
      "text/plain": [
       "True"
      ]
     },
     "execution_count": 298,
     "metadata": {},
     "output_type": "execute_result"
    }
   ],
   "source": [
    "# True and True\n",
    "3 == 3 and 5 > 3"
   ]
  },
  {
   "cell_type": "code",
   "execution_count": 299,
   "id": "0d995428",
   "metadata": {},
   "outputs": [
    {
     "data": {
      "text/plain": [
       "False"
      ]
     },
     "execution_count": 299,
     "metadata": {},
     "output_type": "execute_result"
    }
   ],
   "source": [
    "# False and True\n",
    "3 < 3 and 5 > 3"
   ]
  },
  {
   "cell_type": "code",
   "execution_count": 300,
   "id": "e05cf4fd",
   "metadata": {},
   "outputs": [
    {
     "data": {
      "text/plain": [
       "False"
      ]
     },
     "execution_count": 300,
     "metadata": {},
     "output_type": "execute_result"
    }
   ],
   "source": [
    "# True and False \n",
    "3 == 3 and 5 < 3"
   ]
  },
  {
   "cell_type": "code",
   "execution_count": 301,
   "id": "07bf7c05",
   "metadata": {},
   "outputs": [
    {
     "data": {
      "text/plain": [
       "False"
      ]
     },
     "execution_count": 301,
     "metadata": {},
     "output_type": "execute_result"
    }
   ],
   "source": [
    "# False and False \n",
    "3 < 3 and 5 < 3"
   ]
  },
  {
   "cell_type": "markdown",
   "id": "0f512ec4",
   "metadata": {},
   "source": [
    "* or 왼쪽이나 오른쪽 중에 하나라도 True 면 True, 둘다 False 일때만 False"
   ]
  },
  {
   "cell_type": "code",
   "execution_count": 302,
   "id": "b4e71618",
   "metadata": {},
   "outputs": [
    {
     "data": {
      "text/plain": [
       "True"
      ]
     },
     "execution_count": 302,
     "metadata": {},
     "output_type": "execute_result"
    }
   ],
   "source": [
    "# True or True\n",
    "3 == 3 or 5 > 3"
   ]
  },
  {
   "cell_type": "code",
   "execution_count": 303,
   "id": "b18fb104",
   "metadata": {},
   "outputs": [
    {
     "data": {
      "text/plain": [
       "True"
      ]
     },
     "execution_count": 303,
     "metadata": {},
     "output_type": "execute_result"
    }
   ],
   "source": [
    "# False or True\n",
    "3 < 3 or 5 > 3"
   ]
  },
  {
   "cell_type": "code",
   "execution_count": 304,
   "id": "16e18677",
   "metadata": {},
   "outputs": [
    {
     "data": {
      "text/plain": [
       "True"
      ]
     },
     "execution_count": 304,
     "metadata": {},
     "output_type": "execute_result"
    }
   ],
   "source": [
    "# True or False \n",
    "3 == 3 or 5 < 3"
   ]
  },
  {
   "cell_type": "code",
   "execution_count": 306,
   "id": "0f566f2c",
   "metadata": {},
   "outputs": [
    {
     "data": {
      "text/plain": [
       "False"
      ]
     },
     "execution_count": 306,
     "metadata": {},
     "output_type": "execute_result"
    }
   ],
   "source": [
    "# False or False \n",
    "3 < 3 or 5 < 3"
   ]
  },
  {
   "cell_type": "markdown",
   "id": "db0b504d",
   "metadata": {},
   "source": [
    "* not 값을 반대로 뒤집음 True => False, False => True"
   ]
  },
  {
   "cell_type": "code",
   "execution_count": 307,
   "id": "8c3d7000",
   "metadata": {},
   "outputs": [
    {
     "data": {
      "text/plain": [
       "True"
      ]
     },
     "execution_count": 307,
     "metadata": {},
     "output_type": "execute_result"
    }
   ],
   "source": [
    "not False"
   ]
  },
  {
   "cell_type": "code",
   "execution_count": 308,
   "id": "120d069c",
   "metadata": {},
   "outputs": [
    {
     "data": {
      "text/plain": [
       "False"
      ]
     },
     "execution_count": 308,
     "metadata": {},
     "output_type": "execute_result"
    }
   ],
   "source": [
    "not True"
   ]
  },
  {
   "cell_type": "markdown",
   "id": "bfe328bc",
   "metadata": {},
   "source": [
    "* not, and, or 순위\n",
    "* not > and > or"
   ]
  },
  {
   "cell_type": "code",
   "execution_count": 309,
   "id": "52267a6b",
   "metadata": {},
   "outputs": [
    {
     "data": {
      "text/plain": [
       "True"
      ]
     },
     "execution_count": 309,
     "metadata": {},
     "output_type": "execute_result"
    }
   ],
   "source": [
    "not True and not False or not False"
   ]
  },
  {
   "cell_type": "code",
   "execution_count": 310,
   "id": "eacd6288",
   "metadata": {},
   "outputs": [
    {
     "data": {
      "text/plain": [
       "True"
      ]
     },
     "execution_count": 310,
     "metadata": {},
     "output_type": "execute_result"
    }
   ],
   "source": [
    "10 == 10 and 10 != 5"
   ]
  },
  {
   "cell_type": "markdown",
   "id": "a1bfdc21",
   "metadata": {},
   "source": [
    "# 식별연산자\n",
    "* is, not is (data type 까지 같은지 비교)"
   ]
  },
  {
   "cell_type": "code",
   "execution_count": 311,
   "id": "f7eca0ec",
   "metadata": {},
   "outputs": [
    {
     "name": "stdout",
     "output_type": "stream",
     "text": [
      "3\n",
      "3.0\n",
      "5\n"
     ]
    }
   ],
   "source": [
    "print(a)\n",
    "print(b)\n",
    "print(c)"
   ]
  },
  {
   "cell_type": "code",
   "execution_count": 316,
   "id": "504582a7",
   "metadata": {},
   "outputs": [
    {
     "name": "stdout",
     "output_type": "stream",
     "text": [
      "True\n",
      "False\n"
     ]
    }
   ],
   "source": [
    "# ==는 값만 같으면 True, is는 값이 같아도 데이터 타입다르면 False\n",
    "print(a==b)\n",
    "print(a is b)"
   ]
  },
  {
   "cell_type": "code",
   "execution_count": 318,
   "id": "05ccc28a",
   "metadata": {},
   "outputs": [
    {
     "name": "stdout",
     "output_type": "stream",
     "text": [
      "True\n"
     ]
    }
   ],
   "source": [
    "# a와 b 모두 int 3이기 때문에 True\n",
    "print(a is not b)"
   ]
  },
  {
   "cell_type": "markdown",
   "id": "99d86cd9",
   "metadata": {},
   "source": [
    "* 멤버 연산자\n",
    "* in, not in\n",
    "* list나 tuple, dict 안에 원하는 값이 있는지 찾을때 사용"
   ]
  },
  {
   "cell_type": "code",
   "execution_count": 319,
   "id": "9848829e",
   "metadata": {},
   "outputs": [],
   "source": [
    "mem = [1,2,3,4,5,\"육\"]"
   ]
  },
  {
   "cell_type": "code",
   "execution_count": 320,
   "id": "e6cfb916",
   "metadata": {},
   "outputs": [
    {
     "data": {
      "text/plain": [
       "True"
      ]
     },
     "execution_count": 320,
     "metadata": {},
     "output_type": "execute_result"
    }
   ],
   "source": [
    "3 in mem"
   ]
  },
  {
   "cell_type": "code",
   "execution_count": 322,
   "id": "12fe079e",
   "metadata": {},
   "outputs": [
    {
     "data": {
      "text/plain": [
       "True"
      ]
     },
     "execution_count": 322,
     "metadata": {},
     "output_type": "execute_result"
    }
   ],
   "source": [
    "6 not in mem"
   ]
  },
  {
   "cell_type": "code",
   "execution_count": 323,
   "id": "fb6721a3",
   "metadata": {},
   "outputs": [
    {
     "data": {
      "text/plain": [
       "False"
      ]
     },
     "execution_count": 323,
     "metadata": {},
     "output_type": "execute_result"
    }
   ],
   "source": [
    "3 not in mem"
   ]
  },
  {
   "cell_type": "markdown",
   "id": "f9d88b92",
   "metadata": {},
   "source": [
    "# 문자열 함수 .replace(\"찾을값\", \"바꿀값\")"
   ]
  },
  {
   "cell_type": "code",
   "execution_count": 325,
   "id": "64d50a55",
   "metadata": {},
   "outputs": [
    {
     "data": {
      "text/plain": [
       "'010-1111-2222'"
      ]
     },
     "execution_count": 325,
     "metadata": {},
     "output_type": "execute_result"
    }
   ],
   "source": [
    "c = \"010-1111-2222\"\n",
    "c"
   ]
  },
  {
   "cell_type": "code",
   "execution_count": 327,
   "id": "94b1c205",
   "metadata": {},
   "outputs": [
    {
     "data": {
      "text/plain": [
       "'010.1111.2222'"
      ]
     },
     "execution_count": 327,
     "metadata": {},
     "output_type": "execute_result"
    }
   ],
   "source": [
    "c = c.replace(\"-\", \".\")"
   ]
  }
 ],
 "metadata": {
  "kernelspec": {
   "display_name": "Python 3 (ipykernel)",
   "language": "python",
   "name": "python3"
  },
  "language_info": {
   "codemirror_mode": {
    "name": "ipython",
    "version": 3
   },
   "file_extension": ".py",
   "mimetype": "text/x-python",
   "name": "python",
   "nbconvert_exporter": "python",
   "pygments_lexer": "ipython3",
   "version": "3.9.23"
  }
 },
 "nbformat": 4,
 "nbformat_minor": 5
}
