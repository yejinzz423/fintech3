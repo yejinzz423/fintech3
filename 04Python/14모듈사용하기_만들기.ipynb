{
 "cells": [
  {
   "cell_type": "markdown",
   "id": "a27e8ba1",
   "metadata": {},
   "source": [
    "# 모듈\n",
    "* 누군가가 미리 사용하기 편하게 만들어놓은 함수, 클래스\n",
    "* import 명령을 이용해서 프로그램 가장 위에서 모듈을 불러와 사용할 수 있음\n",
    "* 모듈에 너무 많은 기능이 있는 경우 from 모듈명 import 함수/클래스 형식으로 일부 기능만 블러올 수 있음\n",
    "* 모듈은 사용자가 직접 만들 수도 있음\n",
    "* 사용자 모듈은 불러올 떄는 실행하는 파일과 같은 위치에 있어야 함"
   ]
  },
  {
   "cell_type": "markdown",
   "id": "e0ad083d",
   "metadata": {},
   "source": [
    "# datetime 모듈 사용하기"
   ]
  },
  {
   "cell_type": "code",
   "execution_count": 1,
   "id": "b8b34a49",
   "metadata": {},
   "outputs": [],
   "source": [
    "from datetime import datetime"
   ]
  },
  {
   "cell_type": "code",
   "execution_count": 3,
   "id": "fb755251",
   "metadata": {},
   "outputs": [
    {
     "data": {
      "text/plain": [
       "datetime.datetime(2025, 10, 13, 9, 13, 15, 886756)"
      ]
     },
     "execution_count": 3,
     "metadata": {},
     "output_type": "execute_result"
    }
   ],
   "source": [
    "datetime.now()"
   ]
  },
  {
   "cell_type": "code",
   "execution_count": 4,
   "id": "78db046d",
   "metadata": {
    "scrolled": true
   },
   "outputs": [
    {
     "name": "stdout",
     "output_type": "stream",
     "text": [
      "2025-10-13 09:13:46.203007\n"
     ]
    }
   ],
   "source": [
    "now=datetime.now()\n",
    "print(now)"
   ]
  },
  {
   "cell_type": "code",
   "execution_count": 7,
   "id": "5243a8a3",
   "metadata": {},
   "outputs": [
    {
     "name": "stdout",
     "output_type": "stream",
     "text": [
      "<class 'datetime.datetime'>\n"
     ]
    }
   ],
   "source": [
    "print(type(now)) # 타입은 datetime이라는 별도의 자료형"
   ]
  },
  {
   "cell_type": "code",
   "execution_count": 5,
   "id": "f0256010",
   "metadata": {},
   "outputs": [
    {
     "data": {
      "text/plain": [
       "2025"
      ]
     },
     "execution_count": 5,
     "metadata": {},
     "output_type": "execute_result"
    }
   ],
   "source": [
    "now.year"
   ]
  },
  {
   "cell_type": "code",
   "execution_count": 15,
   "id": "afb0e947",
   "metadata": {},
   "outputs": [
    {
     "name": "stdout",
     "output_type": "stream",
     "text": [
      "2025-10-13\n"
     ]
    }
   ],
   "source": [
    "print(f\"{now.year}-{now.month:02d}-{now.day:02d}\")"
   ]
  },
  {
   "cell_type": "code",
   "execution_count": 11,
   "id": "568e25d7",
   "metadata": {},
   "outputs": [
    {
     "data": {
      "text/plain": [
       "9"
      ]
     },
     "execution_count": 11,
     "metadata": {},
     "output_type": "execute_result"
    }
   ],
   "source": [
    "now.hour"
   ]
  },
  {
   "cell_type": "code",
   "execution_count": 12,
   "id": "1d788fc8",
   "metadata": {},
   "outputs": [
    {
     "name": "stdout",
     "output_type": "stream",
     "text": [
      "9:13:46\n"
     ]
    }
   ],
   "source": [
    "print(f\"{now.hour}:{now.minute}:{now.second}\")"
   ]
  },
  {
   "cell_type": "markdown",
   "id": "14890fa4",
   "metadata": {},
   "source": [
    "시간을 포멧에 맞춰 출력하기 strftime(%Y, %m)"
   ]
  },
  {
   "cell_type": "code",
   "execution_count": 14,
   "id": "843b80a6",
   "metadata": {},
   "outputs": [
    {
     "data": {
      "text/plain": [
       "'2025.10.13 09:13:46'"
      ]
     },
     "execution_count": 14,
     "metadata": {},
     "output_type": "execute_result"
    }
   ],
   "source": [
    "now.strftime(\"%Y.%m.%d %H:%M:%S\")"
   ]
  },
  {
   "cell_type": "markdown",
   "id": "bcdc5281",
   "metadata": {},
   "source": [
    "# OS모듈\n",
    "* cmd 명령어를 python 코드에서 실행하는 모듈"
   ]
  },
  {
   "cell_type": "code",
   "execution_count": 16,
   "id": "055bce65",
   "metadata": {},
   "outputs": [],
   "source": [
    "import os"
   ]
  },
  {
   "cell_type": "code",
   "execution_count": 21,
   "id": "1445c2e0",
   "metadata": {},
   "outputs": [
    {
     "name": "stdout",
     "output_type": "stream",
     "text": [
      "현재 운영체제:  nt\n",
      "현재 사용하는 폴더:  C:\\fintech3\\04Python\n",
      "현재 폴더 내부의 파일 리스트:  ['.ipynb_checkpoints', '01주피터노트북사용법.ipynb', '02파이썬 기초 문법.ipynb', '03변수_자료형_연산자.ipynb', '04문자열과_문자열함수_input.ipynb', '05리스트와 튜플 사용하기.ipynb', '06딕셔너리사용하기.ipynb', '07서식지정자와 문자열 포메팅.ipynb', '08조건문.ipynb', '09반복문_for_while.ipynb', '10리스트표현식_파일읽기쓰기_json자료정리.ipynb', '11JSON데이터 언패킹해서 CSV파일로 만들기.ipynb', '12함수만들기_예외처리.ipynb', '13클래스_객체지향형프로그래밍.ipynb', '14모듈사용하기_만들기.ipynb', 'data', 'untitled.txt', '과제']\n"
     ]
    }
   ],
   "source": [
    "# 내가 사용하는 컴퓨터의 기본정보 출력하기\n",
    "print(\"현재 운영체제: \", os.name)\n",
    "print(\"현재 사용하는 폴더: \", os.getcwd())\n",
    "print(\"현재 폴더 내부의 파일 리스트: \", os.listdir())"
   ]
  },
  {
   "cell_type": "code",
   "execution_count": 22,
   "id": "5b9c0a23",
   "metadata": {},
   "outputs": [],
   "source": [
    "# 현재 위치에서 폴더 만들기\n",
    "os.mkdir(\"testdir\")"
   ]
  },
  {
   "cell_type": "code",
   "execution_count": 23,
   "id": "862652da",
   "metadata": {},
   "outputs": [],
   "source": [
    "# 현재 위치에서 폴더 삭제\n",
    "os.rmdir(\"testdir\")"
   ]
  },
  {
   "cell_type": "code",
   "execution_count": 24,
   "id": "1f7d364a",
   "metadata": {},
   "outputs": [
    {
     "data": {
      "text/plain": [
       "0"
      ]
     },
     "execution_count": 24,
     "metadata": {},
     "output_type": "execute_result"
    }
   ],
   "source": [
    "# cmd 명령어 실행하기 실행완료 0, 실행실패 1\n",
    "os.system(\"dir\")"
   ]
  },
  {
   "cell_type": "code",
   "execution_count": 25,
   "id": "bdf58952",
   "metadata": {},
   "outputs": [],
   "source": [
    "# 파일을 생성하고 이름 변경하기\n",
    "with open(\"original.txt\", \"w\") as file:\n",
    "    file.write(\"안녕하세요\")"
   ]
  },
  {
   "cell_type": "code",
   "execution_count": 26,
   "id": "16256fa1",
   "metadata": {},
   "outputs": [],
   "source": [
    "os.rename(\"original.txt\", \"new_name.txt\")"
   ]
  },
  {
   "cell_type": "code",
   "execution_count": 28,
   "id": "4e709a5c",
   "metadata": {},
   "outputs": [
    {
     "name": "stdout",
     "output_type": "stream",
     "text": [
      "testdir이 이미 있습니다.\n"
     ]
    }
   ],
   "source": [
    "# 폴더가 있는지 확인하고 없으면 폴더 생성하기\n",
    "if not os.path.exists(\"./testdir\"):\n",
    "    os.mkdir(\"testdir\")\n",
    "else:\n",
    "    print(\"testdir이 이미 있습니다.\")"
   ]
  },
  {
   "cell_type": "code",
   "execution_count": 31,
   "id": "02b55158",
   "metadata": {},
   "outputs": [
    {
     "name": "stdout",
     "output_type": "stream",
     "text": [
      "value\n"
     ]
    }
   ],
   "source": [
    "# 환경변수에 변수와 값 추가하기/읽어오기\n",
    "os.environ['key']=\"value\"\n",
    "\n",
    "# 등록된 환경변수 값 불러오기\n",
    "print(os.environ.get('key'))"
   ]
  },
  {
   "cell_type": "markdown",
   "id": "59d1ceb1",
   "metadata": {},
   "source": [
    "# 내가 만든 함수, 클래스 불러와서 사용하기"
   ]
  },
  {
   "cell_type": "code",
   "execution_count": 32,
   "id": "9853aa84",
   "metadata": {},
   "outputs": [],
   "source": [
    "from mymodule import Cal, add"
   ]
  },
  {
   "cell_type": "code",
   "execution_count": 33,
   "id": "165b2632",
   "metadata": {},
   "outputs": [
    {
     "data": {
      "text/plain": [
       "7"
      ]
     },
     "execution_count": 33,
     "metadata": {},
     "output_type": "execute_result"
    }
   ],
   "source": [
    "add(3,4)"
   ]
  },
  {
   "cell_type": "code",
   "execution_count": 34,
   "id": "c0d1a8d7",
   "metadata": {},
   "outputs": [],
   "source": [
    "sam = Cal(3,4)"
   ]
  },
  {
   "cell_type": "code",
   "execution_count": 35,
   "id": "08e4b59d",
   "metadata": {},
   "outputs": [
    {
     "data": {
      "text/plain": [
       "7"
      ]
     },
     "execution_count": 35,
     "metadata": {},
     "output_type": "execute_result"
    }
   ],
   "source": [
    "sam.add()"
   ]
  },
  {
   "cell_type": "code",
   "execution_count": 37,
   "id": "b6858ab3",
   "metadata": {},
   "outputs": [
    {
     "data": {
      "text/plain": [
       "-1"
      ]
     },
     "execution_count": 37,
     "metadata": {},
     "output_type": "execute_result"
    }
   ],
   "source": [
    "sam.sub()"
   ]
  }
 ],
 "metadata": {
  "kernelspec": {
   "display_name": "Python 3 (ipykernel)",
   "language": "python",
   "name": "python3"
  },
  "language_info": {
   "codemirror_mode": {
    "name": "ipython",
    "version": 3
   },
   "file_extension": ".py",
   "mimetype": "text/x-python",
   "name": "python",
   "nbconvert_exporter": "python",
   "pygments_lexer": "ipython3",
   "version": "3.9.23"
  }
 },
 "nbformat": 4,
 "nbformat_minor": 5
}
