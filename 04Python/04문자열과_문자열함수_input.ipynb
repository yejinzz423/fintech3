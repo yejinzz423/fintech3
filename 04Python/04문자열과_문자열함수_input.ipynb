{
 "cells": [
  {
   "cell_type": "markdown",
   "id": "a8f6b300",
   "metadata": {},
   "source": [
    "# input(): 키보드 입력을 받는 함수\n",
    "* input(\"화면에 표시할 메시지\")\n",
    "* 입력 받는 값은 \\\" \\\" (공백)으로 구분해서 여러개를 받을 수 있음\n",
    "* 입력 받는 값은 모두 str 타입의 문자열로 받음"
   ]
  },
  {
   "cell_type": "code",
   "execution_count": 1,
   "id": "6cb49a01",
   "metadata": {},
   "outputs": [
    {
     "name": "stdout",
     "output_type": "stream",
     "text": [
      "이름을 입력해 주세요홍길동 둘리\n",
      "홍길동 둘리\n"
     ]
    }
   ],
   "source": [
    "# input으로 입력된 값은 모두 1개의 문자열로 변수에 저장된다.\n",
    "name = input(\"이름을 입력해 주세요\")\n",
    "print(name)"
   ]
  },
  {
   "cell_type": "code",
   "execution_count": 2,
   "id": "f10ce3f1",
   "metadata": {},
   "outputs": [
    {
     "data": {
      "text/plain": [
       "'홍길동 둘리'"
      ]
     },
     "execution_count": 2,
     "metadata": {},
     "output_type": "execute_result"
    }
   ],
   "source": [
    "name"
   ]
  },
  {
   "cell_type": "code",
   "execution_count": 3,
   "id": "502bfdbf",
   "metadata": {},
   "outputs": [
    {
     "name": "stdout",
     "output_type": "stream",
     "text": [
      "<class 'str'>\n"
     ]
    }
   ],
   "source": [
    "print(type(name))"
   ]
  },
  {
   "cell_type": "code",
   "execution_count": 4,
   "id": "8e71e846",
   "metadata": {},
   "outputs": [
    {
     "name": "stdout",
     "output_type": "stream",
     "text": [
      "숫자를 3개 입력해 주세요10 20 30\n",
      "10 20 30 <class 'str'>\n"
     ]
    }
   ],
   "source": [
    "nums = input(\"숫자를 3개 입력해 주세요\")\n",
    "print(nums, type(nums))"
   ]
  },
  {
   "cell_type": "code",
   "execution_count": 5,
   "id": "f8fa2eaa",
   "metadata": {},
   "outputs": [
    {
     "data": {
      "text/plain": [
       "'10 20 30'"
      ]
     },
     "execution_count": 5,
     "metadata": {},
     "output_type": "execute_result"
    }
   ],
   "source": [
    "nums"
   ]
  },
  {
   "cell_type": "markdown",
   "id": "5bd68d86",
   "metadata": {},
   "source": [
    "# input().split()으로 여러 데이터를 list 형태로 받기\n",
    "* split 함수는 공백(구분자)을 기준으로 자료를 나누어 list로 만들어 줌"
   ]
  },
  {
   "cell_type": "code",
   "execution_count": 201,
   "id": "62e79ff1",
   "metadata": {},
   "outputs": [
    {
     "name": "stdout",
     "output_type": "stream",
     "text": [
      "숫자를 3개 입력해 주세요10 20 30\n",
      "['10', '20', '30'] <class 'list'>\n"
     ]
    }
   ],
   "source": [
    "nums = input(\"숫자를 3개 입력해 주세요\").split()\n",
    "print(nums, type(nums))"
   ]
  },
  {
   "cell_type": "code",
   "execution_count": 11,
   "id": "8420a9be",
   "metadata": {},
   "outputs": [
    {
     "data": {
      "text/plain": [
       "'30'"
      ]
     },
     "execution_count": 11,
     "metadata": {},
     "output_type": "execute_result"
    }
   ],
   "source": [
    "nums[2]"
   ]
  },
  {
   "cell_type": "code",
   "execution_count": 13,
   "id": "b028f442",
   "metadata": {},
   "outputs": [
    {
     "data": {
      "text/plain": [
       "30"
      ]
     },
     "execution_count": 13,
     "metadata": {},
     "output_type": "execute_result"
    }
   ],
   "source": [
    "int(nums[0]) + int(nums[1])"
   ]
  },
  {
   "cell_type": "code",
   "execution_count": 15,
   "id": "89b6185a",
   "metadata": {},
   "outputs": [
    {
     "name": "stdout",
     "output_type": "stream",
     "text": [
      "숫자를 3개 입력해 주세요10 20 30\n",
      "10 20 30 <class 'str'> <class 'str'> <class 'str'>\n"
     ]
    }
   ],
   "source": [
    "num1, num2, num3 = input(\"숫자를 3개 입력해 주세요\").split()\n",
    "print(num1, num2, num3, type(num1), type(num2), type(num3))"
   ]
  },
  {
   "cell_type": "code",
   "execution_count": 17,
   "id": "3bc7b3dc",
   "metadata": {},
   "outputs": [
    {
     "name": "stdout",
     "output_type": "stream",
     "text": [
      "숫자를 3개 입력해 주세요10 20 30\n",
      "10 20 <class 'str'> <class 'str'>\n"
     ]
    }
   ],
   "source": [
    "num1, num2, _ = input(\"숫자를 3개 입력해 주세요\").split()\n",
    "print(num1, num2, type(num1), type(num2))"
   ]
  },
  {
   "cell_type": "markdown",
   "id": "3a399c5c",
   "metadata": {},
   "source": [
    "# 문자열과 문자열 함수"
   ]
  },
  {
   "cell_type": "markdown",
   "id": "79d1d916",
   "metadata": {},
   "source": [
    "## 인덱싱과 슬라이싱\n",
    "* 문자: 글자 1개\n",
    "* 문자열: 글자가 여러개 => 순서가 있다. => 앞에서 부터 0, 1, 2.. 순으로 번호가 매겨짐\n",
    "* 순서가 있는 자료는 번호를 불러서 그 번호에 해당하는 자료를 꺼낼 수 있다."
   ]
  },
  {
   "cell_type": "markdown",
   "id": "54ed39f3",
   "metadata": {},
   "source": [
    "* 인덱싱 변수명[인덱스번호] 로 자료 1개를 꺼내는 것"
   ]
  },
  {
   "cell_type": "code",
   "execution_count": 18,
   "id": "f182d419",
   "metadata": {},
   "outputs": [
    {
     "name": "stdout",
     "output_type": "stream",
     "text": [
      "문자열은 왼쪽부터 번호를 매길 수 있으며 시작은 0번부터 입니다.\n"
     ]
    }
   ],
   "source": [
    "h1 = \"문자열은 왼쪽부터 번호를 매길 수 있으며 시작은 0번부터 입니다.\"\n",
    "print(h1)"
   ]
  },
  {
   "cell_type": "code",
   "execution_count": 19,
   "id": "a0dd7019",
   "metadata": {},
   "outputs": [
    {
     "data": {
      "text/plain": [
       "'번'"
      ]
     },
     "execution_count": 19,
     "metadata": {},
     "output_type": "execute_result"
    }
   ],
   "source": [
    "# h1변수에서 인덱스 10번의 자료를 추출하세요.\n",
    "h1[10]"
   ]
  },
  {
   "cell_type": "markdown",
   "id": "b8911879",
   "metadata": {},
   "source": [
    "* 슬라이싱 변수명[시작인덱스:끝인덱스+1:간격]\n",
    "* 시작인덱스와 끝 인덱스는 생략 가능\n",
    "  * [:10]  => 시작부터 9번 인덱스까지 슬라이스\n",
    "  * [5:] => 인덱스 5번부터 시작해서 끝까지 슬라이스\n",
    "  * [:] => 전체를 다 가져와라.\n",
    "  * [::2] => 전체 자료에서 2칸씩 건너 뛰면서 슬라이스\n",
    "  * [::-1] => 전체 자료를 역순 정렬"
   ]
  },
  {
   "cell_type": "code",
   "execution_count": 21,
   "id": "12167253",
   "metadata": {},
   "outputs": [
    {
     "data": {
      "text/plain": [
       "'번호를'"
      ]
     },
     "execution_count": 21,
     "metadata": {},
     "output_type": "execute_result"
    }
   ],
   "source": [
    "# h1에서 \"번호를\" 만 추출하세요\n",
    "h1[10:13]"
   ]
  },
  {
   "cell_type": "code",
   "execution_count": 22,
   "id": "dfb54709",
   "metadata": {},
   "outputs": [
    {
     "data": {
      "text/plain": [
       "'문자열은 왼쪽부터 번호를 매길'"
      ]
     },
     "execution_count": 22,
     "metadata": {},
     "output_type": "execute_result"
    }
   ],
   "source": [
    "# h1에서 인덱스 0번부터 15번까지 추출하세요\n",
    "h1[:16]"
   ]
  },
  {
   "cell_type": "code",
   "execution_count": 23,
   "id": "0d028b49",
   "metadata": {},
   "outputs": [
    {
     "data": {
      "text/plain": [
       "'길 수 있으며 시작은 0번부터 입니다.'"
      ]
     },
     "execution_count": 23,
     "metadata": {},
     "output_type": "execute_result"
    }
   ],
   "source": [
    "# h1에서 인덱스 15번부터 끝까지 추출하세요\n",
    "h1[15:]"
   ]
  },
  {
   "cell_type": "code",
   "execution_count": 24,
   "id": "674ced0d",
   "metadata": {},
   "outputs": [
    {
     "data": {
      "text/plain": [
       "'자은왼부 호 길수있며시은0부 니.'"
      ]
     },
     "execution_count": 24,
     "metadata": {},
     "output_type": "execute_result"
    }
   ],
   "source": [
    "# h1에서 인덱스 1번부터 끝까지 2칸씩 건너 뛰면서 추출하세요.\n",
    "h1[1::2]"
   ]
  },
  {
   "cell_type": "code",
   "execution_count": 25,
   "id": "fd23994b",
   "metadata": {},
   "outputs": [
    {
     "data": {
      "text/plain": [
       "'.다니입 터부번0 은작시 며으있 수 길매 를호번 터부쪽왼 은열자문'"
      ]
     },
     "execution_count": 25,
     "metadata": {},
     "output_type": "execute_result"
    }
   ],
   "source": [
    "# h1의 자료를 역순 정렬하세요\n",
    "h1[::-1]"
   ]
  },
  {
   "cell_type": "markdown",
   "id": "81dd4c14",
   "metadata": {},
   "source": [
    "# 문자열 함수\n",
    "* replace(): 값을 찾아서 바꾸는 함수\n",
    "* split(): 공백을 기준으로 자료를 나눠서 **리스트로 변형**\n",
    "* join(): 기준자를 통해서 리스트를 하나의 **문자열로 변형**\n",
    "* strip(): **문자열 외부**의 공백제거, 공백+특수문자 제거"
   ]
  },
  {
   "cell_type": "markdown",
   "id": "68dd1981",
   "metadata": {},
   "source": [
    "## 문자열 바꾸기 replace(찾을 값, 바꿀 값, 반복횟수 -1)\n",
    "* replace 함수는 사용 후 결과는 재할당 해야 함."
   ]
  },
  {
   "cell_type": "code",
   "execution_count": 26,
   "id": "2e1ff18a",
   "metadata": {},
   "outputs": [
    {
     "data": {
      "text/plain": [
       "'He!ll!o Python!'"
      ]
     },
     "execution_count": 26,
     "metadata": {},
     "output_type": "execute_result"
    }
   ],
   "source": [
    "h2 = \"He!ll!o Python!\"\n",
    "h2"
   ]
  },
  {
   "cell_type": "code",
   "execution_count": 27,
   "id": "210c43b5",
   "metadata": {},
   "outputs": [
    {
     "data": {
      "text/plain": [
       "'Hello Python'"
      ]
     },
     "execution_count": 27,
     "metadata": {},
     "output_type": "execute_result"
    }
   ],
   "source": [
    "h2.replace(\"!\", \"\")"
   ]
  },
  {
   "cell_type": "code",
   "execution_count": 29,
   "id": "37760c86",
   "metadata": {},
   "outputs": [
    {
     "data": {
      "text/plain": [
       "'Hello Python!'"
      ]
     },
     "execution_count": 29,
     "metadata": {},
     "output_type": "execute_result"
    }
   ],
   "source": [
    "h2 = h2.replace(\"!\", \"\", 2)\n",
    "h2"
   ]
  },
  {
   "cell_type": "code",
   "execution_count": 30,
   "id": "5f7f7a51",
   "metadata": {},
   "outputs": [
    {
     "data": {
      "text/plain": [
       "'He!ll!o# Pyt#hon!'"
      ]
     },
     "execution_count": 30,
     "metadata": {},
     "output_type": "execute_result"
    }
   ],
   "source": [
    "h3 = \"He!ll!o# Pyt#hon!\"\n",
    "h3"
   ]
  },
  {
   "cell_type": "markdown",
   "id": "b6484836",
   "metadata": {},
   "source": [
    "## 함수의 체인메서드 함수를 .으로 연결해 중첩사용"
   ]
  },
  {
   "cell_type": "code",
   "execution_count": 34,
   "id": "07154a58",
   "metadata": {},
   "outputs": [
    {
     "data": {
      "text/plain": [
       "'Hello Python!'"
      ]
     },
     "execution_count": 34,
     "metadata": {},
     "output_type": "execute_result"
    }
   ],
   "source": [
    "# h3에서 !와 #을 없애고 마지막 !는 남겨두세요.\n",
    "h3 = h3.replace(\"!\", \"\", 2).replace(\"#\", \"\")\n",
    "h3"
   ]
  },
  {
   "cell_type": "markdown",
   "id": "ce5e2b50",
   "metadata": {},
   "source": [
    "## split()\n",
    "* 공백을 기준으로 자료를 나눠서 list로 만들어줌\n",
    "* 구분자를 따로 지정해서 사용 가능"
   ]
  },
  {
   "cell_type": "code",
   "execution_count": 36,
   "id": "832e3348",
   "metadata": {},
   "outputs": [
    {
     "data": {
      "text/plain": [
       "['문자열은', '왼쪽부터', '번호를', '매길', '수', '있어요.']"
      ]
     },
     "execution_count": 36,
     "metadata": {},
     "output_type": "execute_result"
    }
   ],
   "source": [
    "h4 = \"문자열은 왼쪽부터 번호를 매길 수 있어요.\"\n",
    "h4_list = h4.split()\n",
    "h4_list"
   ]
  },
  {
   "cell_type": "code",
   "execution_count": 38,
   "id": "09392886",
   "metadata": {},
   "outputs": [
    {
     "data": {
      "text/plain": [
       "['문자열은', ' 왼쪽부터', ' 번호를', ' 매길', ' 수', ' 있어요.']"
      ]
     },
     "execution_count": 38,
     "metadata": {},
     "output_type": "execute_result"
    }
   ],
   "source": [
    "h5 = \"문자열은, 왼쪽부터, 번호를, 매길, 수, 있어요.\"\n",
    "h5_list = h5.split(\",\")\n",
    "h5_list"
   ]
  },
  {
   "cell_type": "code",
   "execution_count": 41,
   "id": "e6903cc2",
   "metadata": {},
   "outputs": [
    {
     "data": {
      "text/plain": [
       "5"
      ]
     },
     "execution_count": 41,
     "metadata": {},
     "output_type": "execute_result"
    }
   ],
   "source": [
    "len(h5_list[1])"
   ]
  },
  {
   "cell_type": "code",
   "execution_count": 42,
   "id": "fb7f2dc7",
   "metadata": {},
   "outputs": [
    {
     "data": {
      "text/plain": [
       "['문자열은', '왼쪽부터', '번호를', '매길', '수', '있어요.']"
      ]
     },
     "execution_count": 42,
     "metadata": {},
     "output_type": "execute_result"
    }
   ],
   "source": [
    "h5 = \"문자열은, 왼쪽부터, 번호를, 매길, 수, 있어요.\"\n",
    "h5_list = h5.split(\", \")\n",
    "h5_list"
   ]
  },
  {
   "cell_type": "markdown",
   "id": "ecdc66fd",
   "metadata": {},
   "source": [
    "## join()\n",
    "* 리스트, 튜플을 하나의 문자열로 만들어주는 함수\n",
    "* 합칠기준.join(list/tuple)"
   ]
  },
  {
   "cell_type": "code",
   "execution_count": 43,
   "id": "24388dca",
   "metadata": {},
   "outputs": [
    {
     "data": {
      "text/plain": [
       "['문자열은', '왼쪽부터', '번호를', '매길', '수', '있어요.']"
      ]
     },
     "execution_count": 43,
     "metadata": {},
     "output_type": "execute_result"
    }
   ],
   "source": [
    "h5_list"
   ]
  },
  {
   "cell_type": "code",
   "execution_count": 44,
   "id": "795cd01e",
   "metadata": {},
   "outputs": [
    {
     "data": {
      "text/plain": [
       "'문자열은 왼쪽부터 번호를 매길 수 있어요.'"
      ]
     },
     "execution_count": 44,
     "metadata": {},
     "output_type": "execute_result"
    }
   ],
   "source": [
    "# 공백을 구분자로 해서 합치기\n",
    "\" \".join(h5_list)"
   ]
  },
  {
   "cell_type": "code",
   "execution_count": 45,
   "id": "03bf6cf7",
   "metadata": {},
   "outputs": [
    {
     "data": {
      "text/plain": [
       "['문자열은', '왼쪽부터', '번호를', '매길', '수', '있어요.']"
      ]
     },
     "execution_count": 45,
     "metadata": {},
     "output_type": "execute_result"
    }
   ],
   "source": [
    "# join도 재할당을 해야지 저장됨\n",
    "h5_list"
   ]
  },
  {
   "cell_type": "code",
   "execution_count": 46,
   "id": "f995e11d",
   "metadata": {},
   "outputs": [
    {
     "data": {
      "text/plain": [
       "'문자열은 : 왼쪽부터 : 번호를 : 매길 : 수 : 있어요.'"
      ]
     },
     "execution_count": 46,
     "metadata": {},
     "output_type": "execute_result"
    }
   ],
   "source": [
    "# : 을 구분자로 해서 합치기\n",
    "\" : \".join(h5_list)"
   ]
  },
  {
   "cell_type": "markdown",
   "id": "14665f48",
   "metadata": {},
   "source": [
    "# strip()\n",
    "* 문자열의 양쪽 공백과 특정문자 제거\n",
    "* lstrip(): 왼쪽 공백 삭제\n",
    "* rstrip(): 오른쪽 공백 삭제\n",
    "* strip(): 양쪽 공백 삭제"
   ]
  },
  {
   "cell_type": "code",
   "execution_count": 47,
   "id": "f21e745a",
   "metadata": {},
   "outputs": [
    {
     "data": {
      "text/plain": [
       "'    공백이 있는 문자열    '"
      ]
     },
     "execution_count": 47,
     "metadata": {},
     "output_type": "execute_result"
    }
   ],
   "source": [
    "h6 = \"    공백이 있는 문자열    \"\n",
    "h6"
   ]
  },
  {
   "cell_type": "code",
   "execution_count": 48,
   "id": "b2cca800",
   "metadata": {},
   "outputs": [
    {
     "data": {
      "text/plain": [
       "'공백이 있는 문자열    '"
      ]
     },
     "execution_count": 48,
     "metadata": {},
     "output_type": "execute_result"
    }
   ],
   "source": [
    "h6.lstrip()"
   ]
  },
  {
   "cell_type": "code",
   "execution_count": 49,
   "id": "b453bf15",
   "metadata": {},
   "outputs": [
    {
     "data": {
      "text/plain": [
       "'    공백이 있는 문자열'"
      ]
     },
     "execution_count": 49,
     "metadata": {},
     "output_type": "execute_result"
    }
   ],
   "source": [
    "h6.rstrip()"
   ]
  },
  {
   "cell_type": "code",
   "execution_count": 50,
   "id": "a7c5c422",
   "metadata": {},
   "outputs": [
    {
     "data": {
      "text/plain": [
       "'공백이 있는 문자열'"
      ]
     },
     "execution_count": 50,
     "metadata": {},
     "output_type": "execute_result"
    }
   ],
   "source": [
    "h6.strip()"
   ]
  },
  {
   "cell_type": "markdown",
   "id": "2eca0912",
   "metadata": {},
   "source": [
    "* 공백과 특수문자가 섞여 있는 경우 strip(\"지울문자+공백\")"
   ]
  },
  {
   "cell_type": "code",
   "execution_count": 51,
   "id": "26c5f5e7",
   "metadata": {},
   "outputs": [
    {
     "data": {
      "text/plain": [
       "'...,    공백과 특수문자가 같이 있는 문자열 !! ^^ ㅋㅋㅋㅋ  '"
      ]
     },
     "execution_count": 51,
     "metadata": {},
     "output_type": "execute_result"
    }
   ],
   "source": [
    "h7 = \"...,    공백과 특수문자가 같이 있는 문자열 !! ^^ ㅋㅋㅋㅋ  \"\n",
    "h7"
   ]
  },
  {
   "cell_type": "code",
   "execution_count": 52,
   "id": "67ae2c6c",
   "metadata": {},
   "outputs": [
    {
     "data": {
      "text/plain": [
       "'...,    공백과 특수문자가 같이 있는 문자열 !! ^^ ㅋㅋㅋㅋ  '"
      ]
     },
     "execution_count": 52,
     "metadata": {},
     "output_type": "execute_result"
    }
   ],
   "source": [
    "h7.lstrip()"
   ]
  },
  {
   "cell_type": "code",
   "execution_count": 53,
   "id": "231381fb",
   "metadata": {},
   "outputs": [
    {
     "data": {
      "text/plain": [
       "'공백과 특수문자가 같이 있는 문자열 !! ^^ ㅋㅋㅋㅋ  '"
      ]
     },
     "execution_count": 53,
     "metadata": {},
     "output_type": "execute_result"
    }
   ],
   "source": [
    "h7.lstrip(\"., \")"
   ]
  },
  {
   "cell_type": "code",
   "execution_count": 54,
   "id": "0e83ec72",
   "metadata": {},
   "outputs": [
    {
     "data": {
      "text/plain": [
       "'...,    공백과 특수문자가 같이 있는 문자열'"
      ]
     },
     "execution_count": 54,
     "metadata": {},
     "output_type": "execute_result"
    }
   ],
   "source": [
    "h7.rstrip(\"!^ㅋ \")"
   ]
  },
  {
   "cell_type": "code",
   "execution_count": 55,
   "id": "00fe3320",
   "metadata": {},
   "outputs": [
    {
     "data": {
      "text/plain": [
       "'공백과 특수문자가 같이 있는 문자열'"
      ]
     },
     "execution_count": 55,
     "metadata": {},
     "output_type": "execute_result"
    }
   ],
   "source": [
    "h7.strip(\".,!^ㅋ \")"
   ]
  },
  {
   "cell_type": "code",
   "execution_count": 56,
   "id": "9b9faf10",
   "metadata": {},
   "outputs": [
    {
     "data": {
      "text/plain": [
       "'...,    공백과 특수문자^$가 같이 있!ㅋ는 문자열 !! ^^ ㅋㅋㅋㅋ  '"
      ]
     },
     "execution_count": 56,
     "metadata": {},
     "output_type": "execute_result"
    }
   ],
   "source": [
    "h8 = \"...,    공백과 특수문자^$가 같이 있!ㅋ는 문자열 !! ^^ ㅋㅋㅋㅋ  \"\n",
    "h8"
   ]
  },
  {
   "cell_type": "code",
   "execution_count": 60,
   "id": "bebabe3a",
   "metadata": {},
   "outputs": [
    {
     "data": {
      "text/plain": [
       "'공백과 특수문자가 같이 있는 문자열'"
      ]
     },
     "execution_count": 60,
     "metadata": {},
     "output_type": "execute_result"
    }
   ],
   "source": [
    "h8.replace(\"^\", \"\").replace(\"$\", \"\").replace(\"!\", \"\").replace(\"ㅋ\", \"\").strip(\"., \")"
   ]
  },
  {
   "cell_type": "code",
   "execution_count": 61,
   "id": "02b30f0e",
   "metadata": {},
   "outputs": [
    {
     "data": {
      "text/plain": [
       "'...,    공백과 특수문자^$가\\t 같이 있!ㅋ는\\n 문자열 !! ^^ ㅋㅋㅋㅋ  '"
      ]
     },
     "execution_count": 61,
     "metadata": {},
     "output_type": "execute_result"
    }
   ],
   "source": [
    "h9 = \"...,    공백과 특수문자^$가\\t 같이 있!ㅋ는\\n 문자열 !! ^^ ㅋㅋㅋㅋ  \"\n",
    "h9"
   ]
  },
  {
   "cell_type": "code",
   "execution_count": 62,
   "id": "c96bd79e",
   "metadata": {},
   "outputs": [
    {
     "name": "stdout",
     "output_type": "stream",
     "text": [
      "...,    공백과 특수문자^$가\t 같이 있!ㅋ는\n",
      " 문자열 !! ^^ ㅋㅋㅋㅋ  \n"
     ]
    }
   ],
   "source": [
    "print(h9)"
   ]
  },
  {
   "cell_type": "code",
   "execution_count": 63,
   "id": "3e90448b",
   "metadata": {},
   "outputs": [
    {
     "data": {
      "text/plain": [
       "'공백과 특수문자가 같이 있는 문자열'"
      ]
     },
     "execution_count": 63,
     "metadata": {},
     "output_type": "execute_result"
    }
   ],
   "source": [
    "h9.replace(\"\\n\", \"\").replace(\"\\t\", \"\").replace(\"^\", \"\").replace(\"$\", \"\").replace(\"!\", \"\").replace(\"ㅋ\", \"\").strip(\"., \")"
   ]
  },
  {
   "cell_type": "markdown",
   "id": "e14daedb",
   "metadata": {},
   "source": [
    "## 소문자/대문자 변환 함수\n",
    "* upper(): 모두 대문자로 만드는 함수\n",
    "* lower(): 모두 소문자로 만드는 함수"
   ]
  },
  {
   "cell_type": "code",
   "execution_count": 64,
   "id": "bcc088be",
   "metadata": {},
   "outputs": [
    {
     "name": "stdout",
     "output_type": "stream",
     "text": [
      "iron-man spider-man hulk\n"
     ]
    }
   ],
   "source": [
    "h10 = \"iron-man spider-man hulk\"\n",
    "print(h10)"
   ]
  },
  {
   "cell_type": "code",
   "execution_count": 67,
   "id": "32b87e26",
   "metadata": {},
   "outputs": [],
   "source": [
    "h10 = h10.upper()"
   ]
  },
  {
   "cell_type": "code",
   "execution_count": 68,
   "id": "ee4da886",
   "metadata": {},
   "outputs": [
    {
     "data": {
      "text/plain": [
       "'IRON-MAN SPIDER-MAN HULK'"
      ]
     },
     "execution_count": 68,
     "metadata": {},
     "output_type": "execute_result"
    }
   ],
   "source": [
    "h10"
   ]
  },
  {
   "cell_type": "code",
   "execution_count": 70,
   "id": "4de982da",
   "metadata": {},
   "outputs": [
    {
     "data": {
      "text/plain": [
       "'iron-man spider-man hulk'"
      ]
     },
     "execution_count": 70,
     "metadata": {},
     "output_type": "execute_result"
    }
   ],
   "source": [
    "h10 = h10.lower()\n",
    "h10"
   ]
  },
  {
   "cell_type": "markdown",
   "id": "84a8111f",
   "metadata": {},
   "source": [
    "# 문자열 함수 연습\n",
    "* 아래의 문자열에서 리뷰 글 부분만 추출해서 1개의 문자열 만들고 .! ^^ 등의 특수문자를 제거하세요. 문자열 양옆의 공백도 제거하세요\n",
    "* 리뷰글 부분만 추출\n",
    "* 1개의 문장으로 만들기\n",
    "* 문자열 함수를 이용해 특수문자와 불필요한 공백 지우기"
   ]
  },
  {
   "cell_type": "code",
   "execution_count": 12,
   "id": "972bc4d0",
   "metadata": {},
   "outputs": [],
   "source": [
    "test1 = '''344,622642,더 호텔 수 (THE HOTEL SOO),family,1박 가족 여행,2018년 5월 21일,8.0,\"위치 : 이순신 광장과는 반대편이라 차량으로 이동해야 합니다. 루프탑에서의\n",
    "바다 경치는 좋습니다.\n",
    "시설 : 깔끔하고 좋습니다. 패밀리룸을 사용 했는데 저녁6시쯤 갔더니 마지막 방이라며 2층을 배정 받았습니다. 창문을 여니 약간 쓰레기 냄새가 났고 바다가 보이지 않습니다.        \n",
    "루프탑 : 바베큐 세트가 저렴 했던거 같고 경치가 좋습니다. 수영장도 있었는데 계절이 아닌지.... \n",
    "    하지만 여름이면 좋을것 같습니다. 주차장은 장소가 넓지 않았던거 같고, 저녁에 나갔다 왔더니 야외 공터에 차를 대라고 하였습니다.    \n",
    "주말 저녁이라 그런지 가격을 제법 비싸게 준거 같은데... 2층이라 마음에 들지 않았습니다. 옆에 조선소 같은게 있어 쫌 보기에 좋지 않았습니다......................................'''\n"
   ]
  },
  {
   "cell_type": "code",
   "execution_count": 13,
   "id": "fb7600f6",
   "metadata": {},
   "outputs": [],
   "source": [
    "test1=test1.split(\",\")"
   ]
  },
  {
   "cell_type": "code",
   "execution_count": 14,
   "id": "29541137",
   "metadata": {},
   "outputs": [
    {
     "data": {
      "text/plain": [
       "['\"위치 : 이순신 광장과는 반대편이라 차량으로 이동해야 합니다. 루프탑에서의\\n바다 경치는 좋습니다.\\n시설 : 깔끔하고 좋습니다. 패밀리룸을 사용 했는데 저녁6시쯤 갔더니 마지막 방이라며 2층을 배정 받았습니다. 창문을 여니 약간 쓰레기 냄새가 났고 바다가 보이지 않습니다.        \\n루프탑 : 바베큐 세트가 저렴 했던거 같고 경치가 좋습니다. 수영장도 있었는데 계절이 아닌지.... \\n    하지만 여름이면 좋을것 같습니다. 주차장은 장소가 넓지 않았던거 같고',\n",
       " ' 저녁에 나갔다 왔더니 야외 공터에 차를 대라고 하였습니다.    \\n주말 저녁이라 그런지 가격을 제법 비싸게 준거 같은데... 2층이라 마음에 들지 않았습니다. 옆에 조선소 같은게 있어 쫌 보기에 좋지 않았습니다......................................']"
      ]
     },
     "execution_count": 14,
     "metadata": {},
     "output_type": "execute_result"
    }
   ],
   "source": [
    "test1=test1[7:]\n",
    "test1"
   ]
  },
  {
   "cell_type": "code",
   "execution_count": 15,
   "id": "ec88751f",
   "metadata": {},
   "outputs": [
    {
     "data": {
      "text/plain": [
       "2"
      ]
     },
     "execution_count": 15,
     "metadata": {},
     "output_type": "execute_result"
    }
   ],
   "source": [
    "len(test1)"
   ]
  },
  {
   "cell_type": "code",
   "execution_count": 17,
   "id": "548995fc",
   "metadata": {},
   "outputs": [
    {
     "data": {
      "text/plain": [
       "'\"위치 : 이순신 광장과는 반대편이라 차량으로 이동해야 합니다. 루프탑에서의\\n바다 경치는 좋습니다.\\n시설 : 깔끔하고 좋습니다. 패밀리룸을 사용 했는데 저녁6시쯤 갔더니 마지막 방이라며 2층을 배정 받았습니다. 창문을 여니 약간 쓰레기 냄새가 났고 바다가 보이지 않습니다.        \\n루프탑 : 바베큐 세트가 저렴 했던거 같고 경치가 좋습니다. 수영장도 있었는데 계절이 아닌지.... \\n    하지만 여름이면 좋을것 같습니다. 주차장은 장소가 넓지 않았던거 같고  저녁에 나갔다 왔더니 야외 공터에 차를 대라고 하였습니다.    \\n주말 저녁이라 그런지 가격을 제법 비싸게 준거 같은데... 2층이라 마음에 들지 않았습니다. 옆에 조선소 같은게 있어 쫌 보기에 좋지 않았습니다......................................'"
      ]
     },
     "execution_count": 17,
     "metadata": {},
     "output_type": "execute_result"
    }
   ],
   "source": [
    "test1=\" \".join(test1)\n",
    "test1"
   ]
  },
  {
   "cell_type": "code",
   "execution_count": 22,
   "id": "32109d12",
   "metadata": {},
   "outputs": [
    {
     "data": {
      "text/plain": [
       "'위치이순신 광장과는 반대편이라 차량으로 이동해야 합니다루프탑에서의바다 경치는 좋습니다 시설깔끔하고 좋습니다패밀리룸을 사용 했는데 저녁6시쯤 갔더니 마지막 방이라며 2층을 배정 받았습니다창문을 여니 약간 쓰레기 냄새가 났고 바다가 보이지 않습니다 루프탑바베큐 세트가 저렴 했던거 같고 경치가 좋습니다수영장도 있었는데 계절이 아닌지 하지만 여름이면 좋을것 같습니다주차장은 장소가 넓지 않았던거 같고저녁에 나갔다 왔더니 야외 공터에 차를 대라고 하였습니다 주말 저녁이라 그런지 가격을 제법 비싸게 준거 같은데2층이라 마음에 들지 않았습니다옆에 조선소 같은게 있어 쫌 보기에 좋지 않았습니다'"
      ]
     },
     "execution_count": 22,
     "metadata": {},
     "output_type": "execute_result"
    }
   ],
   "source": [
    "test1=test1.replace(\"\\n\", \"\").replace(\":\",\"\").replace(\".\",\" \").replace('\"',\"\").replace(\"  \",\"\")\n",
    "test1"
   ]
  },
  {
   "cell_type": "code",
   "execution_count": null,
   "id": "894fc209",
   "metadata": {},
   "outputs": [],
   "source": []
  },
  {
   "cell_type": "code",
   "execution_count": 56,
   "id": "33454e92",
   "metadata": {},
   "outputs": [],
   "source": [
    "test2= \"18062,427535,파크 하얏트 부산 (Park Hyatt Busan),family,2박 가족 여행,2019년 12월 29일,10.0,결혼 1주년 기념으로 아이랑 신랑이랑 다녀왔어요~ 룸컨디션 너무 좋았고 뷰가 최고였습니다! 2박 머물렀는데 청소도 깔끔하게 해주시고 애기가 이불에 살짝 토했는데도 바로 갈아주시고 좋았습니다~ 대신 창가쪽 커튼 한쪽이 떨어져있어서 조금 거슬렸구요... 창가에 침실이 있다보니 암막커튼을 치지 않으면 조금 쌀쌀한 느낌은 있었어요! 아 그리고 아기때문에 침대에 가드를 부탁드렸는데 가드가 너무 별로였습니다... 가드 구실을 못하고 넘 허술하게 매트리스 아래 그냥 끼워진거라 아기가 밤새 두번이나 가드사이에 빠졌습니다... 이점 좀 아쉬워요 ! 그 외에는 다이닝룸 리빙룸, 바까지 모두 이용했는데 서비스 좋았습니다~~!\""
   ]
  },
  {
   "cell_type": "code",
   "execution_count": 63,
   "id": "09c5ef4f",
   "metadata": {
    "scrolled": true
   },
   "outputs": [
    {
     "data": {
      "text/plain": [
       "'결혼 1주년 기념으로 아이랑 신랑이랑 다녀왔어요~ 룸컨디션 너무 좋았고 뷰가 최고였습니다! 2박 머물렀는데 청소도 깔끔하게 해주시고 애기가 이불에 살짝 토했는데도 바로 갈아주시고 좋았습니다~ 대신 창가쪽 커튼 한쪽이 떨어져있어서 조금 거슬렸구요... 창가에 침실이 있다보니 암막커튼을 치지 않으면 조금 쌀쌀한 느낌은 있었어요! 아 그리고 아기때문에 침대에 가드를 부탁드렸는데 가드가 너무 별로였습니다... 가드 구실을 못하고 넘 허술하게 매트리스 아래 그냥 끼워진거라 아기가 밤새 두번이나 가드사이에 빠졌습니다... 이점 좀 아쉬워요 ! 그 외에는 다이닝룸 리빙룸  바까지 모두 이용했는데 서비스 좋았습니다~~!'"
      ]
     },
     "execution_count": 63,
     "metadata": {},
     "output_type": "execute_result"
    }
   ],
   "source": [
    "test2=\" \".join(test2.split(\",\")[7:])\n",
    "test2"
   ]
  },
  {
   "cell_type": "code",
   "execution_count": 66,
   "id": "36fde37c",
   "metadata": {},
   "outputs": [
    {
     "data": {
      "text/plain": [
       "'결혼 1주년 기념으로 아이랑 신랑이랑 다녀왔어요 룸컨디션 너무 좋았고 뷰가 최고였습니다 2박 머물렀는데 청소도 깔끔하게 해주시고 애기가 이불에 살짝 토했는데도 바로 갈아주시고 좋았습니다 대신 창가쪽 커튼 한쪽이 떨어져있어서 조금 거슬렸구요 창가에 침실이 있다보니 암막커튼을 치지 않으면 조금 쌀쌀한 느낌은 있었어요 아 그리고 아기때문에 침대에 가드를 부탁드렸는데 가드가 너무 별로였습니다 가드 구실을 못하고 넘 허술하게 매트리스 아래 그냥 끼워진거라 아기가 밤새 두번이나 가드사이에 빠졌습니다 이점 좀 아쉬워요  그 외에는 다이닝룸 리빙룸  바까지 모두 이용했는데 서비스 좋았습니다'"
      ]
     },
     "execution_count": 66,
     "metadata": {},
     "output_type": "execute_result"
    }
   ],
   "source": [
    "test2.translate(str.maketrans(\"\",\"\",string.punctuation)).replace(\"\",\"\")"
   ]
  },
  {
   "cell_type": "markdown",
   "id": "b1cc3f40",
   "metadata": {},
   "source": [
    "# translate + str.maketrans + string.punctuation\n",
    "\n",
    "* translate (str.maketrans('찾을문자', '바꿀문자', '그외 없앨문자'))"
   ]
  },
  {
   "cell_type": "code",
   "execution_count": 58,
   "id": "8dc84a4b",
   "metadata": {},
   "outputs": [
    {
     "data": {
      "text/plain": [
       "'adcde'"
      ]
     },
     "execution_count": 58,
     "metadata": {},
     "output_type": "execute_result"
    }
   ],
   "source": [
    "exam = \"adcde\"\n",
    "exam"
   ]
  },
  {
   "cell_type": "code",
   "execution_count": 59,
   "id": "a041e459",
   "metadata": {},
   "outputs": [
    {
     "data": {
      "text/plain": [
       "'xyz'"
      ]
     },
     "execution_count": 59,
     "metadata": {},
     "output_type": "execute_result"
    }
   ],
   "source": [
    "exam.translate(str.maketrans('ace','xyz','bd'))"
   ]
  },
  {
   "cell_type": "code",
   "execution_count": 60,
   "id": "0682d824",
   "metadata": {},
   "outputs": [],
   "source": [
    "import string"
   ]
  },
  {
   "cell_type": "code",
   "execution_count": 61,
   "id": "bd7bc947",
   "metadata": {},
   "outputs": [
    {
     "data": {
      "text/plain": [
       "'!\"#$%&\\'()*+,-./:;<=>?@[\\\\]^_`{|}~'"
      ]
     },
     "execution_count": 61,
     "metadata": {},
     "output_type": "execute_result"
    }
   ],
   "source": [
    "string.punctuation"
   ]
  },
  {
   "cell_type": "code",
   "execution_count": null,
   "id": "285d1e64",
   "metadata": {},
   "outputs": [],
   "source": []
  },
  {
   "cell_type": "code",
   "execution_count": null,
   "id": "28828e0b",
   "metadata": {},
   "outputs": [],
   "source": []
  },
  {
   "cell_type": "code",
   "execution_count": 25,
   "id": "b6e93e05",
   "metadata": {},
   "outputs": [
    {
     "data": {
      "text/plain": [
       "['18062',\n",
       " '427535',\n",
       " '파크 하얏트 부산 (Park Hyatt Busan)',\n",
       " 'family',\n",
       " '2박 가족 여행',\n",
       " '2019년 12월 29일',\n",
       " '10.0',\n",
       " '결혼 1주년 기념으로 아이랑 신랑이랑 다녀왔어요~ 룸컨디션 너무 좋았고 뷰가 최고였습니다! 2박 머물렀는데 청소도 깔끔하게 해주시고 애기가 이불에 살짝 토했는데도 바로 갈아주시고 좋았습니다~ 대신 창가쪽 커튼 한쪽이 떨어져있어서 조금 거슬렸구요... 창가에 침실이 있다보니 암막커튼을 치지 않으면 조금 쌀쌀한 느낌은 있었어요! 아 그리고 아기때문에 침대에 가드를 부탁드렸는데 가드가 너무 별로였습니다... 가드 구실을 못하고 넘 허술하게 매트리스 아래 그냥 끼워진거라 아기가 밤새 두번이나 가드사이에 빠졌습니다... 이점 좀 아쉬워요 ! 그 외에는 다이닝룸 리빙룸',\n",
       " ' 바까지 모두 이용했는데 서비스 좋았습니다~~!']"
      ]
     },
     "execution_count": 25,
     "metadata": {},
     "output_type": "execute_result"
    }
   ],
   "source": [
    "test2=test2.split(\",\")\n",
    "test2"
   ]
  },
  {
   "cell_type": "code",
   "execution_count": 27,
   "id": "3332463d",
   "metadata": {},
   "outputs": [
    {
     "data": {
      "text/plain": [
       "['결혼 1주년 기념으로 아이랑 신랑이랑 다녀왔어요~ 룸컨디션 너무 좋았고 뷰가 최고였습니다! 2박 머물렀는데 청소도 깔끔하게 해주시고 애기가 이불에 살짝 토했는데도 바로 갈아주시고 좋았습니다~ 대신 창가쪽 커튼 한쪽이 떨어져있어서 조금 거슬렸구요... 창가에 침실이 있다보니 암막커튼을 치지 않으면 조금 쌀쌀한 느낌은 있었어요! 아 그리고 아기때문에 침대에 가드를 부탁드렸는데 가드가 너무 별로였습니다... 가드 구실을 못하고 넘 허술하게 매트리스 아래 그냥 끼워진거라 아기가 밤새 두번이나 가드사이에 빠졌습니다... 이점 좀 아쉬워요 ! 그 외에는 다이닝룸 리빙룸',\n",
       " ' 바까지 모두 이용했는데 서비스 좋았습니다~~!']"
      ]
     },
     "execution_count": 27,
     "metadata": {},
     "output_type": "execute_result"
    }
   ],
   "source": [
    "test2=test2[7:]\n",
    "test2"
   ]
  },
  {
   "cell_type": "code",
   "execution_count": 28,
   "id": "31f548a8",
   "metadata": {},
   "outputs": [
    {
     "data": {
      "text/plain": [
       "2"
      ]
     },
     "execution_count": 28,
     "metadata": {},
     "output_type": "execute_result"
    }
   ],
   "source": [
    "len(test2)"
   ]
  },
  {
   "cell_type": "code",
   "execution_count": 30,
   "id": "2b545046",
   "metadata": {},
   "outputs": [
    {
     "data": {
      "text/plain": [
       "'결혼 1주년 기념으로 아이랑 신랑이랑 다녀왔어요~ 룸컨디션 너무 좋았고 뷰가 최고였습니다! 2박 머물렀는데 청소도 깔끔하게 해주시고 애기가 이불에 살짝 토했는데도 바로 갈아주시고 좋았습니다~ 대신 창가쪽 커튼 한쪽이 떨어져있어서 조금 거슬렸구요... 창가에 침실이 있다보니 암막커튼을 치지 않으면 조금 쌀쌀한 느낌은 있었어요! 아 그리고 아기때문에 침대에 가드를 부탁드렸는데 가드가 너무 별로였습니다... 가드 구실을 못하고 넘 허술하게 매트리스 아래 그냥 끼워진거라 아기가 밤새 두번이나 가드사이에 빠졌습니다... 이점 좀 아쉬워요 ! 그 외에는 다이닝룸 리빙룸  바까지 모두 이용했는데 서비스 좋았습니다~~!'"
      ]
     },
     "execution_count": 30,
     "metadata": {},
     "output_type": "execute_result"
    }
   ],
   "source": [
    "test2=\" \".join(test2)\n",
    "test2"
   ]
  },
  {
   "cell_type": "code",
   "execution_count": 33,
   "id": "8b6b7fa8",
   "metadata": {},
   "outputs": [
    {
     "data": {
      "text/plain": [
       "'결혼 1주년 기념으로 아이랑 신랑이랑 다녀왔어요 룸컨디션 너무 좋았고 뷰가 최고였습니다 2박 머물렀는데 청소도 깔끔하게 해주시고 애기가 이불에 살짝 토했는데도 바로 갈아주시고 좋았습니다 대신 창가쪽 커튼 한쪽이 떨어져있어서 조금 거슬렸구요창가에 침실이 있다보니 암막커튼을 치지 않으면 조금 쌀쌀한 느낌은 있었어요 아 그리고 아기때문에 침대에 가드를 부탁드렸는데 가드가 너무 별로였습니다가드 구실을 못하고 넘 허술하게 매트리스 아래 그냥 끼워진거라 아기가 밤새 두번이나 가드사이에 빠졌습니다이점 좀 아쉬워요그 외에는 다이닝룸 리빙룸바까지 모두 이용했는데 서비스 좋았습니다'"
      ]
     },
     "execution_count": 33,
     "metadata": {},
     "output_type": "execute_result"
    }
   ],
   "source": [
    "test2=test2.replace(\"~\", \"\").replace(\"!\", \"\").replace(\".\", \" \").replace(\"  \", \"\")\n",
    "test2"
   ]
  },
  {
   "cell_type": "code",
   "execution_count": null,
   "id": "e2710d4d",
   "metadata": {},
   "outputs": [],
   "source": []
  },
  {
   "cell_type": "code",
   "execution_count": 85,
   "id": "781cdf5b",
   "metadata": {},
   "outputs": [],
   "source": [
    "test3 = \"\"\"112731,239840,서귀포 칼 호텔 (Seogwipo KAL Hotel),family,3박 가족 여행,2020년 11월 19일,8.0,넓디넓은 정원과 산책로 덕분에 코로나 시대 언택트 여행에 좋았구요. 조용하고 한적하게 잘 쉬었어요.\n",
    "아무래도 서귀포가 제주시쪽보단 사람도 적어서 오히려 편하면서, 주변에 식당이나 까페, 편의점 갈때도 걸어서도 다녀올 입지라 좋습니다.\n",
    "실내 수영장은 생각만큼? 작은 규모라 오히려 사람 없이 잘 놀았어요ㅎㅎ \n",
    "라운지바가 넓고 층고도 높아서 커피나 맥주 먹으며 쉬기에 좋고요.\n",
    "매일 주시는 1.5리터 생수ㅎㅎ별거 아닐수 있지만 매우 감사했구요.\n",
    "다만 층수가 낮은 방이어서 그런가 모기가 있었어요^^;; 그외에는 다 깨끗했구요. \n",
    "매트리스가 오래됐는지 묘하게 불편해서 허리가 아프긴 하더라고요;; 다행히? 세미온돌이라 바닥에서 자는게 오히려 나았고요\n",
    "조식은...최근 후기가 다 별로라길래 하루만 가봤는데 역시;;ㅎ 뭐 저렴하기도 하지만.. 저는 나가서 먹었습니다.\"\"\""
   ]
  },
  {
   "cell_type": "code",
   "execution_count": 43,
   "id": "d410cfd1",
   "metadata": {},
   "outputs": [
    {
     "data": {
      "text/plain": [
       "['112731',\n",
       " '239840',\n",
       " '서귀포 칼 호텔 (Seogwipo KAL Hotel)',\n",
       " 'family',\n",
       " '3박 가족 여행',\n",
       " '2020년 11월 19일',\n",
       " '8.0',\n",
       " '넓디넓은 정원과 산책로 덕분에 코로나 시대 언택트 여행에 좋았구요. 조용하고 한적하게 잘 쉬었어요.\\n아무래도 서귀포가 제주시쪽보단 사람도 적어서 오히려 편하면서',\n",
       " ' 주변에 식당이나 까페',\n",
       " ' 편의점 갈때도 걸어서도 다녀올 입지라 좋습니다.\\n실내 수영장은 생각만큼? 작은 규모라 오히려 사람 없이 잘 놀았어요ㅎㅎ \\n라운지바가 넓고 층고도 높아서 커피나 맥주 먹으며 쉬기에 좋고요.\\n매일 주시는 1.5리터 생수ㅎㅎ별거 아닐수 있지만 매우 감사했구요.\\n다만 층수가 낮은 방이어서 그런가 모기가 있었어요^^;; 그외에는 다 깨끗했구요. \\n매트리스가 오래됐는지 묘하게 불편해서 허리가 아프긴 하더라고요;; 다행히? 세미온돌이라 바닥에서 자는게 오히려 나았고요\\n조식은...최근 후기가 다 별로라길래 하루만 가봤는데 역시;;ㅎ 뭐 저렴하기도 하지만.. 저는 나가서 먹었습니다.']"
      ]
     },
     "execution_count": 43,
     "metadata": {},
     "output_type": "execute_result"
    }
   ],
   "source": [
    "test3=test3.split(\",\")\n",
    "test3"
   ]
  },
  {
   "cell_type": "code",
   "execution_count": 44,
   "id": "a7aa6910",
   "metadata": {},
   "outputs": [
    {
     "data": {
      "text/plain": [
       "['넓디넓은 정원과 산책로 덕분에 코로나 시대 언택트 여행에 좋았구요. 조용하고 한적하게 잘 쉬었어요.\\n아무래도 서귀포가 제주시쪽보단 사람도 적어서 오히려 편하면서',\n",
       " ' 주변에 식당이나 까페',\n",
       " ' 편의점 갈때도 걸어서도 다녀올 입지라 좋습니다.\\n실내 수영장은 생각만큼? 작은 규모라 오히려 사람 없이 잘 놀았어요ㅎㅎ \\n라운지바가 넓고 층고도 높아서 커피나 맥주 먹으며 쉬기에 좋고요.\\n매일 주시는 1.5리터 생수ㅎㅎ별거 아닐수 있지만 매우 감사했구요.\\n다만 층수가 낮은 방이어서 그런가 모기가 있었어요^^;; 그외에는 다 깨끗했구요. \\n매트리스가 오래됐는지 묘하게 불편해서 허리가 아프긴 하더라고요;; 다행히? 세미온돌이라 바닥에서 자는게 오히려 나았고요\\n조식은...최근 후기가 다 별로라길래 하루만 가봤는데 역시;;ㅎ 뭐 저렴하기도 하지만.. 저는 나가서 먹었습니다.']"
      ]
     },
     "execution_count": 44,
     "metadata": {},
     "output_type": "execute_result"
    }
   ],
   "source": [
    "test3=test3[7:]\n",
    "test3"
   ]
  },
  {
   "cell_type": "code",
   "execution_count": 45,
   "id": "8dbcd940",
   "metadata": {},
   "outputs": [
    {
     "data": {
      "text/plain": [
       "3"
      ]
     },
     "execution_count": 45,
     "metadata": {},
     "output_type": "execute_result"
    }
   ],
   "source": [
    "len(test3)"
   ]
  },
  {
   "cell_type": "code",
   "execution_count": 47,
   "id": "a78acd98",
   "metadata": {},
   "outputs": [
    {
     "data": {
      "text/plain": [
       "'넓디넓은 정원과 산책로 덕분에 코로나 시대 언택트 여행에 좋았구요. 조용하고 한적하게 잘 쉬었어요.\\n아무래도 서귀포가 제주시쪽보단 사람도 적어서 오히려 편하면서  주변에 식당이나 까페  편의점 갈때도 걸어서도 다녀올 입지라 좋습니다.\\n실내 수영장은 생각만큼? 작은 규모라 오히려 사람 없이 잘 놀았어요ㅎㅎ \\n라운지바가 넓고 층고도 높아서 커피나 맥주 먹으며 쉬기에 좋고요.\\n매일 주시는 1.5리터 생수ㅎㅎ별거 아닐수 있지만 매우 감사했구요.\\n다만 층수가 낮은 방이어서 그런가 모기가 있었어요^^;; 그외에는 다 깨끗했구요. \\n매트리스가 오래됐는지 묘하게 불편해서 허리가 아프긴 하더라고요;; 다행히? 세미온돌이라 바닥에서 자는게 오히려 나았고요\\n조식은...최근 후기가 다 별로라길래 하루만 가봤는데 역시;;ㅎ 뭐 저렴하기도 하지만.. 저는 나가서 먹었습니다.'"
      ]
     },
     "execution_count": 47,
     "metadata": {},
     "output_type": "execute_result"
    }
   ],
   "source": [
    "test3=\" \".join(test3)\n",
    "test3"
   ]
  },
  {
   "cell_type": "code",
   "execution_count": 55,
   "id": "2c37d34c",
   "metadata": {},
   "outputs": [
    {
     "data": {
      "text/plain": [
       "'넓디넓은 정원과 산책로 덕분에 코로나 시대 언택트 여행에 좋았구요 조용하고 한적하게 잘 쉬었어요아무래도 서귀포가 제주시쪽보단 사람도 적어서 오히려 편하면서주변에 식당이나 까페편의점 갈때도 걸어서도 다녀올 입지라 좋습니다실내 수영장은 생각만큼 작은 규모라 오히려 사람 없이 잘 놀았어요 라운지바가 넓고 층고도 높아서 커피나 맥주 먹으며 쉬기에 좋고요매일 주시는 15리터 생수별거 아닐수 있지만 매우 감사했구요다만 층수가 낮은 방이어서 그런가 모기가 있었어요 그외에는 다 깨끗했구요 매트리스가 오래됐는지 묘하게 불편해서 허리가 아프긴 하더라고요 다행히 세미온돌이라 바닥에서 자는게 오히려 나았고요조식은최근 후기가 다 별로라길래 하루만 가봤는데 역시 뭐 저렴하기도 하지만 저는 나가서 먹었습니다'"
      ]
     },
     "execution_count": 55,
     "metadata": {},
     "output_type": "execute_result"
    }
   ],
   "source": [
    "test3=test3.replace(\"\\n\",\"\").replace(\"?\",\"\").replace(\";\",\"\").replace(\"ㅎ\",\"\").replace(\"  \",\"\").replace(\"^\",\"\").replace(\".\",\"\")\n",
    "test3"
   ]
  },
  {
   "cell_type": "code",
   "execution_count": null,
   "id": "ca259808",
   "metadata": {},
   "outputs": [],
   "source": []
  },
  {
   "cell_type": "code",
   "execution_count": 86,
   "id": "958be21a",
   "metadata": {},
   "outputs": [
    {
     "data": {
      "text/plain": [
       "'넓디넓은 정원과 산책로 덕분에 코로나 시대 언택트 여행에 좋았구요. 조용하고 한적하게 잘 쉬었어요.\\n아무래도 서귀포가 제주시쪽보단 사람도 적어서 오히려 편하면서  주변에 식당이나 까페  편의점 갈때도 걸어서도 다녀올 입지라 좋습니다.\\n실내 수영장은 생각만큼? 작은 규모라 오히려 사람 없이 잘 놀았어요ㅎㅎ \\n라운지바가 넓고 층고도 높아서 커피나 맥주 먹으며 쉬기에 좋고요.\\n매일 주시는 1.5리터 생수ㅎㅎ별거 아닐수 있지만 매우 감사했구요.\\n다만 층수가 낮은 방이어서 그런가 모기가 있었어요^^;; 그외에는 다 깨끗했구요. \\n매트리스가 오래됐는지 묘하게 불편해서 허리가 아프긴 하더라고요;; 다행히? 세미온돌이라 바닥에서 자는게 오히려 나았고요\\n조식은...최근 후기가 다 별로라길래 하루만 가봤는데 역시;;ㅎ 뭐 저렴하기도 하지만.. 저는 나가서 먹었습니다.'"
      ]
     },
     "execution_count": 86,
     "metadata": {},
     "output_type": "execute_result"
    }
   ],
   "source": [
    "test3=\" \".join(test3.split(\",\")[7:])\n",
    "test3"
   ]
  },
  {
   "cell_type": "markdown",
   "id": "adb45693",
   "metadata": {},
   "source": [
    "# 정규표현식\n",
    "* 정규표현식: 문자의 패턴을 찾아서 치환하거나 그 패턴에 맞는 것만 추출\n",
    "* importer re\n",
    "* re.sub(r'[^가-힣a-zA-Z0-9]', \" \", 처리할 문자변수)"
   ]
  },
  {
   "cell_type": "code",
   "execution_count": 72,
   "id": "89b96402",
   "metadata": {},
   "outputs": [],
   "source": [
    "import re"
   ]
  },
  {
   "cell_type": "code",
   "execution_count": 74,
   "id": "3fc9dff4",
   "metadata": {},
   "outputs": [],
   "source": [
    "text = \"안녕하세요!~ This is test. 1234 #$%^()\""
   ]
  },
  {
   "cell_type": "code",
   "execution_count": 77,
   "id": "d3eeb2b9",
   "metadata": {},
   "outputs": [
    {
     "data": {
      "text/plain": [
       "'안녕하세요  This is test 1234'"
      ]
     },
     "execution_count": 77,
     "metadata": {},
     "output_type": "execute_result"
    }
   ],
   "source": [
    "re.sub(r'[^가-힣a-zA-Z0-9]', \" \", text).replace(\"  \",\" \").strip()"
   ]
  },
  {
   "cell_type": "code",
   "execution_count": 92,
   "id": "f55808d2",
   "metadata": {},
   "outputs": [
    {
     "data": {
      "text/plain": [
       "'넓디넓은 정원과 산책로 덕분에 코로나 시대 언택트 여행에 좋았구요조용하고 한적하게 잘 쉬었어요아무래도 서귀포가 제주시쪽보단 사람도 적어서 오히려 편하면서주변에 식당이나 까페편의점 갈때도 걸어서도 다녀올 입지라 좋습니다실내 수영장은 생각만큼작은 규모라 오히려 사람 없이 잘 놀았어요라운지바가 넓고 층고도 높아서 커피나 맥주 먹으며 쉬기에 좋고요매일 주시는 1.5리터 생수별거 아닐수 있지만 매우 감사했구요다만 층수가 낮은 방이어서 그런가 모기가 있었어요 그외에는 다 깨끗했구요 매트리스가 오래됐는지 묘하게 불편해서 허리가 아프긴 하더라고요 다행히세미온돌이라 바닥에서 자는게 오히려 나았고요 조식은 최근 후기가 다 별로라길래 하루만 가봤는데 역시뭐 저렴하기도 하지만 저는 나가서 먹었습니다'"
      ]
     },
     "execution_count": 92,
     "metadata": {},
     "output_type": "execute_result"
    }
   ],
   "source": [
    "re.sub(r'[^가-힣a-zA-Z0-9]', \" \", test3).replace(\"  \",\"\").replace(\"1 5리터\",\"1.5리터\").strip()"
   ]
  }
 ],
 "metadata": {
  "kernelspec": {
   "display_name": "Python 3 (ipykernel)",
   "language": "python",
   "name": "python3"
  },
  "language_info": {
   "codemirror_mode": {
    "name": "ipython",
    "version": 3
   },
   "file_extension": ".py",
   "mimetype": "text/x-python",
   "name": "python",
   "nbconvert_exporter": "python",
   "pygments_lexer": "ipython3",
   "version": "3.9.23"
  }
 },
 "nbformat": 4,
 "nbformat_minor": 5
}
