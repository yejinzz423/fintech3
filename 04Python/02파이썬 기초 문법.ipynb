{
 "cells": [
  {
   "cell_type": "markdown",
   "id": "d5095e10",
   "metadata": {},
   "source": [
    "# 파이썬 기초 문법\n",
    "* 파이썬의 주석은 문장 앞에 \\#을 붙여서 만든다. Ctrl+\\/\n",
    "* 파이썬은 들여쓰기를 사용하여 코드를 구분해 작성한다.\n",
    "* 들여쓰기는 4칸이 기본, google colab은 2칸\n",
    "* 변수를 만들 때 스네이크 표기법 사용 ex)user_name\n",
    "* 클래스를 만들 때는 카멜 표기법 사용 ex)UserName, nserName"
   ]
  },
  {
   "cell_type": "markdown",
   "id": "1eeea457",
   "metadata": {},
   "source": [
    "# print문\n",
    "* print() 안에 있는 내용을 출력해 주는 함수\n",
    "* print(출력할 내용1, 내용2, ...)\n",
    "* print(출력할 내용이 숫자인 경우 그대로, 문자인 경우 반드시 \"\",'' 사용)\n",
    "* print(출력할 내용, option) \n",
    "  * sep: 출력할 내용 사이에 오는 구분자, 기본값은 공백 \" \"\n",
    "  * end: 출력이 끝난 후에 출력하는 값, 기본값은 \\\\n(new line 줄바꿈)"
   ]
  },
  {
   "cell_type": "code",
   "execution_count": 2,
   "id": "a53156f5",
   "metadata": {},
   "outputs": [
    {
     "name": "stdout",
     "output_type": "stream",
     "text": [
      "300\n"
     ]
    }
   ],
   "source": [
    "# 숫자를 출력하는 경우\n",
    "print(300)"
   ]
  },
  {
   "cell_type": "code",
   "execution_count": 3,
   "id": "bf5e7b62",
   "metadata": {},
   "outputs": [
    {
     "name": "stdout",
     "output_type": "stream",
     "text": [
      "3.14\n"
     ]
    }
   ],
   "source": [
    "# 실수를 출력하는 경우\n",
    "print(3.14)"
   ]
  },
  {
   "cell_type": "code",
   "execution_count": 4,
   "id": "81490d3a",
   "metadata": {},
   "outputs": [
    {
     "name": "stdout",
     "output_type": "stream",
     "text": [
      "문자 출력\n"
     ]
    }
   ],
   "source": [
    "# 문자를 출력하는 경우\n",
    "print(\"문자 출력\")"
   ]
  },
  {
   "cell_type": "code",
   "execution_count": 6,
   "id": "b201f211",
   "metadata": {},
   "outputs": [
    {
     "name": "stdout",
     "output_type": "stream",
     "text": [
      "문자 출력\n"
     ]
    }
   ],
   "source": [
    "# 문자를 출력하는 경우\n",
    "print('문자 출력')"
   ]
  },
  {
   "cell_type": "code",
   "execution_count": 11,
   "id": "04d66474",
   "metadata": {},
   "outputs": [
    {
     "name": "stdout",
     "output_type": "stream",
     "text": [
      "이것은 \"파이썬\"이다.\n"
     ]
    }
   ],
   "source": [
    "# 따옴표와 문자를 같이 출력하는 경우\n",
    "print('이것은 \"파이썬\"이다.')"
   ]
  },
  {
   "cell_type": "code",
   "execution_count": 12,
   "id": "fe6eeb1a",
   "metadata": {},
   "outputs": [
    {
     "name": "stdout",
     "output_type": "stream",
     "text": [
      "이것은 \"파이썬\" 이다.\n"
     ]
    }
   ],
   "source": [
    "# 따옴표와 문자를 같이 출력하는 경우\n",
    "print(\"이것은 \\\"파이썬\\\" 이다.\")"
   ]
  },
  {
   "cell_type": "code",
   "execution_count": 13,
   "id": "f752d4c4",
   "metadata": {},
   "outputs": [
    {
     "ename": "SyntaxError",
     "evalue": "invalid syntax (2368320565.py, line 2)",
     "output_type": "error",
     "traceback": [
      "\u001b[1;36m  Cell \u001b[1;32mIn[13], line 2\u001b[1;36m\u001b[0m\n\u001b[1;33m    print(\"이것은 \"파이썬\" 이다.\")\u001b[0m\n\u001b[1;37m                ^\u001b[0m\n\u001b[1;31mSyntaxError\u001b[0m\u001b[1;31m:\u001b[0m invalid syntax\n"
     ]
    }
   ],
   "source": [
    "# 따옴표와 문자를 같이 출력하는 경우\n",
    "print(\"이것은 \"파이썬\" 이다.\")"
   ]
  },
  {
   "cell_type": "markdown",
   "id": "e78628db",
   "metadata": {},
   "source": [
    "# print문의 옵션\n",
    "* sep: 구분자, print문 안에 여러개의 자료를 출력할 때 구분해주는 문자\n",
    "  * 기본값: 공백 \" \""
   ]
  },
  {
   "cell_type": "code",
   "execution_count": 14,
   "id": "638d1c42",
   "metadata": {},
   "outputs": [
    {
     "name": "stdout",
     "output_type": "stream",
     "text": [
      "이것은 파이썬 입니다.\n"
     ]
    }
   ],
   "source": [
    "print(\"이것은\",\"파이썬\",\"입니다.\")"
   ]
  },
  {
   "cell_type": "code",
   "execution_count": 15,
   "id": "86aa6a36",
   "metadata": {
    "scrolled": true
   },
   "outputs": [
    {
     "name": "stdout",
     "output_type": "stream",
     "text": [
      "이것은,파이썬,입니다.\n"
     ]
    }
   ],
   "source": [
    "print(\"이것은\",\"파이썬\",\"입니다.\",sep=\",\")"
   ]
  },
  {
   "cell_type": "code",
   "execution_count": 16,
   "id": "14a93bd1",
   "metadata": {
    "scrolled": true
   },
   "outputs": [
    {
     "name": "stdout",
     "output_type": "stream",
     "text": [
      "이것은, 파이썬, 입니다.\n"
     ]
    }
   ],
   "source": [
    "print(\"이것은\",\"파이썬\",\"입니다.\",sep=\", \")"
   ]
  },
  {
   "cell_type": "code",
   "execution_count": 18,
   "id": "1e58831f",
   "metadata": {},
   "outputs": [
    {
     "name": "stdout",
     "output_type": "stream",
     "text": [
      "이것은 vs 파이썬 vs 입니다.\n"
     ]
    }
   ],
   "source": [
    "print(\"이것은\",\"파이썬\",\"입니다.\",sep=\" vs \")"
   ]
  },
  {
   "cell_type": "code",
   "execution_count": 1,
   "id": "db183f77",
   "metadata": {},
   "outputs": [
    {
     "name": "stdout",
     "output_type": "stream",
     "text": [
      "010-2222-3333\n"
     ]
    }
   ],
   "source": [
    "print(\"010\",\"2222\",\"3333\" ,sep=\"-\")"
   ]
  },
  {
   "cell_type": "markdown",
   "id": "24aa171a",
   "metadata": {},
   "source": [
    "* end 옵션: print가 끝나고 실행될 옵션\n",
    "    * 기본값: \\\\n줄바꿈 new line\n",
    "* 이스케이프 문자\n",
    "    * \\\\n: new line 줄바꿈\n",
    "    * \\\\t: tap 탭키 8칸 듸움\n",
    "    * \\\\r: carrige return 커서를 현재 라인의 가장 앞으로 이동"
   ]
  },
  {
   "cell_type": "code",
   "execution_count": 25,
   "id": "1b630943",
   "metadata": {
    "scrolled": true
   },
   "outputs": [
    {
     "name": "stdout",
     "output_type": "stream",
     "text": [
      "헐크 아이언맨 스파이던맨\n",
      "\n",
      "헐크 아이언맨 스파이던맨\n"
     ]
    }
   ],
   "source": [
    "# end 값의 기본 \\\\n \n",
    "print(\"헐크\",\"아이언맨\", \"스파이던맨\", end=\"\\n\\n\")\n",
    "print(\"헐크\",\"아이언맨\", \"스파이던맨\")"
   ]
  },
  {
   "cell_type": "code",
   "execution_count": 28,
   "id": "c93c9dc8",
   "metadata": {
    "scrolled": true
   },
   "outputs": [
    {
     "name": "stdout",
     "output_type": "stream",
     "text": [
      "헐크 아이언맨 스파이던맨, 헐크 아이언맨 스파이던맨\n",
      "헐크 아이언맨 스파이던맨\n"
     ]
    }
   ],
   "source": [
    "# end 값의 기본 \\\\n \n",
    "print(\"헐크\",\"아이언맨\", \"스파이던맨\", end=\", \")\n",
    "print(\"헐크\",\"아이언맨\", \"스파이던맨\")\n",
    "print(\"헐크\",\"아이언맨\", \"스파이던맨\")"
   ]
  },
  {
   "cell_type": "code",
   "execution_count": 29,
   "id": "37e4c8c2",
   "metadata": {
    "scrolled": true
   },
   "outputs": [
    {
     "name": "stdout",
     "output_type": "stream",
     "text": [
      "헐크 아이언맨 스파이던맨\t헐크 아이언맨 스파이던맨\n",
      "헐크 아이언맨 스파이던맨\n"
     ]
    }
   ],
   "source": [
    "# end 값의 기본 \\\\t tap키\n",
    "print(\"헐크\",\"아이언맨\", \"스파이던맨\", end=\"\\t\")\n",
    "print(\"헐크\",\"아이언맨\", \"스파이던맨\")\n",
    "print(\"헐크\",\"아이언맨\", \"스파이던맨\")"
   ]
  },
  {
   "cell_type": "code",
   "execution_count": 31,
   "id": "70dd505d",
   "metadata": {
    "scrolled": true
   },
   "outputs": [
    {
     "name": "stdout",
     "output_type": "stream",
     "text": [
      "헐크 아이언맨 스파이던맨\r",
      "캐리지리턴 됨\n"
     ]
    }
   ],
   "source": [
    "# end 값의 기본 \\\\r caring return 커서를 맨 앞으로 이동\n",
    "print(\"헐크\",\"아이언맨\", \"스파이던맨\", end=\"\\r\")\n",
    "print(\"캐리지리턴 됨\")"
   ]
  },
  {
   "cell_type": "code",
   "execution_count": 6,
   "id": "a7b4dbca",
   "metadata": {},
   "outputs": [
    {
     "name": "stdout",
     "output_type": "stream",
     "text": [
      "0 1 2 3 4 5 6 7 8 9 "
     ]
    }
   ],
   "source": [
    "for i in range(10):\n",
    "    print(i, end=\" \")"
   ]
  },
  {
   "cell_type": "code",
   "execution_count": 5,
   "id": "79010c0f",
   "metadata": {
    "scrolled": true
   },
   "outputs": [
    {
     "name": "stdout",
     "output_type": "stream",
     "text": [
      "99\r"
     ]
    }
   ],
   "source": [
    "import time\n",
    "for i in range(100):\n",
    "    print(i, end=\"\\r\")\n",
    "    time.sleep(0.3)"
   ]
  }
 ],
 "metadata": {
  "kernelspec": {
   "display_name": "Python 3 (ipykernel)",
   "language": "python",
   "name": "python3"
  },
  "language_info": {
   "codemirror_mode": {
    "name": "ipython",
    "version": 3
   },
   "file_extension": ".py",
   "mimetype": "text/x-python",
   "name": "python",
   "nbconvert_exporter": "python",
   "pygments_lexer": "ipython3",
   "version": "3.9.23"
  }
 },
 "nbformat": 4,
 "nbformat_minor": 5
}
