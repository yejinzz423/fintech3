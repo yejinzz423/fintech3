{
 "cells": [
  {
   "cell_type": "markdown",
   "id": "52903736",
   "metadata": {},
   "source": [
    "# 함수 만들기\n",
    "* print(), split(), input() => 함수\n",
    "* 함수의 괄호 안에 값을 넣으면 출력, 입력, 변형 작업을 해줌\n",
    "* function => 기능 => 만들어 놓은 도구\n",
    "* 자주 사용하는 기능을 미리 만들어서  **반복 재사용**을 할 수 있게 만든 것"
   ]
  },
  {
   "cell_type": "code",
   "execution_count": 3,
   "id": "103508ac",
   "metadata": {},
   "outputs": [
    {
     "data": {
      "text/plain": [
       "[10, 20, 30, 40]"
      ]
     },
     "execution_count": 3,
     "metadata": {},
     "output_type": "execute_result"
    }
   ],
   "source": [
    "# 리스트의 자료에 10을 곱해서 다시 리스트로 출력하세요.\n",
    "# result = [10, 20, 30, 40]\n",
    "l = [1, 2, 3, 4]\n",
    "result = []\n",
    "for i in l:\n",
    "    result.append(i*10)\n",
    "result"
   ]
  },
  {
   "cell_type": "code",
   "execution_count": 4,
   "id": "7de126f1",
   "metadata": {},
   "outputs": [],
   "source": [
    "# 자료를 넣으면 10을 곱해서 출력하는 함수\n",
    "def mul10(num):\n",
    "    result_in_func = []\n",
    "    for i in num:\n",
    "        result_in_func.append(i*10)\n",
    "    print(result_in_func)\n",
    "    return(result_in_func)"
   ]
  },
  {
   "cell_type": "code",
   "execution_count": 5,
   "id": "cdffac75",
   "metadata": {},
   "outputs": [
    {
     "name": "stdout",
     "output_type": "stream",
     "text": [
      "[10, 20, 30, 40]\n"
     ]
    },
    {
     "data": {
      "text/plain": [
       "[10, 20, 30, 40]"
      ]
     },
     "execution_count": 5,
     "metadata": {},
     "output_type": "execute_result"
    }
   ],
   "source": [
    "mul10(l)"
   ]
  },
  {
   "cell_type": "markdown",
   "id": "fd59ec6b",
   "metadata": {},
   "source": [
    "# 함수 만드는 법\n",
    "def 함수이름(변수1, 2, ...):<br>\n",
    "____실행코드<br>\n",
    "____return 반환할 값(결과)"
   ]
  },
  {
   "cell_type": "code",
   "execution_count": 7,
   "id": "29c02d35",
   "metadata": {},
   "outputs": [],
   "source": [
    "def hello():\n",
    "    print(\"Hello pythin 함수 만들기\")"
   ]
  },
  {
   "cell_type": "code",
   "execution_count": 8,
   "id": "64da40f2",
   "metadata": {},
   "outputs": [
    {
     "name": "stdout",
     "output_type": "stream",
     "text": [
      "Hello pythin 함수 만들기\n"
     ]
    }
   ],
   "source": [
    "hello()"
   ]
  },
  {
   "cell_type": "markdown",
   "id": "bd80fd48",
   "metadata": {},
   "source": [
    "# 함수 호출 순서\n",
    "* 함수는 호출하기 전에 반드시 먼저 정의되어야하고(만들기)\n",
    "* 함수 정의가 함수 실행보다 위에 있어야한다."
   ]
  },
  {
   "cell_type": "code",
   "execution_count": 10,
   "id": "60518ffb",
   "metadata": {},
   "outputs": [
    {
     "name": "stdout",
     "output_type": "stream",
     "text": [
      "Hello2 pythin 함수 만들기\n"
     ]
    }
   ],
   "source": [
    "hello2()"
   ]
  },
  {
   "cell_type": "code",
   "execution_count": 9,
   "id": "88f5671b",
   "metadata": {},
   "outputs": [],
   "source": [
    "def hello2():\n",
    "    print(\"Hello2 pythin 함수 만들기\")"
   ]
  },
  {
   "cell_type": "markdown",
   "id": "6dfe7115",
   "metadata": {},
   "source": [
    "# 함수의 매개변수\n",
    "* 함수 () 안에 받는 값을 저장하는 함수\n",
    "* ()안에 값을 받아서 **함수 내에서 처리할때 사용**\n",
    "* 함수에서 사용하는 매개변수는 함수 외부에서 사용 불가"
   ]
  },
  {
   "cell_type": "code",
   "execution_count": 11,
   "id": "3f434865",
   "metadata": {},
   "outputs": [],
   "source": [
    "# 매개변수 1개짜리 함수\n",
    "# 원의 넓이를 구하는 함수 - 반지름 * 반지름 * 3.14\n",
    "def circle(c):\n",
    "    print(f\"반지름의 길이가 {c}인 원의 넓이는: {c*c*3.14}\")"
   ]
  },
  {
   "cell_type": "code",
   "execution_count": 12,
   "id": "ccbe4deb",
   "metadata": {},
   "outputs": [
    {
     "name": "stdout",
     "output_type": "stream",
     "text": [
      "반지름의 길이가 3인 원의 넓이는: 28.26\n"
     ]
    }
   ],
   "source": [
    "circle(3)"
   ]
  },
  {
   "cell_type": "markdown",
   "id": "47651bd0",
   "metadata": {},
   "source": [
    "* 매개변수 2개짜리 함수\n",
    "* 2개 자료를 가지고 사칙연산 하는 함수"
   ]
  },
  {
   "cell_type": "code",
   "execution_count": 191,
   "id": "3d4d897f",
   "metadata": {},
   "outputs": [],
   "source": [
    "def add(a, b):\n",
    "    return a + b"
   ]
  },
  {
   "cell_type": "code",
   "execution_count": 192,
   "id": "aba3fe0a",
   "metadata": {},
   "outputs": [
    {
     "data": {
      "text/plain": [
       "8"
      ]
     },
     "execution_count": 192,
     "metadata": {},
     "output_type": "execute_result"
    }
   ],
   "source": [
    "add(3,5)"
   ]
  },
  {
   "cell_type": "code",
   "execution_count": 193,
   "id": "63bf546d",
   "metadata": {},
   "outputs": [
    {
     "ename": "TypeError",
     "evalue": "add() missing 1 required positional argument: 'b'",
     "output_type": "error",
     "traceback": [
      "\u001b[1;31m---------------------------------------------------------------------------\u001b[0m",
      "\u001b[1;31mTypeError\u001b[0m                                 Traceback (most recent call last)",
      "Cell \u001b[1;32mIn[193], line 3\u001b[0m\n\u001b[0;32m      1\u001b[0m \u001b[38;5;66;03m# 매개변수가 2개인데 자료를 1개만 넣으면? TypeError\u001b[39;00m\n\u001b[0;32m      2\u001b[0m \u001b[38;5;66;03m# 매개변수와 입력자료 갯수는 동일해야 한다.\u001b[39;00m\n\u001b[1;32m----> 3\u001b[0m \u001b[43madd\u001b[49m\u001b[43m(\u001b[49m\u001b[38;5;241;43m3\u001b[39;49m\u001b[43m)\u001b[49m\n",
      "\u001b[1;31mTypeError\u001b[0m: add() missing 1 required positional argument: 'b'"
     ]
    }
   ],
   "source": [
    "# 매개변수가 2개인데 자료를 1개만 넣으면? TypeError\n",
    "# 매개변수와 입력자료 갯수는 동일해야 한다.\n",
    "add(3)"
   ]
  },
  {
   "cell_type": "markdown",
   "id": "126beb8f",
   "metadata": {},
   "source": [
    "# 함수값 반환 return\n",
    "* 함수에 return이 없으면 함수가 실행된 후 반한되는 값은 none\n",
    "* 함수 실행시 print가 되는 내용은 단지 화면상에 출력했을 뿐이다."
   ]
  },
  {
   "cell_type": "code",
   "execution_count": 19,
   "id": "f8565e56",
   "metadata": {},
   "outputs": [],
   "source": [
    "def add_noreturn(a, b, c):\n",
    "    print(a + b + c)"
   ]
  },
  {
   "cell_type": "code",
   "execution_count": 20,
   "id": "a95cdfbc",
   "metadata": {},
   "outputs": [],
   "source": [
    "def add_return(a, b, c):\n",
    "    return a + b + c"
   ]
  },
  {
   "cell_type": "code",
   "execution_count": 21,
   "id": "33d4f034",
   "metadata": {},
   "outputs": [
    {
     "name": "stdout",
     "output_type": "stream",
     "text": [
      "60\n"
     ]
    }
   ],
   "source": [
    "add_noreturn(10,20,30)"
   ]
  },
  {
   "cell_type": "code",
   "execution_count": 22,
   "id": "d0fbfe54",
   "metadata": {},
   "outputs": [
    {
     "data": {
      "text/plain": [
       "60"
      ]
     },
     "execution_count": 22,
     "metadata": {},
     "output_type": "execute_result"
    }
   ],
   "source": [
    "add_return(10,20,30)"
   ]
  },
  {
   "cell_type": "code",
   "execution_count": 23,
   "id": "85ddceb8",
   "metadata": {},
   "outputs": [
    {
     "name": "stdout",
     "output_type": "stream",
     "text": [
      "60\n",
      "None\n"
     ]
    }
   ],
   "source": [
    "result1 = add_noreturn(10,20,30)\n",
    "print(result1)"
   ]
  },
  {
   "cell_type": "code",
   "execution_count": 24,
   "id": "4fb47d9a",
   "metadata": {},
   "outputs": [
    {
     "name": "stdout",
     "output_type": "stream",
     "text": [
      "60\n"
     ]
    }
   ],
   "source": [
    "result2 = add_return(10,20,30)\n",
    "print(result2)"
   ]
  },
  {
   "cell_type": "markdown",
   "id": "c66f25da",
   "metadata": {},
   "source": [
    "# 리턴 값이 여러개인 함수"
   ]
  },
  {
   "cell_type": "code",
   "execution_count": 25,
   "id": "ea126483",
   "metadata": {},
   "outputs": [],
   "source": [
    "def add_sub(a,b):\n",
    "    add = a + b\n",
    "    sub = a - b\n",
    "    return add, sub"
   ]
  },
  {
   "cell_type": "code",
   "execution_count": 26,
   "id": "590977b6",
   "metadata": {},
   "outputs": [
    {
     "data": {
      "text/plain": [
       "(30, -10)"
      ]
     },
     "execution_count": 26,
     "metadata": {},
     "output_type": "execute_result"
    }
   ],
   "source": [
    "result3 = add_sub(10,20)"
   ]
  },
  {
   "cell_type": "code",
   "execution_count": 28,
   "id": "b29db460",
   "metadata": {},
   "outputs": [
    {
     "name": "stdout",
     "output_type": "stream",
     "text": [
      "30 -10 <class 'int'> <class 'int'>\n"
     ]
    }
   ],
   "source": [
    "result3_a, result3_b = add_sub(10,20)\n",
    "print(result3_a, result3_b, type(result3_a), type(result3_b))"
   ]
  },
  {
   "cell_type": "markdown",
   "id": "615a6cec",
   "metadata": {},
   "source": [
    "* num_maker - 정방향, 역방향 리스트가 출력되는 함수\n",
    "* 3개의 숫자를 입력받아서 숫자 리스트를 만들고 오름차순 정렬 반환\n",
    "* 만들어진 리스트에 +3 을 할 결과를 리스트로 만들고 내림차순 정렬 반환\n",
    "* range(a, b, c)\n",
    "* return list_result, reversed_ist"
   ]
  },
  {
   "cell_type": "code",
   "execution_count": 196,
   "id": "c75f6be7",
   "metadata": {},
   "outputs": [],
   "source": [
    "def num_maker(start, end, step):\n",
    "    list_result = list(range(start, end+1, step))\n",
    "    reversed_result = []\n",
    "    for i in list_result:\n",
    "        reversed_result.append(i+3)\n",
    "    return list_result, reversed_result[::-1]\n"
   ]
  },
  {
   "cell_type": "code",
   "execution_count": 197,
   "id": "e8c40570",
   "metadata": {
    "scrolled": true
   },
   "outputs": [
    {
     "data": {
      "text/plain": [
       "([1, 2, 3, 4, 5, 6, 7, 8, 9, 10], [13, 12, 11, 10, 9, 8, 7, 6, 5, 4])"
      ]
     },
     "execution_count": 197,
     "metadata": {},
     "output_type": "execute_result"
    }
   ],
   "source": [
    "num_maker(1, 10, 1)"
   ]
  },
  {
   "cell_type": "code",
   "execution_count": 198,
   "id": "7520cbc5",
   "metadata": {},
   "outputs": [],
   "source": [
    "def num_maker(start, end, step):\n",
    "    list_result = list(range(start, end+1, step))\n",
    "    reversed_result = [i+3 for i in list_result]\n",
    "    return list_result, reversed_result[::-1]"
   ]
  },
  {
   "cell_type": "code",
   "execution_count": 199,
   "id": "1d03dd59",
   "metadata": {},
   "outputs": [
    {
     "data": {
      "text/plain": [
       "([1, 2, 3, 4, 5, 6, 7, 8, 9, 10], [13, 12, 11, 10, 9, 8, 7, 6, 5, 4])"
      ]
     },
     "execution_count": 199,
     "metadata": {},
     "output_type": "execute_result"
    }
   ],
   "source": [
    "num_maker(1, 10, 1)"
   ]
  },
  {
   "cell_type": "markdown",
   "id": "4d51cf28",
   "metadata": {},
   "source": [
    "# 중간에 함수를 종료시키기 위한 용도의 return\n",
    "* return 을 반복문의 break처럼 활용 가능\n",
    "* 함수 내에서 return이 실행되게 되면 함수는 종료"
   ]
  },
  {
   "cell_type": "markdown",
   "id": "9c9cbd32",
   "metadata": {},
   "source": [
    "* 1-100까지 숫자 중에서 짝수만 더해서 출력하시오.\n",
    "* 단, 숫자가 50 이상이 되면 멈추고 결과를 리턴하세요.\n",
    "* 중간에 더해지는 과정도 출력하세요.\n",
    "* even() 를 작성하세요."
   ]
  },
  {
   "cell_type": "code",
   "execution_count": 33,
   "id": "121b63c6",
   "metadata": {},
   "outputs": [],
   "source": [
    "num = list(range(1,101))"
   ]
  },
  {
   "cell_type": "code",
   "execution_count": 200,
   "id": "255b4c71",
   "metadata": {},
   "outputs": [
    {
     "name": "stdout",
     "output_type": "stream",
     "text": [
      "2 6 12 20 30 42 56 72 90 110 132 156 182 210 240 272 306 342 380 420 462 506 552 600 600\n"
     ]
    }
   ],
   "source": [
    "hap = 0\n",
    "for i in num:\n",
    "    if i >= 50:\n",
    "        break\n",
    "    else:\n",
    "        if i % 2 == 0:\n",
    "            hap += i\n",
    "            print(hap, end=\" \")\n",
    "print(hap)"
   ]
  },
  {
   "cell_type": "code",
   "execution_count": 201,
   "id": "916d80ce",
   "metadata": {},
   "outputs": [],
   "source": [
    "def even(num):\n",
    "    hap = 0\n",
    "    for i in num:\n",
    "        if i >= 50:\n",
    "            break\n",
    "        else:\n",
    "            if i % 2 == 0:\n",
    "                hap += i\n",
    "                print(hap, end=\" \")\n",
    "    return hap"
   ]
  },
  {
   "cell_type": "code",
   "execution_count": 202,
   "id": "1c7c0dd5",
   "metadata": {
    "scrolled": true
   },
   "outputs": [
    {
     "name": "stdout",
     "output_type": "stream",
     "text": [
      "2 6 12 20 30 42 56 72 90 110 132 156 182 210 240 272 306 342 380 420 462 506 552 600 600\n"
     ]
    }
   ],
   "source": [
    "result = even(num)\n",
    "print(result)"
   ]
  },
  {
   "cell_type": "code",
   "execution_count": 203,
   "id": "ace78764",
   "metadata": {},
   "outputs": [],
   "source": [
    "def even2(num):\n",
    "    hap = 0\n",
    "    for i in num:\n",
    "        if i >= 50:\n",
    "            return hap\n",
    "            print(\"50 초과\")\n",
    "        else:\n",
    "            if i % 2 == 0:\n",
    "                hap += i \n",
    "                print(hap, end=\" \")\n",
    "    "
   ]
  },
  {
   "cell_type": "code",
   "execution_count": 204,
   "id": "c2caf337",
   "metadata": {},
   "outputs": [
    {
     "name": "stdout",
     "output_type": "stream",
     "text": [
      "2 6 12 20 30 42 56 72 90 110 132 156 182 210 240 272 306 342 380 420 462 506 552 600 "
     ]
    },
    {
     "data": {
      "text/plain": [
       "600"
      ]
     },
     "execution_count": 204,
     "metadata": {},
     "output_type": "execute_result"
    }
   ],
   "source": [
    "even2(num)"
   ]
  },
  {
   "cell_type": "markdown",
   "id": "21758843",
   "metadata": {},
   "source": [
    "* 점수 입력받아서 A학점 - F학점 출력"
   ]
  },
  {
   "cell_type": "code",
   "execution_count": 46,
   "id": "56b0f848",
   "metadata": {},
   "outputs": [],
   "source": [
    "def student_grade(score):\n",
    "    result = \" \"\n",
    "    if 91 <= score <= 100:\n",
    "        return \"A학점\"\n",
    "    elif 81 <= score <= 90:\n",
    "        return \"B학점\"\n",
    "    elif 71 <= score <= 80:\n",
    "        return \"C학점\"\n",
    "    elif 61 <= score <= 70:\n",
    "        return \"D학점\"\n",
    "    elif score <= 70:\n",
    "        return \"F학점\"\n",
    "    return result"
   ]
  },
  {
   "cell_type": "code",
   "execution_count": 47,
   "id": "359d03c9",
   "metadata": {},
   "outputs": [
    {
     "name": "stdout",
     "output_type": "stream",
     "text": [
      "점수를 입력했주세요17\n"
     ]
    },
    {
     "data": {
      "text/plain": [
       "'F학점'"
      ]
     },
     "execution_count": 47,
     "metadata": {},
     "output_type": "execute_result"
    }
   ],
   "source": [
    "score = int(input(\"점수를 입력했주세요\"))\n",
    "student_grade(score)"
   ]
  },
  {
   "cell_type": "markdown",
   "id": "30b0b4ed",
   "metadata": {},
   "source": [
    "# 인수: 함수에 집어넣는 자료\n",
    "## 1) 위치인수(positional argument)\n",
    "* 위치가 고정된 인수\n",
    "* 순서가 바뀌거나 갯수가 달라지면 오류, 엉뚱한 값 나옴\n",
    "\n",
    "## 2) 가변위치인수(args, Variable-length Arguments)\n",
    "* 여러 개의 자료를 넣을 수 있는 인수, 제한 없음\n",
    "* print(자료1, 자료2, 자료3)\n",
    "\n",
    "## 3) 키워드인수(keyword arguments)\n",
    "* 매개변수에 이름을 명시해서 인수를 넣어주는 것\n",
    "* sep=\" \", end=\" \"\n",
    "* 위치가 변경되어도 상관 없음\n",
    "\n",
    "## 4) 가변키워드인수(kwargs, Variable-length keyword arguments)\n",
    "* 키워드인수를 숫자 제한 없이 넣는 경우 사용\n",
    "* 함수의 매개변수 넣는 곳에서 가장 마지막에 위치해야 함"
   ]
  },
  {
   "cell_type": "code",
   "execution_count": 48,
   "id": "68f3645c",
   "metadata": {},
   "outputs": [
    {
     "name": "stdout",
     "output_type": "stream",
     "text": [
      "1, 2, 3 1 2 3 "
     ]
    }
   ],
   "source": [
    "print(1,2,3, end=\" \", sep=\", \")\n",
    "print(1,2,3, end=\" \")"
   ]
  },
  {
   "cell_type": "markdown",
   "id": "6991eef4",
   "metadata": {},
   "source": [
    "# 위치인수(positional argument)\n",
    "* 넣는 순서와 갯수를 일치시켜야만 함"
   ]
  },
  {
   "cell_type": "code",
   "execution_count": 49,
   "id": "aa5d8eb5",
   "metadata": {},
   "outputs": [],
   "source": [
    "def print_nums(a, b, c):\n",
    "    print(a, b, c)"
   ]
  },
  {
   "cell_type": "code",
   "execution_count": 51,
   "id": "d8898f9e",
   "metadata": {},
   "outputs": [
    {
     "ename": "TypeError",
     "evalue": "print_nums() missing 1 required positional argument: 'c'",
     "output_type": "error",
     "traceback": [
      "\u001b[1;31m---------------------------------------------------------------------------\u001b[0m",
      "\u001b[1;31mTypeError\u001b[0m                                 Traceback (most recent call last)",
      "Cell \u001b[1;32mIn[51], line 1\u001b[0m\n\u001b[1;32m----> 1\u001b[0m \u001b[43mprint_nums\u001b[49m\u001b[43m(\u001b[49m\u001b[38;5;241;43m1\u001b[39;49m\u001b[43m,\u001b[49m\u001b[38;5;241;43m5\u001b[39;49m\u001b[43m)\u001b[49m\n\u001b[0;32m      2\u001b[0m print_nums(\u001b[38;5;241m1\u001b[39m,\u001b[38;5;241m5\u001b[39m,\u001b[38;5;241m6\u001b[39m,\u001b[38;5;241m7\u001b[39m)\n",
      "\u001b[1;31mTypeError\u001b[0m: print_nums() missing 1 required positional argument: 'c'"
     ]
    }
   ],
   "source": [
    "# 갯수 불일치 오류\n",
    "print_nums(1,5)\n",
    "print_nums(1,5,6,7)"
   ]
  },
  {
   "cell_type": "code",
   "execution_count": 55,
   "id": "470ccc02",
   "metadata": {},
   "outputs": [
    {
     "ename": "TypeError",
     "evalue": "print_nums() missing 2 required positional arguments: 'b' and 'c'",
     "output_type": "error",
     "traceback": [
      "\u001b[1;31m---------------------------------------------------------------------------\u001b[0m",
      "\u001b[1;31mTypeError\u001b[0m                                 Traceback (most recent call last)",
      "Cell \u001b[1;32mIn[55], line 2\u001b[0m\n\u001b[0;32m      1\u001b[0m l1 \u001b[38;5;241m=\u001b[39m [\u001b[38;5;241m1\u001b[39m, \u001b[38;5;241m2\u001b[39m, \u001b[38;5;241m3\u001b[39m]\n\u001b[1;32m----> 2\u001b[0m \u001b[43mprint_nums\u001b[49m\u001b[43m(\u001b[49m\u001b[43ml1\u001b[49m\u001b[43m)\u001b[49m\n",
      "\u001b[1;31mTypeError\u001b[0m: print_nums() missing 2 required positional arguments: 'b' and 'c'"
     ]
    }
   ],
   "source": [
    "l1 = [1, 2, 3]\n",
    "print_nums(l1)"
   ]
  },
  {
   "cell_type": "markdown",
   "id": "68a48f7a",
   "metadata": {},
   "source": [
    "# 함수 안에서 리스트를 반복문 없이 풀기 *list, *tuple"
   ]
  },
  {
   "cell_type": "code",
   "execution_count": 56,
   "id": "b2571eb7",
   "metadata": {},
   "outputs": [
    {
     "name": "stdout",
     "output_type": "stream",
     "text": [
      "1 2 3\n"
     ]
    }
   ],
   "source": [
    "print_nums(*l1)"
   ]
  },
  {
   "cell_type": "markdown",
   "id": "f28a5b93",
   "metadata": {},
   "source": [
    "# 가변위치인수(args, Variable-length Arguments)\n",
    "* 자료의 갯수를 제한 없이 넣을 수 있는 인수\n",
    "* 함수안의 매개변수 자리에 *args 라고 만들어 줌\n",
    "* args는 관용적 표현, 변수명은 아무거나 주고 앞에 \\*만 붙이면 됨\n",
    "* 자료를 튜플로 변환해서 받는다."
   ]
  },
  {
   "cell_type": "code",
   "execution_count": 59,
   "id": "cc5727cc",
   "metadata": {},
   "outputs": [],
   "source": [
    "def print_nums2(*nums):\n",
    "    print(nums)\n",
    "    return nums"
   ]
  },
  {
   "cell_type": "code",
   "execution_count": 205,
   "id": "d8cdc5f1",
   "metadata": {},
   "outputs": [
    {
     "name": "stdout",
     "output_type": "stream",
     "text": [
      "(1, 2, 3, 4, 5, 6, 7, 8, 9, 10)\n",
      "(1, 2, 3, 4, 5, 6, 7, 8, 9, 10) <class 'tuple'>\n"
     ]
    }
   ],
   "source": [
    "result = print_nums2(1,2,3,4,5,6,7,8,9, 10)\n",
    "print(result, type(result))"
   ]
  },
  {
   "cell_type": "markdown",
   "id": "940ed976",
   "metadata": {},
   "source": [
    "* 여러개의 숫자를 입력하면 총합을 구해주는 함수"
   ]
  },
  {
   "cell_type": "code",
   "execution_count": 61,
   "id": "20830a8b",
   "metadata": {},
   "outputs": [],
   "source": [
    "def my_sum(*args):\n",
    "    hap = 0\n",
    "    for i in args:\n",
    "        hap += i\n",
    "    return hap"
   ]
  },
  {
   "cell_type": "code",
   "execution_count": 62,
   "id": "70fc5ced",
   "metadata": {},
   "outputs": [
    {
     "data": {
      "text/plain": [
       "55"
      ]
     },
     "execution_count": 62,
     "metadata": {},
     "output_type": "execute_result"
    }
   ],
   "source": [
    "my_sum(1,2,3,4,5,6,7,8,9,10)"
   ]
  },
  {
   "cell_type": "code",
   "execution_count": 63,
   "id": "080d1202",
   "metadata": {},
   "outputs": [
    {
     "data": {
      "text/plain": [
       "5050"
      ]
     },
     "execution_count": 63,
     "metadata": {},
     "output_type": "execute_result"
    }
   ],
   "source": [
    "h = list(range(1,101))\n",
    "my_sum(*h)"
   ]
  },
  {
   "cell_type": "code",
   "execution_count": 64,
   "id": "c7153320",
   "metadata": {},
   "outputs": [],
   "source": [
    "def my_sum(*args):\n",
    "    return sum(args)"
   ]
  },
  {
   "cell_type": "code",
   "execution_count": 65,
   "id": "8d7ce844",
   "metadata": {},
   "outputs": [
    {
     "data": {
      "text/plain": [
       "5050"
      ]
     },
     "execution_count": 65,
     "metadata": {},
     "output_type": "execute_result"
    }
   ],
   "source": [
    "my_sum(*h)"
   ]
  },
  {
   "cell_type": "markdown",
   "id": "1c64a9a8",
   "metadata": {},
   "source": [
    "# 위치인수와 가변위치인수 동시에 받기\n",
    "* 위치인수와 가변인수를 동시에 받을 때는 반드시 **위치인수**가 먼저 와야 한다.\n",
    "* def add(a, *args): OK\n",
    "* def add(*args, a): NO <br>\n",
    "-> args가 튜플이라 모든 자료 다 받아감"
   ]
  },
  {
   "cell_type": "code",
   "execution_count": 66,
   "id": "17796d45",
   "metadata": {},
   "outputs": [],
   "source": [
    "# 정수 1개와 리스트를 입력받아 리스트의 요소에 정수를 곱하는 함수\n",
    "def muls(*args, a):\n",
    "    print(args, a)\n",
    "    result = []\n",
    "    for num in args:\n",
    "        result.append(arge*a)\n",
    "    print(result)"
   ]
  },
  {
   "cell_type": "code",
   "execution_count": 68,
   "id": "28eb5170",
   "metadata": {},
   "outputs": [
    {
     "ename": "TypeError",
     "evalue": "muls() missing 1 required keyword-only argument: 'a'",
     "output_type": "error",
     "traceback": [
      "\u001b[1;31m---------------------------------------------------------------------------\u001b[0m",
      "\u001b[1;31mTypeError\u001b[0m                                 Traceback (most recent call last)",
      "Cell \u001b[1;32mIn[68], line 1\u001b[0m\n\u001b[1;32m----> 1\u001b[0m \u001b[43mmuls\u001b[49m\u001b[43m(\u001b[49m\u001b[38;5;241;43m*\u001b[39;49m\u001b[43mh\u001b[49m\u001b[43m,\u001b[49m\u001b[43m \u001b[49m\u001b[38;5;241;43m2\u001b[39;49m\u001b[43m)\u001b[49m\n",
      "\u001b[1;31mTypeError\u001b[0m: muls() missing 1 required keyword-only argument: 'a'"
     ]
    }
   ],
   "source": [
    "muls(*h, 2)"
   ]
  },
  {
   "cell_type": "code",
   "execution_count": 77,
   "id": "6ddb862d",
   "metadata": {},
   "outputs": [],
   "source": [
    "# 정수 1개와 리스트를 입력받아 리스트의 요소에 정수를 곱하는 함수\n",
    "def muls(a, *args):\n",
    "    print(a, args)\n",
    "    result = []\n",
    "    for num in args:\n",
    "        result.append(num*a)\n",
    "    print(result)"
   ]
  },
  {
   "cell_type": "code",
   "execution_count": 78,
   "id": "12c1c603",
   "metadata": {},
   "outputs": [
    {
     "name": "stdout",
     "output_type": "stream",
     "text": [
      "2 (1, 2, 3, 4, 5, 6, 7, 8, 9, 10, 11, 12, 13, 14, 15, 16, 17, 18, 19, 20, 21, 22, 23, 24, 25, 26, 27, 28, 29, 30, 31, 32, 33, 34, 35, 36, 37, 38, 39, 40, 41, 42, 43, 44, 45, 46, 47, 48, 49, 50, 51, 52, 53, 54, 55, 56, 57, 58, 59, 60, 61, 62, 63, 64, 65, 66, 67, 68, 69, 70, 71, 72, 73, 74, 75, 76, 77, 78, 79, 80, 81, 82, 83, 84, 85, 86, 87, 88, 89, 90, 91, 92, 93, 94, 95, 96, 97, 98, 99, 100)\n",
      "[2, 4, 6, 8, 10, 12, 14, 16, 18, 20, 22, 24, 26, 28, 30, 32, 34, 36, 38, 40, 42, 44, 46, 48, 50, 52, 54, 56, 58, 60, 62, 64, 66, 68, 70, 72, 74, 76, 78, 80, 82, 84, 86, 88, 90, 92, 94, 96, 98, 100, 102, 104, 106, 108, 110, 112, 114, 116, 118, 120, 122, 124, 126, 128, 130, 132, 134, 136, 138, 140, 142, 144, 146, 148, 150, 152, 154, 156, 158, 160, 162, 164, 166, 168, 170, 172, 174, 176, 178, 180, 182, 184, 186, 188, 190, 192, 194, 196, 198, 200]\n"
     ]
    }
   ],
   "source": [
    "muls(2, *h)"
   ]
  },
  {
   "cell_type": "markdown",
   "id": "77f5d4bd",
   "metadata": {},
   "source": [
    "# 키워드인수(keyword arguments)\n",
    "* 인수를 함수에 입력할 때 매개변수 이름을 직접 입력하고 자료를 할당하는 것.\n",
    "* print(sep=\"-\", end=\"\\r\")"
   ]
  },
  {
   "cell_type": "markdown",
   "id": "5f0304af",
   "metadata": {},
   "source": [
    "* 개인정보를 출력하는 함수"
   ]
  },
  {
   "cell_type": "code",
   "execution_count": 79,
   "id": "fd3a1f7c",
   "metadata": {},
   "outputs": [],
   "source": [
    "def personal_info(name, age, address):\n",
    "    print(f\"이름: {name}\")\n",
    "    print(f\"나이: {age}\")\n",
    "    print(f\"주소: {address}\")"
   ]
  },
  {
   "cell_type": "code",
   "execution_count": 80,
   "id": "ea083fef",
   "metadata": {},
   "outputs": [
    {
     "name": "stdout",
     "output_type": "stream",
     "text": [
      "이름: 홍길동\n",
      "나이: 30\n",
      "주소: 서울시\n"
     ]
    }
   ],
   "source": [
    "personal_info(\"홍길동\", 30, \"서울시\")"
   ]
  },
  {
   "cell_type": "code",
   "execution_count": 81,
   "id": "343b65a0",
   "metadata": {},
   "outputs": [
    {
     "name": "stdout",
     "output_type": "stream",
     "text": [
      "이름: 30\n",
      "나이: 홍길동\n",
      "주소: 서울시\n"
     ]
    }
   ],
   "source": [
    "personal_info(30, \"홍길동\", \"서울시\")"
   ]
  },
  {
   "cell_type": "code",
   "execution_count": 82,
   "id": "661f159d",
   "metadata": {},
   "outputs": [
    {
     "name": "stdout",
     "output_type": "stream",
     "text": [
      "이름: 둘리\n",
      "나이: 10\n",
      "주소: 고양시\n"
     ]
    }
   ],
   "source": [
    "personal_info(address='고양시', name='둘리', age=10)"
   ]
  },
  {
   "cell_type": "markdown",
   "id": "b4238f59",
   "metadata": {},
   "source": [
    "# 키워드 인수는 기본값 설정 가능"
   ]
  },
  {
   "cell_type": "code",
   "execution_count": 83,
   "id": "068ddf30",
   "metadata": {},
   "outputs": [],
   "source": [
    "def personal_info2(name, age, address='안알랴줌'):\n",
    "    print(f\"이름: {name}\")\n",
    "    print(f\"나이: {age}\")\n",
    "    print(f\"주소: {address}\")"
   ]
  },
  {
   "cell_type": "code",
   "execution_count": 84,
   "id": "b1c913a4",
   "metadata": {},
   "outputs": [
    {
     "name": "stdout",
     "output_type": "stream",
     "text": [
      "이름: 홍길동\n",
      "나이: 30\n",
      "주소: 안알랴줌\n"
     ]
    }
   ],
   "source": [
    "personal_info2(\"홍길동\", 30)"
   ]
  },
  {
   "cell_type": "markdown",
   "id": "bcd93cca",
   "metadata": {},
   "source": [
    "# 매개변수에 기본값을 설정했을 경우 위치"
   ]
  },
  {
   "cell_type": "code",
   "execution_count": 86,
   "id": "b24ff619",
   "metadata": {},
   "outputs": [],
   "source": [
    "def personal_info2(name, *nums, address='안알랴줌'):\n",
    "    print(f\"이름: {name}\")\n",
    "    print(f\"좋아하는 숫자: {nums}\")\n",
    "    print(f\"주소: {address}\")"
   ]
  },
  {
   "cell_type": "code",
   "execution_count": 87,
   "id": "c06f1550",
   "metadata": {},
   "outputs": [
    {
     "name": "stdout",
     "output_type": "stream",
     "text": [
      "이름: 홍길동\n",
      "좋아하는 숫자: (1, 2, 3, 4, 5, 6, 7)\n",
      "주소: 서울\n"
     ]
    }
   ],
   "source": [
    "personal_info2(\"홍길동\", 1,2,3,4,5,6,7, address='서울')"
   ]
  },
  {
   "cell_type": "code",
   "execution_count": 88,
   "id": "406f1f35",
   "metadata": {},
   "outputs": [
    {
     "name": "stdout",
     "output_type": "stream",
     "text": [
      "이름: 홍길동\n",
      "좋아하는 숫자: (1, 2, 3, 4, 5, 6, 7)\n",
      "주소: 안알랴줌\n"
     ]
    }
   ],
   "source": [
    "personal_info2(\"홍길동\", 1,2,3,4,5,6,7)"
   ]
  },
  {
   "cell_type": "code",
   "execution_count": 91,
   "id": "704d8729",
   "metadata": {},
   "outputs": [],
   "source": [
    "#기본값이 적용된 키워드 인수는 함수으 가장 마지막에 넣어야한다. \n",
    "def personal_info2(name, address='안알랴줌', *nums):\n",
    "    print(f\"이름: {name}\")\n",
    "    print(f\"좋아하는 숫자: {nums}\")\n",
    "    print(f\"주소: {address}\")"
   ]
  },
  {
   "cell_type": "code",
   "execution_count": 90,
   "id": "6db35a86",
   "metadata": {},
   "outputs": [
    {
     "name": "stdout",
     "output_type": "stream",
     "text": [
      "이름: 홍길동\n",
      "좋아하는 숫자: (2, 3, 4)\n",
      "주소: 1\n"
     ]
    }
   ],
   "source": [
    "personal_info2(\"홍길동\", 1,2,3,4)"
   ]
  },
  {
   "cell_type": "markdown",
   "id": "a01929b0",
   "metadata": {},
   "source": [
    "# 가변키워드인수(kwargs, Variable-length keyword arguments)\n",
    "* def 함수명(**kwargs)\n",
    "* 입력받는 자료가 address=\"안알랴줌\" 변수명=자료형태인 것\n",
    "* 키워드 가변인수는 함수 내에서 dict로 변환되어 사용된다."
   ]
  },
  {
   "cell_type": "code",
   "execution_count": 94,
   "id": "2e2ec91a",
   "metadata": {},
   "outputs": [],
   "source": [
    "def personal_info3(**kwargs):\n",
    "    print(kwargs, type(kwargs))\n",
    "    key=list(kwargs.keys())\n",
    "    value=list(kwargs.values())\n",
    "    return key, value"
   ]
  },
  {
   "cell_type": "code",
   "execution_count": 95,
   "id": "a62545a5",
   "metadata": {},
   "outputs": [
    {
     "name": "stdout",
     "output_type": "stream",
     "text": [
      "{'name': '홍길동', 'age': 40, 'address': '서울'} <class 'dict'>\n"
     ]
    },
    {
     "data": {
      "text/plain": [
       "(['name', 'age', 'address'], ['홍길동', 40, '서울'])"
      ]
     },
     "execution_count": 95,
     "metadata": {},
     "output_type": "execute_result"
    }
   ],
   "source": [
    "personal_info3(name=\"홍길동\", age=40, address=\"서울\")"
   ]
  },
  {
   "cell_type": "markdown",
   "id": "34ff3c0f",
   "metadata": {},
   "source": [
    "# 위치인수와 키워드 가변인수 같이 사용하기\n",
    "* 위치인수 다음에 키워드 가변인수가 와야한다."
   ]
  },
  {
   "cell_type": "code",
   "execution_count": 101,
   "id": "4cb5fba4",
   "metadata": {},
   "outputs": [],
   "source": [
    "def personal_info4(num, **kwargs):\n",
    "    print(kwargs, type(kwargs))\n",
    "    key=list(kwargs.keys())\n",
    "    value=list(kwargs.values())\n",
    "    print(num)\n",
    "    print(key)\n",
    "    print(value)\n",
    "    return key, value"
   ]
  },
  {
   "cell_type": "code",
   "execution_count": 100,
   "id": "d1ba3d36",
   "metadata": {},
   "outputs": [
    {
     "name": "stdout",
     "output_type": "stream",
     "text": [
      "{'address': '서울시', 'name': '홍길동'} <class 'dict'>\n",
      "1\n",
      "['address', 'name']\n",
      "['서울시', '홍길동']\n"
     ]
    },
    {
     "data": {
      "text/plain": [
       "(['address', 'name'], ['서울시', '홍길동'])"
      ]
     },
     "execution_count": 100,
     "metadata": {},
     "output_type": "execute_result"
    }
   ],
   "source": [
    "personal_info4(1, address=\"서울시\", name=\"홍길동\")"
   ]
  },
  {
   "cell_type": "code",
   "execution_count": 102,
   "id": "6f026be8",
   "metadata": {},
   "outputs": [
    {
     "ename": "SyntaxError",
     "evalue": "invalid syntax (2868794774.py, line 2)",
     "output_type": "error",
     "traceback": [
      "\u001b[1;36m  Cell \u001b[1;32mIn[102], line 2\u001b[1;36m\u001b[0m\n\u001b[1;33m    def personal_info5(**kwargs, num):\u001b[0m\n\u001b[1;37m                                 ^\u001b[0m\n\u001b[1;31mSyntaxError\u001b[0m\u001b[1;31m:\u001b[0m invalid syntax\n"
     ]
    }
   ],
   "source": [
    "# 가변키워드인수는 반드시 위치인수보다 뒤에 와야한다.\n",
    "def personal_info5(**kwargs, num):\n",
    "    print(kwargs, type(kwargs))\n",
    "    key=list(kwargs.keys())\n",
    "    value=list(kwargs.values())\n",
    "    print(num)\n",
    "    print(key)\n",
    "    print(value)\n",
    "    return key, value"
   ]
  },
  {
   "cell_type": "markdown",
   "id": "cadae995",
   "metadata": {},
   "source": [
    "# 가변인수와 가변키워든인수 함께\n",
    "* 가변인수 => 키워드 가변인수 순으로 쓴다.\n",
    "* def변수명(*args, \\**kwargs)"
   ]
  },
  {
   "cell_type": "code",
   "execution_count": 107,
   "id": "a5c85835",
   "metadata": {},
   "outputs": [],
   "source": [
    "def my_print(*args, **kwargs):\n",
    "    print(args, kwargs)\n",
    "    print(*args, **kwargs)"
   ]
  },
  {
   "cell_type": "code",
   "execution_count": 108,
   "id": "979a1d28",
   "metadata": {},
   "outputs": [
    {
     "name": "stdout",
     "output_type": "stream",
     "text": [
      "(1, 2, 3) {'sep': '||', 'end': '!!'}\n",
      "1||2||3!!"
     ]
    }
   ],
   "source": [
    "my_print(1,2,3, sep=\"||\", end=\"!!\")"
   ]
  },
  {
   "cell_type": "code",
   "execution_count": null,
   "id": "7ded4a8b",
   "metadata": {},
   "outputs": [],
   "source": [
    "def my_print(*args, **kwargs):\n",
    "    args: kwargs)\n",
    "    print(*args, **kwargs)"
   ]
  },
  {
   "cell_type": "markdown",
   "id": "537d6cfa",
   "metadata": {},
   "source": [
    "# 위치인수, 가변위치인수, 키워드인수, 가변키워드인수, 기본값이 설정된 키워드 인수 같이 쓰기\n",
    "* 위치인수 => 가변위치인수 => 기본값이 설정된 키워드인수 => 키워드 가변인수"
   ]
  },
  {
   "cell_type": "code",
   "execution_count": 109,
   "id": "3ab79cad",
   "metadata": {},
   "outputs": [],
   "source": [
    "def personal_info6(index, adderess=\"비공개\", *args, **kwargs):\n",
    "    print(f\"idx: {idx}\")\n",
    "    print(f\"adderess: {adderess}\")\n",
    "    print(f\"*args: {args}\")\n",
    "    print(f\"*kwargs: {kwargs}\")"
   ]
  },
  {
   "cell_type": "code",
   "execution_count": null,
   "id": "ef50ddc7",
   "metadata": {},
   "outputs": [],
   "source": []
  },
  {
   "cell_type": "code",
   "execution_count": null,
   "id": "1d39f530",
   "metadata": {},
   "outputs": [],
   "source": [
    "def personal_info7(index, adderess=\"비공개\", *args, **kwargs):\n",
    "    print(f\"idx: {idx}\")\n",
    "    print(f\"adderess: {adderess}\")\n",
    "    print(f\"*args: {args}\")\n",
    "    print(f\"*kwargs: {kwargs}\")"
   ]
  },
  {
   "cell_type": "code",
   "execution_count": 110,
   "id": "73184c24",
   "metadata": {},
   "outputs": [
    {
     "ename": "NameError",
     "evalue": "name 'personal_info7' is not defined",
     "output_type": "error",
     "traceback": [
      "\u001b[1;31m---------------------------------------------------------------------------\u001b[0m",
      "\u001b[1;31mNameError\u001b[0m                                 Traceback (most recent call last)",
      "Cell \u001b[1;32mIn[110], line 1\u001b[0m\n\u001b[1;32m----> 1\u001b[0m \u001b[43mpersonal_info7\u001b[49m(\u001b[38;5;241m1\u001b[39m,\u001b[38;5;241m2\u001b[39m,\u001b[38;5;241m3\u001b[39m,\u001b[38;5;241m40\u001b[39m,\u001b[38;5;241m50\u001b[39m, 학교\u001b[38;5;241m=\u001b[39m\u001b[38;5;124m\"\u001b[39m\u001b[38;5;124m구름대학교\u001b[39m\u001b[38;5;124m\"\u001b[39m, 전공\u001b[38;5;241m=\u001b[39m\u001b[38;5;124m\"\u001b[39m\u001b[38;5;124m핀테크서비스기획\u001b[39m\u001b[38;5;124m\"\u001b[39m)\n",
      "\u001b[1;31mNameError\u001b[0m: name 'personal_info7' is not defined"
     ]
    }
   ],
   "source": [
    "personal_info7(1,2,3,40,50, 학교=\"구름대학교\", 전공=\"핀테크서비스기획\")"
   ]
  },
  {
   "cell_type": "markdown",
   "id": "2020a1b2",
   "metadata": {},
   "source": [
    "# 함수의 doc sting\n",
    "* 함수 내부에 함수에 대한 설명을 적어놓는 것\n",
    "* \"\"\" \"\"\" 안에 작성한다.\n",
    "* 생략 가능\n",
    "* print(함수이름.\\__doc\\__)\n",
    "* help(함수이름)"
   ]
  },
  {
   "cell_type": "code",
   "execution_count": 111,
   "id": "16a3b7d0",
   "metadata": {},
   "outputs": [
    {
     "name": "stdout",
     "output_type": "stream",
     "text": [
      "Help on built-in function print in module builtins:\n",
      "\n",
      "print(...)\n",
      "    print(value, ..., sep=' ', end='\\n', file=sys.stdout, flush=False)\n",
      "    \n",
      "    Prints the values to a stream, or to sys.stdout by default.\n",
      "    Optional keyword arguments:\n",
      "    file:  a file-like object (stream); defaults to the current sys.stdout.\n",
      "    sep:   string inserted between values, default a space.\n",
      "    end:   string appended after the last value, default a newline.\n",
      "    flush: whether to forcibly flush the stream.\n",
      "\n"
     ]
    }
   ],
   "source": [
    "help(print)"
   ]
  },
  {
   "cell_type": "code",
   "execution_count": 112,
   "id": "dac02ad4",
   "metadata": {},
   "outputs": [
    {
     "name": "stdout",
     "output_type": "stream",
     "text": [
      "print(value, ..., sep=' ', end='\\n', file=sys.stdout, flush=False)\n",
      "\n",
      "Prints the values to a stream, or to sys.stdout by default.\n",
      "Optional keyword arguments:\n",
      "file:  a file-like object (stream); defaults to the current sys.stdout.\n",
      "sep:   string inserted between values, default a space.\n",
      "end:   string appended after the last value, default a newline.\n",
      "flush: whether to forcibly flush the stream.\n"
     ]
    }
   ],
   "source": [
    "print(print.__doc__)"
   ]
  },
  {
   "cell_type": "code",
   "execution_count": 113,
   "id": "3b8fcece",
   "metadata": {},
   "outputs": [
    {
     "ename": "NameError",
     "evalue": "name 'personal_info7' is not defined",
     "output_type": "error",
     "traceback": [
      "\u001b[1;31m---------------------------------------------------------------------------\u001b[0m",
      "\u001b[1;31mNameError\u001b[0m                                 Traceback (most recent call last)",
      "Cell \u001b[1;32mIn[113], line 1\u001b[0m\n\u001b[1;32m----> 1\u001b[0m help(\u001b[43mpersonal_info7\u001b[49m)\n",
      "\u001b[1;31mNameError\u001b[0m: name 'personal_info7' is not defined"
     ]
    }
   ],
   "source": [
    "help(personal_info7)"
   ]
  },
  {
   "cell_type": "code",
   "execution_count": 114,
   "id": "e9d5902a",
   "metadata": {},
   "outputs": [],
   "source": [
    "def add(a,b):\n",
    "    \"\"\"\n",
    "    이 함수는 a와 b를 더한 뒤 결과를 반환하는 함수입니다.\n",
    "    \"\"\"\n",
    "    return a + b"
   ]
  },
  {
   "cell_type": "code",
   "execution_count": 115,
   "id": "135c9b06",
   "metadata": {},
   "outputs": [
    {
     "name": "stdout",
     "output_type": "stream",
     "text": [
      "Help on function add in module __main__:\n",
      "\n",
      "add(a, b)\n",
      "    이 함수는 a와 b를 더한 뒤 결과를 반환하는 함수입니다.\n",
      "\n"
     ]
    }
   ],
   "source": [
    "help(add)"
   ]
  },
  {
   "cell_type": "code",
   "execution_count": 117,
   "id": "77d8d331",
   "metadata": {},
   "outputs": [
    {
     "name": "stdout",
     "output_type": "stream",
     "text": [
      "\n",
      "    이 함수는 a와 b를 더한 뒤 결과를 반환하는 함수입니다.\n",
      "    \n"
     ]
    }
   ],
   "source": [
    "print(add.__doc__)"
   ]
  },
  {
   "cell_type": "markdown",
   "id": "364ceb55",
   "metadata": {},
   "source": [
    "# 람다 표현식(lambda expression)\n",
    "* 익명함수(함수 이름이 없음)\n",
    "* 간단한 함수를 작성하거나 다른 함수의 인수로 함수를 넣을 때 사용\n",
    "* 사용 후 메모리에서 삭제\n",
    "* lambda 매개변수: return 할 값, 계산식\n",
    "* (lambda x : x + 10)(5)\n",
    "* plus_five = lambda x : x + 5\n",
    "* plus_five(5) => lambda 함수를 변수에 저장하는 것은 지양 => def plus_five()로 만드는 것이 좋다."
   ]
  },
  {
   "cell_type": "code",
   "execution_count": 118,
   "id": "06200b58",
   "metadata": {},
   "outputs": [],
   "source": [
    "# 자료 1개를 입력받아 10을 더해 리턴하는 함수\n",
    "def plus_ten(x):\n",
    "    return x + 10"
   ]
  },
  {
   "cell_type": "code",
   "execution_count": 119,
   "id": "dc58f63c",
   "metadata": {},
   "outputs": [
    {
     "data": {
      "text/plain": [
       "15"
      ]
     },
     "execution_count": 119,
     "metadata": {},
     "output_type": "execute_result"
    }
   ],
   "source": [
    "plus_ten(5)"
   ]
  },
  {
   "cell_type": "code",
   "execution_count": 120,
   "id": "dd8b9395",
   "metadata": {
    "scrolled": true
   },
   "outputs": [
    {
     "data": {
      "text/plain": [
       "15"
      ]
     },
     "execution_count": 120,
     "metadata": {},
     "output_type": "execute_result"
    }
   ],
   "source": [
    "(lambda x : x + 10)(5)"
   ]
  },
  {
   "cell_type": "markdown",
   "id": "b91a467c",
   "metadata": {},
   "source": [
    "* 1에서 10까지 수 중에서 3의 배수만 문자열로 바꿔서 리스트로 출력하세요."
   ]
  },
  {
   "cell_type": "code",
   "execution_count": 121,
   "id": "0f3e5c27",
   "metadata": {},
   "outputs": [],
   "source": [
    "def tostr(x):\n",
    "    result = []\n",
    "    for i in x:\n",
    "        if i % 3 == 0:\n",
    "            result.append(str(i))\n",
    "        else:\n",
    "            result.append(i)\n",
    "    return result"
   ]
  },
  {
   "cell_type": "code",
   "execution_count": 122,
   "id": "2bce6b8b",
   "metadata": {},
   "outputs": [
    {
     "data": {
      "text/plain": [
       "[1, 2, '3', 4, 5, '6', 7, 8, '9', 10]"
      ]
     },
     "execution_count": 122,
     "metadata": {},
     "output_type": "execute_result"
    }
   ],
   "source": [
    "tostr(list(range(1,11)))"
   ]
  },
  {
   "cell_type": "code",
   "execution_count": 128,
   "id": "745890fb",
   "metadata": {},
   "outputs": [
    {
     "data": {
      "text/plain": [
       "[1, 2, '3', 4, 5, '6', 7, 8, '9', 10]"
      ]
     },
     "execution_count": 128,
     "metadata": {},
     "output_type": "execute_result"
    }
   ],
   "source": [
    "x = list(range(1,11))\n",
    "result = [str(i) if i % 3 == 0 else i for i in x]\n",
    "result"
   ]
  },
  {
   "cell_type": "markdown",
   "id": "46e81062",
   "metadata": {},
   "source": [
    "* map(함수, list/tuple)"
   ]
  },
  {
   "cell_type": "code",
   "execution_count": 137,
   "id": "a789a52a",
   "metadata": {},
   "outputs": [
    {
     "data": {
      "text/plain": [
       "[1, 2, '3', 4, 5, '6', 7, 8, '9', 10]"
      ]
     },
     "execution_count": 137,
     "metadata": {},
     "output_type": "execute_result"
    }
   ],
   "source": [
    "list(map((lambda x: str(x) if x %3 == 0 else x),([1,2,3,4,5,6,7,8,9,10])))"
   ]
  },
  {
   "cell_type": "code",
   "execution_count": 138,
   "id": "b5ec9d7b",
   "metadata": {},
   "outputs": [],
   "source": [
    "tostr=(lambda x: str(x) if x %3 == 0 else x)"
   ]
  },
  {
   "cell_type": "code",
   "execution_count": 143,
   "id": "fabd5af5",
   "metadata": {},
   "outputs": [
    {
     "name": "stdout",
     "output_type": "stream",
     "text": [
      "1 2 3 4 5\n"
     ]
    },
    {
     "data": {
      "text/plain": [
       "[1, 2, 3, 4, 5]"
      ]
     },
     "execution_count": 143,
     "metadata": {},
     "output_type": "execute_result"
    }
   ],
   "source": [
    "list(map(int, input().split()))"
   ]
  },
  {
   "cell_type": "markdown",
   "id": "129c3d24",
   "metadata": {},
   "source": [
    "# lambda 함수도 매개변수를 여러개 사용 가능"
   ]
  },
  {
   "cell_type": "code",
   "execution_count": 145,
   "id": "823c1c8e",
   "metadata": {},
   "outputs": [],
   "source": [
    "a = [1,2,3,4,5]\n",
    "b = [2,4,6,8,10]\n",
    "c = [3,6,9,12,15]"
   ]
  },
  {
   "cell_type": "code",
   "execution_count": 151,
   "id": "00be4f8b",
   "metadata": {},
   "outputs": [
    {
     "name": "stdout",
     "output_type": "stream",
     "text": [
      "1 2 3 : 6\n",
      "2 4 6 : 12\n",
      "3 6 9 : 18\n",
      "4 8 12 : 24\n",
      "5 10 15 : 30\n"
     ]
    },
    {
     "data": {
      "text/plain": [
       "[1, 2, '3', 4, 5, '6', 7, 8, '9', 10, 6, 12, 18, 24, 30]"
      ]
     },
     "execution_count": 151,
     "metadata": {},
     "output_type": "execute_result"
    }
   ],
   "source": [
    "for x,y,z in zip(a,b,c):\n",
    "    print(x,y,z,\":\", x+y+z)\n",
    "    result.append(x+y+z)\n",
    "result"
   ]
  },
  {
   "cell_type": "code",
   "execution_count": 154,
   "id": "9ba4a48a",
   "metadata": {},
   "outputs": [
    {
     "data": {
      "text/plain": [
       "[6, 12, 18, 24, 30]"
      ]
     },
     "execution_count": 154,
     "metadata": {},
     "output_type": "execute_result"
    }
   ],
   "source": [
    "list(map((lambda x,y,z: x+y+z), a,b,c))"
   ]
  },
  {
   "cell_type": "markdown",
   "id": "67b5d8b2",
   "metadata": {},
   "source": [
    "# 예외처리 try except\n",
    "* 예외: 프로그램 실행 중에 발생할 수 있는 오류\n",
    "* 3/0: ZeroDivisionError => 숫자를 0으로 나눌 수 없기 때문에 나는 에러\n",
    "* try-except 구문을 사용하면 예외상황에서도 프로그램이 중단되지 않게 할 수 있음"
   ]
  },
  {
   "cell_type": "code",
   "execution_count": 155,
   "id": "70478b9d",
   "metadata": {},
   "outputs": [
    {
     "ename": "ZeroDivisionError",
     "evalue": "division by zero",
     "output_type": "error",
     "traceback": [
      "\u001b[1;31m---------------------------------------------------------------------------\u001b[0m",
      "\u001b[1;31mZeroDivisionError\u001b[0m                         Traceback (most recent call last)",
      "Cell \u001b[1;32mIn[155], line 1\u001b[0m\n\u001b[1;32m----> 1\u001b[0m \u001b[38;5;241;43m3\u001b[39;49m\u001b[38;5;241;43m/\u001b[39;49m\u001b[38;5;241;43m0\u001b[39;49m\n",
      "\u001b[1;31mZeroDivisionError\u001b[0m: division by zero"
     ]
    }
   ],
   "source": [
    "3/0"
   ]
  },
  {
   "cell_type": "markdown",
   "id": "163a1d37",
   "metadata": {},
   "source": [
    "# 기본 문법"
   ]
  },
  {
   "cell_type": "code",
   "execution_count": 156,
   "id": "7dae0172",
   "metadata": {},
   "outputs": [
    {
     "ename": "IndentationError",
     "evalue": "expected an indented block (1102573400.py, line 3)",
     "output_type": "error",
     "traceback": [
      "\u001b[1;36m  Cell \u001b[1;32mIn[156], line 3\u001b[1;36m\u001b[0m\n\u001b[1;33m    except Exception as e:\u001b[0m\n\u001b[1;37m    ^\u001b[0m\n\u001b[1;31mIndentationError\u001b[0m\u001b[1;31m:\u001b[0m expected an indented block\n"
     ]
    }
   ],
   "source": [
    "try:\n",
    "    #예외가 발생할 위험이 있는 코드\n",
    "except Exception as e:\n",
    "    print(e)   #어떤 에러인지 출력\n",
    "    #예외가 발생했을 때 실행할 코드\n",
    "else:\n",
    "    #예외가 발생하지 않았을 때 실행할 코드\n",
    "finally:\n",
    "    #예외가 발생하든지 안하든지 무조건 실행할 코드"
   ]
  },
  {
   "cell_type": "markdown",
   "id": "c6daf2ca",
   "metadata": {},
   "source": [
    "* 파일 읽어 올 때 encording 에러를 방지하는 예외처리"
   ]
  },
  {
   "cell_type": "code",
   "execution_count": 160,
   "id": "cdb9cd8a",
   "metadata": {},
   "outputs": [],
   "source": [
    "file = \"./data/com_kbstar_kbbank.json\""
   ]
  },
  {
   "cell_type": "code",
   "execution_count": 163,
   "id": "843a1d7a",
   "metadata": {},
   "outputs": [],
   "source": [
    "def read_csv(file):\n",
    "    with open(file,\"r\") as f:\n",
    "        data = f.read()\n",
    "    return data"
   ]
  },
  {
   "cell_type": "code",
   "execution_count": 164,
   "id": "e59fe2cf",
   "metadata": {},
   "outputs": [
    {
     "ename": "UnicodeDecodeError",
     "evalue": "'cp949' codec can't decode byte 0xec in position 19: illegal multibyte sequence",
     "output_type": "error",
     "traceback": [
      "\u001b[1;31m---------------------------------------------------------------------------\u001b[0m",
      "\u001b[1;31mUnicodeDecodeError\u001b[0m                        Traceback (most recent call last)",
      "Cell \u001b[1;32mIn[164], line 1\u001b[0m\n\u001b[1;32m----> 1\u001b[0m \u001b[43mread_csv\u001b[49m\u001b[43m(\u001b[49m\u001b[43mfile\u001b[49m\u001b[43m)\u001b[49m\n",
      "Cell \u001b[1;32mIn[163], line 3\u001b[0m, in \u001b[0;36mread_csv\u001b[1;34m(file)\u001b[0m\n\u001b[0;32m      1\u001b[0m \u001b[38;5;28;01mdef\u001b[39;00m\u001b[38;5;250m \u001b[39m\u001b[38;5;21mread_csv\u001b[39m(file):\n\u001b[0;32m      2\u001b[0m     \u001b[38;5;28;01mwith\u001b[39;00m \u001b[38;5;28mopen\u001b[39m(file,\u001b[38;5;124m\"\u001b[39m\u001b[38;5;124mr\u001b[39m\u001b[38;5;124m\"\u001b[39m) \u001b[38;5;28;01mas\u001b[39;00m f:\n\u001b[1;32m----> 3\u001b[0m         data \u001b[38;5;241m=\u001b[39m \u001b[43mf\u001b[49m\u001b[38;5;241;43m.\u001b[39;49m\u001b[43mread\u001b[49m\u001b[43m(\u001b[49m\u001b[43m)\u001b[49m\n\u001b[0;32m      4\u001b[0m     \u001b[38;5;28;01mreturn\u001b[39;00m data\n",
      "\u001b[1;31mUnicodeDecodeError\u001b[0m: 'cp949' codec can't decode byte 0xec in position 19: illegal multibyte sequence"
     ]
    }
   ],
   "source": [
    "read_csv(file)"
   ]
  },
  {
   "cell_type": "code",
   "execution_count": 174,
   "id": "9479b2cb",
   "metadata": {},
   "outputs": [],
   "source": [
    "#try except를 이용해 예외처리\n",
    "def read_csv(file):\n",
    "    try:\n",
    "        with open(file,\"r\") as f:\n",
    "            data = f.read()\n",
    "    except Exception as e:\n",
    "        print(e)\n",
    "        with open(file,\"r\", encoding='utf-8') as f:\n",
    "            data = f.read()\n",
    "            \n",
    "    return data[:10]"
   ]
  },
  {
   "cell_type": "code",
   "execution_count": 175,
   "id": "ef07d8a1",
   "metadata": {},
   "outputs": [
    {
     "name": "stdout",
     "output_type": "stream",
     "text": [
      "'cp949' codec can't decode byte 0xec in position 19: illegal multibyte sequence\n"
     ]
    },
    {
     "data": {
      "text/plain": [
       "'[\\n    {\\n  '"
      ]
     },
     "execution_count": 175,
     "metadata": {},
     "output_type": "execute_result"
    }
   ],
   "source": [
    "read_csv(file)"
   ]
  },
  {
   "cell_type": "markdown",
   "id": "205560a7",
   "metadata": {},
   "source": [
    "# 예외 처리방법 3가지\n",
    "* try-except 구문으로 처리\n",
    "* if else 조건 표현식으로 처리\n",
    "* get,setdefault 같은 함수를 사용해 처리"
   ]
  },
  {
   "cell_type": "markdown",
   "id": "ad74014f",
   "metadata": {},
   "source": [
    "* 학생들의 이름 리스트를 받아서 해당 학생의 성적 출력하기"
   ]
  },
  {
   "cell_type": "code",
   "execution_count": 178,
   "id": "0ba2b8fa",
   "metadata": {},
   "outputs": [
    {
     "data": {
      "text/plain": [
       "{'student': {'alice': 85, 'bob': 92, 'mark': 78}}"
      ]
     },
     "execution_count": 178,
     "metadata": {},
     "output_type": "execute_result"
    }
   ],
   "source": [
    "# 학생정보\n",
    "student_scores = dict(student=dict(alice=85, bob=92, mark=78))\n",
    "student_scores"
   ]
  },
  {
   "cell_type": "code",
   "execution_count": 177,
   "id": "03fc1dc2",
   "metadata": {},
   "outputs": [],
   "source": [
    "# 성적을 조회할 목록\n",
    "names = ['alice', 'david', 'mark', 'bob']"
   ]
  },
  {
   "cell_type": "code",
   "execution_count": 186,
   "id": "2bcc51e6",
   "metadata": {},
   "outputs": [
    {
     "name": "stdout",
     "output_type": "stream",
     "text": [
      "alice:85\n",
      "alice의 점수 조회가 완료되었습니다.\n",
      "\n",
      "david의 점수는 없습니다.\n",
      "david의 점수 조회가 완료되었습니다.\n",
      "\n",
      "mark:78\n",
      "mark의 점수 조회가 완료되었습니다.\n",
      "\n",
      "bob:92\n",
      "bob의 점수 조회가 완료되었습니다.\n",
      "\n"
     ]
    }
   ],
   "source": [
    "# 반복문을 이용해 성적 조회\n",
    "for name in names:\n",
    "    try:\n",
    "        score = student_scores['student'][name]\n",
    "        print(f\"{name}:{score}\")\n",
    "    except Exception as e:\n",
    "        print(f\"{name}의 점수는 없습니다.\")\n",
    "    finally:\n",
    "        print(f\"{name}의 점수 조회가 완료되었습니다.\")\n",
    "        print()"
   ]
  },
  {
   "cell_type": "markdown",
   "id": "56da70d0",
   "metadata": {},
   "source": [
    "# 조건표현식을 사용한 예외처리"
   ]
  },
  {
   "cell_type": "code",
   "execution_count": 188,
   "id": "00f2f347",
   "metadata": {},
   "outputs": [
    {
     "name": "stdout",
     "output_type": "stream",
     "text": [
      "alice:85\n",
      "david:키없음\n",
      "mark:78\n",
      "bob:92\n"
     ]
    }
   ],
   "source": [
    "# 반복문을 이용해 성적 조회\n",
    "for name in names:\n",
    "    score = student_scores['student'][name] if name in student_scores['student'].keys() else \"키없음\"\n",
    "    print(f\"{name}:{score}\")"
   ]
  },
  {
   "cell_type": "markdown",
   "id": "ae8048e5",
   "metadata": {},
   "source": [
    "## get 함수를 이용해서 처리하기"
   ]
  },
  {
   "cell_type": "code",
   "execution_count": 190,
   "id": "f97a7903",
   "metadata": {},
   "outputs": [
    {
     "name": "stdout",
     "output_type": "stream",
     "text": [
      "alice:85\n",
      "david:david의 점수는 없습니다.\n",
      "mark:78\n",
      "bob:92\n"
     ]
    }
   ],
   "source": [
    "for name in names:\n",
    "    score = student_scores['student'].get(name, f\"{name}의 점수는 없습니다.\")\n",
    "    print(f\"{name}:{score}\")"
   ]
  },
  {
   "cell_type": "code",
   "execution_count": null,
   "id": "af77f9d7",
   "metadata": {},
   "outputs": [],
   "source": []
  },
  {
   "cell_type": "code",
   "execution_count": null,
   "id": "1b6fcdd1",
   "metadata": {},
   "outputs": [],
   "source": []
  }
 ],
 "metadata": {
  "kernelspec": {
   "display_name": "Python 3 (ipykernel)",
   "language": "python",
   "name": "python3"
  },
  "language_info": {
   "codemirror_mode": {
    "name": "ipython",
    "version": 3
   },
   "file_extension": ".py",
   "mimetype": "text/x-python",
   "name": "python",
   "nbconvert_exporter": "python",
   "pygments_lexer": "ipython3",
   "version": "3.9.23"
  }
 },
 "nbformat": 4,
 "nbformat_minor": 5
}
