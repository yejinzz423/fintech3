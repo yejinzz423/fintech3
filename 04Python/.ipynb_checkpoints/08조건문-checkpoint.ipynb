{
 "cells": [
  {
   "cell_type": "markdown",
   "id": "1de1361f",
   "metadata": {},
   "source": [
    "# of else 조건문\n",
    "## 1. 조건문이란? 특정 조건을 판별해서 작업을 분기시키는 문법\n",
    "if 조건식: <br>\n",
    "____조건식이 참일 때 실행할 코드 <br>\n",
    "else: <br>\n",
    "____조건식이 거짓일 때 실행할 코드"
   ]
  },
  {
   "cell_type": "code",
   "execution_count": 2,
   "id": "882aef68",
   "metadata": {},
   "outputs": [],
   "source": [
    "x = 10"
   ]
  },
  {
   "cell_type": "code",
   "execution_count": 3,
   "id": "d922ca36",
   "metadata": {},
   "outputs": [
    {
     "name": "stdout",
     "output_type": "stream",
     "text": [
      "10는, 10입니다.\n"
     ]
    }
   ],
   "source": [
    "if x == 10:\n",
    "    print(f\"{x}는, 10입니다.\")\n",
    "else:\n",
    "    print(f\"{x}는, 10이 아닙니다.\")"
   ]
  },
  {
   "cell_type": "code",
   "execution_count": 4,
   "id": "1aea68b7",
   "metadata": {},
   "outputs": [
    {
     "name": "stdout",
     "output_type": "stream",
     "text": [
      "10는 3의 배수가 아니고 10도 아닙니다.\n"
     ]
    }
   ],
   "source": [
    "if x == 11:\n",
    "    if x %2 == 0:\n",
    "        print(f\"{x}는 짝수이고 10입니다.\")\n",
    "    else:\n",
    "        print(f\"{x}는 홀수이고 10이 아닙니다.\")\n",
    "else:\n",
    "    if x %3 == 0:\n",
    "        print(f\"{x}는 3의 배수입니다.\")\n",
    "    else:\n",
    "        print(f\"{x}는 3의 배수가 아니고 10도 아닙니다.\")"
   ]
  },
  {
   "cell_type": "code",
   "execution_count": 5,
   "id": "39287cee",
   "metadata": {},
   "outputs": [
    {
     "data": {
      "text/plain": [
       "['파이썬', '조건문', 10, 15.3, True, [1, 2, 3], (4, 5, 6), {'key': 365}]"
      ]
     },
     "execution_count": 5,
     "metadata": {},
     "output_type": "execute_result"
    }
   ],
   "source": [
    "l1 = ['파이썬', \"조건문\", 10, 15.3, True, [1,2,3], (4,5,6), {\"key\":365} ]\n",
    "l1"
   ]
  },
  {
   "cell_type": "code",
   "execution_count": 6,
   "id": "fa920478",
   "metadata": {},
   "outputs": [
    {
     "data": {
      "text/plain": [
       "True"
      ]
     },
     "execution_count": 6,
     "metadata": {},
     "output_type": "execute_result"
    }
   ],
   "source": [
    "10 in l1"
   ]
  },
  {
   "cell_type": "code",
   "execution_count": 7,
   "id": "d9b5a073",
   "metadata": {},
   "outputs": [
    {
     "name": "stdout",
     "output_type": "stream",
     "text": [
      "l1 안에 파이썬이 있습니다.\n"
     ]
    }
   ],
   "source": [
    "if \"파이썬\" in l1:\n",
    "    print(\"l1 안에 파이썬이 있습니다.\")\n",
    "else:\n",
    "    print(\"l1 안에 파이썬이 없습니다.\")"
   ]
  },
  {
   "cell_type": "markdown",
   "id": "4d76a084",
   "metadata": {},
   "source": [
    "* 숫자를 입력받아 홀수인지 짝수인지 판단하는 프로그램\n",
    "  * 숫자를 입력받는다. input()\n",
    "  * 조건문으로 짝수/홀수 판단 %2 == 0 짝수 1 홀수\n",
    "  * 입력한 숫자 {}는 짝수입니다. 홀수입니다."
   ]
  },
  {
   "cell_type": "code",
   "execution_count": 8,
   "id": "404e642d",
   "metadata": {},
   "outputs": [
    {
     "name": "stdout",
     "output_type": "stream",
     "text": [
      "숫자를 입력하세요53\n",
      "입력한 숫자 53는 홀수입니다.\n"
     ]
    }
   ],
   "source": [
    "x = input(\"숫자를 입력하세요\")\n",
    "if int(x) %2 == 0:\n",
    "    print(f\"입력한 숫자 {x}는 짝수입니다.\")\n",
    "else:\n",
    "    print(f\"입력한 숫자 {x}는 홀수입니다.\")"
   ]
  },
  {
   "cell_type": "markdown",
   "id": "d5a2c39f",
   "metadata": {},
   "source": [
    "## 2. 다중 조건문 사용하기 elif\n",
    "if 조건식: <br>\n",
    "____조건이 참일 때 실행할 코드 <br>\n",
    "elif 조건식2 <br>\n",
    "____조건식 2가 참일 때 실행할 코드 <br>\n",
    "elif 조건식3 <br>\n",
    "____조건식 3가 참일 때 실행할 코드 <br> \n",
    "elif 조건식4 <br>\n",
    "____조건식 4가 참일 때 실행할 코드 <br>\n",
    "elif 조건식5 <br>\n",
    "____조건식 5가 참일 때 실행할 코드 <br>\n",
    "else: <br>\n",
    "____위의 모든 조건이 다 거짓일 때 실행할 코드"
   ]
  },
  {
   "cell_type": "markdown",
   "id": "f4a0b3e2",
   "metadata": {},
   "source": [
    "* 점수를 입력 받아서 81-100 A학점, 61-80 B학점, 41-60 C학점, 21-40 D학점, 0-20 F학점\n",
    "* 0 <= x <20\n",
    "* 추가: 입력받은 값이 0-100 사이의 숫자인지도 검증"
   ]
  },
  {
   "cell_type": "code",
   "execution_count": 9,
   "id": "f0287439",
   "metadata": {},
   "outputs": [
    {
     "name": "stdout",
     "output_type": "stream",
     "text": [
      "점수를 입력 하세요77\n",
      "77는 B학점 입니다\n"
     ]
    }
   ],
   "source": [
    "score = int(input(\"점수를 입력 하세요\"))\n",
    "if 0 <= score <= 20:\n",
    "    print(f\"{score}는 F학점 입니다\")\n",
    "elif 21 <= score <= 40:\n",
    "    print(f\"{score}는 D학점 입니다\")\n",
    "elif 41 <= score <= 60:\n",
    "    print(f\"{score}는 C학점 입니다\")\n",
    "elif 61 <= score <= 80:\n",
    "    print(f\"{score}는 B학점 입니다\")\n",
    "elif 81 <= score <= 100:\n",
    "    print(f\"{score}는 A학점 입니다\")\n",
    "else:\n",
    "    print(f\"숫자를 0-100 사이로 입력해주세요\")"
   ]
  },
  {
   "cell_type": "code",
   "execution_count": 10,
   "id": "5dad092a",
   "metadata": {},
   "outputs": [
    {
     "name": "stdout",
     "output_type": "stream",
     "text": [
      "점수를 입력 하세요500\n",
      "숫자를 0-100 사이로 입력해주세요\n"
     ]
    }
   ],
   "source": [
    "score = int(input(\"점수를 입력 하세요\"))\n",
    "if 0 <= score <= 100:\n",
    "    if 0 <= score <= 20:\n",
    "        print(f\"{score}는 F학점 입니다\")\n",
    "    elif 21 <= score <= 40:\n",
    "        print(f\"{score}는 D학점 입니다\")\n",
    "    elif 41 <= score <= 60:\n",
    "        print(f\"{score}는 C학점 입니다\")\n",
    "    elif 61 <= score <= 80:\n",
    "        print(f\"{score}는 B학점 입니다\")\n",
    "    elif 81 <= score <= 100:\n",
    "        print(f\"{score}는 A학점 입니다\")\n",
    "else:\n",
    "    print(f\"숫자를 0-100 사이로 입력해주세요\")"
   ]
  },
  {
   "cell_type": "markdown",
   "id": "557e53ff",
   "metadata": {},
   "source": [
    "* 1-50 사이의 숫자를 입력받아서 3의 배수이면 3의 배수입니다. 아니면 3의 배수가 아닙니다."
   ]
  },
  {
   "cell_type": "code",
   "execution_count": 11,
   "id": "7f38dd56",
   "metadata": {},
   "outputs": [
    {
     "name": "stdout",
     "output_type": "stream",
     "text": [
      "숫자를 입력 하세요11\n",
      "입력한 숫자 11는 3의 배수가 아닙니다.\n"
     ]
    }
   ],
   "source": [
    "num = int(input(\"숫자를 입력 하세요\"))\n",
    "if 1 <= num <= 50:\n",
    "    if num %3 == 0:\n",
    "        print(f\"입력한 숫자 {num}는 3의 배수입니다.\")\n",
    "    else:\n",
    "        print(f\"입력한 숫자 {num}는 3의 배수가 아닙니다.\")\n",
    "else:\n",
    "    print(f\"숫자를 1-50 사이로 입력해주세요\")"
   ]
  },
  {
   "cell_type": "markdown",
   "id": "6b8c2a6f",
   "metadata": {},
   "source": [
    "## 3. 조건 표현식\n",
    "* python에서 조건식을 1줄로 표기하는 방법\n",
    "* 다중 조건이 아닌 단순 조건을 처리할 때 사용\n",
    "* 참일 때 실행할 코드 if 조건 else 거짓일 때 실행할 코드"
   ]
  },
  {
   "cell_type": "code",
   "execution_count": 12,
   "id": "25ac0271",
   "metadata": {
    "scrolled": true
   },
   "outputs": [
    {
     "name": "stdout",
     "output_type": "stream",
     "text": [
      "숫자를 입력하세요2\n",
      "짝수\n"
     ]
    }
   ],
   "source": [
    "# 일반적인 if else 문\n",
    "num = int(input(\"숫자를 입력하세요\"))\n",
    "if num %2 == 0:\n",
    "    print(\"짝수\")\n",
    "else:\n",
    "    print(\"홀수\")"
   ]
  },
  {
   "cell_type": "code",
   "execution_count": 13,
   "id": "0e516a3f",
   "metadata": {},
   "outputs": [
    {
     "name": "stdout",
     "output_type": "stream",
     "text": [
      "숫자를 입력하세요9\n",
      "홀수\n"
     ]
    }
   ],
   "source": [
    "# 조건표현식\n",
    "num = int(input(\"숫자를 입력하세요\"))\n",
    "print(\"짝수\") if num %2 == 0 else print(\"홀수\")"
   ]
  }
 ],
 "metadata": {
  "kernelspec": {
   "display_name": "Python 3 (ipykernel)",
   "language": "python",
   "name": "python3"
  },
  "language_info": {
   "codemirror_mode": {
    "name": "ipython",
    "version": 3
   },
   "file_extension": ".py",
   "mimetype": "text/x-python",
   "name": "python",
   "nbconvert_exporter": "python",
   "pygments_lexer": "ipython3",
   "version": "3.9.23"
  }
 },
 "nbformat": 4,
 "nbformat_minor": 5
}
