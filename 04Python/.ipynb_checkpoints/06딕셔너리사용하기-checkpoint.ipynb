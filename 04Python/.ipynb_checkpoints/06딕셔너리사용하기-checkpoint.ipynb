{
 "cells": [
  {
   "cell_type": "markdown",
   "id": "d3f6d57e",
   "metadata": {},
   "source": [
    "# 딕셔너리 사용하기\n",
    "* dict 타임, json 타입이라고도 함\n",
    "* web에서 자료를 주고 받을 때 주로 사용하는 형식(API)\n",
    "* key : value 쌍으로 이루어진 자료형\n",
    "* key를 호출하면 value가 나온다.\n",
    "* key는 list, dict를 제외한 자료형이 올 수 있다.\n",
    "* value에는 모든 자료형이 올 수 있다."
   ]
  },
  {
   "cell_type": "markdown",
   "id": "1fb2ad4c",
   "metadata": {},
   "source": [
    "# 딕셔너리 만들기\n",
    "* 중괄호 안에 key:value 쌍으로 만든다.\n",
    "* 빈 딕셔너리 생성 가능 {}\n",
    "* dict() 함수를 이용해서 대량의 딕셔너리 생성 가능"
   ]
  },
  {
   "cell_type": "code",
   "execution_count": 4,
   "id": "cf4e350e",
   "metadata": {},
   "outputs": [
    {
     "data": {
      "text/plain": [
       "{'년월': '20250924', '국가': '미국', '방문자수': 1000}"
      ]
     },
     "execution_count": 4,
     "metadata": {},
     "output_type": "execute_result"
    }
   ],
   "source": [
    "d = {'년월' : '20250924','국가':'미국','방문자수':1000}\n",
    "d"
   ]
  },
  {
   "cell_type": "code",
   "execution_count": 5,
   "id": "b0957d71",
   "metadata": {},
   "outputs": [
    {
     "data": {
      "text/plain": [
       "'20250924'"
      ]
     },
     "execution_count": 5,
     "metadata": {},
     "output_type": "execute_result"
    }
   ],
   "source": [
    "d['년월']"
   ]
  },
  {
   "cell_type": "code",
   "execution_count": 7,
   "id": "488530e1",
   "metadata": {},
   "outputs": [
    {
     "name": "stdout",
     "output_type": "stream",
     "text": [
      "{} <class 'dict'>\n"
     ]
    }
   ],
   "source": [
    "d2 = {}\n",
    "print(d2, type(d2))"
   ]
  },
  {
   "cell_type": "markdown",
   "id": "2a4e9b27",
   "metadata": {},
   "source": [
    "# dict key의 자료형\n",
    "* list, dict를 제외한 나머지 자료형으로 만듦.\n",
    "* 정수, 실수, 문자열, 블린, 튜블"
   ]
  },
  {
   "cell_type": "code",
   "execution_count": 12,
   "id": "ed05e176",
   "metadata": {},
   "outputs": [
    {
     "data": {
      "text/plain": [
       "{'백': 100, 100: '백', 3.5: [3.5, 3.7], False: 0, (0, '서울'): '강남구'}"
      ]
     },
     "execution_count": 12,
     "metadata": {},
     "output_type": "execute_result"
    }
   ],
   "source": [
    "d3 = {'백':100, 100:\"백\", 3.5:[3.5, 3.7],False:0, (0,\"서울\"):'강남구'}\n",
    "d3"
   ]
  },
  {
   "cell_type": "code",
   "execution_count": 11,
   "id": "1e9c87f1",
   "metadata": {},
   "outputs": [
    {
     "ename": "TypeError",
     "evalue": "unhashable type: 'list'",
     "output_type": "error",
     "traceback": [
      "\u001b[1;31m---------------------------------------------------------------------------\u001b[0m",
      "\u001b[1;31mTypeError\u001b[0m                                 Traceback (most recent call last)",
      "Cell \u001b[1;32mIn[11], line 1\u001b[0m\n\u001b[1;32m----> 1\u001b[0m d4 \u001b[38;5;241m=\u001b[39m {\u001b[38;5;124m'\u001b[39m\u001b[38;5;124m백\u001b[39m\u001b[38;5;124m'\u001b[39m:\u001b[38;5;241m100\u001b[39m, \u001b[38;5;241m100\u001b[39m:\u001b[38;5;124m\"\u001b[39m\u001b[38;5;124m백\u001b[39m\u001b[38;5;124m\"\u001b[39m, \u001b[38;5;241m3.5\u001b[39m:[\u001b[38;5;241m3.5\u001b[39m, \u001b[38;5;241m3.7\u001b[39m],\u001b[38;5;28;01mFalse\u001b[39;00m:\u001b[38;5;241m0\u001b[39m, (\u001b[38;5;241m0\u001b[39m,\u001b[38;5;124m\"\u001b[39m\u001b[38;5;124m서울\u001b[39m\u001b[38;5;124m\"\u001b[39m):\u001b[38;5;124m'\u001b[39m\u001b[38;5;124m강남구\u001b[39m\u001b[38;5;124m'\u001b[39m, [\u001b[38;5;241m1\u001b[39m,\u001b[38;5;241m2\u001b[39m]:\u001b[38;5;241m123\u001b[39m}\n\u001b[0;32m      2\u001b[0m d4\n",
      "\u001b[1;31mTypeError\u001b[0m: unhashable type: 'list'"
     ]
    }
   ],
   "source": [
    "d4 = {'백':100, 100:\"백\", 3.5:[3.5, 3.7],False:0, (0,\"서울\"):'강남구', [1,2]:123}\n",
    "d4"
   ]
  },
  {
   "cell_type": "code",
   "execution_count": 14,
   "id": "522e8fbb",
   "metadata": {},
   "outputs": [
    {
     "data": {
      "text/plain": [
       "100"
      ]
     },
     "execution_count": 14,
     "metadata": {},
     "output_type": "execute_result"
    }
   ],
   "source": [
    "d3['백']"
   ]
  },
  {
   "cell_type": "code",
   "execution_count": 15,
   "id": "5fd45a25",
   "metadata": {},
   "outputs": [
    {
     "data": {
      "text/plain": [
       "'백'"
      ]
     },
     "execution_count": 15,
     "metadata": {},
     "output_type": "execute_result"
    }
   ],
   "source": [
    "d3[100]"
   ]
  },
  {
   "cell_type": "code",
   "execution_count": 16,
   "id": "cba6ebe4",
   "metadata": {},
   "outputs": [
    {
     "data": {
      "text/plain": [
       "[3.5, 3.7]"
      ]
     },
     "execution_count": 16,
     "metadata": {},
     "output_type": "execute_result"
    }
   ],
   "source": [
    "d3[3.5]"
   ]
  },
  {
   "cell_type": "code",
   "execution_count": 17,
   "id": "ab542414",
   "metadata": {},
   "outputs": [
    {
     "data": {
      "text/plain": [
       "0"
      ]
     },
     "execution_count": 17,
     "metadata": {},
     "output_type": "execute_result"
    }
   ],
   "source": [
    "d3[False]"
   ]
  },
  {
   "cell_type": "code",
   "execution_count": 18,
   "id": "62b1c650",
   "metadata": {},
   "outputs": [
    {
     "data": {
      "text/plain": [
       "'강남구'"
      ]
     },
     "execution_count": 18,
     "metadata": {},
     "output_type": "execute_result"
    }
   ],
   "source": [
    "d3[0,\"서울\"]"
   ]
  },
  {
   "cell_type": "markdown",
   "id": "4a59df5e",
   "metadata": {},
   "source": [
    "# 딕셔너리 value의 자료형\n",
    "* value는 모든 자료형이 올 수 있다."
   ]
  },
  {
   "cell_type": "code",
   "execution_count": 19,
   "id": "b3d6287e",
   "metadata": {},
   "outputs": [
    {
     "data": {
      "text/plain": [
       "{'정수': 100,\n",
       " '실수': 3.5,\n",
       " '문자열': '딕셔너리의 값',\n",
       " '리스트': [1, 2, 3, 4],\n",
       " '튜플': (5, 6, 7, 8),\n",
       " '딕셔너리': {'key': 'value'},\n",
       " '블린': True}"
      ]
     },
     "execution_count": 19,
     "metadata": {},
     "output_type": "execute_result"
    }
   ],
   "source": [
    "d4 = {\"정수\":100, \"실수\":3.5, \"문자열\":\"딕셔너리의 값\",\n",
    "      \"리스트\":[1,2,3,4], \"튜플\":(5,6,7,8), \"딕셔너리\":{'key':'value'},\n",
    "     \"블린\":True}\n",
    "d4"
   ]
  },
  {
   "cell_type": "code",
   "execution_count": 21,
   "id": "a131fcd5",
   "metadata": {},
   "outputs": [
    {
     "data": {
      "text/plain": [
       "100"
      ]
     },
     "execution_count": 21,
     "metadata": {},
     "output_type": "execute_result"
    }
   ],
   "source": [
    "d4['정수']"
   ]
  },
  {
   "cell_type": "code",
   "execution_count": 22,
   "id": "b02fc05c",
   "metadata": {},
   "outputs": [
    {
     "data": {
      "text/plain": [
       "3.5"
      ]
     },
     "execution_count": 22,
     "metadata": {},
     "output_type": "execute_result"
    }
   ],
   "source": [
    "d4['실수']"
   ]
  },
  {
   "cell_type": "code",
   "execution_count": 24,
   "id": "746dd217",
   "metadata": {},
   "outputs": [
    {
     "data": {
      "text/plain": [
       "'딕셔너리의 값'"
      ]
     },
     "execution_count": 24,
     "metadata": {},
     "output_type": "execute_result"
    }
   ],
   "source": [
    "d4['문자열']"
   ]
  },
  {
   "cell_type": "code",
   "execution_count": 25,
   "id": "ece3692e",
   "metadata": {},
   "outputs": [
    {
     "data": {
      "text/plain": [
       "[1, 2, 3, 4]"
      ]
     },
     "execution_count": 25,
     "metadata": {},
     "output_type": "execute_result"
    }
   ],
   "source": [
    "d4[\"리스트\"]"
   ]
  },
  {
   "cell_type": "code",
   "execution_count": 26,
   "id": "7dfcbddf",
   "metadata": {},
   "outputs": [
    {
     "data": {
      "text/plain": [
       "(5, 6, 7, 8)"
      ]
     },
     "execution_count": 26,
     "metadata": {},
     "output_type": "execute_result"
    }
   ],
   "source": [
    "d4[\"튜플\"]"
   ]
  },
  {
   "cell_type": "code",
   "execution_count": 27,
   "id": "9e7d4f9a",
   "metadata": {},
   "outputs": [
    {
     "data": {
      "text/plain": [
       "{'key': 'value'}"
      ]
     },
     "execution_count": 27,
     "metadata": {},
     "output_type": "execute_result"
    }
   ],
   "source": [
    "d4[\"딕셔너리\"]"
   ]
  },
  {
   "cell_type": "code",
   "execution_count": 28,
   "id": "f64acef6",
   "metadata": {},
   "outputs": [
    {
     "data": {
      "text/plain": [
       "True"
      ]
     },
     "execution_count": 28,
     "metadata": {},
     "output_type": "execute_result"
    }
   ],
   "source": [
    "d4[\"블린\"]"
   ]
  },
  {
   "cell_type": "markdown",
   "id": "f9b081df",
   "metadata": {},
   "source": [
    "# 빈 딕셔너리 만들기\n",
    "* 변수 = {}\n",
    "* 변수 = dict()"
   ]
  },
  {
   "cell_type": "code",
   "execution_count": 29,
   "id": "2e6e0edd",
   "metadata": {},
   "outputs": [
    {
     "name": "stdout",
     "output_type": "stream",
     "text": [
      "{} <class 'dict'>\n"
     ]
    }
   ],
   "source": [
    "d5 = {}\n",
    "print(d5, type(d5))"
   ]
  },
  {
   "cell_type": "code",
   "execution_count": 30,
   "id": "3f3f449d",
   "metadata": {},
   "outputs": [
    {
     "name": "stdout",
     "output_type": "stream",
     "text": [
      "{} <class 'dict'>\n"
     ]
    }
   ],
   "source": [
    "d6 = dict()\n",
    "print(d6, type(d6))"
   ]
  },
  {
   "cell_type": "markdown",
   "id": "00e3a3e9",
   "metadata": {},
   "source": [
    "# 딕셔너리에 자료 추가하기\n",
    "* 변수['key'] = value\n",
    "* 이미 key가 있는 경우에는 자료가 수정됨, 나중에 입력한 자료로 덮어쓰기 됨."
   ]
  },
  {
   "cell_type": "code",
   "execution_count": 31,
   "id": "da157cd8",
   "metadata": {},
   "outputs": [
    {
     "data": {
      "text/plain": [
       "{}"
      ]
     },
     "execution_count": 31,
     "metadata": {},
     "output_type": "execute_result"
    }
   ],
   "source": [
    "d5"
   ]
  },
  {
   "cell_type": "code",
   "execution_count": 32,
   "id": "772ed847",
   "metadata": {},
   "outputs": [
    {
     "data": {
      "text/plain": [
       "{'번호': 0}"
      ]
     },
     "execution_count": 32,
     "metadata": {},
     "output_type": "execute_result"
    }
   ],
   "source": [
    "d5['번호']=0\n",
    "d5"
   ]
  },
  {
   "cell_type": "code",
   "execution_count": 34,
   "id": "255afd90",
   "metadata": {},
   "outputs": [
    {
     "data": {
      "text/plain": [
       "{'번호': 0, '리스트': [1, 2, 3]}"
      ]
     },
     "execution_count": 34,
     "metadata": {},
     "output_type": "execute_result"
    }
   ],
   "source": [
    "d5['리스트']=[1,2,3]\n",
    "d5"
   ]
  },
  {
   "cell_type": "code",
   "execution_count": 36,
   "id": "7d707be3",
   "metadata": {},
   "outputs": [
    {
     "data": {
      "text/plain": [
       "{'번호': 0, '리스트': [1, 2, 3, 4]}"
      ]
     },
     "execution_count": 36,
     "metadata": {},
     "output_type": "execute_result"
    }
   ],
   "source": [
    "# 이미 키가 있는 경우 나중 값으로 대체\n",
    "d5['리스트']=[1,2,3,4]\n",
    "d5"
   ]
  },
  {
   "cell_type": "code",
   "execution_count": 37,
   "id": "25e7313a",
   "metadata": {},
   "outputs": [
    {
     "data": {
      "text/plain": [
       "{'번호': 1, '이름': '둘리', '나이': 15}"
      ]
     },
     "execution_count": 37,
     "metadata": {},
     "output_type": "execute_result"
    }
   ],
   "source": [
    "d7 = {'번호':0, \"이름\":\"홍길동\", \"나이\":35, \n",
    "      '번호':1, \"이름\":\"둘리\", \"나이\":15}\n",
    "d7"
   ]
  },
  {
   "cell_type": "markdown",
   "id": "1253a55a",
   "metadata": {},
   "source": [
    "# dict 함수를 이용해서 dict 만들기\n",
    "* dict(key1:value1, key2:value2, key3:value3)\n",
    "* key 부분에 \"\"(따옴표)를 사용하지 않는다.\n",
    "* key는 모두 문자형으로 변환된다.\n",
    "* value가 문자형이면 반드시 \"\"가 필요하다."
   ]
  },
  {
   "cell_type": "code",
   "execution_count": 44,
   "id": "2b803b31",
   "metadata": {},
   "outputs": [
    {
     "ename": "SyntaxError",
     "evalue": "EOL while scanning string literal (1152658814.py, line 2)",
     "output_type": "error",
     "traceback": [
      "\u001b[1;36m  Cell \u001b[1;32mIn[44], line 2\u001b[1;36m\u001b[0m\n\u001b[1;33m    딕셔너리={\"key\":\"value})\u001b[0m\n\u001b[1;37m                        ^\u001b[0m\n\u001b[1;31mSyntaxError\u001b[0m\u001b[1;31m:\u001b[0m EOL while scanning string literal\n"
     ]
    }
   ],
   "source": [
    "dict_ex1 = dict(정수=100, 실수=3.5, 문자=\"문자열\", 리스트=[1,2,3], 튜플=(4,5,6),\n",
    "                딕셔너리={\"key\":\"value})"
   ]
  },
  {
   "cell_type": "markdown",
   "id": "223323a5",
   "metadata": {},
   "source": [
    "* dict([(key1, value1),(key2, value2),(key3, value3)])\n",
    "* 리스트 안에 key, value 쌍으로 된 튜플을 넣어서 만듦\n",
    "* key는 자료형에 맞춰서 작성"
   ]
  },
  {
   "cell_type": "code",
   "execution_count": 65,
   "id": "e03bec4c",
   "metadata": {
    "scrolled": true
   },
   "outputs": [
    {
     "data": {
      "text/plain": [
       "{1: 10,\n",
       " 3.5: '3.5',\n",
       " '문자열': '문자열입니다.',\n",
       " 'list': [1, 2, 3],\n",
       " 'tuple': (4, 5, 6),\n",
       " 'dict': {'key': 'value'}}"
      ]
     },
     "execution_count": 65,
     "metadata": {},
     "output_type": "execute_result"
    }
   ],
   "source": [
    "dict_ex2 = dict([(1,10),(3.5,\"3.5\"),(\"문자열\",\"문자열입니다.\"),\n",
    "               (\"list\",[1,2,3]), (\"tuple\",(4,5,6)),\n",
    "               (\"dict\",{'key':'value'})])\n",
    "dict_ex2"
   ]
  },
  {
   "cell_type": "code",
   "execution_count": 50,
   "id": "8e71fd7a",
   "metadata": {},
   "outputs": [
    {
     "ename": "SyntaxError",
     "evalue": "invalid syntax (2504709510.py, line 2)",
     "output_type": "error",
     "traceback": [
      "\u001b[1;36m  Cell \u001b[1;32mIn[50], line 2\u001b[1;36m\u001b[0m\n\u001b[1;33m    * key 묶음의 리스트와 value 묶음 리스트를 zip함수로 합친 후 dict 생성\u001b[0m\n\u001b[1;37m          ^\u001b[0m\n\u001b[1;31mSyntaxError\u001b[0m\u001b[1;31m:\u001b[0m invalid syntax\n"
     ]
    }
   ],
   "source": [
    "dict(zip([key1, key2, key3], [value1, value2, value3]))\n",
    "* key 묶음의 리스트와 value 묶음 리스트를 zip함수로 합친 후 dict 생성\n",
    "* key 묶음의 요소 개수와 value 묶음의 요소 개수가 일치해야 함"
   ]
  },
  {
   "cell_type": "code",
   "execution_count": 48,
   "id": "829c9a11",
   "metadata": {},
   "outputs": [
    {
     "name": "stdout",
     "output_type": "stream",
     "text": [
      "1 2 3 "
     ]
    }
   ],
   "source": [
    "#zip함수 예시\n",
    "for i in [1,2,3]:\n",
    "    print(i, end=\" \")"
   ]
  },
  {
   "cell_type": "code",
   "execution_count": 49,
   "id": "1d2e3cfb",
   "metadata": {},
   "outputs": [
    {
     "name": "stdout",
     "output_type": "stream",
     "text": [
      "(1, 4, 7) (2, 5, 8) "
     ]
    }
   ],
   "source": [
    "for i in zip([1,2,3], [4,5,6], [7, 8]):\n",
    "    print(i, end=\" \")"
   ]
  },
  {
   "cell_type": "code",
   "execution_count": 54,
   "id": "d3dbf9f8",
   "metadata": {},
   "outputs": [
    {
     "data": {
      "text/plain": [
       "{'정수': 10, '실수': 12.5, '문자열': '문자열입니다.'}"
      ]
     },
     "execution_count": 54,
     "metadata": {},
     "output_type": "execute_result"
    }
   ],
   "source": [
    "dict_ex3 = dict(zip(['정수','실수','문자열'],[10,12.5,\"문자열입니다.\"]))\n",
    "dict_ex3"
   ]
  },
  {
   "cell_type": "markdown",
   "id": "fc123c96",
   "metadata": {},
   "source": [
    "# 딕셔너리에 값 입력하고, 수정하고 삭제하기"
   ]
  },
  {
   "cell_type": "code",
   "execution_count": 66,
   "id": "cbfcaff2",
   "metadata": {},
   "outputs": [
    {
     "data": {
      "text/plain": [
       "{1: 10,\n",
       " 3.5: '3.5',\n",
       " '문자열': '문자열입니다.',\n",
       " 'list': [1, 2, 3],\n",
       " 'tuple': (4, 5, 6),\n",
       " 'dict': {'key': 'value'}}"
      ]
     },
     "execution_count": 66,
     "metadata": {},
     "output_type": "execute_result"
    }
   ],
   "source": [
    "dict_ex2"
   ]
  },
  {
   "cell_type": "code",
   "execution_count": 68,
   "id": "d1dc65cc",
   "metadata": {},
   "outputs": [
    {
     "data": {
      "text/plain": [
       "{1: 10,\n",
       " 3.5: '3.5',\n",
       " '문자열': '문자열입니다.',\n",
       " 'list': [1, 2, 3],\n",
       " 'tuple': (4, 5, 6),\n",
       " 'dict': {'key': 'value'},\n",
       " 'new key': '새로운 데이터'}"
      ]
     },
     "execution_count": 68,
     "metadata": {},
     "output_type": "execute_result"
    }
   ],
   "source": [
    "dict_ex2['new key']=\"새로운 데이터\"\n",
    "dict_ex2"
   ]
  },
  {
   "cell_type": "code",
   "execution_count": null,
   "id": "e6332d14",
   "metadata": {},
   "outputs": [],
   "source": [
    "# 딕셔너리 안에 있는 list value에 새로운 값 추가, 수정, 삭제"
   ]
  },
  {
   "cell_type": "code",
   "execution_count": 69,
   "id": "dd187158",
   "metadata": {},
   "outputs": [
    {
     "data": {
      "text/plain": [
       "[1, 2, 3, 4]"
      ]
     },
     "execution_count": 69,
     "metadata": {},
     "output_type": "execute_result"
    }
   ],
   "source": [
    "dict_ex2['list'].append(4)\n",
    "dict_ex2['list']"
   ]
  },
  {
   "cell_type": "code",
   "execution_count": 70,
   "id": "6a86f424",
   "metadata": {},
   "outputs": [
    {
     "data": {
      "text/plain": [
       "4"
      ]
     },
     "execution_count": 70,
     "metadata": {},
     "output_type": "execute_result"
    }
   ],
   "source": [
    "max(dict_ex2['list'])"
   ]
  },
  {
   "cell_type": "code",
   "execution_count": 71,
   "id": "ae4a8344",
   "metadata": {},
   "outputs": [
    {
     "data": {
      "text/plain": [
       "[1, 2, 30, 3, 4]"
      ]
     },
     "execution_count": 71,
     "metadata": {},
     "output_type": "execute_result"
    }
   ],
   "source": [
    "dict_ex2['list'].insert(2,30)\n",
    "dict_ex2['list']"
   ]
  },
  {
   "cell_type": "code",
   "execution_count": 72,
   "id": "7c124188",
   "metadata": {},
   "outputs": [
    {
     "data": {
      "text/plain": [
       "[1, 2, 33, 3, 4]"
      ]
     },
     "execution_count": 72,
     "metadata": {},
     "output_type": "execute_result"
    }
   ],
   "source": [
    "dict_ex2['list'][2]=33\n",
    "dict_ex2['list']"
   ]
  },
  {
   "cell_type": "code",
   "execution_count": 74,
   "id": "5b924264",
   "metadata": {},
   "outputs": [
    {
     "data": {
      "text/plain": [
       "13.5"
      ]
     },
     "execution_count": 74,
     "metadata": {},
     "output_type": "execute_result"
    }
   ],
   "source": [
    "dict_ex2[1] + float(dict_ex2[3.5])"
   ]
  },
  {
   "cell_type": "code",
   "execution_count": 83,
   "id": "f371b970",
   "metadata": {},
   "outputs": [
    {
     "data": {
      "text/plain": [
       "[1]"
      ]
     },
     "execution_count": 83,
     "metadata": {},
     "output_type": "execute_result"
    }
   ],
   "source": [
    "dict_ex2['list'].pop()\n",
    "dict_ex2['list']"
   ]
  },
  {
   "cell_type": "code",
   "execution_count": 82,
   "id": "ba546421",
   "metadata": {},
   "outputs": [
    {
     "ename": "ValueError",
     "evalue": "list.remove(x): x not in list",
     "output_type": "error",
     "traceback": [
      "\u001b[1;31m---------------------------------------------------------------------------\u001b[0m",
      "\u001b[1;31mValueError\u001b[0m                                Traceback (most recent call last)",
      "Cell \u001b[1;32mIn[82], line 1\u001b[0m\n\u001b[1;32m----> 1\u001b[0m \u001b[43mdict_ex2\u001b[49m\u001b[43m[\u001b[49m\u001b[38;5;124;43m'\u001b[39;49m\u001b[38;5;124;43mlist\u001b[39;49m\u001b[38;5;124;43m'\u001b[39;49m\u001b[43m]\u001b[49m\u001b[38;5;241;43m.\u001b[39;49m\u001b[43mremove\u001b[49m\u001b[43m(\u001b[49m\u001b[38;5;241;43m2\u001b[39;49m\u001b[43m)\u001b[49m\n",
      "\u001b[1;31mValueError\u001b[0m: list.remove(x): x not in list"
     ]
    }
   ],
   "source": [
    "dict_ex2['list'].remove(2)"
   ]
  },
  {
   "cell_type": "code",
   "execution_count": 80,
   "id": "73ca0b32",
   "metadata": {},
   "outputs": [
    {
     "data": {
      "text/plain": [
       "[1, 33]"
      ]
     },
     "execution_count": 80,
     "metadata": {},
     "output_type": "execute_result"
    }
   ],
   "source": [
    "dict_ex2['list']"
   ]
  },
  {
   "cell_type": "code",
   "execution_count": 81,
   "id": "2f52fe56",
   "metadata": {},
   "outputs": [
    {
     "data": {
      "text/plain": [
       "{1: 10,\n",
       " 3.5: '3.5',\n",
       " '문자열': '문자열입니다.',\n",
       " 'list': [1, 33],\n",
       " 'tuple': (4, 5, 6),\n",
       " 'dict': {'key': 'value'},\n",
       " 'new key': '새로운 데이터'}"
      ]
     },
     "execution_count": 81,
     "metadata": {},
     "output_type": "execute_result"
    }
   ],
   "source": [
    "dict_ex2"
   ]
  },
  {
   "cell_type": "code",
   "execution_count": 89,
   "id": "a7cc5436",
   "metadata": {},
   "outputs": [
    {
     "data": {
      "text/plain": [
       "{'key': 'value', 'key2': 'value2'}"
      ]
     },
     "execution_count": 89,
     "metadata": {},
     "output_type": "execute_result"
    }
   ],
   "source": [
    "dict_ex2['dict']['key2']='value2'\n",
    "dict_ex2['dict']"
   ]
  },
  {
   "cell_type": "code",
   "execution_count": 94,
   "id": "1cb7a482",
   "metadata": {
    "scrolled": true
   },
   "outputs": [
    {
     "ename": "KeyError",
     "evalue": "'key2'",
     "output_type": "error",
     "traceback": [
      "\u001b[1;31m---------------------------------------------------------------------------\u001b[0m",
      "\u001b[1;31mKeyError\u001b[0m                                  Traceback (most recent call last)",
      "Cell \u001b[1;32mIn[94], line 1\u001b[0m\n\u001b[1;32m----> 1\u001b[0m \u001b[38;5;28;01mdel\u001b[39;00m dict_ex2[\u001b[38;5;124m'\u001b[39m\u001b[38;5;124mdict\u001b[39m\u001b[38;5;124m'\u001b[39m][\u001b[38;5;124m'\u001b[39m\u001b[38;5;124mkey2\u001b[39m\u001b[38;5;124m'\u001b[39m]\n",
      "\u001b[1;31mKeyError\u001b[0m: 'key2'"
     ]
    }
   ],
   "source": [
    "del dict_ex2['dict']['key2']"
   ]
  },
  {
   "cell_type": "code",
   "execution_count": 95,
   "id": "0767a42a",
   "metadata": {},
   "outputs": [
    {
     "data": {
      "text/plain": [
       "'새로운 데이터'"
      ]
     },
     "execution_count": 95,
     "metadata": {},
     "output_type": "execute_result"
    }
   ],
   "source": [
    "# pop()을 이용해서 삭제\n",
    "dict_ex2.pop('new key')"
   ]
  },
  {
   "cell_type": "code",
   "execution_count": 97,
   "id": "30069e4b",
   "metadata": {},
   "outputs": [
    {
     "data": {
      "text/plain": [
       "{1: 10,\n",
       " 3.5: '3.5',\n",
       " '문자열': '문자열입니다.',\n",
       " 'list': [1],\n",
       " 'tuple': (4, 5, 6),\n",
       " 'dict': {'key': 'value'}}"
      ]
     },
     "execution_count": 97,
     "metadata": {},
     "output_type": "execute_result"
    }
   ],
   "source": [
    "dict_ex2"
   ]
  },
  {
   "cell_type": "code",
   "execution_count": 98,
   "id": "3c4fc513",
   "metadata": {},
   "outputs": [
    {
     "data": {
      "text/plain": [
       "{1: 10, 3.5: '3.5', 'list': [1], 'tuple': (4, 5, 6), 'dict': {'key': 'value'}}"
      ]
     },
     "execution_count": 98,
     "metadata": {},
     "output_type": "execute_result"
    }
   ],
   "source": [
    "dict_ex2.pop('문자열')\n",
    "dict_ex2"
   ]
  },
  {
   "cell_type": "code",
   "execution_count": 100,
   "id": "b68b42bf",
   "metadata": {},
   "outputs": [
    {
     "ename": "TypeError",
     "evalue": "pop expected at least 1 argument, got 0",
     "output_type": "error",
     "traceback": [
      "\u001b[1;31m---------------------------------------------------------------------------\u001b[0m",
      "\u001b[1;31mTypeError\u001b[0m                                 Traceback (most recent call last)",
      "Cell \u001b[1;32mIn[100], line 2\u001b[0m\n\u001b[0;32m      1\u001b[0m \u001b[38;5;66;03m# 딕셔너리에서 pop()로 삭제할 때는 반드시 key를 넣어줘야 한다.\u001b[39;00m\n\u001b[1;32m----> 2\u001b[0m \u001b[43mdict_ex2\u001b[49m\u001b[38;5;241;43m.\u001b[39;49m\u001b[43mpop\u001b[49m\u001b[43m(\u001b[49m\u001b[43m)\u001b[49m\n\u001b[0;32m      3\u001b[0m dict_ex2\n",
      "\u001b[1;31mTypeError\u001b[0m: pop expected at least 1 argument, got 0"
     ]
    }
   ],
   "source": [
    "# 딕셔너리에서 pop()로 삭제할 때는 반드시 key를 넣어줘야 한다.\n",
    "dict_ex2.pop()\n",
    "dict_ex2"
   ]
  },
  {
   "cell_type": "markdown",
   "id": "6a9061ec",
   "metadata": {},
   "source": [
    "# 딕셔너리 안에 특정 key가 있는지 확인하기\n",
    "* in, not in"
   ]
  },
  {
   "cell_type": "code",
   "execution_count": 101,
   "id": "3a9668fa",
   "metadata": {},
   "outputs": [
    {
     "ename": "NameError",
     "evalue": "name 'dict_ex1' is not defined",
     "output_type": "error",
     "traceback": [
      "\u001b[1;31m---------------------------------------------------------------------------\u001b[0m",
      "\u001b[1;31mNameError\u001b[0m                                 Traceback (most recent call last)",
      "Cell \u001b[1;32mIn[101], line 1\u001b[0m\n\u001b[1;32m----> 1\u001b[0m \u001b[38;5;124m'\u001b[39m\u001b[38;5;124m정수\u001b[39m\u001b[38;5;124m'\u001b[39m \u001b[38;5;129;01min\u001b[39;00m \u001b[43mdict_ex1\u001b[49m\n",
      "\u001b[1;31mNameError\u001b[0m: name 'dict_ex1' is not defined"
     ]
    }
   ],
   "source": [
    "'정수' in dict_ex1"
   ]
  },
  {
   "cell_type": "markdown",
   "id": "6e049a6c",
   "metadata": {},
   "source": [
    "# 딕셔너리 안에 key가 몇 개 있는지 확인하기\n",
    "* len()\n",
    "* key의 갯수만 출력\n",
    "* 가장 외부의 key 갯수만 카운트 함, 내부 딕셔너리의 key는 따로 떠내서 확인해야함"
   ]
  },
  {
   "cell_type": "code",
   "execution_count": 105,
   "id": "44441801",
   "metadata": {},
   "outputs": [
    {
     "data": {
      "text/plain": [
       "{'info': [{'name': 'alice', 'scores': (95, 88, 92)},\n",
       "  {'name': 'bob', 'scores': (78, 85, 89)}],\n",
       " 'extra': {'hobbies': ['leading', 'cording'], 'location': ('seoul', 'busan')}}"
      ]
     },
     "execution_count": 105,
     "metadata": {},
     "output_type": "execute_result"
    }
   ],
   "source": [
    "data = {'info':[{'name':'alice', 'scores':(95,88,92)},\n",
    "                {'name':'bob', 'scores':(78,85,89)}],\n",
    "       'extra':{'hobbies':['leading','cording'],\n",
    "                'location':('seoul','busan')}}\n",
    "data"
   ]
  },
  {
   "cell_type": "code",
   "execution_count": 106,
   "id": "434b7d5e",
   "metadata": {},
   "outputs": [
    {
     "data": {
      "text/plain": [
       "2"
      ]
     },
     "execution_count": 106,
     "metadata": {},
     "output_type": "execute_result"
    }
   ],
   "source": [
    "len(data)"
   ]
  },
  {
   "cell_type": "code",
   "execution_count": 109,
   "id": "bdc504d5",
   "metadata": {},
   "outputs": [
    {
     "data": {
      "text/plain": [
       "2"
      ]
     },
     "execution_count": 109,
     "metadata": {},
     "output_type": "execute_result"
    }
   ],
   "source": [
    "len(data['info'][0])"
   ]
  },
  {
   "cell_type": "code",
   "execution_count": 112,
   "id": "cff58950",
   "metadata": {},
   "outputs": [
    {
     "data": {
      "text/plain": [
       "(95, 88, 92)"
      ]
     },
     "execution_count": 112,
     "metadata": {},
     "output_type": "execute_result"
    }
   ],
   "source": [
    "data['info'][0]['scores']"
   ]
  },
  {
   "cell_type": "code",
   "execution_count": 114,
   "id": "e2edecf0",
   "metadata": {},
   "outputs": [
    {
     "data": {
      "text/plain": [
       "95"
      ]
     },
     "execution_count": 114,
     "metadata": {},
     "output_type": "execute_result"
    }
   ],
   "source": [
    "# dict - list - dict - tuple - int\n",
    "data['info'][0]['scores'][0]"
   ]
  },
  {
   "cell_type": "markdown",
   "id": "57d18645",
   "metadata": {},
   "source": [
    "# 딕셔너리 함수 사용하기"
   ]
  },
  {
   "cell_type": "markdown",
   "id": "9e014884",
   "metadata": {},
   "source": [
    "## setdefault(ket,value) 딕셔너리에 자료 추가\n",
    "* 딕셔너리에 key와 value를 추가\n",
    "* key가 중복되면 나중에 추가하는 값을 무시함(원래 자료 보존)\n",
    "  * 원래 key는 중복되면 나중값 적용\n",
    "* key만 넣고 value를 생략하면 자동으로 'None'이 입력됨"
   ]
  },
  {
   "cell_type": "code",
   "execution_count": 115,
   "id": "485cfd45",
   "metadata": {},
   "outputs": [
    {
     "data": {
      "text/plain": [
       "{'년월': '20250924', '국가': '미국', '방문자수': 1000}"
      ]
     },
     "execution_count": 115,
     "metadata": {},
     "output_type": "execute_result"
    }
   ],
   "source": [
    "d"
   ]
  },
  {
   "cell_type": "code",
   "execution_count": 117,
   "id": "f3d8d327",
   "metadata": {},
   "outputs": [
    {
     "data": {
      "text/plain": [
       "{'년월': '20240924', '국가': '미국', '방문자수': 1000}"
      ]
     },
     "execution_count": 117,
     "metadata": {},
     "output_type": "execute_result"
    }
   ],
   "source": [
    "d['년월'] = '20240924'\n",
    "d"
   ]
  },
  {
   "cell_type": "code",
   "execution_count": 121,
   "id": "6257ea92",
   "metadata": {},
   "outputs": [
    {
     "data": {
      "text/plain": [
       "{'년월': '20240924', '국가': '미국', '방문자수': 1000}"
      ]
     },
     "execution_count": 121,
     "metadata": {},
     "output_type": "execute_result"
    }
   ],
   "source": [
    "# 기존에 key가 있는 경우, 기존 값 유지\n",
    "d.setdefault('년월',20250924)\n",
    "d"
   ]
  },
  {
   "cell_type": "code",
   "execution_count": 122,
   "id": "7c2965ad",
   "metadata": {},
   "outputs": [
    {
     "data": {
      "text/plain": [
       "{'년월': '20240924', '국가': '미국', '방문자수': 1000, '날씨': '맑음'}"
      ]
     },
     "execution_count": 122,
     "metadata": {},
     "output_type": "execute_result"
    }
   ],
   "source": [
    "d.setdefault('날씨','맑음')\n",
    "d"
   ]
  },
  {
   "cell_type": "code",
   "execution_count": 124,
   "id": "4c493ef8",
   "metadata": {},
   "outputs": [],
   "source": [
    "for i in range(1,11):\n",
    "    d.setdefault('숫자',[]).append(i)"
   ]
  },
  {
   "cell_type": "code",
   "execution_count": 125,
   "id": "ef4bd672",
   "metadata": {},
   "outputs": [
    {
     "data": {
      "text/plain": [
       "{'년월': '20240924',\n",
       " '국가': '미국',\n",
       " '방문자수': 1000,\n",
       " '날씨': '맑음',\n",
       " '숫자': [1, 2, 3, 4, 5, 6, 7, 8, 9, 10]}"
      ]
     },
     "execution_count": 125,
     "metadata": {},
     "output_type": "execute_result"
    }
   ],
   "source": [
    "d"
   ]
  },
  {
   "cell_type": "markdown",
   "id": "c64d36f1",
   "metadata": {},
   "source": [
    "## update(key=value)\n",
    "* 기존에 key가 있는 경우 값을 새로운 값으로 update\n",
    "* 기존에 key가 없는 경우 새로운 key와 value 생성\n",
    "* key 부분에는 \"\",''를 사용하지 않는다.\n",
    "* key 부분에는 문자형 key만 올 수 있다.\n",
    "* update는 문자형 key만 업데이트 가능"
   ]
  },
  {
   "cell_type": "code",
   "execution_count": 126,
   "id": "c839df09",
   "metadata": {},
   "outputs": [
    {
     "data": {
      "text/plain": [
       "{'년월': '20240924',\n",
       " '국가': '미국',\n",
       " '방문자수': 1000,\n",
       " '날씨': '맑음',\n",
       " '숫자': [1, 2, 3, 4, 5, 6, 7, 8, 9, 10]}"
      ]
     },
     "execution_count": 126,
     "metadata": {},
     "output_type": "execute_result"
    }
   ],
   "source": [
    "d"
   ]
  },
  {
   "cell_type": "code",
   "execution_count": 128,
   "id": "a977aed3",
   "metadata": {},
   "outputs": [
    {
     "data": {
      "text/plain": [
       "{'년월': '20240924',\n",
       " '국가': '미국',\n",
       " '방문자수': 500,\n",
       " '날씨': '맑음',\n",
       " '숫자': [1, 2, 3, 4, 5, 6, 7, 8, 9, 10]}"
      ]
     },
     "execution_count": 128,
     "metadata": {},
     "output_type": "execute_result"
    }
   ],
   "source": [
    "d.update(방문자수=500)\n",
    "d"
   ]
  },
  {
   "cell_type": "code",
   "execution_count": 130,
   "id": "51a6ed65",
   "metadata": {},
   "outputs": [
    {
     "data": {
      "text/plain": [
       "{'년월': '20240924',\n",
       " '국가': '미국',\n",
       " '방문자수': 500,\n",
       " '날씨': '맑음',\n",
       " '숫자': [1, 2, 3, 4, 5, 6, 7, 8, 9, 10],\n",
       " '바람': '강함'}"
      ]
     },
     "execution_count": 130,
     "metadata": {},
     "output_type": "execute_result"
    }
   ],
   "source": [
    "d.update(바람='강함')\n",
    "d"
   ]
  },
  {
   "cell_type": "code",
   "execution_count": 131,
   "id": "e953015f",
   "metadata": {
    "scrolled": true
   },
   "outputs": [
    {
     "ename": "SyntaxError",
     "evalue": "expression cannot contain assignment, perhaps you meant \"==\"? (2659136881.py, line 1)",
     "output_type": "error",
     "traceback": [
      "\u001b[1;36m  Cell \u001b[1;32mIn[131], line 1\u001b[1;36m\u001b[0m\n\u001b[1;33m    d.update(100='백')\u001b[0m\n\u001b[1;37m             ^\u001b[0m\n\u001b[1;31mSyntaxError\u001b[0m\u001b[1;31m:\u001b[0m expression cannot contain assignment, perhaps you meant \"==\"?\n"
     ]
    }
   ],
   "source": [
    "# 기존에 key가 없어서 새로 추가하는 경우 key 부분에는 문자형 key만 올 수 있다.\n",
    "d.update(100='백')\n",
    "d"
   ]
  },
  {
   "cell_type": "code",
   "execution_count": 132,
   "id": "e572a507",
   "metadata": {},
   "outputs": [
    {
     "data": {
      "text/plain": [
       "{'년월': '20240924',\n",
       " '국가': '미국',\n",
       " '방문자수': 500,\n",
       " '날씨': '맑음',\n",
       " '숫자': [1, 2, 3, 4, 5, 6, 7, 8, 9, 10],\n",
       " '바람': '강함',\n",
       " '백': '백'}"
      ]
     },
     "execution_count": 132,
     "metadata": {},
     "output_type": "execute_result"
    }
   ],
   "source": [
    "d.update(백='백')\n",
    "d"
   ]
  },
  {
   "cell_type": "code",
   "execution_count": 133,
   "id": "b76f9747",
   "metadata": {},
   "outputs": [
    {
     "data": {
      "text/plain": [
       "{'년월': '20240924',\n",
       " '국가': '미국',\n",
       " '방문자수': 500,\n",
       " '날씨': '맑음',\n",
       " '숫자': [1, 2, 3, 4, 5, 6, 7, 8, 9, 10],\n",
       " '바람': '강함',\n",
       " '백': '백',\n",
       " 3: 300}"
      ]
     },
     "execution_count": 133,
     "metadata": {},
     "output_type": "execute_result"
    }
   ],
   "source": [
    "d[3]=300\n",
    "d"
   ]
  },
  {
   "cell_type": "code",
   "execution_count": 134,
   "id": "3db8408f",
   "metadata": {},
   "outputs": [
    {
     "ename": "SyntaxError",
     "evalue": "expression cannot contain assignment, perhaps you meant \"==\"? (408612612.py, line 1)",
     "output_type": "error",
     "traceback": [
      "\u001b[1;36m  Cell \u001b[1;32mIn[134], line 1\u001b[1;36m\u001b[0m\n\u001b[1;33m    d.update(3='삼백')\u001b[0m\n\u001b[1;37m             ^\u001b[0m\n\u001b[1;31mSyntaxError\u001b[0m\u001b[1;31m:\u001b[0m expression cannot contain assignment, perhaps you meant \"==\"?\n"
     ]
    }
   ],
   "source": [
    "d.update(3='삼백')\n",
    "d"
   ]
  },
  {
   "cell_type": "markdown",
   "id": "f6fac224",
   "metadata": {},
   "source": [
    "# 딕셔너리에서 value를 가져오는 함수 .get()\n",
    "* 딕셔너리에서 value를 보고 싶을 때는 key 호출\n",
    "* 만약, 딕셔너리 안에 key가 없는데 호출 시 오류 발생\n",
    "* .get('key',\"key가 없을때 출력할 내용\") key가 없어도 오류 발생 X, 기본값 출력\n",
    "* 딕셔너리 내에 key가 있다없다를 반복하는 경우 오류 방지"
   ]
  },
  {
   "cell_type": "code",
   "execution_count": 135,
   "id": "070220a4",
   "metadata": {},
   "outputs": [
    {
     "data": {
      "text/plain": [
       "'강함'"
      ]
     },
     "execution_count": 135,
     "metadata": {},
     "output_type": "execute_result"
    }
   ],
   "source": [
    "d['바람']"
   ]
  },
  {
   "cell_type": "code",
   "execution_count": 136,
   "id": "4441f941",
   "metadata": {},
   "outputs": [
    {
     "ename": "KeyError",
     "evalue": "'강수량'",
     "output_type": "error",
     "traceback": [
      "\u001b[1;31m---------------------------------------------------------------------------\u001b[0m",
      "\u001b[1;31mKeyError\u001b[0m                                  Traceback (most recent call last)",
      "Cell \u001b[1;32mIn[136], line 1\u001b[0m\n\u001b[1;32m----> 1\u001b[0m \u001b[43md\u001b[49m\u001b[43m[\u001b[49m\u001b[38;5;124;43m'\u001b[39;49m\u001b[38;5;124;43m강수량\u001b[39;49m\u001b[38;5;124;43m'\u001b[39;49m\u001b[43m]\u001b[49m\n",
      "\u001b[1;31mKeyError\u001b[0m: '강수량'"
     ]
    }
   ],
   "source": [
    "d['강수량']"
   ]
  },
  {
   "cell_type": "code",
   "execution_count": 139,
   "id": "cfa2ea98",
   "metadata": {},
   "outputs": [
    {
     "data": {
      "text/plain": [
       "'해당 key 없음'"
      ]
     },
     "execution_count": 139,
     "metadata": {},
     "output_type": "execute_result"
    }
   ],
   "source": [
    "d.get('강수량','해당 key 없음')"
   ]
  },
  {
   "cell_type": "markdown",
   "id": "47f3f841",
   "metadata": {},
   "source": [
    "# 딕셔너리에서 key, value, (key,value)를 가져오는 함수\n",
    "* keys(): 딕셔너리에서 key만 출력\n",
    "* values(): 딕셔너리에서 value만 출력\n",
    "* items(): 딕셔너리에서 key,value를 튜플 묶음 형태로 출력(key,value)\n",
    "* 위의 3함수의 결과를 list()로 형변환을 해주면 list처럼 사용 가능"
   ]
  },
  {
   "cell_type": "code",
   "execution_count": 140,
   "id": "a9204529",
   "metadata": {},
   "outputs": [
    {
     "data": {
      "text/plain": [
       "{'info': [{'name': 'alice', 'scores': (95, 88, 92)},\n",
       "  {'name': 'bob', 'scores': (78, 85, 89)}],\n",
       " 'extra': {'hobbies': ['leading', 'cording'], 'location': ('seoul', 'busan')}}"
      ]
     },
     "execution_count": 140,
     "metadata": {},
     "output_type": "execute_result"
    }
   ],
   "source": [
    "data"
   ]
  },
  {
   "cell_type": "code",
   "execution_count": 145,
   "id": "507fc415",
   "metadata": {},
   "outputs": [
    {
     "data": {
      "text/plain": [
       "dict_keys(['info', 'extra'])"
      ]
     },
     "execution_count": 145,
     "metadata": {},
     "output_type": "execute_result"
    }
   ],
   "source": [
    "keys=data.keys()\n",
    "keys"
   ]
  },
  {
   "cell_type": "code",
   "execution_count": 143,
   "id": "7ef53502",
   "metadata": {},
   "outputs": [
    {
     "ename": "TypeError",
     "evalue": "'dict_keys' object is not subscriptable",
     "output_type": "error",
     "traceback": [
      "\u001b[1;31m---------------------------------------------------------------------------\u001b[0m",
      "\u001b[1;31mTypeError\u001b[0m                                 Traceback (most recent call last)",
      "Cell \u001b[1;32mIn[143], line 1\u001b[0m\n\u001b[1;32m----> 1\u001b[0m \u001b[43mkeys\u001b[49m\u001b[43m[\u001b[49m\u001b[38;5;241;43m0\u001b[39;49m\u001b[43m]\u001b[49m\n",
      "\u001b[1;31mTypeError\u001b[0m: 'dict_keys' object is not subscriptable"
     ]
    }
   ],
   "source": [
    "keys[0]"
   ]
  },
  {
   "cell_type": "code",
   "execution_count": 149,
   "id": "32fe77e5",
   "metadata": {},
   "outputs": [
    {
     "name": "stdout",
     "output_type": "stream",
     "text": [
      "<class 'dict_keys'> <class 'list'> <class 'list'>\n"
     ]
    }
   ],
   "source": [
    "keys=list(data.keys())\n",
    "print(type(data.keys()), type(list(data.keys())), type(keys))"
   ]
  },
  {
   "cell_type": "code",
   "execution_count": 153,
   "id": "05d91a6a",
   "metadata": {},
   "outputs": [
    {
     "data": {
      "text/plain": [
       "'scores'"
      ]
     },
     "execution_count": 153,
     "metadata": {},
     "output_type": "execute_result"
    }
   ],
   "source": [
    "list(data['info'][0].keys())[1]"
   ]
  },
  {
   "cell_type": "code",
   "execution_count": 155,
   "id": "d72f14cf",
   "metadata": {},
   "outputs": [
    {
     "data": {
      "text/plain": [
       "dict_values([[{'name': 'alice', 'scores': (95, 88, 92)}, {'name': 'bob', 'scores': (78, 85, 89)}], {'hobbies': ['leading', 'cording'], 'location': ('seoul', 'busan')}])"
      ]
     },
     "execution_count": 155,
     "metadata": {},
     "output_type": "execute_result"
    }
   ],
   "source": [
    "# values\n",
    "data.values()"
   ]
  },
  {
   "cell_type": "code",
   "execution_count": 156,
   "id": "53ff57db",
   "metadata": {},
   "outputs": [],
   "source": [
    "values=data.values()"
   ]
  },
  {
   "cell_type": "code",
   "execution_count": 159,
   "id": "f41a9ed6",
   "metadata": {},
   "outputs": [
    {
     "data": {
      "text/plain": [
       "[[{'name': 'alice', 'scores': (95, 88, 92)},\n",
       "  {'name': 'bob', 'scores': (78, 85, 89)}],\n",
       " {'hobbies': ['leading', 'cording'], 'location': ('seoul', 'busan')}]"
      ]
     },
     "execution_count": 159,
     "metadata": {},
     "output_type": "execute_result"
    }
   ],
   "source": [
    "values=list(values)\n",
    "values"
   ]
  },
  {
   "cell_type": "code",
   "execution_count": 162,
   "id": "48fdcc9f",
   "metadata": {},
   "outputs": [
    {
     "data": {
      "text/plain": [
       "dict_values(['bob', (78, 85, 89)])"
      ]
     },
     "execution_count": 162,
     "metadata": {},
     "output_type": "execute_result"
    }
   ],
   "source": [
    "values[0][1].values()"
   ]
  },
  {
   "cell_type": "code",
   "execution_count": 163,
   "id": "a2f5db31",
   "metadata": {},
   "outputs": [
    {
     "data": {
      "text/plain": [
       "dict_items([('info', [{'name': 'alice', 'scores': (95, 88, 92)}, {'name': 'bob', 'scores': (78, 85, 89)}]), ('extra', {'hobbies': ['leading', 'cording'], 'location': ('seoul', 'busan')})])"
      ]
     },
     "execution_count": 163,
     "metadata": {},
     "output_type": "execute_result"
    }
   ],
   "source": [
    "# items는 (key, value) 형식으로 출력\n",
    "data.items()"
   ]
  },
  {
   "cell_type": "code",
   "execution_count": 165,
   "id": "0ac2d295",
   "metadata": {},
   "outputs": [
    {
     "data": {
      "text/plain": [
       "[('info',\n",
       "  [{'name': 'alice', 'scores': (95, 88, 92)},\n",
       "   {'name': 'bob', 'scores': (78, 85, 89)}]),\n",
       " ('extra',\n",
       "  {'hobbies': ['leading', 'cording'], 'location': ('seoul', 'busan')})]"
      ]
     },
     "execution_count": 165,
     "metadata": {},
     "output_type": "execute_result"
    }
   ],
   "source": [
    "items = list(data.items())\n",
    "items"
   ]
  },
  {
   "cell_type": "code",
   "execution_count": 166,
   "id": "f868b02b",
   "metadata": {},
   "outputs": [
    {
     "data": {
      "text/plain": [
       "('info',\n",
       " [{'name': 'alice', 'scores': (95, 88, 92)},\n",
       "  {'name': 'bob', 'scores': (78, 85, 89)}])"
      ]
     },
     "execution_count": 166,
     "metadata": {},
     "output_type": "execute_result"
    }
   ],
   "source": [
    "items[0]"
   ]
  },
  {
   "cell_type": "code",
   "execution_count": 167,
   "id": "6c839db6",
   "metadata": {},
   "outputs": [
    {
     "data": {
      "text/plain": [
       "('extra', {'hobbies': ['leading', 'cording'], 'location': ('seoul', 'busan')})"
      ]
     },
     "execution_count": 167,
     "metadata": {},
     "output_type": "execute_result"
    }
   ],
   "source": [
    "items[1]"
   ]
  },
  {
   "cell_type": "code",
   "execution_count": 168,
   "id": "c44bddbd",
   "metadata": {
    "scrolled": true
   },
   "outputs": [
    {
     "data": {
      "text/plain": [
       "{'년월': '20240924',\n",
       " '국가': '미국',\n",
       " '방문자수': 500,\n",
       " '날씨': '맑음',\n",
       " '숫자': [1, 2, 3, 4, 5, 6, 7, 8, 9, 10],\n",
       " '바람': '강함',\n",
       " '백': '백',\n",
       " 3: 300}"
      ]
     },
     "execution_count": 168,
     "metadata": {},
     "output_type": "execute_result"
    }
   ],
   "source": [
    "d"
   ]
  },
  {
   "cell_type": "code",
   "execution_count": 169,
   "id": "1cb2329d",
   "metadata": {},
   "outputs": [
    {
     "data": {
      "text/plain": [
       "dict_keys(['년월', '국가', '방문자수', '날씨', '숫자', '바람', '백', 3])"
      ]
     },
     "execution_count": 169,
     "metadata": {},
     "output_type": "execute_result"
    }
   ],
   "source": [
    "d.keys()"
   ]
  },
  {
   "cell_type": "code",
   "execution_count": 170,
   "id": "cd32ef7b",
   "metadata": {},
   "outputs": [
    {
     "data": {
      "text/plain": [
       "dict_values(['20240924', '미국', 500, '맑음', [1, 2, 3, 4, 5, 6, 7, 8, 9, 10], '강함', '백', 300])"
      ]
     },
     "execution_count": 170,
     "metadata": {},
     "output_type": "execute_result"
    }
   ],
   "source": [
    "d.values()"
   ]
  },
  {
   "cell_type": "code",
   "execution_count": 171,
   "id": "68d68ea8",
   "metadata": {
    "scrolled": true
   },
   "outputs": [
    {
     "data": {
      "text/plain": [
       "dict_items([('년월', '20240924'), ('국가', '미국'), ('방문자수', 500), ('날씨', '맑음'), ('숫자', [1, 2, 3, 4, 5, 6, 7, 8, 9, 10]), ('바람', '강함'), ('백', '백'), (3, 300)])"
      ]
     },
     "execution_count": 171,
     "metadata": {},
     "output_type": "execute_result"
    }
   ],
   "source": [
    "d.items()"
   ]
  },
  {
   "cell_type": "code",
   "execution_count": 172,
   "id": "81020936",
   "metadata": {},
   "outputs": [
    {
     "name": "stdout",
     "output_type": "stream",
     "text": [
      "년월\n",
      "국가\n",
      "방문자수\n",
      "날씨\n",
      "숫자\n",
      "바람\n",
      "백\n",
      "3\n"
     ]
    }
   ],
   "source": [
    "for key in d.keys():\n",
    "    print(key)"
   ]
  },
  {
   "cell_type": "code",
   "execution_count": 173,
   "id": "605cf4a7",
   "metadata": {},
   "outputs": [
    {
     "name": "stdout",
     "output_type": "stream",
     "text": [
      "20240924\n",
      "미국\n",
      "500\n",
      "맑음\n",
      "[1, 2, 3, 4, 5, 6, 7, 8, 9, 10]\n",
      "강함\n",
      "백\n",
      "300\n"
     ]
    }
   ],
   "source": [
    "for key in d.values():\n",
    "    print(key)"
   ]
  },
  {
   "cell_type": "code",
   "execution_count": 174,
   "id": "3d8f583b",
   "metadata": {},
   "outputs": [
    {
     "name": "stdout",
     "output_type": "stream",
     "text": [
      "('년월', '20240924')\n",
      "('국가', '미국')\n",
      "('방문자수', 500)\n",
      "('날씨', '맑음')\n",
      "('숫자', [1, 2, 3, 4, 5, 6, 7, 8, 9, 10])\n",
      "('바람', '강함')\n",
      "('백', '백')\n",
      "(3, 300)\n"
     ]
    }
   ],
   "source": [
    "for key in d.items():\n",
    "    print(key)"
   ]
  },
  {
   "cell_type": "code",
   "execution_count": 179,
   "id": "a9c66cd2",
   "metadata": {},
   "outputs": [
    {
     "name": "stdout",
     "output_type": "stream",
     "text": [
      "key:  년월 value:  20240924\n",
      "key:  국가 value:  미국\n",
      "key:  방문자수 value:  500\n",
      "key:  날씨 value:  맑음\n",
      "key:  숫자 value:  [1, 2, 3, 4, 5, 6, 7, 8, 9, 10]\n",
      "key:  바람 value:  강함\n",
      "key:  백 value:  백\n",
      "key:  3 value:  300\n"
     ]
    }
   ],
   "source": [
    "for key,value in d.items():\n",
    "    print(\"key: \",key,\"value: \", value)"
   ]
  },
  {
   "cell_type": "code",
   "execution_count": 184,
   "id": "2fb6ccd6",
   "metadata": {},
   "outputs": [
    {
     "name": "stdout",
     "output_type": "stream",
     "text": [
      "('년월', '20240924')\n",
      "('국가', '미국')\n",
      "('방문자수', 500)\n",
      "('날씨', '맑음')\n",
      "('숫자', [1, 2, 3, 4, 5, 6, 7, 8, 9, 10])\n",
      "('바람', '강함')\n",
      "('백', '백')\n",
      "(3, 300)\n"
     ]
    }
   ],
   "source": [
    "for item in d.items():\n",
    "    print(item)"
   ]
  },
  {
   "cell_type": "code",
   "execution_count": null,
   "id": "b5382878",
   "metadata": {},
   "outputs": [],
   "source": []
  },
  {
   "cell_type": "code",
   "execution_count": null,
   "id": "4a360106",
   "metadata": {},
   "outputs": [],
   "source": []
  },
  {
   "cell_type": "code",
   "execution_count": null,
   "id": "601abcdb",
   "metadata": {},
   "outputs": [],
   "source": []
  },
  {
   "cell_type": "code",
   "execution_count": null,
   "id": "b22f6b4a",
   "metadata": {},
   "outputs": [],
   "source": []
  }
 ],
 "metadata": {
  "kernelspec": {
   "display_name": "Python 3 (ipykernel)",
   "language": "python",
   "name": "python3"
  },
  "language_info": {
   "codemirror_mode": {
    "name": "ipython",
    "version": 3
   },
   "file_extension": ".py",
   "mimetype": "text/x-python",
   "name": "python",
   "nbconvert_exporter": "python",
   "pygments_lexer": "ipython3",
   "version": "3.9.23"
  }
 },
 "nbformat": 4,
 "nbformat_minor": 5
}
