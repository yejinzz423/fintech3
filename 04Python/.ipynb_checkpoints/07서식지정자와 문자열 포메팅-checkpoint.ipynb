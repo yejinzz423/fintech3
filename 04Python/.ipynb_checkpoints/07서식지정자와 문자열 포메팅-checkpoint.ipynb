{
 "cells": [
  {
   "cell_type": "markdown",
   "id": "94a7a7f9",
   "metadata": {},
   "source": [
    "# 서식지정자, format 메서드\n",
    "* 문자열로만 입력해야 하는 상황에서 같은 위치에 문자를 여러번 바꿔야 할 때 사용\n",
    "* 문자의 자릿수 맞춤, 위치 정렬에도 사용\n",
    "* 문자열 사이에 변수에 담긴 내용을 함께 출력할 때 사용"
   ]
  },
  {
   "cell_type": "markdown",
   "id": "d09a9f4e",
   "metadata": {},
   "source": [
    "# 1. 서식지정자 %d, %s, %f, %길이s"
   ]
  },
  {
   "cell_type": "markdown",
   "id": "e74c7cbf",
   "metadata": {},
   "source": [
    "## 1) 문자를 입력할 때 %s"
   ]
  },
  {
   "cell_type": "code",
   "execution_count": 3,
   "id": "9d63acae",
   "metadata": {},
   "outputs": [
    {
     "name": "stdout",
     "output_type": "stream",
     "text": [
      "이 수업의 이름은 국어 입니다.\n"
     ]
    }
   ],
   "source": [
    "print(\"이 수업의 이름은 %s 입니다.\" %\"국어\")"
   ]
  },
  {
   "cell_type": "code",
   "execution_count": 4,
   "id": "87b5c068",
   "metadata": {},
   "outputs": [
    {
     "name": "stdout",
     "output_type": "stream",
     "text": [
      "이 수업의 이름은 국어 입니다.\n",
      "이 수업의 이름은 수학 입니다.\n",
      "이 수업의 이름은 사회 입니다.\n",
      "이 수업의 이름은 영어 입니다.\n"
     ]
    }
   ],
   "source": [
    "for i in ['국어', \"수학\", \"사회\", \"영어\"]:\n",
    "    print(\"이 수업의 이름은 %s 입니다.\" %i)"
   ]
  },
  {
   "cell_type": "markdown",
   "id": "75ee6502",
   "metadata": {},
   "source": [
    "## 2) 정수를 입력할 때 %d"
   ]
  },
  {
   "cell_type": "code",
   "execution_count": 5,
   "id": "9c2c256e",
   "metadata": {},
   "outputs": [
    {
     "name": "stdout",
     "output_type": "stream",
     "text": [
      "올해는 2025년 입니다.\n"
     ]
    }
   ],
   "source": [
    "print(\"올해는 %d년 입니다.\" %2025)"
   ]
  },
  {
   "cell_type": "code",
   "execution_count": 6,
   "id": "06f34a8f",
   "metadata": {},
   "outputs": [
    {
     "ename": "NameError",
     "evalue": "name '이공이오' is not defined",
     "output_type": "error",
     "traceback": [
      "\u001b[1;31m---------------------------------------------------------------------------\u001b[0m",
      "\u001b[1;31mNameError\u001b[0m                                 Traceback (most recent call last)",
      "Cell \u001b[1;32mIn[6], line 1\u001b[0m\n\u001b[1;32m----> 1\u001b[0m \u001b[38;5;28mprint\u001b[39m(\u001b[38;5;124m\"\u001b[39m\u001b[38;5;124m올해는 \u001b[39m\u001b[38;5;132;01m%d\u001b[39;00m\u001b[38;5;124m년 입니다.\u001b[39m\u001b[38;5;124m\"\u001b[39m \u001b[38;5;241m%\u001b[39m\u001b[43m이공이오\u001b[49m)\n",
      "\u001b[1;31mNameError\u001b[0m: name '이공이오' is not defined"
     ]
    }
   ],
   "source": [
    "print(\"올해는 %d년 입니다.\" %이공이오)"
   ]
  },
  {
   "cell_type": "code",
   "execution_count": 7,
   "id": "aa4f6374",
   "metadata": {},
   "outputs": [
    {
     "name": "stdout",
     "output_type": "stream",
     "text": [
      "올해는 25년 입니다.\n"
     ]
    }
   ],
   "source": [
    "print(\"올해는 %d년 입니다.\" %25.05)"
   ]
  },
  {
   "cell_type": "markdown",
   "id": "12863c3f",
   "metadata": {},
   "source": [
    "## 3) 실수를 입력할 때 %f 기본 소숫점 6자리로 표시"
   ]
  },
  {
   "cell_type": "code",
   "execution_count": 8,
   "id": "706ce828",
   "metadata": {},
   "outputs": [
    {
     "name": "stdout",
     "output_type": "stream",
     "text": [
      "사람의 정상 체온은 약 36.500000도 입니다\n"
     ]
    }
   ],
   "source": [
    "print(\"사람의 정상 체온은 약 %f도 입니다\" %36.5)"
   ]
  },
  {
   "cell_type": "markdown",
   "id": "dbe3ff0a",
   "metadata": {},
   "source": [
    "* 소숫점 표기를 조절할 때 %.소숫점자리수f ex)%.2f (소숫점 두자리까지만)"
   ]
  },
  {
   "cell_type": "code",
   "execution_count": 10,
   "id": "53479715",
   "metadata": {},
   "outputs": [
    {
     "name": "stdout",
     "output_type": "stream",
     "text": [
      "사람의 정상 체온은 약 36.5도 입니다\n"
     ]
    }
   ],
   "source": [
    "print(\"사람의 정상 체온은 약 %.1f도 입니다\" %36.5)"
   ]
  },
  {
   "cell_type": "markdown",
   "id": "a4653e3e",
   "metadata": {},
   "source": [
    "## 4) 서식지정자로 문자열 길이, 정렬 %길이s\n",
    "* %3s =>세자리로 표시"
   ]
  },
  {
   "cell_type": "code",
   "execution_count": 11,
   "id": "df7f7399",
   "metadata": {},
   "outputs": [
    {
     "name": "stdout",
     "output_type": "stream",
     "text": [
      " 01\n"
     ]
    }
   ],
   "source": [
    "print(\"%3s\" % \"01\")"
   ]
  },
  {
   "cell_type": "code",
   "execution_count": 12,
   "id": "37c29b99",
   "metadata": {},
   "outputs": [
    {
     "data": {
      "text/plain": [
       "' 01'"
      ]
     },
     "execution_count": 12,
     "metadata": {},
     "output_type": "execute_result"
    }
   ],
   "source": [
    "\"%3s\" % \"01\""
   ]
  },
  {
   "cell_type": "code",
   "execution_count": 13,
   "id": "6d89864d",
   "metadata": {
    "scrolled": true
   },
   "outputs": [
    {
     "data": {
      "text/plain": [
       "'  01'"
      ]
     },
     "execution_count": 13,
     "metadata": {},
     "output_type": "execute_result"
    }
   ],
   "source": [
    "\"%4s\" % \"01\""
   ]
  },
  {
   "cell_type": "code",
   "execution_count": 14,
   "id": "b3397e40",
   "metadata": {},
   "outputs": [
    {
     "name": "stdout",
     "output_type": "stream",
     "text": [
      "15000\n",
      "150000\n"
     ]
    }
   ],
   "source": [
    "print(15000)\n",
    "print(150000)"
   ]
  },
  {
   "cell_type": "code",
   "execution_count": 15,
   "id": "2345a132",
   "metadata": {},
   "outputs": [
    {
     "name": "stdout",
     "output_type": "stream",
     "text": [
      "가격은      15000 입니다\n",
      "가격은     150000 입니다\n"
     ]
    }
   ],
   "source": [
    "print(\"가격은 %10d 입니다\" %15000)\n",
    "print(\"가격은 %10d 입니다\" %150000)"
   ]
  },
  {
   "cell_type": "markdown",
   "id": "07c469a7",
   "metadata": {},
   "source": [
    "## 5) 여러 항목 동시에 넣기"
   ]
  },
  {
   "cell_type": "code",
   "execution_count": 17,
   "id": "548289e5",
   "metadata": {},
   "outputs": [
    {
     "name": "stdout",
     "output_type": "stream",
     "text": [
      "오늘은 2025년  9월 24일 입니다.\n"
     ]
    }
   ],
   "source": [
    "print(\"오늘은 %4d년 %2d월 %2d일 입니다.\" % (2025,9,24))"
   ]
  },
  {
   "cell_type": "code",
   "execution_count": 18,
   "id": "b64990b4",
   "metadata": {},
   "outputs": [],
   "source": [
    "company = [\"삼성전자\", \"LG전자\", \"현대차\", \"대한항공\", \"하나투어\"]\n",
    "stock_price = [71800, 12100, 195000, 31900, 86600]"
   ]
  },
  {
   "cell_type": "code",
   "execution_count": 20,
   "id": "c97b51e3",
   "metadata": {},
   "outputs": [
    {
     "name": "stdout",
     "output_type": "stream",
     "text": [
      "삼성전자의 주가는 71800원 입니다.\n",
      "LG전자의 주가는 12100원 입니다.\n",
      "현대차의 주가는 195000원 입니다.\n",
      "대한항공의 주가는 31900원 입니다.\n",
      "하나투어의 주가는 86600원 입니다.\n"
     ]
    }
   ],
   "source": [
    "for com,st in zip(company, stock_price):\n",
    "    print(\"%s의 주가는 %d원 입니다.\" %(com,st))"
   ]
  },
  {
   "cell_type": "code",
   "execution_count": 22,
   "id": "b4f2344b",
   "metadata": {},
   "outputs": [
    {
     "ename": "NameError",
     "evalue": "name 'com_st' is not defined",
     "output_type": "error",
     "traceback": [
      "\u001b[1;31m---------------------------------------------------------------------------\u001b[0m",
      "\u001b[1;31mNameError\u001b[0m                                 Traceback (most recent call last)",
      "Cell \u001b[1;32mIn[22], line 2\u001b[0m\n\u001b[0;32m      1\u001b[0m \u001b[38;5;28;01mfor\u001b[39;00m com,st \u001b[38;5;129;01min\u001b[39;00m \u001b[38;5;28mzip\u001b[39m(company, stock_price):\n\u001b[1;32m----> 2\u001b[0m     \u001b[38;5;28mprint\u001b[39m(\u001b[43mcom_st\u001b[49m)\n\u001b[0;32m      3\u001b[0m     \u001b[38;5;28mprint\u001b[39m(\u001b[38;5;124m\"\u001b[39m\u001b[38;5;132;01m%s\u001b[39;00m\u001b[38;5;124m의 주가는 \u001b[39m\u001b[38;5;132;01m%d\u001b[39;00m\u001b[38;5;124m원 입니다.\u001b[39m\u001b[38;5;124m\"\u001b[39m \u001b[38;5;241m%\u001b[39mcom_st)\n",
      "\u001b[1;31mNameError\u001b[0m: name 'com_st' is not defined"
     ]
    }
   ],
   "source": [
    "for com,st in zip(company, stock_price):\n",
    "    print(com_st)\n",
    "    print(\"%s의 주가는 %d원 입니다.\" %com_st)"
   ]
  },
  {
   "cell_type": "markdown",
   "id": "725e1de5",
   "metadata": {},
   "source": [
    "# 2. format 메서드 사용하기, f-string 문자열 포메팅"
   ]
  },
  {
   "cell_type": "markdown",
   "id": "bf41a562",
   "metadata": {},
   "source": [
    "## 1) format 메서드 사용하기\n",
    "* \"문자열 {인덱스번호} 문자열 끝\".format(값1, 값2)\n",
    "* .format(값1, 값2) => 값1 = 0, 값2 = 1"
   ]
  },
  {
   "cell_type": "code",
   "execution_count": 25,
   "id": "2996e44f",
   "metadata": {},
   "outputs": [
    {
     "name": "stdout",
     "output_type": "stream",
     "text": [
      "삼성전자의 주가는 71800입니다.\n"
     ]
    }
   ],
   "source": [
    "print(\"{}의 주가는 {}입니다.\".format('삼성전자',71800))"
   ]
  },
  {
   "cell_type": "code",
   "execution_count": 27,
   "id": "7889dc8f",
   "metadata": {},
   "outputs": [
    {
     "name": "stdout",
     "output_type": "stream",
     "text": [
      "71800의 주가는 삼성전자입니다.\n"
     ]
    }
   ],
   "source": [
    "print(\"{1}의 주가는 {0}원입니다.\".format('삼성전자',71800))"
   ]
  },
  {
   "cell_type": "code",
   "execution_count": 28,
   "id": "5e99257a",
   "metadata": {},
   "outputs": [
    {
     "name": "stdout",
     "output_type": "stream",
     "text": [
      "삼성전자의 주가는 삼성전자입니다.\n"
     ]
    }
   ],
   "source": [
    "print(\"{0}의 주가는 {0}원입니다.\".format('삼성전자',71800))"
   ]
  },
  {
   "cell_type": "code",
   "execution_count": 33,
   "id": "8f923f8b",
   "metadata": {},
   "outputs": [
    {
     "name": "stdout",
     "output_type": "stream",
     "text": [
      "삼성전자의 주가는 삼성전자원입니다. 삼성전자의 상한가는 71500입니다. 삼성전자의 하한가는 80200원 입니다.\n"
     ]
    }
   ],
   "source": [
    "print(\"{0}의 주가는 {0}원입니다. {0}의 상한가는 {1}입니다. {0}의 하한가는 {2}원 입니다.\".format('삼성전자',71500,80200,93000))"
   ]
  },
  {
   "cell_type": "markdown",
   "id": "99b98e30",
   "metadata": {},
   "source": [
    "## 2) f-string 포메팅\n",
    "* python 3.6부터 사용가능"
   ]
  },
  {
   "cell_type": "code",
   "execution_count": 35,
   "id": "292e6287",
   "metadata": {},
   "outputs": [
    {
     "data": {
      "text/plain": [
       "['삼성전자', 'LG전자', '현대차', '대한항공', '하나투어']"
      ]
     },
     "execution_count": 35,
     "metadata": {},
     "output_type": "execute_result"
    }
   ],
   "source": [
    "company"
   ]
  },
  {
   "cell_type": "code",
   "execution_count": 36,
   "id": "57ab982b",
   "metadata": {
    "scrolled": true
   },
   "outputs": [
    {
     "data": {
      "text/plain": [
       "[71800, 12100, 195000, 31900, 86600]"
      ]
     },
     "execution_count": 36,
     "metadata": {},
     "output_type": "execute_result"
    }
   ],
   "source": [
    "stock_price"
   ]
  },
  {
   "cell_type": "code",
   "execution_count": 37,
   "id": "7b1a27fd",
   "metadata": {},
   "outputs": [
    {
     "name": "stdout",
     "output_type": "stream",
     "text": [
      "현대차의 주가는 195000원 입니다.\n"
     ]
    }
   ],
   "source": [
    "print(\"{}의 주가는 {}원 입니다.\".format(company[2],stock_price[2]))"
   ]
  },
  {
   "cell_type": "code",
   "execution_count": 39,
   "id": "3ecd75a4",
   "metadata": {},
   "outputs": [
    {
     "name": "stdout",
     "output_type": "stream",
     "text": [
      "현대차의 주가는 195000원 입니다.\n"
     ]
    }
   ],
   "source": [
    "print(f\"{company[2]}의 주가는 {stock_price[2]}원 입니다.\")"
   ]
  },
  {
   "cell_type": "code",
   "execution_count": 41,
   "id": "583f7589",
   "metadata": {},
   "outputs": [
    {
     "ename": "SyntaxError",
     "evalue": "unexpected character after line continuation character (681159901.py, line 5)",
     "output_type": "error",
     "traceback": [
      "\u001b[1;36m  Cell \u001b[1;32mIn[41], line 5\u001b[1;36m\u001b[0m\n\u001b[1;33m    pint(f\"{sam}의 주가는 {sto}원 입니다.\" \\n\"{sam}의 상한가는 {high}원 입니다.\" \\n\"{sam}의 하한가는 {low}원 입니다.\" )\u001b[0m\n\u001b[1;37m                                    ^\u001b[0m\n\u001b[1;31mSyntaxError\u001b[0m\u001b[1;31m:\u001b[0m unexpected character after line continuation character\n"
     ]
    }
   ],
   "source": [
    "sam = \"삼정전자\"\n",
    "sto = 71800\n",
    "law = 20500\n",
    "high = 93000\n",
    "pint(f\"{sam}의 주가는 {sto}원 입니다.\" \\n\"{sam}의 상한가는 {high}원 입니다.\" \\n\"{sam}의 하한가는 {low}원 입니다.\" )\n"
   ]
  },
  {
   "cell_type": "markdown",
   "id": "328e3a5e",
   "metadata": {},
   "source": [
    "# 3. format메서드와 f-string으로 문자열 정렬하기, 자리수 지정해 출력하기\n",
    "* \"{인덱스:<길이}\".format(값)\n",
    "* f\"{값:>rlfdl}\""
   ]
  },
  {
   "cell_type": "code",
   "execution_count": 54,
   "id": "15515d76",
   "metadata": {},
   "outputs": [
    {
     "ename": "SyntaxError",
     "evalue": "unexpected character after line continuation character (2683294224.py, line 1)",
     "output_type": "error",
     "traceback": [
      "\u001b[1;36m  Cell \u001b[1;32mIn[54], line 1\u001b[1;36m\u001b[0m\n\u001b[1;33m    * \\<10: 공간을 10칸 확보하고 글자를 왼쪽 정렬\u001b[0m\n\u001b[1;37m       ^\u001b[0m\n\u001b[1;31mSyntaxError\u001b[0m\u001b[1;31m:\u001b[0m unexpected character after line continuation character\n"
     ]
    }
   ],
   "source": [
    "* \\<10: 공간을 10칸 확보하고 글자를 왼쪽 정렬"
   ]
  },
  {
   "cell_type": "code",
   "execution_count": 45,
   "id": "be1a071a",
   "metadata": {},
   "outputs": [
    {
     "name": "stdout",
     "output_type": "stream",
     "text": [
      "삼성전자      \n"
     ]
    }
   ],
   "source": [
    "print(\"{0:<10}\".format(\"삼성전자\"))"
   ]
  },
  {
   "cell_type": "code",
   "execution_count": 46,
   "id": "f63e9a7e",
   "metadata": {},
   "outputs": [
    {
     "data": {
      "text/plain": [
       "'      삼성전자'"
      ]
     },
     "execution_count": 46,
     "metadata": {},
     "output_type": "execute_result"
    }
   ],
   "source": [
    "\"{0:>10}\".format(\"삼성전자\")"
   ]
  },
  {
   "cell_type": "code",
   "execution_count": 47,
   "id": "924b564a",
   "metadata": {},
   "outputs": [
    {
     "data": {
      "text/plain": [
       "'삼성전자      '"
      ]
     },
     "execution_count": 47,
     "metadata": {},
     "output_type": "execute_result"
    }
   ],
   "source": [
    "\"{0:<10}\".format(\"삼성전자\")"
   ]
  },
  {
   "cell_type": "code",
   "execution_count": 50,
   "id": "37c95a60",
   "metadata": {},
   "outputs": [
    {
     "data": {
      "text/plain": [
       "'삼정전자      '"
      ]
     },
     "execution_count": 50,
     "metadata": {},
     "output_type": "execute_result"
    }
   ],
   "source": [
    "f\"{sam:<10}\""
   ]
  },
  {
   "cell_type": "code",
   "execution_count": 51,
   "id": "2f461368",
   "metadata": {},
   "outputs": [
    {
     "data": {
      "text/plain": [
       "'      삼정전자'"
      ]
     },
     "execution_count": 51,
     "metadata": {},
     "output_type": "execute_result"
    }
   ],
   "source": [
    "f\"{sam:>10}\""
   ]
  },
  {
   "cell_type": "markdown",
   "id": "9c3aea83",
   "metadata": {},
   "source": [
    "### 숫자 표기시 숫자 자리수 맞추고 기본값 지정하기\n",
    "* \"{인덱스:채울숫자 길이 서식지정자}\".format(값) - 단, 서식지정자에서 %를 빼고 적는다.\n",
    "* f\"{값:채울숫자 길이 서식지정자}\""
   ]
  },
  {
   "cell_type": "markdown",
   "id": "99a9711a",
   "metadata": {},
   "source": [
    "* 정수의 자릿수를 맞출 때"
   ]
  },
  {
   "cell_type": "code",
   "execution_count": 55,
   "id": "4d704169",
   "metadata": {},
   "outputs": [
    {
     "name": "stdout",
     "output_type": "stream",
     "text": [
      "1월\n"
     ]
    }
   ],
   "source": [
    "print(\"{0}월\".format(1))"
   ]
  },
  {
   "cell_type": "code",
   "execution_count": 57,
   "id": "d7144b98",
   "metadata": {},
   "outputs": [
    {
     "name": "stdout",
     "output_type": "stream",
     "text": [
      "01월\n"
     ]
    }
   ],
   "source": [
    "print(\"{0:02d}월\".format(1))"
   ]
  },
  {
   "cell_type": "code",
   "execution_count": 58,
   "id": "e574bd88",
   "metadata": {},
   "outputs": [
    {
     "name": "stdout",
     "output_type": "stream",
     "text": [
      "001월\n"
     ]
    }
   ],
   "source": [
    "print(\"{0:03d}월\".format(1))"
   ]
  },
  {
   "cell_type": "code",
   "execution_count": 59,
   "id": "39466a44",
   "metadata": {},
   "outputs": [
    {
     "name": "stdout",
     "output_type": "stream",
     "text": [
      "1000월\n"
     ]
    }
   ],
   "source": [
    "print(\"{0:03d}월\".format(1000))"
   ]
  },
  {
   "cell_type": "code",
   "execution_count": 60,
   "id": "87b4f9c9",
   "metadata": {},
   "outputs": [
    {
     "name": "stdout",
     "output_type": "stream",
     "text": [
      "01월\n"
     ]
    }
   ],
   "source": [
    "print(f\"{1:02d}월\")"
   ]
  },
  {
   "cell_type": "markdown",
   "id": "fbe7825b",
   "metadata": {},
   "source": [
    "* 실수의 자릿수를 맞출 때\n",
    "    * 실수에서 자릿수는 정수 + . + 소숫점"
   ]
  },
  {
   "cell_type": "code",
   "execution_count": 61,
   "id": "4c13c7b7",
   "metadata": {},
   "outputs": [
    {
     "name": "stdout",
     "output_type": "stream",
     "text": [
      "2.246\n"
     ]
    }
   ],
   "source": [
    "print(\"{0:03.3f}\".format(2.245678))"
   ]
  },
  {
   "cell_type": "code",
   "execution_count": 62,
   "id": "feefbc39",
   "metadata": {},
   "outputs": [
    {
     "name": "stdout",
     "output_type": "stream",
     "text": [
      "02.246\n"
     ]
    }
   ],
   "source": [
    "print(\"{0:06.3f}\".format(2.245678))"
   ]
  },
  {
   "cell_type": "code",
   "execution_count": 63,
   "id": "defddb42",
   "metadata": {},
   "outputs": [
    {
     "name": "stdout",
     "output_type": "stream",
     "text": [
      "002.246\n"
     ]
    }
   ],
   "source": [
    "print(\"{0:07.3f}\".format(2.245678))"
   ]
  },
  {
   "cell_type": "code",
   "execution_count": 65,
   "id": "54e3a146",
   "metadata": {},
   "outputs": [
    {
     "name": "stdout",
     "output_type": "stream",
     "text": [
      "2.24568\n"
     ]
    }
   ],
   "source": [
    "print(\"{0:07.5f}\".format(2.245678))"
   ]
  },
  {
   "cell_type": "markdown",
   "id": "4e2340ac",
   "metadata": {},
   "source": [
    "* 00시 00분 부터 11시 59분까지 출력하세요. 1자리는 01형식으로 출력하세요."
   ]
  },
  {
   "cell_type": "code",
   "execution_count": 67,
   "id": "3cc4a4a3",
   "metadata": {},
   "outputs": [
    {
     "name": "stdout",
     "output_type": "stream",
     "text": [
      "00\n",
      "01\n",
      "02\n",
      "03\n",
      "04\n",
      "05\n",
      "06\n",
      "07\n",
      "08\n",
      "09\n",
      "10\n",
      "11\n"
     ]
    }
   ],
   "source": [
    "for i in range(12):\n",
    "    print(f\"{i:02d}\")"
   ]
  },
  {
   "cell_type": "code",
   "execution_count": 69,
   "id": "454d240d",
   "metadata": {},
   "outputs": [
    {
     "name": "stdout",
     "output_type": "stream",
     "text": [
      "11시 59분\r"
     ]
    }
   ],
   "source": [
    "import time\n",
    "for si in range(12):\n",
    "    for bun in range(60):\n",
    "        print(f\"{si:02d}시 {bun:02d}분\", end=\"\\r\")\n",
    "        time.sleep(0.1)"
   ]
  },
  {
   "cell_type": "markdown",
   "id": "fbf11707",
   "metadata": {},
   "source": [
    "* 공백을 원하는 문자로 채우고 자릿수 맞추기\n",
    "* {인덱스:원하는 문자/숫자 < > 자릿수}.format(값)\n",
    "* f\"{값:원하는 문자/숫자 < > 자릿수}\""
   ]
  },
  {
   "cell_type": "code",
   "execution_count": 71,
   "id": "fb16a50b",
   "metadata": {},
   "outputs": [
    {
     "data": {
      "text/plain": [
       "'0001'"
      ]
     },
     "execution_count": 71,
     "metadata": {},
     "output_type": "execute_result"
    }
   ],
   "source": [
    "# 빈자리를 0으로 채울 때 \n",
    "\"{0:0>4}\".format(1)"
   ]
  },
  {
   "cell_type": "code",
   "execution_count": 72,
   "id": "3fbebb73",
   "metadata": {},
   "outputs": [
    {
     "data": {
      "text/plain": [
       "'0001'"
      ]
     },
     "execution_count": 72,
     "metadata": {},
     "output_type": "execute_result"
    }
   ],
   "source": [
    "f\"{1:0>4}\""
   ]
  },
  {
   "cell_type": "code",
   "execution_count": 73,
   "id": "6324bc8c",
   "metadata": {},
   "outputs": [
    {
     "data": {
      "text/plain": [
       "'$$$1'"
      ]
     },
     "execution_count": 73,
     "metadata": {},
     "output_type": "execute_result"
    }
   ],
   "source": [
    "# 빈자리를 $로 채울 때\n",
    "\"{0:$>4}\".format(1)"
   ]
  },
  {
   "cell_type": "code",
   "execution_count": 74,
   "id": "ad99fe68",
   "metadata": {},
   "outputs": [
    {
     "data": {
      "text/plain": [
       "'$$$1'"
      ]
     },
     "execution_count": 74,
     "metadata": {},
     "output_type": "execute_result"
    }
   ],
   "source": [
    "f\"{1:$>4}\""
   ]
  },
  {
   "cell_type": "code",
   "execution_count": 75,
   "id": "e1d6be8c",
   "metadata": {},
   "outputs": [
    {
     "data": {
      "text/plain": [
       "'1$$$'"
      ]
     },
     "execution_count": 75,
     "metadata": {},
     "output_type": "execute_result"
    }
   ],
   "source": [
    "f\"{1:$<4}\""
   ]
  },
  {
   "cell_type": "code",
   "execution_count": 79,
   "id": "35c82582",
   "metadata": {},
   "outputs": [],
   "source": [
    "url = \"https://finance.naver.com/sise/sise_trans_style.naver?sosok=\""
   ]
  },
  {
   "cell_type": "code",
   "execution_count": 80,
   "id": "9938a6a2",
   "metadata": {},
   "outputs": [
    {
     "name": "stdout",
     "output_type": "stream",
     "text": [
      "https://finance.naver.com/sise/sise_trans_style.naver?sosok=01\n",
      "https://finance.naver.com/sise/sise_trans_style.naver?sosok=02\n",
      "https://finance.naver.com/sise/sise_trans_style.naver?sosok=03\n",
      "https://finance.naver.com/sise/sise_trans_style.naver?sosok=04\n",
      "https://finance.naver.com/sise/sise_trans_style.naver?sosok=05\n",
      "https://finance.naver.com/sise/sise_trans_style.naver?sosok=06\n",
      "https://finance.naver.com/sise/sise_trans_style.naver?sosok=07\n",
      "https://finance.naver.com/sise/sise_trans_style.naver?sosok=08\n",
      "https://finance.naver.com/sise/sise_trans_style.naver?sosok=09\n",
      "https://finance.naver.com/sise/sise_trans_style.naver?sosok=10\n"
     ]
    }
   ],
   "source": [
    "for i in range(1,11):\n",
    "    print(f\"{url}{i:02d}\")"
   ]
  },
  {
   "cell_type": "code",
   "execution_count": null,
   "id": "5b80a28b",
   "metadata": {},
   "outputs": [],
   "source": []
  },
  {
   "cell_type": "code",
   "execution_count": null,
   "id": "8bd7793c",
   "metadata": {},
   "outputs": [],
   "source": []
  }
 ],
 "metadata": {
  "kernelspec": {
   "display_name": "Python 3 (ipykernel)",
   "language": "python",
   "name": "python3"
  },
  "language_info": {
   "codemirror_mode": {
    "name": "ipython",
    "version": 3
   },
   "file_extension": ".py",
   "mimetype": "text/x-python",
   "name": "python",
   "nbconvert_exporter": "python",
   "pygments_lexer": "ipython3",
   "version": "3.9.23"
  }
 },
 "nbformat": 4,
 "nbformat_minor": 5
}
