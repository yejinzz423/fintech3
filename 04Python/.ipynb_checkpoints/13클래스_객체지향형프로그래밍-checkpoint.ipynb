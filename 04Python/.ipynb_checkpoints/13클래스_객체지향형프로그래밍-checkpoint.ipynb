{
 "cells": [
  {
   "cell_type": "markdown",
   "id": "6f26a10c",
   "metadata": {},
   "source": [
    "# 클래스\n",
    "* 객체지향형 프로그래밍\n",
    "* 코드를 재사용하는데 특화\n",
    "* 여러 사람이 이용할 때 같은 코드를 독립적으로 사용 가능\n",
    "* 캡슐화, 상속, 다형성 같은 개념 사용"
   ]
  },
  {
   "cell_type": "markdown",
   "id": "da43c3ab",
   "metadata": {},
   "source": [
    "## 1) 절차적 프로그래밍\n",
    "* 프로그래밍을 순차적으로 하는 것\n",
    "* 코드가 위에서 아래로 절차적으로 실행"
   ]
  },
  {
   "cell_type": "code",
   "execution_count": 1,
   "id": "3273fbe3",
   "metadata": {},
   "outputs": [
    {
     "name": "stdout",
     "output_type": "stream",
     "text": [
      "[1, 4, 9, 16]\n"
     ]
    }
   ],
   "source": [
    "# nums =[1,2,3,4] 의 각 요소를 제곱한 리스트를 출력하세요\n",
    "nums = [1,2,3,4]\n",
    "squares = []\n",
    "for i in nums:\n",
    "    squares.append(i**2)\n",
    "print(squares)"
   ]
  },
  {
   "cell_type": "markdown",
   "id": "d58749ef",
   "metadata": {},
   "source": [
    "## 2) 함수형 프로그래밍\n",
    "* 여러개의 함수를 작성해서 함수에 기반해 프로그래밍 실행\n",
    "* 코드의 재사용 가능\n",
    "* 유지보수가 쉬워짐\n",
    "* 버그 발생률 낮고, 예측가능성이 높음\n",
    "* 병렬처리, 동시성 처리에 강함 - 멀티코어 이용할 때 유리"
   ]
  },
  {
   "cell_type": "code",
   "execution_count": 2,
   "id": "cb54de76",
   "metadata": {},
   "outputs": [
    {
     "name": "stdout",
     "output_type": "stream",
     "text": [
      "[1, 4, 9, 16]\n"
     ]
    }
   ],
   "source": [
    "nums = [1,2,3,4]\n",
    "squares = list(map(lambda x: x**2, nums))\n",
    "print(squares)"
   ]
  },
  {
   "cell_type": "markdown",
   "id": "3a4e2304",
   "metadata": {},
   "source": [
    "## 3) 객체지향형 프로그래밍\n",
    "* Java, C++\n",
    "* 클래스 기반으로 프로그래밍\n",
    "* 코드를 재사용하는데 특화\n",
    "* 여러 사람이 이용할 떄 같은 코드를 독립적으로 사용 가능"
   ]
  },
  {
   "cell_type": "code",
   "execution_count": 3,
   "id": "d77f5989",
   "metadata": {},
   "outputs": [],
   "source": [
    "class NumberList():\n",
    "    def __init__(self, numbers):\n",
    "        self.numbers = numbers\n",
    "    def squared(self):\n",
    "        return [x**2 for x in self.numbers]"
   ]
  },
  {
   "cell_type": "code",
   "execution_count": 4,
   "id": "c5aa9eb9",
   "metadata": {},
   "outputs": [
    {
     "data": {
      "text/plain": [
       "[1, 4, 9, 16]"
      ]
     },
     "execution_count": 4,
     "metadata": {},
     "output_type": "execute_result"
    }
   ],
   "source": [
    "squared = NumberList([1,2,3,4])\n",
    "squared.squared()"
   ]
  },
  {
   "cell_type": "markdown",
   "id": "013a87c6",
   "metadata": {},
   "source": [
    "# 클래스 만들기\n",
    "* 클래스 하나에 여러 개의 함수(메서드)를 포함\n",
    "* 클래스 = 공장(커피머신 공장) - 커피머신\n",
    "* 메서드 = 커피머신의 기능(에스프레소, 아메리카노, 카페라떼, 스팀)"
   ]
  },
  {
   "cell_type": "markdown",
   "id": "1c9bb1b6",
   "metadata": {},
   "source": [
    "# 클래스를 사용해야하는 이유"
   ]
  },
  {
   "cell_type": "code",
   "execution_count": 177,
   "id": "138ccbd2",
   "metadata": {},
   "outputs": [],
   "source": [
    "# 더하기 함수 만들기\n",
    "def add(num1, num2):\n",
    "    result = num1 + num2\n",
    "    return result"
   ]
  },
  {
   "cell_type": "code",
   "execution_count": 7,
   "id": "fbbc5f34",
   "metadata": {},
   "outputs": [
    {
     "data": {
      "text/plain": [
       "8"
      ]
     },
     "execution_count": 7,
     "metadata": {},
     "output_type": "execute_result"
    }
   ],
   "source": [
    "add(3,5)"
   ]
  },
  {
   "cell_type": "markdown",
   "id": "597c61ba",
   "metadata": {},
   "source": [
    "* 이전에 계산했던 결과를 기억하는 계산기"
   ]
  },
  {
   "cell_type": "code",
   "execution_count": 178,
   "id": "e93c08d9",
   "metadata": {},
   "outputs": [],
   "source": [
    "result_cal = 0\n",
    "def add(num, result_cal):\n",
    "    print(\"result_cal:\", result_cal)\n",
    "    result_cal += num\n",
    "    return result_cal"
   ]
  },
  {
   "cell_type": "code",
   "execution_count": 179,
   "id": "03f3919b",
   "metadata": {},
   "outputs": [
    {
     "name": "stdout",
     "output_type": "stream",
     "text": [
      "result_cal: 0\n"
     ]
    },
    {
     "data": {
      "text/plain": [
       "5"
      ]
     },
     "execution_count": 179,
     "metadata": {},
     "output_type": "execute_result"
    }
   ],
   "source": [
    "add(5, result_cal)"
   ]
  },
  {
   "cell_type": "code",
   "execution_count": 181,
   "id": "d8315a92",
   "metadata": {},
   "outputs": [
    {
     "name": "stdout",
     "output_type": "stream",
     "text": [
      "result_cal: 0\n"
     ]
    },
    {
     "data": {
      "text/plain": [
       "10"
      ]
     },
     "execution_count": 181,
     "metadata": {},
     "output_type": "execute_result"
    }
   ],
   "source": [
    "add(10, result_cal)"
   ]
  },
  {
   "cell_type": "markdown",
   "id": "8cd8f0b5",
   "metadata": {},
   "source": [
    "지역변수를 전역변수로 변경 glabal"
   ]
  },
  {
   "cell_type": "code",
   "execution_count": 19,
   "id": "6f19c2f4",
   "metadata": {},
   "outputs": [],
   "source": [
    "result_cal = 0\n",
    "def add2(num):\n",
    "    global result_cal\n",
    "    print(\"result_cal:\", result_cal)\n",
    "    result_cal += num\n",
    "    return result_cal"
   ]
  },
  {
   "cell_type": "code",
   "execution_count": 20,
   "id": "493ecfc8",
   "metadata": {},
   "outputs": [
    {
     "name": "stdout",
     "output_type": "stream",
     "text": [
      "result_cal: 0\n"
     ]
    },
    {
     "data": {
      "text/plain": [
       "10"
      ]
     },
     "execution_count": 20,
     "metadata": {},
     "output_type": "execute_result"
    }
   ],
   "source": [
    "add2(10)"
   ]
  },
  {
   "cell_type": "code",
   "execution_count": 21,
   "id": "2c99588e",
   "metadata": {},
   "outputs": [
    {
     "name": "stdout",
     "output_type": "stream",
     "text": [
      "result_cal: 10\n"
     ]
    },
    {
     "data": {
      "text/plain": [
       "15"
      ]
     },
     "execution_count": 21,
     "metadata": {},
     "output_type": "execute_result"
    }
   ],
   "source": [
    "add2(5)"
   ]
  },
  {
   "cell_type": "markdown",
   "id": "64641a66",
   "metadata": {},
   "source": [
    "* 만약 mul 함수를 길동이와 둘리가 동시에 같이 쓰고 싶다면?\n",
    "* 함수를 여러개 만들면 된다.\n",
    "* 사용자가 많을 경우 매우 비효율적이게 된다.\n",
    "* 하나의 코드로 여러 사람이 이용해도 독립적으로 작동하게 하는것이 클래스"
   ]
  },
  {
   "cell_type": "code",
   "execution_count": null,
   "id": "0d0a9cf4",
   "metadata": {},
   "outputs": [],
   "source": [
    "result_cal = 0\n",
    "def add2(num):\n",
    "    global result_cal\n",
    "    print(\"result_cal:\", result_cal)\n",
    "    result_cal += num\n",
    "    return result_cal"
   ]
  },
  {
   "cell_type": "markdown",
   "id": "615391d9",
   "metadata": {},
   "source": [
    "# 클래스 만들기\n",
    "* 클래스의 이름은 대문자로 시작하는 카멜표기법으로 만든다. class CalGildong() <br>\n",
    "class 클래스명(): <br>\n",
    "____def 메소드명1(): <br>\n",
    "________실행할 코드 <br>\n",
    "________return <br>\n",
    "____def 메소드명2(): <br>\n",
    "________실행할 코드 <br>\n",
    "________return"
   ]
  },
  {
   "cell_type": "markdown",
   "id": "499edc6b",
   "metadata": {},
   "source": [
    "클래스로 계산기 만들기"
   ]
  },
  {
   "cell_type": "code",
   "execution_count": 22,
   "id": "56e05048",
   "metadata": {},
   "outputs": [],
   "source": [
    "class Calc():\n",
    "    def __init__(self):\n",
    "        self.result = 0\n",
    "    def add(self, num):\n",
    "        self.result += num\n",
    "        return self.result"
   ]
  },
  {
   "cell_type": "markdown",
   "id": "37f3f16f",
   "metadata": {},
   "source": [
    "# 인스턴스\n",
    "* 만들어진 클래스를 변수에 담는 것\n",
    "* 만들어진 물건을 사용자에게 배송"
   ]
  },
  {
   "cell_type": "code",
   "execution_count": 23,
   "id": "708b14fb",
   "metadata": {},
   "outputs": [],
   "source": [
    "gil = Calc() #길동이의계산기"
   ]
  },
  {
   "cell_type": "code",
   "execution_count": 24,
   "id": "9b2fa283",
   "metadata": {},
   "outputs": [
    {
     "data": {
      "text/plain": [
       "5"
      ]
     },
     "execution_count": 24,
     "metadata": {},
     "output_type": "execute_result"
    }
   ],
   "source": [
    "gil.add(5)"
   ]
  },
  {
   "cell_type": "code",
   "execution_count": 25,
   "id": "8418e797",
   "metadata": {},
   "outputs": [
    {
     "data": {
      "text/plain": [
       "15"
      ]
     },
     "execution_count": 25,
     "metadata": {},
     "output_type": "execute_result"
    }
   ],
   "source": [
    "gil.add(10)"
   ]
  },
  {
   "cell_type": "code",
   "execution_count": 26,
   "id": "e7ffa2cd",
   "metadata": {},
   "outputs": [
    {
     "data": {
      "text/plain": [
       "35"
      ]
     },
     "execution_count": 26,
     "metadata": {},
     "output_type": "execute_result"
    }
   ],
   "source": [
    "gil.add(20)"
   ]
  },
  {
   "cell_type": "code",
   "execution_count": 27,
   "id": "a0750a3f",
   "metadata": {},
   "outputs": [],
   "source": [
    "dul = Calc() #둘리의계산기"
   ]
  },
  {
   "cell_type": "code",
   "execution_count": 28,
   "id": "2f90862f",
   "metadata": {},
   "outputs": [
    {
     "data": {
      "text/plain": [
       "100"
      ]
     },
     "execution_count": 28,
     "metadata": {},
     "output_type": "execute_result"
    }
   ],
   "source": [
    "dul.add(100)"
   ]
  },
  {
   "cell_type": "markdown",
   "id": "2b9de806",
   "metadata": {},
   "source": [
    "# 클래스 사용방법\n",
    "* 변수에 클래스를 담아서 인스턴스 생성(배송)\n",
    "* 공장에서 만든 커피머신을 사용자에게 배송(인스턴스)\n",
    "* 인스턴스 변수명 = 클래스명() => 인스턴트 생성\n",
    "* 인스턴스를 생성하면 인스턴스변수명.메소드명으로 클래스에 정리한 메소드는 사용할 수 있다."
   ]
  },
  {
   "cell_type": "markdown",
   "id": "7e4a2a53",
   "metadata": {},
   "source": [
    "# 메소드(method)\n",
    "* 클래스 안에 정의하는 함수\n",
    "* 클래스에 기능을 만들어 준다.\n",
    "* def 메소드명(self, 매개변수1, *매개변수2, **kwargs): <br>\n",
    "  ____self.매개변수 = 매개변수"
   ]
  },
  {
   "cell_type": "markdown",
   "id": "2352ff7e",
   "metadata": {},
   "source": [
    "* 사칙연산이 가능한 FourCal 계산기 만들기"
   ]
  },
  {
   "cell_type": "code",
   "execution_count": 29,
   "id": "088a1987",
   "metadata": {},
   "outputs": [],
   "source": [
    "class FourCal():\n",
    "    # 데이터 입력을 받는 역할의 setdata method\n",
    "    def setdata(self, num1, *num2):\n",
    "        self.num1 = num1\n",
    "        self.num2 = num2\n",
    "        print(\"self.num1: \", self.num1)\n",
    "        print(\"self.num2: \", self.num2)"
   ]
  },
  {
   "cell_type": "code",
   "execution_count": 30,
   "id": "4bc57d77",
   "metadata": {},
   "outputs": [],
   "source": [
    "sam = FourCal()"
   ]
  },
  {
   "cell_type": "code",
   "execution_count": 31,
   "id": "26b32d25",
   "metadata": {},
   "outputs": [
    {
     "name": "stdout",
     "output_type": "stream",
     "text": [
      "self.num1:  1\n",
      "self.num2:  (2, 3, 4)\n"
     ]
    }
   ],
   "source": [
    "sam.setdata(1,2,3,4)"
   ]
  },
  {
   "cell_type": "code",
   "execution_count": 32,
   "id": "33ceef61",
   "metadata": {},
   "outputs": [],
   "source": [
    "dul = FourCal()"
   ]
  },
  {
   "cell_type": "code",
   "execution_count": 33,
   "id": "cfd286af",
   "metadata": {},
   "outputs": [
    {
     "name": "stdout",
     "output_type": "stream",
     "text": [
      "self.num1:  5\n",
      "self.num2:  (6, 7, 8)\n"
     ]
    }
   ],
   "source": [
    "dul.setdata(5,6,7,8)"
   ]
  },
  {
   "cell_type": "markdown",
   "id": "0909fd84",
   "metadata": {},
   "source": [
    "클래스에 기능 추가하기"
   ]
  },
  {
   "cell_type": "code",
   "execution_count": 35,
   "id": "c8e1cf4a",
   "metadata": {},
   "outputs": [],
   "source": [
    "class FourCal():\n",
    "    def setdata(self, num1, num2):\n",
    "        self.num1 = num1\n",
    "        self.num2 = num2\n",
    "        print(f\"self.num1: {self.num1}\")\n",
    "        print(f\"self.num2: {self.num2}\")\n",
    "        \n",
    "    #덧셈\n",
    "    def add(self):\n",
    "        result = self.num1 + self.num2\n",
    "        return result\n",
    "    \n",
    "    def sub(self):\n",
    "        result = self.num1 - self.num2\n",
    "        return result\n",
    "    \n",
    "    def mul(self):\n",
    "        result = self.num1 * self.num2\n",
    "        return result\n",
    "    \n",
    "    def div(self):\n",
    "        result = self.num1 / self.num2\n",
    "        return result"
   ]
  },
  {
   "cell_type": "code",
   "execution_count": 36,
   "id": "f75ba148",
   "metadata": {},
   "outputs": [],
   "source": [
    "sam = FourCal()"
   ]
  },
  {
   "cell_type": "code",
   "execution_count": 39,
   "id": "e571f262",
   "metadata": {},
   "outputs": [
    {
     "name": "stdout",
     "output_type": "stream",
     "text": [
      "self.num1: 3\n",
      "self.num2: 5\n"
     ]
    }
   ],
   "source": [
    "sam.setdata(3,5)"
   ]
  },
  {
   "cell_type": "code",
   "execution_count": 40,
   "id": "f3e5ebb5",
   "metadata": {},
   "outputs": [
    {
     "data": {
      "text/plain": [
       "8"
      ]
     },
     "execution_count": 40,
     "metadata": {},
     "output_type": "execute_result"
    }
   ],
   "source": [
    "sam.add()"
   ]
  },
  {
   "cell_type": "code",
   "execution_count": 41,
   "id": "42df2b44",
   "metadata": {},
   "outputs": [
    {
     "data": {
      "text/plain": [
       "-2"
      ]
     },
     "execution_count": 41,
     "metadata": {},
     "output_type": "execute_result"
    }
   ],
   "source": [
    "sam.sub()"
   ]
  },
  {
   "cell_type": "code",
   "execution_count": 43,
   "id": "06eeb389",
   "metadata": {},
   "outputs": [
    {
     "data": {
      "text/plain": [
       "15"
      ]
     },
     "execution_count": 43,
     "metadata": {},
     "output_type": "execute_result"
    }
   ],
   "source": [
    "sam.mul()"
   ]
  },
  {
   "cell_type": "code",
   "execution_count": 44,
   "id": "6e68872e",
   "metadata": {},
   "outputs": [
    {
     "data": {
      "text/plain": [
       "0.6"
      ]
     },
     "execution_count": 44,
     "metadata": {},
     "output_type": "execute_result"
    }
   ],
   "source": [
    "sam.div()"
   ]
  },
  {
   "cell_type": "code",
   "execution_count": 45,
   "id": "1e5c94d7",
   "metadata": {},
   "outputs": [],
   "source": [
    "dul = FourCal()"
   ]
  },
  {
   "cell_type": "code",
   "execution_count": 46,
   "id": "bab3ab90",
   "metadata": {},
   "outputs": [
    {
     "name": "stdout",
     "output_type": "stream",
     "text": [
      "self.num1: 2\n",
      "self.num2: 7\n"
     ]
    }
   ],
   "source": [
    "dul.setdata(2,7)"
   ]
  },
  {
   "cell_type": "markdown",
   "id": "bf095752",
   "metadata": {},
   "source": [
    "# 생성자\n",
    "* 클래스를 실행해서 인스턴스를 만들 때 자동실행되고 초기값을 받도록 해주는 메소드\n",
    "* 생성자(constructor)는 객체(인스턴스)가 생성될 때 자동으로 호출되는 메서드, 주로 초기값을 받을 때 사용\n",
    "* 클래스 내에서 메서드명으로 __init__ 를 사용하면 그것이 생성자가 된다."
   ]
  },
  {
   "cell_type": "markdown",
   "id": "06e81abb",
   "metadata": {},
   "source": [
    "* 생성자를 이용해서 초기값을 받는 FourCal2"
   ]
  },
  {
   "cell_type": "code",
   "execution_count": 47,
   "id": "5d6352a4",
   "metadata": {},
   "outputs": [],
   "source": [
    "class FourCal2():\n",
    "    def __init__(self, num1, num2):\n",
    "        self.num1 = num1\n",
    "        self.num2 = num2\n",
    "        \n",
    "#덧셈\n",
    "    def add(self):\n",
    "        result = self.num1 + self.num2\n",
    "        return result\n",
    "    \n",
    "    def sub(self):\n",
    "        result = self.num1 - self.num2\n",
    "        return result\n",
    "    \n",
    "    def mul(self):\n",
    "        result = self.num1 * self.num2\n",
    "        return result\n",
    "    \n",
    "    def div(self):\n",
    "        result = self.num1 / self.num2\n",
    "        return result"
   ]
  },
  {
   "cell_type": "code",
   "execution_count": 49,
   "id": "b6409304",
   "metadata": {},
   "outputs": [],
   "source": [
    "gil = FourCal2(3,5)"
   ]
  },
  {
   "cell_type": "code",
   "execution_count": 51,
   "id": "d69e6103",
   "metadata": {},
   "outputs": [
    {
     "data": {
      "text/plain": [
       "8"
      ]
     },
     "execution_count": 51,
     "metadata": {},
     "output_type": "execute_result"
    }
   ],
   "source": [
    "gil.add()"
   ]
  },
  {
   "cell_type": "markdown",
   "id": "1593058c",
   "metadata": {},
   "source": [
    "# 클래스의 상속\n",
    "* 어떤 클래스를 만들 때 다른 클래스의 기능을 물려받는 것\n",
    "* 기존 클래스에 기능을 추가할 때, 기능을 변경할 때 사용\n",
    "* A클래스를 상속 받아 B클래스를 생성하면 B클래스는 A클래스의 모든 기능을 사용할 수 있다."
   ]
  },
  {
   "cell_type": "markdown",
   "id": "eaee9e84",
   "metadata": {},
   "source": [
    "* FourCal2를 상속받아 제곱기능을 추가한 MoreFourCal 만들기"
   ]
  },
  {
   "cell_type": "code",
   "execution_count": 52,
   "id": "f94197cf",
   "metadata": {},
   "outputs": [],
   "source": [
    "class MoreFourCal(FourCal2):\n",
    "    def pow(self):\n",
    "        result = self.num1 ** self.num2\n",
    "        return result    "
   ]
  },
  {
   "cell_type": "code",
   "execution_count": 57,
   "id": "84033375",
   "metadata": {},
   "outputs": [],
   "source": [
    "dul = MoreFourCal(3,5)"
   ]
  },
  {
   "cell_type": "code",
   "execution_count": 58,
   "id": "bca2c94f",
   "metadata": {},
   "outputs": [
    {
     "data": {
      "text/plain": [
       "243"
      ]
     },
     "execution_count": 58,
     "metadata": {},
     "output_type": "execute_result"
    }
   ],
   "source": [
    "dul.pow()"
   ]
  },
  {
   "cell_type": "code",
   "execution_count": 59,
   "id": "6b5b44d5",
   "metadata": {},
   "outputs": [
    {
     "data": {
      "text/plain": [
       "8"
      ]
     },
     "execution_count": 59,
     "metadata": {},
     "output_type": "execute_result"
    }
   ],
   "source": [
    "dul.add()"
   ]
  },
  {
   "cell_type": "markdown",
   "id": "7a7ca581",
   "metadata": {},
   "source": [
    "# 메서드 오버라이딩(method overriding)\n",
    "* 부모 클래스에서 상속한 메서드를 자식 클래스에서 동일한 이름으로 재정의\n",
    "* 기존에 있던 메서드의 기능을 수정할 때 사용"
   ]
  },
  {
   "cell_type": "code",
   "execution_count": 60,
   "id": "99d41093",
   "metadata": {},
   "outputs": [],
   "source": [
    "kim = FourCal2(4,0)"
   ]
  },
  {
   "cell_type": "code",
   "execution_count": 61,
   "id": "3433e9df",
   "metadata": {},
   "outputs": [
    {
     "data": {
      "text/plain": [
       "4"
      ]
     },
     "execution_count": 61,
     "metadata": {},
     "output_type": "execute_result"
    }
   ],
   "source": [
    "kim.add()"
   ]
  },
  {
   "cell_type": "code",
   "execution_count": 63,
   "id": "d108e8e9",
   "metadata": {},
   "outputs": [
    {
     "data": {
      "text/plain": [
       "0"
      ]
     },
     "execution_count": 63,
     "metadata": {},
     "output_type": "execute_result"
    }
   ],
   "source": [
    "kim.mul()"
   ]
  },
  {
   "cell_type": "code",
   "execution_count": 64,
   "id": "fb2dba88",
   "metadata": {},
   "outputs": [
    {
     "ename": "ZeroDivisionError",
     "evalue": "division by zero",
     "output_type": "error",
     "traceback": [
      "\u001b[1;31m---------------------------------------------------------------------------\u001b[0m",
      "\u001b[1;31mZeroDivisionError\u001b[0m                         Traceback (most recent call last)",
      "Cell \u001b[1;32mIn[64], line 1\u001b[0m\n\u001b[1;32m----> 1\u001b[0m \u001b[43mkim\u001b[49m\u001b[38;5;241;43m.\u001b[39;49m\u001b[43mdiv\u001b[49m\u001b[43m(\u001b[49m\u001b[43m)\u001b[49m\n",
      "Cell \u001b[1;32mIn[47], line 20\u001b[0m, in \u001b[0;36mFourCal2.div\u001b[1;34m(self)\u001b[0m\n\u001b[0;32m     19\u001b[0m \u001b[38;5;28;01mdef\u001b[39;00m\u001b[38;5;250m \u001b[39m\u001b[38;5;21mdiv\u001b[39m(\u001b[38;5;28mself\u001b[39m):\n\u001b[1;32m---> 20\u001b[0m     result \u001b[38;5;241m=\u001b[39m \u001b[38;5;28;43mself\u001b[39;49m\u001b[38;5;241;43m.\u001b[39;49m\u001b[43mnum1\u001b[49m\u001b[43m \u001b[49m\u001b[38;5;241;43m/\u001b[39;49m\u001b[43m \u001b[49m\u001b[38;5;28;43mself\u001b[39;49m\u001b[38;5;241;43m.\u001b[39;49m\u001b[43mnum2\u001b[49m\n\u001b[0;32m     21\u001b[0m     \u001b[38;5;28;01mreturn\u001b[39;00m result\n",
      "\u001b[1;31mZeroDivisionError\u001b[0m: division by zero"
     ]
    }
   ],
   "source": [
    "kim.div()"
   ]
  },
  {
   "cell_type": "code",
   "execution_count": 68,
   "id": "e66e9a3c",
   "metadata": {},
   "outputs": [],
   "source": [
    "class safeFourCal(FourCal2):\n",
    "    def div(self):\n",
    "        if self.num2 == 0:\n",
    "            return 0\n",
    "        else:\n",
    "            return self.num1 / self.num2"
   ]
  },
  {
   "cell_type": "code",
   "execution_count": 71,
   "id": "f131e8bc",
   "metadata": {},
   "outputs": [],
   "source": [
    "kim = safeFourCal(5,0)"
   ]
  },
  {
   "cell_type": "code",
   "execution_count": 72,
   "id": "ad8bd937",
   "metadata": {},
   "outputs": [
    {
     "data": {
      "text/plain": [
       "0"
      ]
     },
     "execution_count": 72,
     "metadata": {},
     "output_type": "execute_result"
    }
   ],
   "source": [
    "kim.div()"
   ]
  },
  {
   "cell_type": "markdown",
   "id": "bf3a68cc",
   "metadata": {},
   "source": [
    "# 메서드 오버로딩(method overloading)\n",
    "* 한 클래스 안에서 동일한 이름의 메서드의 기능을 다르게 재정의\n",
    "* 동일한 이름의 메서드가 기능이 약간 변경된 채로 여러개 존재"
   ]
  },
  {
   "cell_type": "code",
   "execution_count": 73,
   "id": "2d032b8b",
   "metadata": {},
   "outputs": [],
   "source": [
    "class OverLoading():\n",
    "    def add(self, x, y):\n",
    "        return x + y\n",
    "    def add(self, x, y, z):\n",
    "        return x + y + z\n",
    "    def add(self, x, y, z, a):\n",
    "        return x + y + z + a"
   ]
  },
  {
   "cell_type": "code",
   "execution_count": 74,
   "id": "5c8c0d9c",
   "metadata": {},
   "outputs": [],
   "source": [
    "sam = OverLoading()"
   ]
  },
  {
   "cell_type": "code",
   "execution_count": 75,
   "id": "af7be156",
   "metadata": {},
   "outputs": [
    {
     "ename": "TypeError",
     "evalue": "add() missing 2 required positional arguments: 'z' and 'a'",
     "output_type": "error",
     "traceback": [
      "\u001b[1;31m---------------------------------------------------------------------------\u001b[0m",
      "\u001b[1;31mTypeError\u001b[0m                                 Traceback (most recent call last)",
      "Cell \u001b[1;32mIn[75], line 1\u001b[0m\n\u001b[1;32m----> 1\u001b[0m \u001b[43msam\u001b[49m\u001b[38;5;241;43m.\u001b[39;49m\u001b[43madd\u001b[49m\u001b[43m(\u001b[49m\u001b[38;5;241;43m3\u001b[39;49m\u001b[43m,\u001b[49m\u001b[38;5;241;43m4\u001b[39;49m\u001b[43m)\u001b[49m\n",
      "\u001b[1;31mTypeError\u001b[0m: add() missing 2 required positional arguments: 'z' and 'a'"
     ]
    }
   ],
   "source": [
    "sam.add(3,4)"
   ]
  },
  {
   "cell_type": "markdown",
   "id": "87dde851",
   "metadata": {},
   "source": [
    "multipledispatch 패키지를 통한 메서드 오버로딩"
   ]
  },
  {
   "cell_type": "code",
   "execution_count": 76,
   "id": "ca4a9f24",
   "metadata": {},
   "outputs": [
    {
     "name": "stdout",
     "output_type": "stream",
     "text": [
      "Collecting multipledispatch\n",
      "  Downloading multipledispatch-1.0.0-py3-none-any.whl.metadata (3.8 kB)\n",
      "Downloading multipledispatch-1.0.0-py3-none-any.whl (12 kB)\n",
      "Installing collected packages: multipledispatch\n",
      "Successfully installed multipledispatch-1.0.0\n"
     ]
    }
   ],
   "source": [
    "!pip install multipledispatch"
   ]
  },
  {
   "cell_type": "code",
   "execution_count": 85,
   "id": "d584f56f",
   "metadata": {},
   "outputs": [],
   "source": [
    "from multipledispatch import dispatch"
   ]
  },
  {
   "cell_type": "code",
   "execution_count": 86,
   "id": "e7920c0f",
   "metadata": {},
   "outputs": [],
   "source": [
    "class OverLoading2():\n",
    "    @dispatch(int,int)\n",
    "    def add(self, x, y):\n",
    "        return x + y\n",
    "    @dispatch(int,int,int)\n",
    "    def add(self, x, y, z):\n",
    "        return x + y + z\n",
    "    @dispatch(int,int,int,int)\n",
    "    def add(self, x, y, z, a):\n",
    "        return x + y + z + a"
   ]
  },
  {
   "cell_type": "code",
   "execution_count": 87,
   "id": "ac7d1e75",
   "metadata": {},
   "outputs": [],
   "source": [
    "sam = OverLoading()"
   ]
  },
  {
   "cell_type": "code",
   "execution_count": 88,
   "id": "28b67a83",
   "metadata": {},
   "outputs": [
    {
     "ename": "TypeError",
     "evalue": "add() missing 2 required positional arguments: 'z' and 'a'",
     "output_type": "error",
     "traceback": [
      "\u001b[1;31m---------------------------------------------------------------------------\u001b[0m",
      "\u001b[1;31mTypeError\u001b[0m                                 Traceback (most recent call last)",
      "Cell \u001b[1;32mIn[88], line 1\u001b[0m\n\u001b[1;32m----> 1\u001b[0m \u001b[43msam\u001b[49m\u001b[38;5;241;43m.\u001b[39;49m\u001b[43madd\u001b[49m\u001b[43m(\u001b[49m\u001b[38;5;241;43m3\u001b[39;49m\u001b[43m,\u001b[49m\u001b[38;5;241;43m5\u001b[39;49m\u001b[43m)\u001b[49m\n",
      "\u001b[1;31mTypeError\u001b[0m: add() missing 2 required positional arguments: 'z' and 'a'"
     ]
    }
   ],
   "source": [
    "sam.add(3,5)"
   ]
  },
  {
   "cell_type": "markdown",
   "id": "021066cb",
   "metadata": {},
   "source": [
    "# 클래스 속성과 인스턴스 속성\n",
    "* 클래스 속성: 클래스 전체에서 공유하는 속성(변수), 모든 인스턴스에서 공유\n",
    "* 인스턴스 속성: 인스턴스에서만 사용하는 속성, 인스턴스간 공유 안됨"
   ]
  },
  {
   "cell_type": "code",
   "execution_count": 89,
   "id": "669ebe48",
   "metadata": {},
   "outputs": [],
   "source": [
    "class DoorLock():\n",
    "    #클래스 속성\n",
    "    password = \"0000\""
   ]
  },
  {
   "cell_type": "code",
   "execution_count": 90,
   "id": "a5ad527f",
   "metadata": {},
   "outputs": [],
   "source": [
    "dul = DoorLock()"
   ]
  },
  {
   "cell_type": "code",
   "execution_count": 91,
   "id": "b864a118",
   "metadata": {},
   "outputs": [
    {
     "data": {
      "text/plain": [
       "'0000'"
      ]
     },
     "execution_count": 91,
     "metadata": {},
     "output_type": "execute_result"
    }
   ],
   "source": [
    "dul.password"
   ]
  },
  {
   "cell_type": "code",
   "execution_count": 92,
   "id": "a2b8176a",
   "metadata": {},
   "outputs": [
    {
     "data": {
      "text/plain": [
       "'0000'"
      ]
     },
     "execution_count": 92,
     "metadata": {},
     "output_type": "execute_result"
    }
   ],
   "source": [
    "gil= DoorLock()\n",
    "gil.password"
   ]
  },
  {
   "cell_type": "markdown",
   "id": "89ce004f",
   "metadata": {},
   "source": [
    "park의 인스턴스 속성(비번 변경)"
   ]
  },
  {
   "cell_type": "code",
   "execution_count": 93,
   "id": "926f9ee3",
   "metadata": {},
   "outputs": [],
   "source": [
    "park = DoorLock()"
   ]
  },
  {
   "cell_type": "code",
   "execution_count": 94,
   "id": "4189532f",
   "metadata": {},
   "outputs": [
    {
     "data": {
      "text/plain": [
       "'0000'"
      ]
     },
     "execution_count": 94,
     "metadata": {},
     "output_type": "execute_result"
    }
   ],
   "source": [
    "park.password"
   ]
  },
  {
   "cell_type": "code",
   "execution_count": 96,
   "id": "4b956a82",
   "metadata": {},
   "outputs": [],
   "source": [
    "# 인스턴스 속성으로 변경\n",
    "park.password = \"1234\""
   ]
  },
  {
   "cell_type": "code",
   "execution_count": 97,
   "id": "5b608926",
   "metadata": {},
   "outputs": [
    {
     "data": {
      "text/plain": [
       "'1234'"
      ]
     },
     "execution_count": 97,
     "metadata": {},
     "output_type": "execute_result"
    }
   ],
   "source": [
    "park.password"
   ]
  },
  {
   "cell_type": "code",
   "execution_count": 98,
   "id": "331d1401",
   "metadata": {},
   "outputs": [
    {
     "data": {
      "text/plain": [
       "'0000'"
      ]
     },
     "execution_count": 98,
     "metadata": {},
     "output_type": "execute_result"
    }
   ],
   "source": [
    "DoorLock.password"
   ]
  },
  {
   "cell_type": "code",
   "execution_count": 99,
   "id": "3ed504aa",
   "metadata": {
    "scrolled": true
   },
   "outputs": [
    {
     "data": {
      "text/plain": [
       "'0000'"
      ]
     },
     "execution_count": 99,
     "metadata": {},
     "output_type": "execute_result"
    }
   ],
   "source": [
    "gil.password"
   ]
  },
  {
   "cell_type": "code",
   "execution_count": 101,
   "id": "8153517d",
   "metadata": {},
   "outputs": [
    {
     "data": {
      "text/plain": [
       "'4567'"
      ]
     },
     "execution_count": 101,
     "metadata": {},
     "output_type": "execute_result"
    }
   ],
   "source": [
    "gil.password = \"4567\"\n",
    "gil.password"
   ]
  },
  {
   "cell_type": "code",
   "execution_count": 102,
   "id": "678cc8f8",
   "metadata": {},
   "outputs": [
    {
     "data": {
      "text/plain": [
       "'0000'"
      ]
     },
     "execution_count": 102,
     "metadata": {},
     "output_type": "execute_result"
    }
   ],
   "source": [
    "DoorLock.password"
   ]
  },
  {
   "cell_type": "markdown",
   "id": "47618e70",
   "metadata": {},
   "source": [
    "# 비공개 클래스 속성\n",
    "* _변수명 - 비공개 속성 변수\n",
    "* 보안이 필요해서 남들에게 정보를 노출하고 싶지 않을 때 사용"
   ]
  },
  {
   "cell_type": "code",
   "execution_count": 109,
   "id": "27a310fb",
   "metadata": {},
   "outputs": [],
   "source": [
    "class PInfo():\n",
    "    lastname = \"홍\"\n",
    "    __first_name = \"길동\"\n",
    "    __password = \"9513\""
   ]
  },
  {
   "cell_type": "code",
   "execution_count": 104,
   "id": "3bb73790",
   "metadata": {},
   "outputs": [
    {
     "data": {
      "text/plain": [
       "'홍'"
      ]
     },
     "execution_count": 104,
     "metadata": {},
     "output_type": "execute_result"
    }
   ],
   "source": [
    "PInfo.lastname"
   ]
  },
  {
   "cell_type": "code",
   "execution_count": 110,
   "id": "c0dd64c4",
   "metadata": {},
   "outputs": [
    {
     "ename": "AttributeError",
     "evalue": "type object 'PInfo' has no attribute '_first_name'",
     "output_type": "error",
     "traceback": [
      "\u001b[1;31m---------------------------------------------------------------------------\u001b[0m",
      "\u001b[1;31mAttributeError\u001b[0m                            Traceback (most recent call last)",
      "Cell \u001b[1;32mIn[110], line 1\u001b[0m\n\u001b[1;32m----> 1\u001b[0m \u001b[43mPInfo\u001b[49m\u001b[38;5;241;43m.\u001b[39;49m\u001b[43m_first_name\u001b[49m\n",
      "\u001b[1;31mAttributeError\u001b[0m: type object 'PInfo' has no attribute '_first_name'"
     ]
    }
   ],
   "source": [
    "PInfo._first_name"
   ]
  },
  {
   "cell_type": "code",
   "execution_count": 111,
   "id": "87b58fe2",
   "metadata": {},
   "outputs": [
    {
     "ename": "AttributeError",
     "evalue": "type object 'PInfo' has no attribute '_password'",
     "output_type": "error",
     "traceback": [
      "\u001b[1;31m---------------------------------------------------------------------------\u001b[0m",
      "\u001b[1;31mAttributeError\u001b[0m                            Traceback (most recent call last)",
      "Cell \u001b[1;32mIn[111], line 1\u001b[0m\n\u001b[1;32m----> 1\u001b[0m \u001b[43mPInfo\u001b[49m\u001b[38;5;241;43m.\u001b[39;49m\u001b[43m_password\u001b[49m\n",
      "\u001b[1;31mAttributeError\u001b[0m: type object 'PInfo' has no attribute '_password'"
     ]
    }
   ],
   "source": [
    "PInfo._password"
   ]
  },
  {
   "cell_type": "code",
   "execution_count": 107,
   "id": "cefc33e9",
   "metadata": {},
   "outputs": [],
   "source": [
    "hong = PInfo()"
   ]
  },
  {
   "cell_type": "code",
   "execution_count": 112,
   "id": "546ec982",
   "metadata": {},
   "outputs": [
    {
     "data": {
      "text/plain": [
       "'홍'"
      ]
     },
     "execution_count": 112,
     "metadata": {},
     "output_type": "execute_result"
    }
   ],
   "source": [
    "hong.lastname"
   ]
  },
  {
   "cell_type": "code",
   "execution_count": 114,
   "id": "0c0bed33",
   "metadata": {},
   "outputs": [
    {
     "ename": "AttributeError",
     "evalue": "'PInfo' object has no attribute '__first_name'",
     "output_type": "error",
     "traceback": [
      "\u001b[1;31m---------------------------------------------------------------------------\u001b[0m",
      "\u001b[1;31mAttributeError\u001b[0m                            Traceback (most recent call last)",
      "Cell \u001b[1;32mIn[114], line 1\u001b[0m\n\u001b[1;32m----> 1\u001b[0m \u001b[43mhong\u001b[49m\u001b[38;5;241;43m.\u001b[39;49m\u001b[43m__first_name\u001b[49m\n",
      "\u001b[1;31mAttributeError\u001b[0m: 'PInfo' object has no attribute '__first_name'"
     ]
    }
   ],
   "source": [
    "hong.__first_name"
   ]
  },
  {
   "cell_type": "code",
   "execution_count": 115,
   "id": "e2666959",
   "metadata": {},
   "outputs": [
    {
     "ename": "AttributeError",
     "evalue": "'PInfo' object has no attribute '__password'",
     "output_type": "error",
     "traceback": [
      "\u001b[1;31m---------------------------------------------------------------------------\u001b[0m",
      "\u001b[1;31mAttributeError\u001b[0m                            Traceback (most recent call last)",
      "Cell \u001b[1;32mIn[115], line 1\u001b[0m\n\u001b[1;32m----> 1\u001b[0m \u001b[43mhong\u001b[49m\u001b[38;5;241;43m.\u001b[39;49m\u001b[43m__password\u001b[49m\n",
      "\u001b[1;31mAttributeError\u001b[0m: 'PInfo' object has no attribute '__password'"
     ]
    }
   ],
   "source": [
    "hong.__password"
   ]
  },
  {
   "cell_type": "markdown",
   "id": "02d48d01",
   "metadata": {},
   "source": [
    "* 비공개 클래스 속성을 직접 출력하려고 하면 에러\n",
    "* 클래스 내에서 메서드를 만들어서 출려하면 가능"
   ]
  },
  {
   "cell_type": "code",
   "execution_count": 162,
   "id": "2e95a6b4",
   "metadata": {},
   "outputs": [],
   "source": [
    "class PInfo():\n",
    "    lastname = \"홍\"\n",
    "    __first_name = \"길동\"\n",
    "    __password = \"9513\"\n",
    "    \n",
    "    def print_name(self):\n",
    "        print(self.__first_name)\n",
    "        \n",
    "    def print_password(self):\n",
    "        print(self.__password)"
   ]
  },
  {
   "cell_type": "code",
   "execution_count": 163,
   "id": "f515db58",
   "metadata": {},
   "outputs": [],
   "source": [
    "sam = PInfo()"
   ]
  },
  {
   "cell_type": "code",
   "execution_count": 164,
   "id": "36bee0b6",
   "metadata": {},
   "outputs": [
    {
     "name": "stdout",
     "output_type": "stream",
     "text": [
      "길동\n"
     ]
    }
   ],
   "source": [
    "sam.print_name()"
   ]
  },
  {
   "cell_type": "code",
   "execution_count": 165,
   "id": "997e2a8f",
   "metadata": {},
   "outputs": [
    {
     "name": "stdout",
     "output_type": "stream",
     "text": [
      "9513\n"
     ]
    }
   ],
   "source": [
    "sam.print_password()"
   ]
  },
  {
   "cell_type": "markdown",
   "id": "935afd0c",
   "metadata": {},
   "source": [
    "# 정적메서드 static method\n",
    "* 인스턴스를 만들지 않고도 클래스의 메서드를 바로 사용할 수 있는 메서드\n",
    "* 메서드 위에 @staticmethod라는 데코레이터 붙여서 만든다.\n",
    "* static method는 self를 받지 않으므로 인스턴스 속성, 인스턴스 메서드가 필요하지 않을 때 사용"
   ]
  },
  {
   "cell_type": "code",
   "execution_count": 131,
   "id": "6457a0d8",
   "metadata": {},
   "outputs": [],
   "source": [
    "class Cal():\n",
    "    @staticmethod\n",
    "    def add(a,b):\n",
    "        print(a+b)\n",
    "        \n",
    "    @staticmethod\n",
    "    def sub(a,b):\n",
    "        print(a-b)"
   ]
  },
  {
   "cell_type": "code",
   "execution_count": 132,
   "id": "daa75705",
   "metadata": {},
   "outputs": [],
   "source": [
    "dul = Cal()"
   ]
  },
  {
   "cell_type": "code",
   "execution_count": 133,
   "id": "5d3db874",
   "metadata": {},
   "outputs": [
    {
     "name": "stdout",
     "output_type": "stream",
     "text": [
      "8\n"
     ]
    }
   ],
   "source": [
    "dul.add(3,5)"
   ]
  },
  {
   "cell_type": "code",
   "execution_count": 136,
   "id": "13c36bc6",
   "metadata": {},
   "outputs": [
    {
     "ename": "TypeError",
     "evalue": "setdata() missing 1 required positional argument: 'num2'",
     "output_type": "error",
     "traceback": [
      "\u001b[1;31m---------------------------------------------------------------------------\u001b[0m",
      "\u001b[1;31mTypeError\u001b[0m                                 Traceback (most recent call last)",
      "Cell \u001b[1;32mIn[136], line 1\u001b[0m\n\u001b[1;32m----> 1\u001b[0m \u001b[43mFourCal\u001b[49m\u001b[38;5;241;43m.\u001b[39;49m\u001b[43msetdata\u001b[49m\u001b[43m(\u001b[49m\u001b[38;5;241;43m3\u001b[39;49m\u001b[43m,\u001b[49m\u001b[38;5;241;43m5\u001b[39;49m\u001b[43m)\u001b[49m\n",
      "\u001b[1;31mTypeError\u001b[0m: setdata() missing 1 required positional argument: 'num2'"
     ]
    }
   ],
   "source": [
    "FourCal.setdata(3,5)"
   ]
  },
  {
   "cell_type": "markdown",
   "id": "7128c1a2",
   "metadata": {},
   "source": [
    "# 클래스 메서드 class method\n",
    "* 메서드 위에 @classmethod 를 붙여서 만든다.\n",
    "* 클래스 메서드의 첫번째 매개변수에는 cls를 지정해야 한다.\n",
    "* 클래스 매서드도 static method처럼 인스턴스 생성 없이 호출 가능\n",
    "* 클래스 메서드는 메서드 안에서 클래스 속성, 클래스 메서드에 접근해야할 때 사용"
   ]
  },
  {
   "cell_type": "code",
   "execution_count": 138,
   "id": "e9e4438b",
   "metadata": {},
   "outputs": [],
   "source": [
    "class Factory():\n",
    "    # 클래스 속성\n",
    "    n_coffice_machine = 0\n",
    "    \n",
    "    def __init__(self):\n",
    "        # 인스턴스가 생성되로 때 클래스 속성에 1을 더함\n",
    "        Factory.n_coffice_machine += 1\n",
    "    @classmethod\n",
    "    def print_n_coffice_machine(cls):\n",
    "        print(f\"{cls.n_coffice_machine}개가 제조 되었습니다.\")"
   ]
  },
  {
   "cell_type": "code",
   "execution_count": 142,
   "id": "5ed73164",
   "metadata": {},
   "outputs": [
    {
     "data": {
      "text/plain": [
       "2"
      ]
     },
     "execution_count": 142,
     "metadata": {},
     "output_type": "execute_result"
    }
   ],
   "source": [
    "Factory.n_coffice_machine"
   ]
  },
  {
   "cell_type": "code",
   "execution_count": 140,
   "id": "ef34db8d",
   "metadata": {},
   "outputs": [],
   "source": [
    "sam = Factory()"
   ]
  },
  {
   "cell_type": "code",
   "execution_count": 141,
   "id": "e2a613cf",
   "metadata": {},
   "outputs": [],
   "source": [
    "sally = Factory()"
   ]
  },
  {
   "cell_type": "markdown",
   "id": "471dacd3",
   "metadata": {},
   "source": [
    "* init 외에 객체(인스턴스)를 생성하는 대체 생성 방식을 제공\n",
    "* 입력 데이터의 형식이 다양할때 classmethod 사용"
   ]
  },
  {
   "cell_type": "code",
   "execution_count": 169,
   "id": "bae61505",
   "metadata": {},
   "outputs": [],
   "source": [
    "class Date():\n",
    "    def __init__(self, year, month, day):\n",
    "        self.year, self.month, self.day = year, month, day\n",
    "    \n",
    "    def print_date(self):\n",
    "        print(self.year, self.month, self.day)\n",
    "    \n",
    "    @classmethod\n",
    "    def from_string(cls, date_str):\n",
    "        year, month, day = map(int, date_str.split(\"-\"))\n",
    "        return cls(year, month, day)"
   ]
  },
  {
   "cell_type": "code",
   "execution_count": 170,
   "id": "24b1260c",
   "metadata": {
    "scrolled": true
   },
   "outputs": [],
   "source": [
    "dul = Date(2025,10,2)"
   ]
  },
  {
   "cell_type": "code",
   "execution_count": 172,
   "id": "87a38ade",
   "metadata": {},
   "outputs": [
    {
     "name": "stdout",
     "output_type": "stream",
     "text": [
      "2025 10 2\n"
     ]
    }
   ],
   "source": [
    "dul.print_date()"
   ]
  },
  {
   "cell_type": "code",
   "execution_count": 173,
   "id": "59bf5f74",
   "metadata": {},
   "outputs": [
    {
     "ename": "TypeError",
     "evalue": "__init__() missing 2 required positional arguments: 'month' and 'day'",
     "output_type": "error",
     "traceback": [
      "\u001b[1;31m---------------------------------------------------------------------------\u001b[0m",
      "\u001b[1;31mTypeError\u001b[0m                                 Traceback (most recent call last)",
      "Cell \u001b[1;32mIn[173], line 1\u001b[0m\n\u001b[1;32m----> 1\u001b[0m dul \u001b[38;5;241m=\u001b[39m \u001b[43mDate\u001b[49m\u001b[43m(\u001b[49m\u001b[38;5;124;43m\"\u001b[39;49m\u001b[38;5;124;43m2025-10-02\u001b[39;49m\u001b[38;5;124;43m\"\u001b[39;49m\u001b[43m)\u001b[49m\n",
      "\u001b[1;31mTypeError\u001b[0m: __init__() missing 2 required positional arguments: 'month' and 'day'"
     ]
    }
   ],
   "source": [
    "dul = Date(\"2025-10-02\")"
   ]
  },
  {
   "cell_type": "code",
   "execution_count": 174,
   "id": "ee4f5e32",
   "metadata": {},
   "outputs": [],
   "source": [
    "dul2 = Date.from_string(\"2025-10-02\")"
   ]
  },
  {
   "cell_type": "code",
   "execution_count": 176,
   "id": "75f50e93",
   "metadata": {},
   "outputs": [
    {
     "name": "stdout",
     "output_type": "stream",
     "text": [
      "2025 10 2\n"
     ]
    }
   ],
   "source": [
    "dul2.print_date()"
   ]
  },
  {
   "cell_type": "markdown",
   "id": "592a403c",
   "metadata": {},
   "source": [
    "# 추상 클래스 abc(abstract base class)\n",
    "* abc묘듈 필요\n",
    "* 추상 클래스는 추상 클래스를 상속받아 클래스를 만들 때 반드시 만들어야 하는 메소드를 지정해주는 클래스(업무 메뉴얼, To Do list)\n",
    "* 인터페이스\n",
    "* 규칙을 부여해서 그 규칙에 따라 클래스를 만들도록 강제함.\n",
    "* 추상 클래스를 상속받은 클래스는 반드시 추상클래스에서 정의한 메소드를 overriding으로 구현해야 한다.\n",
    "* 이력서 양식에 맞추어 내용 적기"
   ]
  },
  {
   "cell_type": "code",
   "execution_count": 147,
   "id": "df689067",
   "metadata": {},
   "outputs": [],
   "source": [
    "from abc import *"
   ]
  },
  {
   "cell_type": "code",
   "execution_count": 148,
   "id": "e6a477f6",
   "metadata": {},
   "outputs": [],
   "source": [
    "# 추상 클래스\n",
    "class CoffeeBase(metaclass=ABCMeta):\n",
    "    @abstractmethod\n",
    "    def bean_input(self):\n",
    "        pass\n",
    "    \n",
    "    @abstractmethod\n",
    "    def grind(self):\n",
    "        pass"
   ]
  },
  {
   "cell_type": "code",
   "execution_count": 149,
   "id": "93570cc9",
   "metadata": {
    "scrolled": true
   },
   "outputs": [
    {
     "ename": "TypeError",
     "evalue": "Can't instantiate abstract class CoffeeBase with abstract methods bean_input, grind",
     "output_type": "error",
     "traceback": [
      "\u001b[1;31m---------------------------------------------------------------------------\u001b[0m",
      "\u001b[1;31mTypeError\u001b[0m                                 Traceback (most recent call last)",
      "Cell \u001b[1;32mIn[149], line 1\u001b[0m\n\u001b[1;32m----> 1\u001b[0m bob \u001b[38;5;241m=\u001b[39m \u001b[43mCoffeeBase\u001b[49m\u001b[43m(\u001b[49m\u001b[43m)\u001b[49m\n",
      "\u001b[1;31mTypeError\u001b[0m: Can't instantiate abstract class CoffeeBase with abstract methods bean_input, grind"
     ]
    }
   ],
   "source": [
    "bob = CoffeeBase()"
   ]
  },
  {
   "cell_type": "code",
   "execution_count": 151,
   "id": "c73a936d",
   "metadata": {},
   "outputs": [],
   "source": [
    "class CoffeeMachine(CoffeeBase):\n",
    "    def bean_input(self):\n",
    "        print(\"커피 원두 넣기\")\n",
    "    \n",
    "    def grind(self):\n",
    "        print(\"커피 원두 갈기\")"
   ]
  },
  {
   "cell_type": "code",
   "execution_count": 152,
   "id": "d062e8f1",
   "metadata": {},
   "outputs": [],
   "source": [
    "sam = CoffeeMachine()"
   ]
  },
  {
   "cell_type": "code",
   "execution_count": 154,
   "id": "ccf72147",
   "metadata": {},
   "outputs": [
    {
     "name": "stdout",
     "output_type": "stream",
     "text": [
      "커피 원두 넣기\n"
     ]
    }
   ],
   "source": [
    "sam.bean_input()"
   ]
  },
  {
   "cell_type": "code",
   "execution_count": 155,
   "id": "28546fd7",
   "metadata": {
    "scrolled": true
   },
   "outputs": [
    {
     "name": "stdout",
     "output_type": "stream",
     "text": [
      "커피 원두 갈기\n"
     ]
    }
   ],
   "source": [
    "sam.grind()"
   ]
  }
 ],
 "metadata": {
  "kernelspec": {
   "display_name": "Python 3 (ipykernel)",
   "language": "python",
   "name": "python3"
  },
  "language_info": {
   "codemirror_mode": {
    "name": "ipython",
    "version": 3
   },
   "file_extension": ".py",
   "mimetype": "text/x-python",
   "name": "python",
   "nbconvert_exporter": "python",
   "pygments_lexer": "ipython3",
   "version": "3.9.23"
  }
 },
 "nbformat": 4,
 "nbformat_minor": 5
}
