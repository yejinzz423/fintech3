{
 "cells": [
  {
   "cell_type": "markdown",
   "id": "2f36cfaf",
   "metadata": {},
   "source": [
    "1.**빈 리스트 `numbers`를 생성하고 출력하세요.**  \n",
    "   ```python\n",
    "   []\n",
    "   ```"
   ]
  },
  {
   "cell_type": "code",
   "execution_count": 1,
   "id": "cb38001d",
   "metadata": {},
   "outputs": [
    {
     "data": {
      "text/plain": [
       "[]"
      ]
     },
     "execution_count": 1,
     "metadata": {},
     "output_type": "execute_result"
    }
   ],
   "source": [
    "numbers = []\n",
    "numbers"
   ]
  },
  {
   "cell_type": "markdown",
   "id": "c1ee7c56",
   "metadata": {},
   "source": [
    "2.**`'numbers'`에 1,2,3,4,5 를 추가하고 출력하세요.**\n",
    "```python\n",
    "[1,2,3,4,5]\n",
    "```"
   ]
  },
  {
   "cell_type": "code",
   "execution_count": 2,
   "id": "9a7e491c",
   "metadata": {},
   "outputs": [
    {
     "data": {
      "text/plain": [
       "[1, 2, 3, 4, 5]"
      ]
     },
     "execution_count": 2,
     "metadata": {},
     "output_type": "execute_result"
    }
   ],
   "source": [
    "numbers = [1,2,3,4,5]\n",
    "numbers"
   ]
  },
  {
   "cell_type": "markdown",
   "id": "b356443b",
   "metadata": {},
   "source": [
    "3.**리스트 `numbers`에 숫자 `6`을 추가하고 출력하세요.**  \n",
    "   ```python\n",
    "   [1, 2, 3, 4, 5, 6]\n",
    "   ```"
   ]
  },
  {
   "cell_type": "code",
   "execution_count": 3,
   "id": "df3b9870",
   "metadata": {},
   "outputs": [
    {
     "data": {
      "text/plain": [
       "[1, 2, 3, 4, 5, 6]"
      ]
     },
     "execution_count": 3,
     "metadata": {},
     "output_type": "execute_result"
    }
   ],
   "source": [
    "numbers.append(6)\n",
    "numbers"
   ]
  },
  {
   "cell_type": "markdown",
   "id": "29600ada",
   "metadata": {},
   "source": [
    "4.**`'numbers'` 에 자료 1,2,3,4,5 를 추가하세요. append가 아닌 다른 함수로 추가**\n",
    "```python\n",
    "[1, 2, 3, 4, 5, 6, 1, 2, 3, 4, 5]\n",
    "```"
   ]
  },
  {
   "cell_type": "code",
   "execution_count": 4,
   "id": "2e771414",
   "metadata": {},
   "outputs": [
    {
     "data": {
      "text/plain": [
       "[1, 2, 3, 4, 5, 6, 1, 2, 3, 4, 5]"
      ]
     },
     "execution_count": 4,
     "metadata": {},
     "output_type": "execute_result"
    }
   ],
   "source": [
    "numbers.extend([1,2,3,4,5])\n",
    "numbers"
   ]
  },
  {
   "cell_type": "markdown",
   "id": "4eb7175a",
   "metadata": {},
   "source": [
    "5.**`'numbers'` 에 자료 1,2,3,4,5를 연산자를 이용해 추가하세요.**\n",
    "```python\n",
    "[1, 2, 3, 4, 5, 6, 1, 2, 3, 4, 5, 1, 2, 3, 4, 5]\n",
    "```"
   ]
  },
  {
   "cell_type": "code",
   "execution_count": 5,
   "id": "4b316849",
   "metadata": {},
   "outputs": [
    {
     "data": {
      "text/plain": [
       "[1, 2, 3, 4, 5, 6, 1, 2, 3, 4, 5, 1, 2, 3, 4, 5]"
      ]
     },
     "execution_count": 5,
     "metadata": {},
     "output_type": "execute_result"
    }
   ],
   "source": [
    "numbers += [1,2,3,4,5]\n",
    "numbers"
   ]
  },
  {
   "cell_type": "markdown",
   "id": "9b9c7567",
   "metadata": {},
   "source": [
    "6.**`'numbers'` 의 자료를 2배로 늘리세요.**\n",
    "```python\n",
    "[1, 2, 3, 4, 5, 6, 1, 2, 3, 4, 5, 1, 2, 3, 4, 5, 1, 2, 3, 4, 5, 6, 1, 2, 3, 4, 5, 1, 2, 3, 4, 5]\n",
    "```"
   ]
  },
  {
   "cell_type": "code",
   "execution_count": 7,
   "id": "a9a9bd05",
   "metadata": {},
   "outputs": [],
   "source": [
    "numbers=numbers * 2"
   ]
  },
  {
   "cell_type": "code",
   "execution_count": 8,
   "id": "9d42f2cd",
   "metadata": {},
   "outputs": [
    {
     "data": {
      "text/plain": [
       "[1,\n",
       " 2,\n",
       " 3,\n",
       " 4,\n",
       " 5,\n",
       " 6,\n",
       " 1,\n",
       " 2,\n",
       " 3,\n",
       " 4,\n",
       " 5,\n",
       " 1,\n",
       " 2,\n",
       " 3,\n",
       " 4,\n",
       " 5,\n",
       " 1,\n",
       " 2,\n",
       " 3,\n",
       " 4,\n",
       " 5,\n",
       " 6,\n",
       " 1,\n",
       " 2,\n",
       " 3,\n",
       " 4,\n",
       " 5,\n",
       " 1,\n",
       " 2,\n",
       " 3,\n",
       " 4,\n",
       " 5]"
      ]
     },
     "execution_count": 8,
     "metadata": {},
     "output_type": "execute_result"
    }
   ],
   "source": [
    "numbers"
   ]
  },
  {
   "cell_type": "markdown",
   "id": "cb546b6f",
   "metadata": {},
   "source": [
    "7. **리스트 `numbers`에서 두 번째 요소를 `99`로 변경하고 출력하세요.**  \n",
    "```python\n",
    "[1, 99, 3, 4, 5, 6, 1, 2, 3, 4, 5, 1, 2, 3, 4, 5, 1, 2, 3, 4, 5, 6, 1, 2, 3, 4, 5, 1, 2, 3, 4, 5]\n",
    "```"
   ]
  },
  {
   "cell_type": "code",
   "execution_count": 9,
   "id": "c4b0af23",
   "metadata": {},
   "outputs": [
    {
     "data": {
      "text/plain": [
       "[1,\n",
       " 99,\n",
       " 3,\n",
       " 4,\n",
       " 5,\n",
       " 6,\n",
       " 1,\n",
       " 2,\n",
       " 3,\n",
       " 4,\n",
       " 5,\n",
       " 1,\n",
       " 2,\n",
       " 3,\n",
       " 4,\n",
       " 5,\n",
       " 1,\n",
       " 2,\n",
       " 3,\n",
       " 4,\n",
       " 5,\n",
       " 6,\n",
       " 1,\n",
       " 2,\n",
       " 3,\n",
       " 4,\n",
       " 5,\n",
       " 1,\n",
       " 2,\n",
       " 3,\n",
       " 4,\n",
       " 5]"
      ]
     },
     "execution_count": 9,
     "metadata": {},
     "output_type": "execute_result"
    }
   ],
   "source": [
    "numbers.insert(1,99)\n",
    "del numbers[2]\n",
    "numbers"
   ]
  },
  {
   "cell_type": "markdown",
   "id": "dc81bba6",
   "metadata": {},
   "source": [
    "8. **리스트 `numbers`에서 마지막 요소를 제거하고 출력하세요.**  \n",
    "```python\n",
    "[1, 99, 3, 4, 5, 6, 1, 2, 3, 4, 5, 1, 2, 3, 4, 5, 1, 2, 3, 4, 5, 6, 1, 2, 3, 4, 5, 1, 2, 3, 4]\n",
    "```"
   ]
  },
  {
   "cell_type": "code",
   "execution_count": 10,
   "id": "bcac9e58",
   "metadata": {},
   "outputs": [
    {
     "data": {
      "text/plain": [
       "[1,\n",
       " 99,\n",
       " 3,\n",
       " 4,\n",
       " 5,\n",
       " 6,\n",
       " 1,\n",
       " 2,\n",
       " 3,\n",
       " 4,\n",
       " 5,\n",
       " 1,\n",
       " 2,\n",
       " 3,\n",
       " 4,\n",
       " 5,\n",
       " 1,\n",
       " 2,\n",
       " 3,\n",
       " 4,\n",
       " 5,\n",
       " 6,\n",
       " 1,\n",
       " 2,\n",
       " 3,\n",
       " 4,\n",
       " 5,\n",
       " 1,\n",
       " 2,\n",
       " 3,\n",
       " 4]"
      ]
     },
     "execution_count": 10,
     "metadata": {},
     "output_type": "execute_result"
    }
   ],
   "source": [
    "numbers.pop()\n",
    "numbers"
   ]
  },
  {
   "cell_type": "markdown",
   "id": "06bba1b6",
   "metadata": {},
   "source": [
    "9. **리스트 `numbers`에서 `99`를 삭제하고 출력하세요.**\n",
    "```python\n",
    "[1, 3, 4, 5, 6, 1, 2, 3, 4, 5, 1, 2, 3, 4, 5, 1, 2, 3, 4, 5, 6, 1, 2, 3, 4, 5, 1, 2, 3, 4]\n",
    "```"
   ]
  },
  {
   "cell_type": "code",
   "execution_count": 11,
   "id": "47613219",
   "metadata": {},
   "outputs": [],
   "source": [
    "del numbers[1]"
   ]
  },
  {
   "cell_type": "code",
   "execution_count": 12,
   "id": "72a9d61c",
   "metadata": {},
   "outputs": [
    {
     "data": {
      "text/plain": [
       "[1,\n",
       " 3,\n",
       " 4,\n",
       " 5,\n",
       " 6,\n",
       " 1,\n",
       " 2,\n",
       " 3,\n",
       " 4,\n",
       " 5,\n",
       " 1,\n",
       " 2,\n",
       " 3,\n",
       " 4,\n",
       " 5,\n",
       " 1,\n",
       " 2,\n",
       " 3,\n",
       " 4,\n",
       " 5,\n",
       " 6,\n",
       " 1,\n",
       " 2,\n",
       " 3,\n",
       " 4,\n",
       " 5,\n",
       " 1,\n",
       " 2,\n",
       " 3,\n",
       " 4]"
      ]
     },
     "execution_count": 12,
     "metadata": {},
     "output_type": "execute_result"
    }
   ],
   "source": [
    "numbers"
   ]
  },
  {
   "cell_type": "markdown",
   "id": "2aefd51e",
   "metadata": {},
   "source": [
    "10.**리스트 `numbers`에서 4번째 `4`의 인덱스를 출력하고 삭제하세요.**\n",
    "```python\n",
    "18\n",
    "4\n",
    "[1, 3, 4, 5, 6, 1, 2, 3, 4, 5, 1, 2, 3, 4, 5, 1, 2, 3, 5, 6, 1, 2, 3, 4, 5, 1, 2, 3, 4]\n",
    "```\n"
   ]
  },
  {
   "cell_type": "code",
   "execution_count": 13,
   "id": "8d14bbe6",
   "metadata": {},
   "outputs": [
    {
     "data": {
      "text/plain": [
       "18"
      ]
     },
     "execution_count": 13,
     "metadata": {},
     "output_type": "execute_result"
    }
   ],
   "source": [
    "numbers.index(4,15)"
   ]
  },
  {
   "cell_type": "code",
   "execution_count": 14,
   "id": "088baffa",
   "metadata": {},
   "outputs": [
    {
     "data": {
      "text/plain": [
       "4"
      ]
     },
     "execution_count": 14,
     "metadata": {},
     "output_type": "execute_result"
    }
   ],
   "source": [
    "numbers[18]"
   ]
  },
  {
   "cell_type": "code",
   "execution_count": 15,
   "id": "6d0ec036",
   "metadata": {},
   "outputs": [
    {
     "data": {
      "text/plain": [
       "[1,\n",
       " 3,\n",
       " 4,\n",
       " 5,\n",
       " 6,\n",
       " 1,\n",
       " 2,\n",
       " 3,\n",
       " 4,\n",
       " 5,\n",
       " 1,\n",
       " 2,\n",
       " 3,\n",
       " 4,\n",
       " 5,\n",
       " 1,\n",
       " 2,\n",
       " 3,\n",
       " 5,\n",
       " 6,\n",
       " 1,\n",
       " 2,\n",
       " 3,\n",
       " 4,\n",
       " 5,\n",
       " 1,\n",
       " 2,\n",
       " 3,\n",
       " 4]"
      ]
     },
     "execution_count": 15,
     "metadata": {},
     "output_type": "execute_result"
    }
   ],
   "source": [
    "del numbers[18]\n",
    "numbers"
   ]
  },
  {
   "cell_type": "markdown",
   "id": "f5483151",
   "metadata": {},
   "source": [
    "11.**리스트 `numbers`에서 `5`의 개수를 출력하세요.**\n",
    "```python\n",
    "5\n",
    "```\n"
   ]
  },
  {
   "cell_type": "code",
   "execution_count": 16,
   "id": "47c15361",
   "metadata": {
    "scrolled": true
   },
   "outputs": [
    {
     "data": {
      "text/plain": [
       "5"
      ]
     },
     "execution_count": 16,
     "metadata": {},
     "output_type": "execute_result"
    }
   ],
   "source": [
    "numbers.count(5)"
   ]
  },
  {
   "cell_type": "markdown",
   "id": "8a6e6b24",
   "metadata": {},
   "source": [
    "12. **complex_list 변수에 리스트 `[1, 2, 3, [4, 5, 6], (7, 8, \"튜플\")]`을 만들고 ``\"튜플\"`을 출력하세요.**  \n",
    "```python\n",
    "[1, 2, 3, [4, 5, 6], (7, 8, '튜플')]\n",
    "튜플\n",
    "```"
   ]
  },
  {
   "cell_type": "code",
   "execution_count": 17,
   "id": "57a53cf1",
   "metadata": {},
   "outputs": [
    {
     "data": {
      "text/plain": [
       "[1, 2, 3, [4, 5, 6], (7, 8, '튜플')]"
      ]
     },
     "execution_count": 17,
     "metadata": {},
     "output_type": "execute_result"
    }
   ],
   "source": [
    "complex_list = [1, 2, 3, [4, 5, 6], (7, 8, \"튜플\")]\n",
    "complex_list"
   ]
  },
  {
   "cell_type": "code",
   "execution_count": 23,
   "id": "3f75117a",
   "metadata": {},
   "outputs": [
    {
     "data": {
      "text/plain": [
       "'튜플'"
      ]
     },
     "execution_count": 23,
     "metadata": {},
     "output_type": "execute_result"
    }
   ],
   "source": [
    "complex_list[4][2]"
   ]
  },
  {
   "cell_type": "markdown",
   "id": "ac469393",
   "metadata": {},
   "source": [
    "13. **`complex_list`의 모든 요소를 역순으로 출력하세요.**  \n",
    "```python\n",
    "[(7, 8, '튜플'), [4, 5, 6], 3, 2, 1]\n",
    "```"
   ]
  },
  {
   "cell_type": "code",
   "execution_count": 24,
   "id": "04e7954d",
   "metadata": {},
   "outputs": [
    {
     "data": {
      "text/plain": [
       "[(7, 8, '튜플'), [4, 5, 6], 3, 2, 1]"
      ]
     },
     "execution_count": 24,
     "metadata": {},
     "output_type": "execute_result"
    }
   ],
   "source": [
    "complex_list.reverse()\n",
    "complex_list"
   ]
  },
  {
   "cell_type": "markdown",
   "id": "f97447ed",
   "metadata": {},
   "source": [
    "14. **`complex_list`내의 [4,5,6] 리스트를 역순 정렬하고 출력하세요.**  \n",
    "```python\n",
    "[1, 2, 3, [6, 5, 4], (7, 8, '튜플')]\n",
    "```"
   ]
  },
  {
   "cell_type": "code",
   "execution_count": 47,
   "id": "e772a2bc",
   "metadata": {},
   "outputs": [
    {
     "data": {
      "text/plain": [
       "[1, 2, 3, [4, 5, 6], (7, 8, '튜플')]"
      ]
     },
     "execution_count": 47,
     "metadata": {},
     "output_type": "execute_result"
    }
   ],
   "source": [
    "complex_list=complex_list[::-1]\n",
    "complex_list"
   ]
  },
  {
   "cell_type": "code",
   "execution_count": 51,
   "id": "3642d5ad",
   "metadata": {},
   "outputs": [],
   "source": [
    "complex_list[3].reverse()"
   ]
  },
  {
   "cell_type": "code",
   "execution_count": 52,
   "id": "352b2a08",
   "metadata": {},
   "outputs": [
    {
     "data": {
      "text/plain": [
       "[1, 2, 3, [6, 5, 4], (7, 8, '튜플')]"
      ]
     },
     "execution_count": 52,
     "metadata": {},
     "output_type": "execute_result"
    }
   ],
   "source": [
    "complex_list"
   ]
  },
  {
   "cell_type": "markdown",
   "id": "674f8d21",
   "metadata": {},
   "source": [
    "15. **`complex_list`에서 '튜플'을 삭제하세요**\n",
    "```python\n",
    "[1, 2, 3, [6, 5, 4], [7, 8]]\n",
    "```"
   ]
  },
  {
   "cell_type": "code",
   "execution_count": 57,
   "id": "451d6c56",
   "metadata": {},
   "outputs": [
    {
     "data": {
      "text/plain": [
       "[7, 8, '튜플']"
      ]
     },
     "execution_count": 57,
     "metadata": {},
     "output_type": "execute_result"
    }
   ],
   "source": [
    "complex_list[4] = list(complex_list[4])\n",
    "complex_list[4]"
   ]
  },
  {
   "cell_type": "code",
   "execution_count": 58,
   "id": "9fd0c06e",
   "metadata": {},
   "outputs": [],
   "source": [
    "del complex_list[4][2]"
   ]
  },
  {
   "cell_type": "code",
   "execution_count": 59,
   "id": "0e11cedf",
   "metadata": {},
   "outputs": [
    {
     "data": {
      "text/plain": [
       "[1, 2, 3, [6, 5, 4], [7, 8]]"
      ]
     },
     "execution_count": 59,
     "metadata": {},
     "output_type": "execute_result"
    }
   ],
   "source": [
    "complex_list"
   ]
  },
  {
   "cell_type": "markdown",
   "id": "ea115721",
   "metadata": {},
   "source": [
    "16.**변수 t에 튜플 `(10, 20, 30, 40, 50)`을 만들고 최대값과 최소값을 결과 형식에 맞게 출력하세요.**  \n",
    "```python\n",
    "(10, 20, 30, 40, 50)\n",
    "최대값: 50 최솟값: 10\n",
    "```"
   ]
  },
  {
   "cell_type": "code",
   "execution_count": 61,
   "id": "70e0c3ee",
   "metadata": {},
   "outputs": [
    {
     "data": {
      "text/plain": [
       "(10, 20, 30, 40, 50)"
      ]
     },
     "execution_count": 61,
     "metadata": {},
     "output_type": "execute_result"
    }
   ],
   "source": [
    "t = (10, 20, 30, 40, 50)\n",
    "t"
   ]
  },
  {
   "cell_type": "code",
   "execution_count": 64,
   "id": "a9f031f6",
   "metadata": {},
   "outputs": [
    {
     "data": {
      "text/plain": [
       "50"
      ]
     },
     "execution_count": 64,
     "metadata": {},
     "output_type": "execute_result"
    }
   ],
   "source": [
    "max(t)"
   ]
  },
  {
   "cell_type": "code",
   "execution_count": 65,
   "id": "c5c0c577",
   "metadata": {},
   "outputs": [
    {
     "data": {
      "text/plain": [
       "10"
      ]
     },
     "execution_count": 65,
     "metadata": {},
     "output_type": "execute_result"
    }
   ],
   "source": [
    "min(t)"
   ]
  },
  {
   "cell_type": "code",
   "execution_count": 66,
   "id": "0714024a",
   "metadata": {},
   "outputs": [
    {
     "name": "stdout",
     "output_type": "stream",
     "text": [
      "(10, 20, 30, 40, 50)\n",
      "최대값: 50 최소값: 10\n"
     ]
    }
   ],
   "source": [
    "print(t)\n",
    "print(\"최대값:\", max(t), \"최소값:\", min(t))"
   ]
  },
  {
   "cell_type": "markdown",
   "id": "7ce95e67",
   "metadata": {},
   "source": [
    "17.**튜플 `t`에서 모든 요소의 합을 출력하세요.**  \n",
    "```python\n",
    "150\n",
    "```"
   ]
  },
  {
   "cell_type": "code",
   "execution_count": 67,
   "id": "3443ba2a",
   "metadata": {},
   "outputs": [
    {
     "data": {
      "text/plain": [
       "150"
      ]
     },
     "execution_count": 67,
     "metadata": {},
     "output_type": "execute_result"
    }
   ],
   "source": [
    "sum(t)"
   ]
  },
  {
   "cell_type": "markdown",
   "id": "ab804deb",
   "metadata": {},
   "source": [
    "18.**튜플 `t`에서 두 번째 요소(20)을 `\"Python\"`으로 변경하고 출력하세요.**  \n",
    "```python\n",
    "(10, 'Python', 30, 40, 50)\n",
    "```"
   ]
  },
  {
   "cell_type": "code",
   "execution_count": 69,
   "id": "a8c2150f",
   "metadata": {},
   "outputs": [],
   "source": [
    "t = list(t)"
   ]
  },
  {
   "cell_type": "code",
   "execution_count": 70,
   "id": "646246c8",
   "metadata": {
    "scrolled": true
   },
   "outputs": [
    {
     "data": {
      "text/plain": [
       "[10, 'Python', 30, 40, 50]"
      ]
     },
     "execution_count": 70,
     "metadata": {},
     "output_type": "execute_result"
    }
   ],
   "source": [
    "t[1]=\"Python\"\n",
    "t"
   ]
  },
  {
   "cell_type": "code",
   "execution_count": 72,
   "id": "1c80070f",
   "metadata": {},
   "outputs": [
    {
     "data": {
      "text/plain": [
       "(10, 'Python', 30, 40, 50)"
      ]
     },
     "execution_count": 72,
     "metadata": {},
     "output_type": "execute_result"
    }
   ],
   "source": [
    "t = tuple(t)\n",
    "t"
   ]
  },
  {
   "cell_type": "markdown",
   "id": "2e117188",
   "metadata": {},
   "source": [
    "19.**튜플 t에 1,2,3,4,5를 list로 변경 없이 추가하고 출력하세요**\n",
    "```python\n",
    "(10, 'Python', 30, 40, 50, 1, 2, 3, 4, 5)\n",
    "```"
   ]
  },
  {
   "cell_type": "code",
   "execution_count": 73,
   "id": "291c7ce9",
   "metadata": {},
   "outputs": [
    {
     "data": {
      "text/plain": [
       "(10, 'Python', 30, 40, 50, 1, 2, 3, 4, 5)"
      ]
     },
     "execution_count": 73,
     "metadata": {},
     "output_type": "execute_result"
    }
   ],
   "source": [
    "t2 = (1,2,3,4,5)\n",
    "t += t2\n",
    "t"
   ]
  },
  {
   "cell_type": "markdown",
   "id": "187dd6d0",
   "metadata": {},
   "source": [
    "20. **`'튜플 t'`의 요소를 2배로 늘리세요.**\n",
    "```python\n",
    "(10, 'Python', 30, 40, 50, 1, 2, 3, 4, 5, 10, 'Python', 30, 40, 50, 1, 2, 3, 4, 5)\n",
    "```"
   ]
  },
  {
   "cell_type": "code",
   "execution_count": 74,
   "id": "69e34b7b",
   "metadata": {},
   "outputs": [
    {
     "data": {
      "text/plain": [
       "(10,\n",
       " 'Python',\n",
       " 30,\n",
       " 40,\n",
       " 50,\n",
       " 1,\n",
       " 2,\n",
       " 3,\n",
       " 4,\n",
       " 5,\n",
       " 10,\n",
       " 'Python',\n",
       " 30,\n",
       " 40,\n",
       " 50,\n",
       " 1,\n",
       " 2,\n",
       " 3,\n",
       " 4,\n",
       " 5)"
      ]
     },
     "execution_count": 74,
     "metadata": {},
     "output_type": "execute_result"
    }
   ],
   "source": [
    "t * 2"
   ]
  }
 ],
 "metadata": {
  "kernelspec": {
   "display_name": "Python 3 (ipykernel)",
   "language": "python",
   "name": "python3"
  },
  "language_info": {
   "codemirror_mode": {
    "name": "ipython",
    "version": 3
   },
   "file_extension": ".py",
   "mimetype": "text/x-python",
   "name": "python",
   "nbconvert_exporter": "python",
   "pygments_lexer": "ipython3",
   "version": "3.9.23"
  }
 },
 "nbformat": 4,
 "nbformat_minor": 5
}
