{
 "cells": [
  {
   "cell_type": "markdown",
   "id": "167a6f81",
   "metadata": {},
   "source": [
    "# 리스트와 튜플 사용하기 초급편"
   ]
  },
  {
   "cell_type": "markdown",
   "id": "1c1dc441",
   "metadata": {},
   "source": [
    "## 리스트 만들기\n",
    "* 대괄호 안에 자료를 나열해서 만듦\n",
    "* 내용이 비어있는 리스트도 생성 가능 []\n",
    "* 자료가 1개만 있는 리스트도 생성 가능\n",
    "* 숫자로만 된 리스트의 경우 range()와 list 형변환 함수로 생성 가능"
   ]
  },
  {
   "cell_type": "code",
   "execution_count": 2,
   "id": "a6063cbc",
   "metadata": {},
   "outputs": [
    {
     "data": {
      "text/plain": [
       "[]"
      ]
     },
     "execution_count": 2,
     "metadata": {},
     "output_type": "execute_result"
    }
   ],
   "source": [
    "# 빈 리스트 만들기\n",
    "l1 = []\n",
    "l1"
   ]
  },
  {
   "cell_type": "code",
   "execution_count": 3,
   "id": "e2b3ff3e",
   "metadata": {},
   "outputs": [
    {
     "name": "stdout",
     "output_type": "stream",
     "text": [
      "[] 0 <class 'list'>\n"
     ]
    }
   ],
   "source": [
    "print(l1, len(l1), type(l1))"
   ]
  },
  {
   "cell_type": "code",
   "execution_count": 6,
   "id": "2a3a87c0",
   "metadata": {},
   "outputs": [],
   "source": [
    "# 대괄호 안에 자료를 나열해서 만들기\n",
    "l2 = [1, 2, 3, 3.5, \"리스트\", (4,5,6), {\"key\":\"value\"}]"
   ]
  },
  {
   "cell_type": "code",
   "execution_count": 7,
   "id": "bd5d838f",
   "metadata": {},
   "outputs": [
    {
     "name": "stdout",
     "output_type": "stream",
     "text": [
      "[1, 2, 3, 3.5, '리스트', (4, 5, 6), {'key': 'value'}] <class 'list'>\n"
     ]
    }
   ],
   "source": [
    "print(l2, type(l2))"
   ]
  },
  {
   "cell_type": "markdown",
   "id": "6ba3928e",
   "metadata": {},
   "source": [
    "# range 함수로 리스트 만들기\n",
    "* range(시작번호, 끝번호+1, step)"
   ]
  },
  {
   "cell_type": "code",
   "execution_count": 8,
   "id": "1302e02f",
   "metadata": {
    "scrolled": true
   },
   "outputs": [
    {
     "data": {
      "text/plain": [
       "[1, 3, 5, 7, 9]"
      ]
     },
     "execution_count": 8,
     "metadata": {},
     "output_type": "execute_result"
    }
   ],
   "source": [
    "list(range(1,11,2))"
   ]
  },
  {
   "cell_type": "code",
   "execution_count": 9,
   "id": "3b4d9306",
   "metadata": {},
   "outputs": [
    {
     "data": {
      "text/plain": [
       "[4,\n",
       " 8,\n",
       " 12,\n",
       " 16,\n",
       " 20,\n",
       " 24,\n",
       " 28,\n",
       " 32,\n",
       " 36,\n",
       " 40,\n",
       " 44,\n",
       " 48,\n",
       " 52,\n",
       " 56,\n",
       " 60,\n",
       " 64,\n",
       " 68,\n",
       " 72,\n",
       " 76,\n",
       " 80,\n",
       " 84,\n",
       " 88,\n",
       " 92,\n",
       " 96,\n",
       " 100]"
      ]
     },
     "execution_count": 9,
     "metadata": {},
     "output_type": "execute_result"
    }
   ],
   "source": [
    "# 4의 배수로 리스트 만들기\n",
    "list(range(4,101,4))"
   ]
  },
  {
   "cell_type": "code",
   "execution_count": 10,
   "id": "55693ffb",
   "metadata": {},
   "outputs": [
    {
     "data": {
      "text/plain": [
       "[100,\n",
       " 96,\n",
       " 92,\n",
       " 88,\n",
       " 84,\n",
       " 80,\n",
       " 76,\n",
       " 72,\n",
       " 68,\n",
       " 64,\n",
       " 60,\n",
       " 56,\n",
       " 52,\n",
       " 48,\n",
       " 44,\n",
       " 40,\n",
       " 36,\n",
       " 32,\n",
       " 28,\n",
       " 24,\n",
       " 20,\n",
       " 16,\n",
       " 12,\n",
       " 8,\n",
       " 4]"
      ]
     },
     "execution_count": 10,
     "metadata": {},
     "output_type": "execute_result"
    }
   ],
   "source": [
    "# 역순으로 리스트 만들기\n",
    "list(range(100,1,-4))"
   ]
  },
  {
   "cell_type": "markdown",
   "id": "62824a29",
   "metadata": {},
   "source": [
    "# 리스트 함수"
   ]
  },
  {
   "cell_type": "markdown",
   "id": "55927ae4",
   "metadata": {},
   "source": [
    "## .append() 리스트 마지막에 자료 추가"
   ]
  },
  {
   "cell_type": "code",
   "execution_count": 3,
   "id": "60b2ddf5",
   "metadata": {},
   "outputs": [
    {
     "data": {
      "text/plain": [
       "[3]"
      ]
     },
     "execution_count": 3,
     "metadata": {},
     "output_type": "execute_result"
    }
   ],
   "source": [
    "l1.append(3)\n",
    "l1"
   ]
  },
  {
   "cell_type": "code",
   "execution_count": 4,
   "id": "ec2ba7b1",
   "metadata": {},
   "outputs": [
    {
     "data": {
      "text/plain": [
       "[3, 3.5]"
      ]
     },
     "execution_count": 4,
     "metadata": {},
     "output_type": "execute_result"
    }
   ],
   "source": [
    "l1.append(3.5)\n",
    "l1"
   ]
  },
  {
   "cell_type": "code",
   "execution_count": 5,
   "id": "d0e6fd7b",
   "metadata": {},
   "outputs": [
    {
     "data": {
      "text/plain": [
       "[3, 3.5, 'append']"
      ]
     },
     "execution_count": 5,
     "metadata": {},
     "output_type": "execute_result"
    }
   ],
   "source": [
    "l1.append(\"append\")\n",
    "l1"
   ]
  },
  {
   "cell_type": "code",
   "execution_count": 6,
   "id": "37c55830",
   "metadata": {},
   "outputs": [
    {
     "data": {
      "text/plain": [
       "[3, 3.5, 'append', [1, 2, 3]]"
      ]
     },
     "execution_count": 6,
     "metadata": {},
     "output_type": "execute_result"
    }
   ],
   "source": [
    "l1.append([1,2,3])\n",
    "l1"
   ]
  },
  {
   "cell_type": "code",
   "execution_count": 7,
   "id": "de8631c6",
   "metadata": {},
   "outputs": [
    {
     "data": {
      "text/plain": [
       "[3, 3.5, 'append', [1, 2, 3], (4, 5, 6)]"
      ]
     },
     "execution_count": 7,
     "metadata": {},
     "output_type": "execute_result"
    }
   ],
   "source": [
    "l1.append((4,5,6))\n",
    "l1"
   ]
  },
  {
   "cell_type": "code",
   "execution_count": 8,
   "id": "c611cd40",
   "metadata": {},
   "outputs": [
    {
     "data": {
      "text/plain": [
       "[3, 3.5, 'append', [1, 2, 3], (4, 5, 6), {'key': 'value'}]"
      ]
     },
     "execution_count": 8,
     "metadata": {},
     "output_type": "execute_result"
    }
   ],
   "source": [
    "l1.append({\"key\":\"value\"})\n",
    "l1"
   ]
  },
  {
   "cell_type": "markdown",
   "id": "214197d6",
   "metadata": {},
   "source": [
    "## .insert() 특정 위치에 자료 추가할 때 사용\n",
    "* insert(추가할 위치 인덱스, 추가할 값)"
   ]
  },
  {
   "cell_type": "code",
   "execution_count": 9,
   "id": "013b4106",
   "metadata": {},
   "outputs": [],
   "source": [
    "#l1의 인덱스 3번에 True\n",
    "l1.insert(3, True)"
   ]
  },
  {
   "cell_type": "code",
   "execution_count": 10,
   "id": "ffcfc18e",
   "metadata": {},
   "outputs": [
    {
     "data": {
      "text/plain": [
       "[3, 3.5, 'append', True, [1, 2, 3], (4, 5, 6), {'key': 'value'}]"
      ]
     },
     "execution_count": 10,
     "metadata": {},
     "output_type": "execute_result"
    }
   ],
   "source": [
    "l1"
   ]
  },
  {
   "cell_type": "markdown",
   "id": "4fb10754",
   "metadata": {},
   "source": [
    "## 리스트의 자료 삭제하기\n",
    "* del 변수명 [인덱스번호]: 해당 인덱스의 자료 삭제\n",
    "* pop(): 리스트의 가장 끝 자료가 출력되면서 삭제\n",
    "* remove(값): 리스트의 앞에서부터 입력한 값과 일치하는 값을 찾아서 삭제(정수, 실수 구분 X)"
   ]
  },
  {
   "cell_type": "code",
   "execution_count": 11,
   "id": "96b2d809",
   "metadata": {},
   "outputs": [],
   "source": [
    "del l1[2]"
   ]
  },
  {
   "cell_type": "code",
   "execution_count": 12,
   "id": "a45a986f",
   "metadata": {},
   "outputs": [
    {
     "data": {
      "text/plain": [
       "[3, 3.5, True, [1, 2, 3], (4, 5, 6), {'key': 'value'}]"
      ]
     },
     "execution_count": 12,
     "metadata": {},
     "output_type": "execute_result"
    }
   ],
   "source": [
    "l1"
   ]
  },
  {
   "cell_type": "code",
   "execution_count": 13,
   "id": "9a4094b1",
   "metadata": {
    "scrolled": true
   },
   "outputs": [
    {
     "data": {
      "text/plain": [
       "[3, 3.5, True, [1, 2, 3], (4, 5, 6)]"
      ]
     },
     "execution_count": 13,
     "metadata": {},
     "output_type": "execute_result"
    }
   ],
   "source": [
    "l1.pop()\n",
    "l1"
   ]
  },
  {
   "cell_type": "code",
   "execution_count": 14,
   "id": "257bafa2",
   "metadata": {},
   "outputs": [
    {
     "data": {
      "text/plain": [
       "[3.0, 3, 3.5, True, [1, 2, 3], (4, 5, 6)]"
      ]
     },
     "execution_count": 14,
     "metadata": {},
     "output_type": "execute_result"
    }
   ],
   "source": [
    "l1.insert(0, 3.0)\n",
    "l1"
   ]
  },
  {
   "cell_type": "code",
   "execution_count": 15,
   "id": "8c49ce6d",
   "metadata": {},
   "outputs": [],
   "source": [
    "l1.remove(3)"
   ]
  },
  {
   "cell_type": "code",
   "execution_count": 17,
   "id": "2571d7b5",
   "metadata": {},
   "outputs": [
    {
     "data": {
      "text/plain": [
       "[3, 3.5, True, [1, 2, 3], (4, 5, 6)]"
      ]
     },
     "execution_count": 17,
     "metadata": {},
     "output_type": "execute_result"
    }
   ],
   "source": [
    "l1"
   ]
  },
  {
   "cell_type": "markdown",
   "id": "d07c6832",
   "metadata": {},
   "source": [
    "## 리스트 확장하기 .extend\n",
    "* 리스트에 자료를 추가하되 요소만 추가"
   ]
  },
  {
   "cell_type": "code",
   "execution_count": 107,
   "id": "faaeaec9",
   "metadata": {},
   "outputs": [],
   "source": [
    "a = [1,2,3]\n",
    "b = [4,5,6]"
   ]
  },
  {
   "cell_type": "code",
   "execution_count": 109,
   "id": "30f5c8dc",
   "metadata": {},
   "outputs": [
    {
     "data": {
      "text/plain": [
       "[1, 2, 3, [4, 5, 6], [4, 5, 6]]"
      ]
     },
     "execution_count": 109,
     "metadata": {},
     "output_type": "execute_result"
    }
   ],
   "source": [
    "# 리스트 형태 그대로 추가됨\n",
    "a.append(b)\n",
    "a"
   ]
  },
  {
   "cell_type": "code",
   "execution_count": 110,
   "id": "1be25b05",
   "metadata": {
    "scrolled": false
   },
   "outputs": [
    {
     "data": {
      "text/plain": [
       "5"
      ]
     },
     "execution_count": 110,
     "metadata": {},
     "output_type": "execute_result"
    }
   ],
   "source": [
    "a[3][1]"
   ]
  },
  {
   "cell_type": "code",
   "execution_count": 112,
   "id": "978f872b",
   "metadata": {},
   "outputs": [
    {
     "data": {
      "text/plain": [
       "[4, 5, 6, 7, 8, 9]"
      ]
     },
     "execution_count": 112,
     "metadata": {},
     "output_type": "execute_result"
    }
   ],
   "source": [
    "# extend 리스트형태 없이 자료만 추가\n",
    "b.extend([7,8,9])\n",
    "b"
   ]
  },
  {
   "cell_type": "code",
   "execution_count": 113,
   "id": "75a3e335",
   "metadata": {},
   "outputs": [
    {
     "data": {
      "text/plain": [
       "8"
      ]
     },
     "execution_count": 113,
     "metadata": {},
     "output_type": "execute_result"
    }
   ],
   "source": [
    "b[4]"
   ]
  },
  {
   "cell_type": "markdown",
   "id": "d3e012a3",
   "metadata": {},
   "source": [
    "## list+list == extend()"
   ]
  },
  {
   "cell_type": "code",
   "execution_count": 19,
   "id": "28438fe9",
   "metadata": {},
   "outputs": [],
   "source": [
    "a = [1,2,3]\n",
    "b = [4,5,6]"
   ]
  },
  {
   "cell_type": "code",
   "execution_count": 20,
   "id": "4c6defaa",
   "metadata": {},
   "outputs": [
    {
     "data": {
      "text/plain": [
       "[1, 2, 3, 4, 5, 6]"
      ]
     },
     "execution_count": 20,
     "metadata": {},
     "output_type": "execute_result"
    }
   ],
   "source": [
    "a + b"
   ]
  },
  {
   "cell_type": "markdown",
   "id": "8431a633",
   "metadata": {},
   "source": [
    "## 리스트 안에서 원하는 값의 인덱스 찾기\n",
    "* in, not in:리스트 안에서 원하는 값이 있는지 확인 True, Palse\n",
    "* 원하는 값이 있는 위치를 찾을 때 .index(찾을값, 시작 인덱스) - 가장 앞 인덱스만 반환\n",
    "* 동일한 값이 여러개 있는 경우 가장 앞은 인덱스를 반환\n",
    "* 2번째 이상의 자료를 찾으려면 옵션에 시작 인덱스를 지정하면 된다."
   ]
  },
  {
   "cell_type": "code",
   "execution_count": 37,
   "id": "014bc3c1",
   "metadata": {},
   "outputs": [
    {
     "data": {
      "text/plain": [
       "[1, 2, 3, [3, 4, 5, 6, 7, 9], [4, 5, 6, 7, 8, 9], 3, 4, 5, 7, 8, 9]"
      ]
     },
     "execution_count": 37,
     "metadata": {},
     "output_type": "execute_result"
    }
   ],
   "source": [
    "a= [1,2,3, [3,4,5,6,7,9], [4,5,6,7,8,9], 3,4,5,7,8,9]\n",
    "a"
   ]
  },
  {
   "cell_type": "code",
   "execution_count": 23,
   "id": "96f89760",
   "metadata": {},
   "outputs": [
    {
     "data": {
      "text/plain": [
       "True"
      ]
     },
     "execution_count": 23,
     "metadata": {},
     "output_type": "execute_result"
    }
   ],
   "source": [
    "4 in a"
   ]
  },
  {
   "cell_type": "code",
   "execution_count": 36,
   "id": "fda4ad51",
   "metadata": {},
   "outputs": [
    {
     "data": {
      "text/plain": [
       "6"
      ]
     },
     "execution_count": 36,
     "metadata": {},
     "output_type": "execute_result"
    }
   ],
   "source": [
    "a.index(4)"
   ]
  },
  {
   "cell_type": "code",
   "execution_count": 38,
   "id": "10ceacbd",
   "metadata": {},
   "outputs": [
    {
     "data": {
      "text/plain": [
       "[1, 2, 3, [3, 4, 5, 6, 7, 9], [4, 5, 6, 7, 8, 9], 3, 5, 7, 8, 9]"
      ]
     },
     "execution_count": 38,
     "metadata": {},
     "output_type": "execute_result"
    }
   ],
   "source": [
    "a.remove(4)\n",
    "a"
   ]
  },
  {
   "cell_type": "code",
   "execution_count": 39,
   "id": "34860197",
   "metadata": {},
   "outputs": [
    {
     "data": {
      "text/plain": [
       "False"
      ]
     },
     "execution_count": 39,
     "metadata": {},
     "output_type": "execute_result"
    }
   ],
   "source": [
    "4 in a"
   ]
  },
  {
   "cell_type": "code",
   "execution_count": 40,
   "id": "daa79a43",
   "metadata": {},
   "outputs": [
    {
     "data": {
      "text/plain": [
       "True"
      ]
     },
     "execution_count": 40,
     "metadata": {},
     "output_type": "execute_result"
    }
   ],
   "source": [
    "4 in a[3]"
   ]
  },
  {
   "cell_type": "code",
   "execution_count": 41,
   "id": "6f5a4f67",
   "metadata": {},
   "outputs": [
    {
     "data": {
      "text/plain": [
       "[3, 4, 5, 6, 7, 9]"
      ]
     },
     "execution_count": 41,
     "metadata": {},
     "output_type": "execute_result"
    }
   ],
   "source": [
    "a[3]"
   ]
  },
  {
   "cell_type": "code",
   "execution_count": 45,
   "id": "fb959711",
   "metadata": {},
   "outputs": [
    {
     "data": {
      "text/plain": [
       "5"
      ]
     },
     "execution_count": 45,
     "metadata": {},
     "output_type": "execute_result"
    }
   ],
   "source": [
    "a.index(3,3)"
   ]
  },
  {
   "cell_type": "markdown",
   "id": "c5b8e421",
   "metadata": {},
   "source": [
    "## 리스트 안에서 특정 깞의 개수 구하기 .count()"
   ]
  },
  {
   "cell_type": "code",
   "execution_count": 48,
   "id": "cb2f106a",
   "metadata": {
    "scrolled": true
   },
   "outputs": [
    {
     "data": {
      "text/plain": [
       "[1, 2, 3, [3, 4, 5, 6, 7, 9], [4, 5, 6, 7, 8, 9], 3, 5, 7, 8, 9]"
      ]
     },
     "execution_count": 48,
     "metadata": {},
     "output_type": "execute_result"
    }
   ],
   "source": [
    "a"
   ]
  },
  {
   "cell_type": "code",
   "execution_count": 49,
   "id": "d4c0d0f0",
   "metadata": {},
   "outputs": [
    {
     "data": {
      "text/plain": [
       "1"
      ]
     },
     "execution_count": 49,
     "metadata": {},
     "output_type": "execute_result"
    }
   ],
   "source": [
    "a[3].count(3)"
   ]
  },
  {
   "cell_type": "markdown",
   "id": "72e48a6a",
   "metadata": {},
   "source": [
    "# 리스트 순서 뒤집기 \n",
    "* reverse(): 실행 즉시 원본 데이터 변경\n",
    "* list(reversed(리스트)): 재할당을 해야지만 저장\n",
    "* 리스트[::-1]: 역인덱싱으로 뒤집기 "
   ]
  },
  {
   "cell_type": "code",
   "execution_count": 51,
   "id": "fc28bf33",
   "metadata": {},
   "outputs": [],
   "source": [
    "a.reverse()"
   ]
  },
  {
   "cell_type": "code",
   "execution_count": 52,
   "id": "c94d398e",
   "metadata": {},
   "outputs": [
    {
     "data": {
      "text/plain": [
       "[9, 8, 7, 5, 3, [4, 5, 6, 7, 8, 9], [3, 4, 5, 6, 7, 9], 3, 2, 1]"
      ]
     },
     "execution_count": 52,
     "metadata": {},
     "output_type": "execute_result"
    }
   ],
   "source": [
    "a"
   ]
  },
  {
   "cell_type": "code",
   "execution_count": 53,
   "id": "9543c307",
   "metadata": {},
   "outputs": [],
   "source": [
    "a.reverse()"
   ]
  },
  {
   "cell_type": "code",
   "execution_count": 61,
   "id": "4ace4502",
   "metadata": {},
   "outputs": [
    {
     "data": {
      "text/plain": [
       "[1, 2, 3, [3, 4, 5, 6, 7, 9], [4, 5, 6, 7, 8, 9], 3, 5, 7, 8, 9]"
      ]
     },
     "execution_count": 61,
     "metadata": {},
     "output_type": "execute_result"
    }
   ],
   "source": [
    "a"
   ]
  },
  {
   "cell_type": "code",
   "execution_count": 63,
   "id": "8bdab160",
   "metadata": {},
   "outputs": [
    {
     "data": {
      "text/plain": [
       "[9, 8, 7, 5, 3, [4, 5, 6, 7, 8, 9], [3, 4, 5, 6, 7, 9], 3, 2, 1]"
      ]
     },
     "execution_count": 63,
     "metadata": {},
     "output_type": "execute_result"
    }
   ],
   "source": [
    "a[::-1]"
   ]
  },
  {
   "cell_type": "code",
   "execution_count": 69,
   "id": "9d650cdb",
   "metadata": {},
   "outputs": [
    {
     "data": {
      "text/plain": [
       "[1, 2, 3, [3, 4, 5, 6, 7, 9], [4, 5, 6, 7, 8, 9], 3, 5, 7, 8, 9]"
      ]
     },
     "execution_count": 69,
     "metadata": {},
     "output_type": "execute_result"
    }
   ],
   "source": [
    "a"
   ]
  },
  {
   "cell_type": "code",
   "execution_count": 70,
   "id": "bd29ec4e",
   "metadata": {},
   "outputs": [
    {
     "data": {
      "text/plain": [
       "[1, 2, 3, 4, 5, 6, 7, 8, 9, 10]"
      ]
     },
     "execution_count": 70,
     "metadata": {},
     "output_type": "execute_result"
    }
   ],
   "source": [
    "a = list(range(1,11))\n",
    "a"
   ]
  },
  {
   "cell_type": "code",
   "execution_count": 71,
   "id": "7c19c457",
   "metadata": {},
   "outputs": [
    {
     "data": {
      "text/plain": [
       "[10, 9, 8, 7, 6, 5, 4, 3, 2, 1]"
      ]
     },
     "execution_count": 71,
     "metadata": {},
     "output_type": "execute_result"
    }
   ],
   "source": [
    "list(reversed(a))"
   ]
  },
  {
   "cell_type": "code",
   "execution_count": 72,
   "id": "c1d30091",
   "metadata": {
    "scrolled": false
   },
   "outputs": [
    {
     "name": "stdout",
     "output_type": "stream",
     "text": [
      "10\n",
      "9\n",
      "8\n",
      "7\n",
      "6\n",
      "5\n",
      "4\n",
      "3\n",
      "2\n",
      "1\n"
     ]
    }
   ],
   "source": [
    "for i in reversed(a):\n",
    "    print(i)"
   ]
  },
  {
   "cell_type": "markdown",
   "id": "d782ae1b",
   "metadata": {},
   "source": [
    "## 리스트 정렬\n",
    "* .sort(): 오름차순 - 실행 후 바로 저장\n",
    "* sort(reverse=True): 내림차순 - 실행 후 바로 저장\n",
    "* sorted(리스트): 오름차순 정렬 - 재할당 필요\n",
    "* sorted(reverse=True): 내림차순 - 재할당 필요"
   ]
  },
  {
   "cell_type": "code",
   "execution_count": 73,
   "id": "70c5968a",
   "metadata": {},
   "outputs": [
    {
     "data": {
      "text/plain": [
       "[1, 2, 3, 4, 5, 6, 7, 8, 9, 10]"
      ]
     },
     "execution_count": 73,
     "metadata": {},
     "output_type": "execute_result"
    }
   ],
   "source": [
    "a.sort()\n",
    "a"
   ]
  },
  {
   "cell_type": "code",
   "execution_count": 74,
   "id": "4829c21f",
   "metadata": {},
   "outputs": [
    {
     "data": {
      "text/plain": [
       "[10, 9, 8, 7, 6, 5, 4, 3, 2, 1]"
      ]
     },
     "execution_count": 74,
     "metadata": {},
     "output_type": "execute_result"
    }
   ],
   "source": [
    "a.sort(reverse=True)\n",
    "a"
   ]
  },
  {
   "cell_type": "code",
   "execution_count": 78,
   "id": "d34eab32",
   "metadata": {},
   "outputs": [
    {
     "data": {
      "text/plain": [
       "[1, 2, 3, 4, 5, 6, 7, 8, 9, 10]"
      ]
     },
     "execution_count": 78,
     "metadata": {},
     "output_type": "execute_result"
    }
   ],
   "source": [
    "a=sorted(a)\n",
    "a"
   ]
  },
  {
   "cell_type": "code",
   "execution_count": 79,
   "id": "c5539943",
   "metadata": {
    "scrolled": true
   },
   "outputs": [
    {
     "data": {
      "text/plain": [
       "[10, 9, 8, 7, 6, 5, 4, 3, 2, 1]"
      ]
     },
     "execution_count": 79,
     "metadata": {},
     "output_type": "execute_result"
    }
   ],
   "source": [
    "a=sorted(a,reverse=True)\n",
    "a"
   ]
  },
  {
   "cell_type": "code",
   "execution_count": 76,
   "id": "a397d818",
   "metadata": {},
   "outputs": [
    {
     "data": {
      "text/plain": [
       "[10, 9, 8, 7, 6, 5, 4, 3, 2, 1]"
      ]
     },
     "execution_count": 76,
     "metadata": {},
     "output_type": "execute_result"
    }
   ],
   "source": [
    "a = sorted(a, reverse=True)\n",
    "a"
   ]
  },
  {
   "cell_type": "markdown",
   "id": "2f420d8a",
   "metadata": {},
   "source": [
    "# 튜플 tuple\n",
    "* 튜플은 리스트처러 모든 자료형을 넣어 만들수 있다.\n",
    "* 순서가 있는 자료형, 인덱스가 있다.\n",
    "* 인덱싱, 슬라이싱 가능\n",
    "* 자료의 추가, 삭제가 안됨\n",
    "* 자료 1개만 넣어서 만들 수 있다. 단, (1,) 형식어어야 한다.\n",
    "* 튜플 생성시 자료가 2개 이상인 경우 () 생략 가능"
   ]
  },
  {
   "cell_type": "code",
   "execution_count": 145,
   "id": "b393497a",
   "metadata": {},
   "outputs": [
    {
     "data": {
      "text/plain": [
       "(1,)"
      ]
     },
     "execution_count": 145,
     "metadata": {},
     "output_type": "execute_result"
    }
   ],
   "source": [
    "t = (1,)\n",
    "t"
   ]
  },
  {
   "cell_type": "code",
   "execution_count": 148,
   "id": "7132d2a1",
   "metadata": {},
   "outputs": [
    {
     "name": "stdout",
     "output_type": "stream",
     "text": [
      "() <class 'tuple'>\n"
     ]
    }
   ],
   "source": [
    "t0 = ()\n",
    "print(t0, type(t0))"
   ]
  },
  {
   "cell_type": "code",
   "execution_count": 150,
   "id": "e5e23182",
   "metadata": {},
   "outputs": [],
   "source": [
    "t1=(1,2,3)\n",
    "t2=(4,5,6)"
   ]
  },
  {
   "cell_type": "markdown",
   "id": "fd6d4d01",
   "metadata": {},
   "source": [
    "## 튜플 + 튜플 = 두개의 튜플 요소가 하나로 합쳐짐"
   ]
  },
  {
   "cell_type": "code",
   "execution_count": 153,
   "id": "83d1f0a8",
   "metadata": {},
   "outputs": [
    {
     "data": {
      "text/plain": [
       "(1, 2, 3, 4, 5, 6)"
      ]
     },
     "execution_count": 153,
     "metadata": {},
     "output_type": "execute_result"
    }
   ],
   "source": [
    "t3 = t1 + t2\n",
    "t3"
   ]
  },
  {
   "cell_type": "markdown",
   "id": "6cb934d9",
   "metadata": {},
   "source": [
    "## index() 튜플 내에서 특정 값의 인덱스 찾기"
   ]
  },
  {
   "cell_type": "code",
   "execution_count": 154,
   "id": "7ef8e3cb",
   "metadata": {},
   "outputs": [
    {
     "data": {
      "text/plain": [
       "4"
      ]
     },
     "execution_count": 154,
     "metadata": {},
     "output_type": "execute_result"
    }
   ],
   "source": [
    "t3.index(5)"
   ]
  },
  {
   "cell_type": "markdown",
   "id": "c7591836",
   "metadata": {},
   "source": [
    "## count() 튜플 내에 특정 값의 갯수 세기"
   ]
  },
  {
   "cell_type": "code",
   "execution_count": 157,
   "id": "2e021f59",
   "metadata": {},
   "outputs": [
    {
     "data": {
      "text/plain": [
       "(1, 2, 3, 4, 5, 6, 1, 2, 3)"
      ]
     },
     "execution_count": 157,
     "metadata": {},
     "output_type": "execute_result"
    }
   ],
   "source": [
    "t3 = t3 + t4\n",
    "t3"
   ]
  },
  {
   "cell_type": "code",
   "execution_count": 156,
   "id": "a8bf6c91",
   "metadata": {},
   "outputs": [],
   "source": [
    "t4 = (1,2,3)"
   ]
  },
  {
   "cell_type": "code",
   "execution_count": 158,
   "id": "1b027f75",
   "metadata": {},
   "outputs": [
    {
     "data": {
      "text/plain": [
       "2"
      ]
     },
     "execution_count": 158,
     "metadata": {},
     "output_type": "execute_result"
    }
   ],
   "source": [
    "t3.count(3)"
   ]
  },
  {
   "cell_type": "markdown",
   "id": "0aa136ba",
   "metadata": {},
   "source": [
    "## 튜플의 내용을 변경하거나 추가 삭제하고 싶을 때\n",
    "* list로 형변환 후 자료를 추가, 삭제, 변경하고 다시 tuple로 변환"
   ]
  },
  {
   "cell_type": "code",
   "execution_count": 159,
   "id": "23fc4771",
   "metadata": {},
   "outputs": [
    {
     "data": {
      "text/plain": [
       "[1, 2, 3, 4, 5, 6, 1, 2, 3]"
      ]
     },
     "execution_count": 159,
     "metadata": {},
     "output_type": "execute_result"
    }
   ],
   "source": [
    "t3 = list(t3)\n",
    "t3"
   ]
  },
  {
   "cell_type": "code",
   "execution_count": 160,
   "id": "db90759d",
   "metadata": {},
   "outputs": [
    {
     "data": {
      "text/plain": [
       "[10, 2, 3, 4, 5, 6, 1, 2, 3, (1, 2, 3)]"
      ]
     },
     "execution_count": 160,
     "metadata": {},
     "output_type": "execute_result"
    }
   ],
   "source": [
    "t3[0]=10\n",
    "t3.append((1,2,3))\n",
    "t3"
   ]
  },
  {
   "cell_type": "code",
   "execution_count": 162,
   "id": "bb1c5376",
   "metadata": {},
   "outputs": [
    {
     "data": {
      "text/plain": [
       "(10, 2, 3, 4, 5, 6, 1, 2, 3, (1, 2, 3))"
      ]
     },
     "execution_count": 162,
     "metadata": {},
     "output_type": "execute_result"
    }
   ],
   "source": [
    "t3 = tuple(t3)\n",
    "t3"
   ]
  },
  {
   "cell_type": "markdown",
   "id": "5512c336",
   "metadata": {},
   "source": [
    "## 괄호 생략하고 튜플 만들기"
   ]
  },
  {
   "cell_type": "code",
   "execution_count": 163,
   "id": "a0bfd170",
   "metadata": {},
   "outputs": [
    {
     "data": {
      "text/plain": [
       "('튜플', '괄호없이', '만들기', 1, 2, 3)"
      ]
     },
     "execution_count": 163,
     "metadata": {},
     "output_type": "execute_result"
    }
   ],
   "source": [
    "t5 = \"튜플\", \"괄호없이\", \"만들기\", 1, 2, 3\n",
    "t5"
   ]
  },
  {
   "cell_type": "markdown",
   "id": "391ec92e",
   "metadata": {},
   "source": [
    "## 리스트/튜플 곱셈으로 반복하기\n",
    "* 리스트 * 숫자 = 리스트 안의 요소가 숫자만큼 복사된다.\n",
    "* 튜플 * 숫자 = 리스트 안의 요소가 숫자만큼 복사된다."
   ]
  },
  {
   "cell_type": "code",
   "execution_count": 164,
   "id": "213cd7cd",
   "metadata": {},
   "outputs": [
    {
     "data": {
      "text/plain": [
       "'=================================================='"
      ]
     },
     "execution_count": 164,
     "metadata": {},
     "output_type": "execute_result"
    }
   ],
   "source": [
    "\"=\" * 50"
   ]
  },
  {
   "cell_type": "code",
   "execution_count": 165,
   "id": "7fc65257",
   "metadata": {},
   "outputs": [
    {
     "data": {
      "text/plain": [
       "[1, 2, 3, 1, 2, 3, 1, 2, 3]"
      ]
     },
     "execution_count": 165,
     "metadata": {},
     "output_type": "execute_result"
    }
   ],
   "source": [
    "a = [1,2,3]\n",
    "a * 3"
   ]
  },
  {
   "cell_type": "code",
   "execution_count": 166,
   "id": "6b7f49bb",
   "metadata": {},
   "outputs": [
    {
     "data": {
      "text/plain": [
       "('튜플',\n",
       " '괄호없이',\n",
       " '만들기',\n",
       " 1,\n",
       " 2,\n",
       " 3,\n",
       " '튜플',\n",
       " '괄호없이',\n",
       " '만들기',\n",
       " 1,\n",
       " 2,\n",
       " 3,\n",
       " '튜플',\n",
       " '괄호없이',\n",
       " '만들기',\n",
       " 1,\n",
       " 2,\n",
       " 3)"
      ]
     },
     "execution_count": 166,
     "metadata": {},
     "output_type": "execute_result"
    }
   ],
   "source": [
    "t5 * 3"
   ]
  },
  {
   "cell_type": "markdown",
   "id": "99c9b0f3",
   "metadata": {},
   "source": [
    "## 리스트/튜플 연산 함수 사용하기\n",
    "* sum(): 덧셈\n",
    "* max(): 최대값\n",
    "* min(): 최소값"
   ]
  },
  {
   "cell_type": "code",
   "execution_count": 171,
   "id": "9129e5e5",
   "metadata": {},
   "outputs": [],
   "source": [
    "a = list(range(1,51))\n",
    "b = tuple(range(100,50,-1))"
   ]
  },
  {
   "cell_type": "code",
   "execution_count": 172,
   "id": "f6525a64",
   "metadata": {},
   "outputs": [
    {
     "data": {
      "text/plain": [
       "1275"
      ]
     },
     "execution_count": 172,
     "metadata": {},
     "output_type": "execute_result"
    }
   ],
   "source": [
    "sum(a)"
   ]
  },
  {
   "cell_type": "code",
   "execution_count": 173,
   "id": "91a5f8d8",
   "metadata": {},
   "outputs": [
    {
     "data": {
      "text/plain": [
       "3775"
      ]
     },
     "execution_count": 173,
     "metadata": {},
     "output_type": "execute_result"
    }
   ],
   "source": [
    "sum(b)"
   ]
  },
  {
   "cell_type": "code",
   "execution_count": 175,
   "id": "348364e7",
   "metadata": {},
   "outputs": [
    {
     "data": {
      "text/plain": [
       "50"
      ]
     },
     "execution_count": 175,
     "metadata": {},
     "output_type": "execute_result"
    }
   ],
   "source": [
    "max(a)"
   ]
  },
  {
   "cell_type": "code",
   "execution_count": 176,
   "id": "b8d2ba02",
   "metadata": {},
   "outputs": [
    {
     "data": {
      "text/plain": [
       "100"
      ]
     },
     "execution_count": 176,
     "metadata": {},
     "output_type": "execute_result"
    }
   ],
   "source": [
    "max(b)"
   ]
  },
  {
   "cell_type": "code",
   "execution_count": 178,
   "id": "337f015c",
   "metadata": {},
   "outputs": [
    {
     "data": {
      "text/plain": [
       "1"
      ]
     },
     "execution_count": 178,
     "metadata": {},
     "output_type": "execute_result"
    }
   ],
   "source": [
    "min(a)"
   ]
  },
  {
   "cell_type": "code",
   "execution_count": 179,
   "id": "91367862",
   "metadata": {},
   "outputs": [
    {
     "data": {
      "text/plain": [
       "51"
      ]
     },
     "execution_count": 179,
     "metadata": {},
     "output_type": "execute_result"
    }
   ],
   "source": [
    "min(b)"
   ]
  },
  {
   "cell_type": "markdown",
   "id": "84392b4d",
   "metadata": {},
   "source": [
    "# 시퀀스 객체(순서가 있는 자료들)\n",
    "* 종류: 문자열, list, tuple\n",
    "* 시퀀스 객체는 순서가 있는 자료를 말한다.\n",
    "* 시퀀스 객체는 반복문에서 사용 가능\n",
    "* 시퀀스 객체 + 시퀀스 객체 = 요소가 하나로 합쳐진다.\n",
    "* 시퀀스 객체 * 숫자 = 요소가 숫자의 배수로 복사 증가한다.\n",
    "* 시퀀스 객체 내의 값은 in, not in 으로 찾을 수 있다."
   ]
  },
  {
   "cell_type": "code",
   "execution_count": 181,
   "id": "da4de91d",
   "metadata": {},
   "outputs": [
    {
     "data": {
      "text/plain": [
       "'문자열'"
      ]
     },
     "execution_count": 181,
     "metadata": {},
     "output_type": "execute_result"
    }
   ],
   "source": [
    "\"문자\" + \"열\""
   ]
  },
  {
   "cell_type": "code",
   "execution_count": 182,
   "id": "4104470f",
   "metadata": {},
   "outputs": [
    {
     "data": {
      "text/plain": [
       "[1, 2, 3, 4, 5, 6]"
      ]
     },
     "execution_count": 182,
     "metadata": {},
     "output_type": "execute_result"
    }
   ],
   "source": [
    "[1,2,3] + [4,5,6]"
   ]
  },
  {
   "cell_type": "code",
   "execution_count": 183,
   "id": "aeb6a7a2",
   "metadata": {},
   "outputs": [
    {
     "data": {
      "text/plain": [
       "(1, 2, 3, 4, 5, 6)"
      ]
     },
     "execution_count": 183,
     "metadata": {},
     "output_type": "execute_result"
    }
   ],
   "source": [
    "(1,2,3) + (4,5,6)"
   ]
  },
  {
   "cell_type": "code",
   "execution_count": 184,
   "id": "4f168418",
   "metadata": {},
   "outputs": [
    {
     "data": {
      "text/plain": [
       "'=========='"
      ]
     },
     "execution_count": 184,
     "metadata": {},
     "output_type": "execute_result"
    }
   ],
   "source": [
    "\"=\" * 10"
   ]
  },
  {
   "cell_type": "code",
   "execution_count": 185,
   "id": "d2d103ab",
   "metadata": {},
   "outputs": [
    {
     "data": {
      "text/plain": [
       "[1, 2, 3, 1, 2, 3, 1, 2, 3]"
      ]
     },
     "execution_count": 185,
     "metadata": {},
     "output_type": "execute_result"
    }
   ],
   "source": [
    "[1,2,3]*3"
   ]
  },
  {
   "cell_type": "code",
   "execution_count": 188,
   "id": "8ff9f32b",
   "metadata": {},
   "outputs": [
    {
     "data": {
      "text/plain": [
       "(1, 2, 3, 1, 2, 3, 1, 2, 3)"
      ]
     },
     "execution_count": 188,
     "metadata": {},
     "output_type": "execute_result"
    }
   ],
   "source": [
    "(1,2,3)*3"
   ]
  },
  {
   "cell_type": "code",
   "execution_count": 189,
   "id": "85cc7e7d",
   "metadata": {},
   "outputs": [
    {
     "data": {
      "text/plain": [
       "True"
      ]
     },
     "execution_count": 189,
     "metadata": {},
     "output_type": "execute_result"
    }
   ],
   "source": [
    "\"길동이\" in \"홍길동이\""
   ]
  },
  {
   "cell_type": "code",
   "execution_count": 190,
   "id": "4a193be5",
   "metadata": {},
   "outputs": [
    {
     "data": {
      "text/plain": [
       "True"
      ]
     },
     "execution_count": 190,
     "metadata": {},
     "output_type": "execute_result"
    }
   ],
   "source": [
    "3 in [1,2,3]"
   ]
  },
  {
   "cell_type": "code",
   "execution_count": 192,
   "id": "c3592221",
   "metadata": {},
   "outputs": [
    {
     "data": {
      "text/plain": [
       "False"
      ]
     },
     "execution_count": 192,
     "metadata": {},
     "output_type": "execute_result"
    }
   ],
   "source": [
    "3 not in (1,2,3)"
   ]
  },
  {
   "cell_type": "code",
   "execution_count": 193,
   "id": "a450acb1",
   "metadata": {},
   "outputs": [
    {
     "name": "stdout",
     "output_type": "stream",
     "text": [
      "문\n",
      "자\n",
      "열\n",
      "도\n",
      " \n",
      "시\n",
      "퀀\n",
      "스\n",
      " \n",
      "객\n",
      "체\n",
      "라\n",
      "서\n",
      " \n",
      "반\n",
      "복\n",
      "문\n",
      "에\n",
      "서\n",
      " \n",
      "사\n",
      "용\n",
      " \n",
      "가\n",
      "능\n",
      "하\n",
      "다\n"
     ]
    }
   ],
   "source": [
    "for i in \"문자열도 시퀀스 객체라서 반복문에서 사용 가능하다\":\n",
    "    print(i)"
   ]
  },
  {
   "cell_type": "code",
   "execution_count": 196,
   "id": "11486522",
   "metadata": {},
   "outputs": [
    {
     "name": "stdout",
     "output_type": "stream",
     "text": [
      "1\n",
      "1\n",
      "2\n",
      "2\n",
      "3\n",
      "3\n",
      "4\n",
      "4\n",
      "5\n",
      "5\n"
     ]
    }
   ],
   "source": [
    "for i,j in zip((1,2,3,4,5),[1,2,3,4,5]):\n",
    "    print(i)\n",
    "    print(j)"
   ]
  },
  {
   "cell_type": "code",
   "execution_count": 197,
   "id": "fdffa709",
   "metadata": {
    "scrolled": true
   },
   "outputs": [
    {
     "name": "stdout",
     "output_type": "stream",
     "text": [
      "(1, 1)\n",
      "(2, 2)\n",
      "(3, 3)\n",
      "(4, 4)\n",
      "(5, 5)\n"
     ]
    }
   ],
   "source": [
    "for i in zip((1,2,3,4,5),[1,2,3,4,5]):\n",
    "    print(i)"
   ]
  },
  {
   "cell_type": "code",
   "execution_count": null,
   "id": "61886f8e",
   "metadata": {},
   "outputs": [],
   "source": []
  }
 ],
 "metadata": {
  "kernelspec": {
   "display_name": "Python 3 (ipykernel)",
   "language": "python",
   "name": "python3"
  },
  "language_info": {
   "codemirror_mode": {
    "name": "ipython",
    "version": 3
   },
   "file_extension": ".py",
   "mimetype": "text/x-python",
   "name": "python",
   "nbconvert_exporter": "python",
   "pygments_lexer": "ipython3",
   "version": "3.9.23"
  }
 },
 "nbformat": 4,
 "nbformat_minor": 5
}
