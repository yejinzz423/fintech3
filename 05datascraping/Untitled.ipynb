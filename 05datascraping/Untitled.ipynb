{
 "cells": [
  {
   "cell_type": "code",
   "execution_count": 11,
   "id": "93dc649a",
   "metadata": {},
   "outputs": [
    {
     "data": {
      "text/plain": [
       "True"
      ]
     },
     "execution_count": 11,
     "metadata": {},
     "output_type": "execute_result"
    }
   ],
   "source": [
    "import requests\n",
    "import pandas as pd\n",
    "from dotenv import load_dotenv\n",
    "import re\n",
    "import os\n",
    "import time\n",
    "import re\n",
    "from datetime import datetime\n",
    "load_dotenv(dotenv_path=\"./naver_search_/data/.env\")"
   ]
  },
  {
   "cell_type": "code",
   "execution_count": 12,
   "id": "9d90d062",
   "metadata": {},
   "outputs": [
    {
     "data": {
      "text/plain": [
       "'amByGOabW_Z172oO3Qvh'"
      ]
     },
     "execution_count": 12,
     "metadata": {},
     "output_type": "execute_result"
    }
   ],
   "source": [
    "os.getenv(\"id\")"
   ]
  },
  {
   "cell_type": "code",
   "execution_count": 19,
   "id": "6620f0cb",
   "metadata": {},
   "outputs": [],
   "source": [
    "def text_clean(text):\n",
    "    # html 태그를 없애는 정규표현식\n",
    "    result = re.sub(r\"</?[^>]+>\", \"\", text)\n",
    "    # 한글, 영문, 숫자 외의 모든 문자 제거 후 공백으로 변환\n",
    "    result = re.sub(r\"[^가-힣a-zA-Z0-9]\", \" \", result)\n",
    "    result = result.replace(\"  \", \" \").replace(\"  \", \" \").replace(\"  \", \" \")\n",
    "    return result\n",
    "\n",
    "def naver_api(keyword):\n",
    "    page_num = 1\n",
    "    total_page = 1\n",
    "    start_num = 1\n",
    "    \n",
    "    result = []\n",
    "    while page_num <=total_page:\n",
    "        print(page_num, total_page, end=\"\\r\")\n",
    "        user_id = os.getenv(\"id\")\n",
    "        user_secret = os.getenv(\"pw\")\n",
    "        print(user_id, user_secret)\n",
    "        url = f\"https://openapi.naver.com/v1/search/news\"\n",
    "        payload = dict(query=keyword, display=100, start=start_num, sort=\"date\")\n",
    "        headers = {\"X-Naver-Client-Id\" : user_id, \"X-Naver-Client-Secret\" : user_secret}\n",
    "        r= requests.get(url, params=payload, headers=headers)\n",
    "        print(r.status_code)\n",
    "        response = r.json()\n",
    "\n",
    "        # print(len(response['items']))\n",
    "        \n",
    "        \n",
    "      \n",
    "        \n",
    "        for item in response['items']:\n",
    "            result.append(dict(title=item['title'], desc=text_clean(item['description']), link=item['link']))\n",
    "\n",
    "        \n",
    "        total_page = response['total'] // 100+1\n",
    "        if total_page > 11:\n",
    "            total_page = 11\n",
    "        else :\n",
    "            total_page = response['total'] // 100+1\n",
    "\n",
    "        print(\"total_page\", total_page)    \n",
    "            \n",
    "        page_num += 1\n",
    "\n",
    "        if start_num < 901:\n",
    "            start_num += 100\n",
    "        elif start_num > 900:\n",
    "            start_num += 99\n",
    "\n",
    "        time.sleep(0.3)\n",
    "\n",
    "\n",
    "    return  result"
   ]
  },
  {
   "cell_type": "code",
   "execution_count": 20,
   "id": "2ac8fa9c",
   "metadata": {},
   "outputs": [
    {
     "data": {
      "text/plain": [
       "'amByGOabW_Z172oO3Qvh'"
      ]
     },
     "execution_count": 20,
     "metadata": {},
     "output_type": "execute_result"
    }
   ],
   "source": [
    "os.getenv(\"id\")"
   ]
  },
  {
   "cell_type": "code",
   "execution_count": 21,
   "id": "4f563d73",
   "metadata": {
    "scrolled": true
   },
   "outputs": [
    {
     "name": "stdout",
     "output_type": "stream",
     "text": [
      "amByGOabW_Z172oO3Qvh RhQ1lLR77h\n",
      "200\n",
      "total_page 5232\n",
      "amByGOabW_Z172oO3Qvh RhQ1lLR77h\n",
      "200\n",
      "total_page 5232\n",
      "amByGOabW_Z172oO3Qvh RhQ1lLR77h\n",
      "200\n",
      "total_page 5232\n",
      "amByGOabW_Z172oO3Qvh RhQ1lLR77h\n",
      "200\n",
      "total_page 5232\n",
      "amByGOabW_Z172oO3Qvh RhQ1lLR77h\n",
      "200\n",
      "total_page 5232\n",
      "amByGOabW_Z172oO3Qvh RhQ1lLR77h\n",
      "200\n",
      "total_page 5232\n",
      "amByGOabW_Z172oO3Qvh RhQ1lLR77h\n",
      "200\n",
      "total_page 5232\n",
      "amByGOabW_Z172oO3Qvh RhQ1lLR77h\n",
      "200\n",
      "total_page 5232\n",
      "amByGOabW_Z172oO3Qvh RhQ1lLR77h\n",
      "200\n",
      "total_page 5232\n",
      "amByGOabW_Z172oO3Qvh RhQ1lLR77h\n",
      "200\n",
      "total_page 5232\n",
      "amByGOabW_Z172oO3Qvh RhQ1lLR77h\n",
      "200\n",
      "total_page 5232\n",
      "amByGOabW_Z172oO3Qvh RhQ1lLR77h\n",
      "400\n"
     ]
    },
    {
     "ename": "KeyError",
     "evalue": "'items'",
     "output_type": "error",
     "traceback": [
      "\u001b[1;31m---------------------------------------------------------------------------\u001b[0m",
      "\u001b[1;31mKeyError\u001b[0m                                  Traceback (most recent call last)",
      "Cell \u001b[1;32mIn[21], line 1\u001b[0m\n\u001b[1;32m----> 1\u001b[0m \u001b[43mnaver_api\u001b[49m\u001b[43m(\u001b[49m\u001b[38;5;124;43m\"\u001b[39;49m\u001b[38;5;124;43m핀테크\u001b[39;49m\u001b[38;5;124;43m\"\u001b[39;49m\u001b[43m)\u001b[49m\n",
      "Cell \u001b[1;32mIn[19], line 32\u001b[0m, in \u001b[0;36mnaver_api\u001b[1;34m(keyword)\u001b[0m\n\u001b[0;32m     25\u001b[0m response \u001b[38;5;241m=\u001b[39m r\u001b[38;5;241m.\u001b[39mjson()\n\u001b[0;32m     27\u001b[0m \u001b[38;5;66;03m# print(len(response['items']))\u001b[39;00m\n\u001b[1;32m---> 32\u001b[0m \u001b[38;5;28;01mfor\u001b[39;00m item \u001b[38;5;129;01min\u001b[39;00m \u001b[43mresponse\u001b[49m\u001b[43m[\u001b[49m\u001b[38;5;124;43m'\u001b[39;49m\u001b[38;5;124;43mitems\u001b[39;49m\u001b[38;5;124;43m'\u001b[39;49m\u001b[43m]\u001b[49m:\n\u001b[0;32m     33\u001b[0m     result\u001b[38;5;241m.\u001b[39mappend(\u001b[38;5;28mdict\u001b[39m(title\u001b[38;5;241m=\u001b[39mitem[\u001b[38;5;124m'\u001b[39m\u001b[38;5;124mtitle\u001b[39m\u001b[38;5;124m'\u001b[39m], desc\u001b[38;5;241m=\u001b[39mtext_clean(item[\u001b[38;5;124m'\u001b[39m\u001b[38;5;124mdescription\u001b[39m\u001b[38;5;124m'\u001b[39m]), link\u001b[38;5;241m=\u001b[39mitem[\u001b[38;5;124m'\u001b[39m\u001b[38;5;124mlink\u001b[39m\u001b[38;5;124m'\u001b[39m]))\n\u001b[0;32m     36\u001b[0m total_page \u001b[38;5;241m=\u001b[39m response[\u001b[38;5;124m'\u001b[39m\u001b[38;5;124mtotal\u001b[39m\u001b[38;5;124m'\u001b[39m] \u001b[38;5;241m/\u001b[39m\u001b[38;5;241m/\u001b[39m \u001b[38;5;241m100\u001b[39m\u001b[38;5;241m+\u001b[39m\u001b[38;5;241m1\u001b[39m\n",
      "\u001b[1;31mKeyError\u001b[0m: 'items'"
     ]
    }
   ],
   "source": [
    "naver_api(\"핀테크\")"
   ]
  },
  {
   "cell_type": "code",
   "execution_count": null,
   "id": "4b88a354",
   "metadata": {},
   "outputs": [],
   "source": []
  },
  {
   "cell_type": "code",
   "execution_count": null,
   "id": "b8f21672",
   "metadata": {},
   "outputs": [],
   "source": []
  },
  {
   "cell_type": "code",
   "execution_count": null,
   "id": "a4e5fbc1",
   "metadata": {},
   "outputs": [],
   "source": []
  }
 ],
 "metadata": {
  "kernelspec": {
   "display_name": "Python 3 (ipykernel)",
   "language": "python",
   "name": "python3"
  },
  "language_info": {
   "codemirror_mode": {
    "name": "ipython",
    "version": 3
   },
   "file_extension": ".py",
   "mimetype": "text/x-python",
   "name": "python",
   "nbconvert_exporter": "python",
   "pygments_lexer": "ipython3",
   "version": "3.9.23"
  }
 },
 "nbformat": 4,
 "nbformat_minor": 5
}
