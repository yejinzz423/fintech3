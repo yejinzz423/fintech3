{
 "cells": [
  {
   "cell_type": "markdown",
   "id": "f0fb1b16",
   "metadata": {},
   "source": [
    "# Selenium 이란?\n",
    "* 웹브라우저를 자동으로 제어하는 라이브러리\n",
    "* 원래 다양한 웹브라우저를 자동으로 테스트하는 도구\n",
    "* 코드를 통해 웹브라우저 조작 가능\n",
    "* 동적 웹사이트에서 정보를 가져오는데 활용\n",
    "* https://www.selenium.dev/documentation/webdriver/"
   ]
  },
  {
   "cell_type": "code",
   "execution_count": 5,
   "id": "5204bedd",
   "metadata": {},
   "outputs": [
    {
     "name": "stdout",
     "output_type": "stream",
     "text": [
      "Requirement already satisfied: selenium in c:\\users\\admin\\miniforge3\\envs\\fintech\\lib\\site-packages (4.36.0)\n",
      "Requirement already satisfied: urllib3<3.0,>=2.5.0 in c:\\users\\admin\\miniforge3\\envs\\fintech\\lib\\site-packages (from urllib3[socks]<3.0,>=2.5.0->selenium) (2.5.0)\n",
      "Requirement already satisfied: trio<1.0,>=0.30.0 in c:\\users\\admin\\miniforge3\\envs\\fintech\\lib\\site-packages (from selenium) (0.31.0)\n",
      "Requirement already satisfied: trio-websocket<1.0,>=0.12.2 in c:\\users\\admin\\miniforge3\\envs\\fintech\\lib\\site-packages (from selenium) (0.12.2)\n",
      "Requirement already satisfied: certifi>=2025.6.15 in c:\\users\\admin\\miniforge3\\envs\\fintech\\lib\\site-packages (from selenium) (2025.8.3)\n",
      "Requirement already satisfied: typing_extensions<5.0,>=4.14.0 in c:\\users\\admin\\miniforge3\\envs\\fintech\\lib\\site-packages (from selenium) (4.14.1)\n",
      "Requirement already satisfied: websocket-client<2.0,>=1.8.0 in c:\\users\\admin\\miniforge3\\envs\\fintech\\lib\\site-packages (from selenium) (1.8.0)\n",
      "Requirement already satisfied: attrs>=23.2.0 in c:\\users\\admin\\miniforge3\\envs\\fintech\\lib\\site-packages (from trio<1.0,>=0.30.0->selenium) (25.3.0)\n",
      "Requirement already satisfied: sortedcontainers in c:\\users\\admin\\miniforge3\\envs\\fintech\\lib\\site-packages (from trio<1.0,>=0.30.0->selenium) (2.4.0)\n",
      "Requirement already satisfied: idna in c:\\users\\admin\\miniforge3\\envs\\fintech\\lib\\site-packages (from trio<1.0,>=0.30.0->selenium) (3.10)\n",
      "Requirement already satisfied: outcome in c:\\users\\admin\\miniforge3\\envs\\fintech\\lib\\site-packages (from trio<1.0,>=0.30.0->selenium) (1.3.0.post0)\n",
      "Requirement already satisfied: sniffio>=1.3.0 in c:\\users\\admin\\miniforge3\\envs\\fintech\\lib\\site-packages (from trio<1.0,>=0.30.0->selenium) (1.3.1)\n",
      "Requirement already satisfied: cffi>=1.14 in c:\\users\\admin\\miniforge3\\envs\\fintech\\lib\\site-packages (from trio<1.0,>=0.30.0->selenium) (1.17.1)\n",
      "Requirement already satisfied: exceptiongroup in c:\\users\\admin\\miniforge3\\envs\\fintech\\lib\\site-packages (from trio<1.0,>=0.30.0->selenium) (1.3.0)\n",
      "Requirement already satisfied: wsproto>=0.14 in c:\\users\\admin\\miniforge3\\envs\\fintech\\lib\\site-packages (from trio-websocket<1.0,>=0.12.2->selenium) (1.2.0)\n",
      "Requirement already satisfied: pysocks!=1.5.7,<2.0,>=1.5.6 in c:\\users\\admin\\miniforge3\\envs\\fintech\\lib\\site-packages (from urllib3[socks]<3.0,>=2.5.0->selenium) (1.7.1)\n",
      "Requirement already satisfied: pycparser in c:\\users\\admin\\miniforge3\\envs\\fintech\\lib\\site-packages (from cffi>=1.14->trio<1.0,>=0.30.0->selenium) (2.22)\n",
      "Requirement already satisfied: h11<1,>=0.9.0 in c:\\users\\admin\\miniforge3\\envs\\fintech\\lib\\site-packages (from wsproto>=0.14->trio-websocket<1.0,>=0.12.2->selenium) (0.16.0)\n",
      "Requirement already satisfied: webdriver-manager in c:\\users\\admin\\miniforge3\\envs\\fintech\\lib\\site-packages (4.0.2)\n",
      "Requirement already satisfied: requests in c:\\users\\admin\\miniforge3\\envs\\fintech\\lib\\site-packages (from webdriver-manager) (2.32.5)\n",
      "Requirement already satisfied: python-dotenv in c:\\users\\admin\\miniforge3\\envs\\fintech\\lib\\site-packages (from webdriver-manager) (1.1.1)\n",
      "Requirement already satisfied: packaging in c:\\users\\admin\\miniforge3\\envs\\fintech\\lib\\site-packages (from webdriver-manager) (25.0)\n",
      "Requirement already satisfied: charset_normalizer<4,>=2 in c:\\users\\admin\\miniforge3\\envs\\fintech\\lib\\site-packages (from requests->webdriver-manager) (3.4.3)\n",
      "Requirement already satisfied: idna<4,>=2.5 in c:\\users\\admin\\miniforge3\\envs\\fintech\\lib\\site-packages (from requests->webdriver-manager) (3.10)\n",
      "Requirement already satisfied: urllib3<3,>=1.21.1 in c:\\users\\admin\\miniforge3\\envs\\fintech\\lib\\site-packages (from requests->webdriver-manager) (2.5.0)\n",
      "Requirement already satisfied: certifi>=2017.4.17 in c:\\users\\admin\\miniforge3\\envs\\fintech\\lib\\site-packages (from requests->webdriver-manager) (2025.8.3)\n"
     ]
    }
   ],
   "source": [
    "!pip install selenium\n",
    "!pip install webdriver-manager"
   ]
  },
  {
   "cell_type": "code",
   "execution_count": 6,
   "id": "5528de33",
   "metadata": {},
   "outputs": [
    {
     "name": "stdout",
     "output_type": "stream",
     "text": [
      "4.36.0\n"
     ]
    }
   ],
   "source": [
    "import selenium\n",
    "print(selenium.__version__)"
   ]
  },
  {
   "cell_type": "code",
   "execution_count": 7,
   "id": "b45d78bf",
   "metadata": {},
   "outputs": [],
   "source": [
    "from selenium import webdriver\n",
    "from selenium.webdriver.chrome.service import Service\n",
    "from selenium.webdriver.chrome.options import Options\n",
    "from webdriver_manager.chrome import ChromeDriverManager\n",
    "from selenium.webdriver.common.by import By\n",
    "from selenium.webdriver.common.keys import Keys\n",
    "\n",
    "# 웹브라우저를 실행 할 때 사용할 옵션 - 사람인 것처럼 정보 입력\n",
    "options = Options()\n",
    "options.add_experimental_option(\"detach\", True)\n",
    "options.add_argument(\"start-maximized\")\n",
    "options.add_argument(\"Chrome/135.0.0.0\")\n",
    "options.add_argument(\"lang=ko_KR\")\n",
    "\n",
    "driver = webdriver.Chrome(\n",
    "    service=Service(ChromeDriverManager().install()),\n",
    "    options=options\n",
    "    )\n",
    "\n",
    "# 웹브라우저에서 url d열기\n",
    "driver.get(\"https://search.shopping.naver.com/book/search?bookTabType=ALL&pageIndex=1&pageSize=40&prevQuery=%EB%84%A4%EC%9D%B4%EB%B2%84%20%EB%8F%84%EC%84%9C&query=%ED%95%80%ED%85%8C%ED%81%AC&sort=REL\")"
   ]
  },
  {
   "cell_type": "code",
   "execution_count": 8,
   "id": "3a826672",
   "metadata": {},
   "outputs": [],
   "source": [
    "search_box = driver.find_element(By.CSS_SELECTOR, \"._searchInput_search_text_83jy9._nlog_click\")"
   ]
  },
  {
   "cell_type": "code",
   "execution_count": 9,
   "id": "6b41c7ff",
   "metadata": {},
   "outputs": [],
   "source": [
    "# 검색창 텍스트 지우기\n",
    "search_box.clear()"
   ]
  },
  {
   "cell_type": "code",
   "execution_count": 10,
   "id": "a3cbb5a7",
   "metadata": {},
   "outputs": [],
   "source": [
    "# 검색창에 텍스트 입력\n",
    "search_box.send_keys(\"파이썬\")"
   ]
  },
  {
   "cell_type": "code",
   "execution_count": 11,
   "id": "5a0ddc8e",
   "metadata": {},
   "outputs": [],
   "source": [
    "# 검색창에서 검색하기\n",
    "search_box.send_keys(Keys.ENTER)"
   ]
  },
  {
   "cell_type": "code",
   "execution_count": 12,
   "id": "bbbcd568",
   "metadata": {},
   "outputs": [],
   "source": [
    "search_button = driver.find_element(By.CSS_SELECTOR, \"._searchInput_button_search_wu9xq._nlog_click\")"
   ]
  },
  {
   "cell_type": "code",
   "execution_count": 13,
   "id": "1ed769c4",
   "metadata": {},
   "outputs": [],
   "source": [
    "# 검색창 버튼 클릭\n",
    "search_button.click()"
   ]
  },
  {
   "cell_type": "code",
   "execution_count": 14,
   "id": "5aa9e1de",
   "metadata": {},
   "outputs": [
    {
     "ename": "StaleElementReferenceException",
     "evalue": "Message: stale element reference: stale element not found\n  (Session info: chrome=141.0.7390.123); For documentation on this error, please visit: https://www.selenium.dev/documentation/webdriver/troubleshooting/errors#staleelementreferenceexception\nStacktrace:\n\tGetHandleVerifier [0x0x33fe43+66515]\n\tGetHandleVerifier [0x0x33fe84+66580]\n\t(No symbol) [0x0x12dc48]\n\t(No symbol) [0x0x13fc3b]\n\t(No symbol) [0x0x13ed10]\n\t(No symbol) [0x0x1350e2]\n\t(No symbol) [0x0x133608]\n\t(No symbol) [0x0x1369d4]\n\t(No symbol) [0x0x136a68]\n\t(No symbol) [0x0x17a45a]\n\t(No symbol) [0x0x16fa12]\n\t(No symbol) [0x0x19b1cc]\n\t(No symbol) [0x0x16db74]\n\t(No symbol) [0x0x19b384]\n\t(No symbol) [0x0x1bcba7]\n\t(No symbol) [0x0x19afc6]\n\t(No symbol) [0x0x16c2ca]\n\t(No symbol) [0x0x16d154]\n\tGetHandleVerifier [0x0x597353+2521315]\n\tGetHandleVerifier [0x0x5922d3+2500707]\n\tGetHandleVerifier [0x0x367c94+229924]\n\tGetHandleVerifier [0x0x3581f8+165768]\n\tGetHandleVerifier [0x0x35ecad+193085]\n\tGetHandleVerifier [0x0x348158+100072]\n\tGetHandleVerifier [0x0x3482f0+100480]\n\tGetHandleVerifier [0x0x3325aa+11066]\n\tBaseThreadInitThunk [0x0x76985d49+25]\n\tRtlInitializeExceptionChain [0x0x77a3d6db+107]\n\tRtlGetAppContainerNamedObjectPath [0x0x77a3d661+561]\n\t(No symbol) [0x0]\n",
     "output_type": "error",
     "traceback": [
      "\u001b[1;31m---------------------------------------------------------------------------\u001b[0m",
      "\u001b[1;31mStaleElementReferenceException\u001b[0m            Traceback (most recent call last)",
      "Cell \u001b[1;32mIn[14], line 1\u001b[0m\n\u001b[1;32m----> 1\u001b[0m \u001b[43msearch_box\u001b[49m\u001b[38;5;241;43m.\u001b[39;49m\u001b[43mclear\u001b[49m\u001b[43m(\u001b[49m\u001b[43m)\u001b[49m\n\u001b[0;32m      2\u001b[0m search_box\u001b[38;5;241m.\u001b[39msend_keys(\u001b[38;5;124m\"\u001b[39m\u001b[38;5;124m증권\u001b[39m\u001b[38;5;124m\"\u001b[39m)\n\u001b[0;32m      3\u001b[0m search_button\u001b[38;5;241m.\u001b[39mclick()\n",
      "File \u001b[1;32m~\\miniforge3\\envs\\fintech\\lib\\site-packages\\selenium\\webdriver\\remote\\webelement.py:154\u001b[0m, in \u001b[0;36mWebElement.clear\u001b[1;34m(self)\u001b[0m\n\u001b[0;32m    146\u001b[0m \u001b[38;5;28;01mdef\u001b[39;00m\u001b[38;5;250m \u001b[39m\u001b[38;5;21mclear\u001b[39m(\u001b[38;5;28mself\u001b[39m) \u001b[38;5;241m-\u001b[39m\u001b[38;5;241m>\u001b[39m \u001b[38;5;28;01mNone\u001b[39;00m:\n\u001b[0;32m    147\u001b[0m \u001b[38;5;250m    \u001b[39m\u001b[38;5;124;03m\"\"\"Clears the text if it's a text entry element.\u001b[39;00m\n\u001b[0;32m    148\u001b[0m \n\u001b[0;32m    149\u001b[0m \u001b[38;5;124;03m    Example:\u001b[39;00m\n\u001b[1;32m   (...)\u001b[0m\n\u001b[0;32m    152\u001b[0m \u001b[38;5;124;03m    >>> text_field.clear()\u001b[39;00m\n\u001b[0;32m    153\u001b[0m \u001b[38;5;124;03m    \"\"\"\u001b[39;00m\n\u001b[1;32m--> 154\u001b[0m     \u001b[38;5;28;43mself\u001b[39;49m\u001b[38;5;241;43m.\u001b[39;49m\u001b[43m_execute\u001b[49m\u001b[43m(\u001b[49m\u001b[43mCommand\u001b[49m\u001b[38;5;241;43m.\u001b[39;49m\u001b[43mCLEAR_ELEMENT\u001b[49m\u001b[43m)\u001b[49m\n",
      "File \u001b[1;32m~\\miniforge3\\envs\\fintech\\lib\\site-packages\\selenium\\webdriver\\remote\\webelement.py:572\u001b[0m, in \u001b[0;36mWebElement._execute\u001b[1;34m(self, command, params)\u001b[0m\n\u001b[0;32m    570\u001b[0m     params \u001b[38;5;241m=\u001b[39m {}\n\u001b[0;32m    571\u001b[0m params[\u001b[38;5;124m\"\u001b[39m\u001b[38;5;124mid\u001b[39m\u001b[38;5;124m\"\u001b[39m] \u001b[38;5;241m=\u001b[39m \u001b[38;5;28mself\u001b[39m\u001b[38;5;241m.\u001b[39m_id\n\u001b[1;32m--> 572\u001b[0m \u001b[38;5;28;01mreturn\u001b[39;00m \u001b[38;5;28;43mself\u001b[39;49m\u001b[38;5;241;43m.\u001b[39;49m\u001b[43m_parent\u001b[49m\u001b[38;5;241;43m.\u001b[39;49m\u001b[43mexecute\u001b[49m\u001b[43m(\u001b[49m\u001b[43mcommand\u001b[49m\u001b[43m,\u001b[49m\u001b[43m \u001b[49m\u001b[43mparams\u001b[49m\u001b[43m)\u001b[49m\n",
      "File \u001b[1;32m~\\miniforge3\\envs\\fintech\\lib\\site-packages\\selenium\\webdriver\\remote\\webdriver.py:458\u001b[0m, in \u001b[0;36mWebDriver.execute\u001b[1;34m(self, driver_command, params)\u001b[0m\n\u001b[0;32m    455\u001b[0m response \u001b[38;5;241m=\u001b[39m cast(RemoteConnection, \u001b[38;5;28mself\u001b[39m\u001b[38;5;241m.\u001b[39mcommand_executor)\u001b[38;5;241m.\u001b[39mexecute(driver_command, params)\n\u001b[0;32m    457\u001b[0m \u001b[38;5;28;01mif\u001b[39;00m response:\n\u001b[1;32m--> 458\u001b[0m     \u001b[38;5;28;43mself\u001b[39;49m\u001b[38;5;241;43m.\u001b[39;49m\u001b[43merror_handler\u001b[49m\u001b[38;5;241;43m.\u001b[39;49m\u001b[43mcheck_response\u001b[49m\u001b[43m(\u001b[49m\u001b[43mresponse\u001b[49m\u001b[43m)\u001b[49m\n\u001b[0;32m    459\u001b[0m     response[\u001b[38;5;124m\"\u001b[39m\u001b[38;5;124mvalue\u001b[39m\u001b[38;5;124m\"\u001b[39m] \u001b[38;5;241m=\u001b[39m \u001b[38;5;28mself\u001b[39m\u001b[38;5;241m.\u001b[39m_unwrap_value(response\u001b[38;5;241m.\u001b[39mget(\u001b[38;5;124m\"\u001b[39m\u001b[38;5;124mvalue\u001b[39m\u001b[38;5;124m\"\u001b[39m, \u001b[38;5;28;01mNone\u001b[39;00m))\n\u001b[0;32m    460\u001b[0m     \u001b[38;5;28;01mreturn\u001b[39;00m response\n",
      "File \u001b[1;32m~\\miniforge3\\envs\\fintech\\lib\\site-packages\\selenium\\webdriver\\remote\\errorhandler.py:232\u001b[0m, in \u001b[0;36mErrorHandler.check_response\u001b[1;34m(self, response)\u001b[0m\n\u001b[0;32m    230\u001b[0m         alert_text \u001b[38;5;241m=\u001b[39m value[\u001b[38;5;124m\"\u001b[39m\u001b[38;5;124malert\u001b[39m\u001b[38;5;124m\"\u001b[39m]\u001b[38;5;241m.\u001b[39mget(\u001b[38;5;124m\"\u001b[39m\u001b[38;5;124mtext\u001b[39m\u001b[38;5;124m\"\u001b[39m)\n\u001b[0;32m    231\u001b[0m     \u001b[38;5;28;01mraise\u001b[39;00m exception_class(message, screen, stacktrace, alert_text)  \u001b[38;5;66;03m# type: ignore[call-arg]  # mypy is not smart enough here\u001b[39;00m\n\u001b[1;32m--> 232\u001b[0m \u001b[38;5;28;01mraise\u001b[39;00m exception_class(message, screen, stacktrace)\n",
      "\u001b[1;31mStaleElementReferenceException\u001b[0m: Message: stale element reference: stale element not found\n  (Session info: chrome=141.0.7390.123); For documentation on this error, please visit: https://www.selenium.dev/documentation/webdriver/troubleshooting/errors#staleelementreferenceexception\nStacktrace:\n\tGetHandleVerifier [0x0x33fe43+66515]\n\tGetHandleVerifier [0x0x33fe84+66580]\n\t(No symbol) [0x0x12dc48]\n\t(No symbol) [0x0x13fc3b]\n\t(No symbol) [0x0x13ed10]\n\t(No symbol) [0x0x1350e2]\n\t(No symbol) [0x0x133608]\n\t(No symbol) [0x0x1369d4]\n\t(No symbol) [0x0x136a68]\n\t(No symbol) [0x0x17a45a]\n\t(No symbol) [0x0x16fa12]\n\t(No symbol) [0x0x19b1cc]\n\t(No symbol) [0x0x16db74]\n\t(No symbol) [0x0x19b384]\n\t(No symbol) [0x0x1bcba7]\n\t(No symbol) [0x0x19afc6]\n\t(No symbol) [0x0x16c2ca]\n\t(No symbol) [0x0x16d154]\n\tGetHandleVerifier [0x0x597353+2521315]\n\tGetHandleVerifier [0x0x5922d3+2500707]\n\tGetHandleVerifier [0x0x367c94+229924]\n\tGetHandleVerifier [0x0x3581f8+165768]\n\tGetHandleVerifier [0x0x35ecad+193085]\n\tGetHandleVerifier [0x0x348158+100072]\n\tGetHandleVerifier [0x0x3482f0+100480]\n\tGetHandleVerifier [0x0x3325aa+11066]\n\tBaseThreadInitThunk [0x0x76985d49+25]\n\tRtlInitializeExceptionChain [0x0x77a3d6db+107]\n\tRtlGetAppContainerNamedObjectPath [0x0x77a3d661+561]\n\t(No symbol) [0x0]\n"
     ]
    }
   ],
   "source": [
    "search_box.clear()\n",
    "search_box.send_keys(\"증권\")\n",
    "search_button.click()"
   ]
  },
  {
   "cell_type": "markdown",
   "id": "cc87f852",
   "metadata": {},
   "source": [
    "# Selenium에서 원하는 요소찾기\n",
    "* driver.find_element(By.CSS_SELECTOR, \"css 셀렉터\"): 1개 요소 찾기\n",
    "* driver.find_elements(By.CSS_SELECTOR, \"css 셀렉터\"): 여러개 요소 찾기, list로 반환\n",
    "* driver.find_element(By.ID, \"id\"): html에서 id에 해당하는 태그 찾아줌\n",
    "* driver.find_element(By.LINK_TEXT, \"link에 포함된 문자\"): link에 포함된 문자 찾기\n",
    "* driver.find_element(By.PARTIAL_LINK_TEXT, \"link에 포함된 일부 문자\"): link에 포함된 일부 문자 찾기"
   ]
  },
  {
   "cell_type": "code",
   "execution_count": 15,
   "id": "206ea533",
   "metadata": {
    "scrolled": true
   },
   "outputs": [
    {
     "ename": "AttributeError",
     "evalue": "'str' object has no attribute 'text'",
     "output_type": "error",
     "traceback": [
      "\u001b[1;31m---------------------------------------------------------------------------\u001b[0m",
      "\u001b[1;31mAttributeError\u001b[0m                            Traceback (most recent call last)",
      "Cell \u001b[1;32mIn[15], line 2\u001b[0m\n\u001b[0;32m      1\u001b[0m \u001b[38;5;66;03m# 찾은 태그 안쪽 html 출력 .get_attribute('innerHTML')\u001b[39;00m\n\u001b[1;32m----> 2\u001b[0m \u001b[43mdriver\u001b[49m\u001b[38;5;241;43m.\u001b[39;49m\u001b[43mfind_element\u001b[49m\u001b[43m(\u001b[49m\u001b[43mBy\u001b[49m\u001b[38;5;241;43m.\u001b[39;49m\u001b[43mCSS_SELECTOR\u001b[49m\u001b[43m,\u001b[49m\u001b[43m \u001b[49m\u001b[38;5;124;43m\"\u001b[39;49m\u001b[38;5;124;43m.bookListItem_title__1mWGq\u001b[39;49m\u001b[38;5;124;43m\"\u001b[39;49m\u001b[43m)\u001b[49m\u001b[38;5;241;43m.\u001b[39;49m\u001b[43mget_attribute\u001b[49m\u001b[43m(\u001b[49m\u001b[38;5;124;43m'\u001b[39;49m\u001b[38;5;124;43minnerHTML\u001b[39;49m\u001b[38;5;124;43m'\u001b[39;49m\u001b[43m)\u001b[49m\u001b[38;5;241;43m.\u001b[39;49m\u001b[43mtext\u001b[49m\n",
      "\u001b[1;31mAttributeError\u001b[0m: 'str' object has no attribute 'text'"
     ]
    }
   ],
   "source": [
    "# 찾은 태그 안쪽 html 출력 .get_attribute('innerHTML')\n",
    "driver.find_element(By.CSS_SELECTOR, \".bookListItem_title__1mWGq\").get_attribute('innerHTML').text"
   ]
  },
  {
   "cell_type": "code",
   "execution_count": 16,
   "id": "ee12d470",
   "metadata": {
    "scrolled": true
   },
   "outputs": [
    {
     "data": {
      "text/plain": [
       "'<div class=\"bookListItem_title__1mWGq\"><span class=\"bookListItem_text__oxa7M\"><span>Do it! 점프 투 파이썬</span><span> (중학생도 첫날부터 실습하는 초고속 입문서)</span></span></div>'"
      ]
     },
     "execution_count": 16,
     "metadata": {},
     "output_type": "execute_result"
    }
   ],
   "source": [
    "# 찾은 태그 안쪽 전체 html 출력 .get_attribute('outerHTML')\n",
    "driver.find_element(By.CSS_SELECTOR, \".bookListItem_title__1mWGq\").get_attribute('outerHTML')"
   ]
  },
  {
   "cell_type": "code",
   "execution_count": 17,
   "id": "143d363f",
   "metadata": {},
   "outputs": [],
   "source": [
    "# 책제목\n",
    "title = driver.find_element(By.CSS_SELECTOR, \".bookListItem_title__1mWGq\").text"
   ]
  },
  {
   "cell_type": "code",
   "execution_count": 18,
   "id": "abeb115f",
   "metadata": {},
   "outputs": [],
   "source": [
    "# 저자\n",
    "author = driver.find_element(By.CSS_SELECTOR, \".bookListItem_define_item__jqcW8 > span:nth-child(2)\").text"
   ]
  },
  {
   "cell_type": "code",
   "execution_count": 19,
   "id": "580c6b14",
   "metadata": {},
   "outputs": [
    {
     "data": {
      "text/plain": [
       "'이지스퍼블리싱'"
      ]
     },
     "execution_count": 19,
     "metadata": {},
     "output_type": "execute_result"
    }
   ],
   "source": [
    "# 출판사\n",
    "publisher = driver.find_element(By.CSS_SELECTOR, \".bookListItem_detail_publish__SGgZN > span:nth-child(2)\").text\n",
    "publisher"
   ]
  },
  {
   "cell_type": "code",
   "execution_count": 20,
   "id": "9f401428",
   "metadata": {},
   "outputs": [],
   "source": [
    "# 출간일\n",
    "pub_date = driver.find_element(By.CSS_SELECTOR, \".bookListItem_detail_date__6_wYJ\").text"
   ]
  },
  {
   "cell_type": "code",
   "execution_count": 21,
   "id": "453cd4ec",
   "metadata": {},
   "outputs": [
    {
     "data": {
      "text/plain": [
       "'4.96'"
      ]
     },
     "execution_count": 21,
     "metadata": {},
     "output_type": "execute_result"
    }
   ],
   "source": [
    "# 평점\n",
    "rating = driver.find_element(By.CSS_SELECTOR, \".bookListItem_grade__e60mi\").text.split()[0][2:]\n",
    "rating"
   ]
  },
  {
   "cell_type": "code",
   "execution_count": 22,
   "id": "78696cb2",
   "metadata": {},
   "outputs": [
    {
     "data": {
      "text/plain": [
       "'85'"
      ]
     },
     "execution_count": 22,
     "metadata": {},
     "output_type": "execute_result"
    }
   ],
   "source": [
    "# 리뷰수\n",
    "n_reviews = driver.find_element(By.CSS_SELECTOR, \".bookListItem_grade__e60mi\").text.split()[1].replace(\"(\", \"\").replace(\")\", \"\")\n",
    "n_reviews"
   ]
  },
  {
   "cell_type": "code",
   "execution_count": 23,
   "id": "9717a2fd",
   "metadata": {
    "scrolled": true
   },
   "outputs": [],
   "source": [
    "# 가격\n",
    "price = int(driver.find_element(By.CSS_SELECTOR, \".bookPrice_price__Nv4Ee > em\").text.replace(\",\", \"\"))"
   ]
  },
  {
   "cell_type": "code",
   "execution_count": 27,
   "id": "5d30b8c7",
   "metadata": {},
   "outputs": [
    {
     "name": "stdout",
     "output_type": "stream",
     "text": [
      "검색어를 입력하세요:  파이썬\n"
     ]
    },
    {
     "data": {
      "text/html": [
       "<div>\n",
       "<style scoped>\n",
       "    .dataframe tbody tr th:only-of-type {\n",
       "        vertical-align: middle;\n",
       "    }\n",
       "\n",
       "    .dataframe tbody tr th {\n",
       "        vertical-align: top;\n",
       "    }\n",
       "\n",
       "    .dataframe thead th {\n",
       "        text-align: right;\n",
       "    }\n",
       "</style>\n",
       "<table border=\"1\" class=\"dataframe\">\n",
       "  <thead>\n",
       "    <tr style=\"text-align: right;\">\n",
       "      <th></th>\n",
       "      <th>책제목</th>\n",
       "      <th>저자</th>\n",
       "      <th>출판사</th>\n",
       "      <th>출간일</th>\n",
       "      <th>평점</th>\n",
       "      <th>리뷰수</th>\n",
       "      <th>가격</th>\n",
       "    </tr>\n",
       "  </thead>\n",
       "  <tbody>\n",
       "    <tr>\n",
       "      <th>0</th>\n",
       "      <td>Do it! 점프 투 파이썬 (중학생도 첫날부터 실습하는 초고속 입문서)</td>\n",
       "      <td>박응용</td>\n",
       "      <td>이지스퍼블리싱</td>\n",
       "      <td>2023.06.15.</td>\n",
       "      <td>4.96</td>\n",
       "      <td>85</td>\n",
       "      <td>19800</td>\n",
       "    </tr>\n",
       "    <tr>\n",
       "      <th>1</th>\n",
       "      <td>혼자 공부하는 파이썬 (1:1 과외하듯 배우는 프로그래밍 자습서)</td>\n",
       "      <td>윤인성</td>\n",
       "      <td>한빛미디어</td>\n",
       "      <td>2022.06.01.</td>\n",
       "      <td>4.91</td>\n",
       "      <td>23</td>\n",
       "      <td>19800</td>\n",
       "    </tr>\n",
       "    <tr>\n",
       "      <th>2</th>\n",
       "      <td>파이썬</td>\n",
       "      <td>홍의경</td>\n",
       "      <td>생능출판</td>\n",
       "      <td>2022.03.09.</td>\n",
       "      <td>0</td>\n",
       "      <td>0</td>\n",
       "      <td>29440</td>\n",
       "    </tr>\n",
       "    <tr>\n",
       "      <th>3</th>\n",
       "      <td>독학 파이썬</td>\n",
       "      <td>야마다 요시히로</td>\n",
       "      <td>정보문화사</td>\n",
       "      <td>2024.12.20.</td>\n",
       "      <td>0</td>\n",
       "      <td>0</td>\n",
       "      <td>28800</td>\n",
       "    </tr>\n",
       "    <tr>\n",
       "      <th>4</th>\n",
       "      <td>파이썬 (제2판)</td>\n",
       "      <td>염기원, 오지영</td>\n",
       "      <td>북두</td>\n",
       "      <td>2022.01.20.</td>\n",
       "      <td>0</td>\n",
       "      <td>0</td>\n",
       "      <td>16200</td>\n",
       "    </tr>\n",
       "    <tr>\n",
       "      <th>5</th>\n",
       "      <td>으뜸 파이썬 (개정판)</td>\n",
       "      <td>박동규, 강영민</td>\n",
       "      <td>생능출판</td>\n",
       "      <td>2024.06.14.</td>\n",
       "      <td>4.6</td>\n",
       "      <td>10</td>\n",
       "      <td>30600</td>\n",
       "    </tr>\n",
       "    <tr>\n",
       "      <th>6</th>\n",
       "      <td>파이썬</td>\n",
       "      <td>염기원</td>\n",
       "      <td>복두출판사</td>\n",
       "      <td>2020.08.20.</td>\n",
       "      <td>0</td>\n",
       "      <td>0</td>\n",
       "      <td>13500</td>\n",
       "    </tr>\n",
       "    <tr>\n",
       "      <th>7</th>\n",
       "      <td>파이썬</td>\n",
       "      <td>김영천</td>\n",
       "      <td>기한재</td>\n",
       "      <td>2020.02.25.</td>\n",
       "      <td>0</td>\n",
       "      <td>0</td>\n",
       "      <td>23000</td>\n",
       "    </tr>\n",
       "    <tr>\n",
       "      <th>8</th>\n",
       "      <td>파이썬 (비전공자를위한 파이썬 기초 입문서)</td>\n",
       "      <td>김명호</td>\n",
       "      <td>에듀웨이</td>\n",
       "      <td>2019.05.25.</td>\n",
       "      <td>0</td>\n",
       "      <td>0</td>\n",
       "      <td>16200</td>\n",
       "    </tr>\n",
       "    <tr>\n",
       "      <th>9</th>\n",
       "      <td>파이썬 + AI (코드조각과 실행화면으로 배우는 코딩)</td>\n",
       "      <td>안용제, 김남규</td>\n",
       "      <td>디지털북스</td>\n",
       "      <td>2024.07.15.</td>\n",
       "      <td>5.0</td>\n",
       "      <td>1</td>\n",
       "      <td>23940</td>\n",
       "    </tr>\n",
       "    <tr>\n",
       "      <th>10</th>\n",
       "      <td>파이썬</td>\n",
       "      <td>이정환, 신항식 외 2명</td>\n",
       "      <td>도서출판 홍릉(홍릉과학출판사)</td>\n",
       "      <td>2019.09.02.</td>\n",
       "      <td>0</td>\n",
       "      <td>0</td>\n",
       "      <td>23750</td>\n",
       "    </tr>\n",
       "    <tr>\n",
       "      <th>11</th>\n",
       "      <td>파이썬 (다양한 예제로 알로리즘 쉽게 분석하기)</td>\n",
       "      <td>김유진</td>\n",
       "      <td>다본</td>\n",
       "      <td>2019.04.10.</td>\n",
       "      <td>0</td>\n",
       "      <td>0</td>\n",
       "      <td>22500</td>\n",
       "    </tr>\n",
       "    <tr>\n",
       "      <th>12</th>\n",
       "      <td>파이썬</td>\n",
       "      <td>서정원, 김태령</td>\n",
       "      <td>생능출판</td>\n",
       "      <td>2019.02.28.</td>\n",
       "      <td>0</td>\n",
       "      <td>0</td>\n",
       "      <td>0</td>\n",
       "    </tr>\n",
       "    <tr>\n",
       "      <th>13</th>\n",
       "      <td>파이썬 마스터 (실생활 융합 예제로 배우는)</td>\n",
       "      <td>김종훈, 김동건</td>\n",
       "      <td>한빛아카데미</td>\n",
       "      <td>2025.01.17.</td>\n",
       "      <td>5.0</td>\n",
       "      <td>3</td>\n",
       "      <td>29440</td>\n",
       "    </tr>\n",
       "    <tr>\n",
       "      <th>14</th>\n",
       "      <td>파이썬</td>\n",
       "      <td>Y. Daniel Liang</td>\n",
       "      <td>에피스테메</td>\n",
       "      <td>2018.03.02.</td>\n",
       "      <td>0</td>\n",
       "      <td>0</td>\n",
       "      <td>31500</td>\n",
       "    </tr>\n",
       "    <tr>\n",
       "      <th>15</th>\n",
       "      <td>파이썬 (컴퓨팅 사고력을 키우는 SW 교육)</td>\n",
       "      <td>우재남</td>\n",
       "      <td>한빛아카데미</td>\n",
       "      <td>2016.07.20.</td>\n",
       "      <td>0</td>\n",
       "      <td>0</td>\n",
       "      <td>20460</td>\n",
       "    </tr>\n",
       "    <tr>\n",
       "      <th>16</th>\n",
       "      <td>파이썬</td>\n",
       "      <td>천인국</td>\n",
       "      <td>인피니티북스</td>\n",
       "      <td>2017.08.30.</td>\n",
       "      <td>0</td>\n",
       "      <td>0</td>\n",
       "      <td>10800</td>\n",
       "    </tr>\n",
       "    <tr>\n",
       "      <th>17</th>\n",
       "      <td>내공의 파이썬 (한 권으로 끝내는 초보자용 코딩 입문서)</td>\n",
       "      <td>한선관</td>\n",
       "      <td>자유아카데미</td>\n",
       "      <td>2025.03.15.</td>\n",
       "      <td>0</td>\n",
       "      <td>0</td>\n",
       "      <td>24840</td>\n",
       "    </tr>\n",
       "    <tr>\n",
       "      <th>18</th>\n",
       "      <td>파이썬</td>\n",
       "      <td>Y. Daniel Liang</td>\n",
       "      <td>생능출판</td>\n",
       "      <td>2016.02.05.</td>\n",
       "      <td>0</td>\n",
       "      <td>0</td>\n",
       "      <td>0</td>\n",
       "    </tr>\n",
       "    <tr>\n",
       "      <th>19</th>\n",
       "      <td>파이썬 플러스</td>\n",
       "      <td>최희식</td>\n",
       "      <td>인피니티북스</td>\n",
       "      <td>2024.07.31.</td>\n",
       "      <td>5.0</td>\n",
       "      <td>1</td>\n",
       "      <td>22500</td>\n",
       "    </tr>\n",
       "    <tr>\n",
       "      <th>20</th>\n",
       "      <td>파이썬 워크북</td>\n",
       "      <td>안기수</td>\n",
       "      <td>생능출판</td>\n",
       "      <td>2025.01.15.</td>\n",
       "      <td>0</td>\n",
       "      <td>0</td>\n",
       "      <td>13500</td>\n",
       "    </tr>\n",
       "    <tr>\n",
       "      <th>21</th>\n",
       "      <td>엑셀X파이썬 (엑셀이 파이썬을 품었다)</td>\n",
       "      <td>정성일</td>\n",
       "      <td>길벗</td>\n",
       "      <td>2024.07.30.</td>\n",
       "      <td>0</td>\n",
       "      <td>0</td>\n",
       "      <td>21375</td>\n",
       "    </tr>\n",
       "    <tr>\n",
       "      <th>22</th>\n",
       "      <td>파이썬컴퓨팅</td>\n",
       "      <td>한종대, 민경하 외 1명</td>\n",
       "      <td>한국방송통신대학교출판문화원</td>\n",
       "      <td>2024.07.25.</td>\n",
       "      <td>0</td>\n",
       "      <td>0</td>\n",
       "      <td>14910</td>\n",
       "    </tr>\n",
       "    <tr>\n",
       "      <th>23</th>\n",
       "      <td>이지파이썬 1 (그림과 스토리텔링으로 이해하는 쉽고 재미있는 파이썬)</td>\n",
       "      <td>한국인공지능아카데미</td>\n",
       "      <td>클라우드북스</td>\n",
       "      <td>2024.09.01.</td>\n",
       "      <td>0</td>\n",
       "      <td>0</td>\n",
       "      <td>14400</td>\n",
       "    </tr>\n",
       "    <tr>\n",
       "      <th>24</th>\n",
       "      <td>이지파이썬 2 (그림과 스토리텔링으로 이해하는 쉽고 재미있는 파이썬)</td>\n",
       "      <td>한국인공지능아카데미</td>\n",
       "      <td>클라우드북스</td>\n",
       "      <td>2024.09.01.</td>\n",
       "      <td>0</td>\n",
       "      <td>0</td>\n",
       "      <td>14400</td>\n",
       "    </tr>\n",
       "    <tr>\n",
       "      <th>25</th>\n",
       "      <td>이지파이썬 1 (그림과 스토리텔링으로 이해하는 쉽고 재미있는 파이썬)</td>\n",
       "      <td>한국인공지능아카데미</td>\n",
       "      <td>클라우드북스</td>\n",
       "      <td>2024.09.01.</td>\n",
       "      <td>0</td>\n",
       "      <td>0</td>\n",
       "      <td>0</td>\n",
       "    </tr>\n",
       "    <tr>\n",
       "      <th>26</th>\n",
       "      <td>파이썬 강좌</td>\n",
       "      <td>류주환</td>\n",
       "      <td>퍼플</td>\n",
       "      <td>2023.03.27.</td>\n",
       "      <td>0</td>\n",
       "      <td>0</td>\n",
       "      <td>19000</td>\n",
       "    </tr>\n",
       "    <tr>\n",
       "      <th>27</th>\n",
       "      <td>파이썬데이터처리</td>\n",
       "      <td>한종대, 민경하</td>\n",
       "      <td>한국방송통신대학교출판문화원</td>\n",
       "      <td>2025.07.25.</td>\n",
       "      <td>0</td>\n",
       "      <td>0</td>\n",
       "      <td>19300</td>\n",
       "    </tr>\n",
       "    <tr>\n",
       "      <th>28</th>\n",
       "      <td>파이썬 통계학 기초 (단계별 접근)</td>\n",
       "      <td>문창권, 박수용 외 2명</td>\n",
       "      <td>탐진출판사</td>\n",
       "      <td>2025.08.11.</td>\n",
       "      <td>0</td>\n",
       "      <td>0</td>\n",
       "      <td>31500</td>\n",
       "    </tr>\n",
       "    <tr>\n",
       "      <th>29</th>\n",
       "      <td>파이썬 프로그래밍 (기초부터 딥러닝까지)</td>\n",
       "      <td>허준</td>\n",
       "      <td>성안당</td>\n",
       "      <td>2025.03.12.</td>\n",
       "      <td>0</td>\n",
       "      <td>0</td>\n",
       "      <td>21375</td>\n",
       "    </tr>\n",
       "    <tr>\n",
       "      <th>30</th>\n",
       "      <td>자기주도 파이썬 (혼자서도 쉽게 익힐 수 있는, 제4판)</td>\n",
       "      <td>한컴에듀케이션 알고리즘연구소</td>\n",
       "      <td>복두출판사</td>\n",
       "      <td>2024.08.05.</td>\n",
       "      <td>0</td>\n",
       "      <td>0</td>\n",
       "      <td>16560</td>\n",
       "    </tr>\n",
       "    <tr>\n",
       "      <th>31</th>\n",
       "      <td>처음이야? 파이썬 기초 (동영상 강의로 배우는 292개 코드 따라하기(핵심노트+오픈...</td>\n",
       "      <td>윤영빈, 오환 외 1명</td>\n",
       "      <td>영진닷컴</td>\n",
       "      <td>2025.06.20.</td>\n",
       "      <td>5.0</td>\n",
       "      <td>2</td>\n",
       "      <td>18000</td>\n",
       "    </tr>\n",
       "    <tr>\n",
       "      <th>32</th>\n",
       "      <td>안녕, 파이썬</td>\n",
       "      <td>김학인</td>\n",
       "      <td>북랩</td>\n",
       "      <td>2022.03.14.</td>\n",
       "      <td>5.0</td>\n",
       "      <td>1</td>\n",
       "      <td>16110</td>\n",
       "    </tr>\n",
       "    <tr>\n",
       "      <th>33</th>\n",
       "      <td>달구나 파이썬! (개정판)</td>\n",
       "      <td>노순국, 이금분 외 1명</td>\n",
       "      <td>연두에디션</td>\n",
       "      <td>2023.08.15.</td>\n",
       "      <td>5.0</td>\n",
       "      <td>1</td>\n",
       "      <td>18000</td>\n",
       "    </tr>\n",
       "    <tr>\n",
       "      <th>34</th>\n",
       "      <td>파이썬 연습 (개정판)</td>\n",
       "      <td>김기용</td>\n",
       "      <td>그린</td>\n",
       "      <td>2022.02.25.</td>\n",
       "      <td>5.0</td>\n",
       "      <td>1</td>\n",
       "      <td>23400</td>\n",
       "    </tr>\n",
       "    <tr>\n",
       "      <th>35</th>\n",
       "      <td>파이썬의 정석</td>\n",
       "      <td>조용주, 임좌상</td>\n",
       "      <td>길벗캠퍼스</td>\n",
       "      <td>2023.01.10.</td>\n",
       "      <td>0</td>\n",
       "      <td>0</td>\n",
       "      <td>26820</td>\n",
       "    </tr>\n",
       "    <tr>\n",
       "      <th>36</th>\n",
       "      <td>파이썬 올인원 (기초부터 데이터분석까지)</td>\n",
       "      <td>이지민, 임희경</td>\n",
       "      <td>연두에디션</td>\n",
       "      <td>2023.09.04.</td>\n",
       "      <td>0</td>\n",
       "      <td>0</td>\n",
       "      <td>20700</td>\n",
       "    </tr>\n",
       "    <tr>\n",
       "      <th>37</th>\n",
       "      <td>파이썬 3 (프로그래밍을 배우기에 가장 재미있는 언어)</td>\n",
       "      <td>박상현</td>\n",
       "      <td>한빛미디어</td>\n",
       "      <td>2016.02.10.</td>\n",
       "      <td>0</td>\n",
       "      <td>0</td>\n",
       "      <td>15750</td>\n",
       "    </tr>\n",
       "    <tr>\n",
       "      <th>38</th>\n",
       "      <td>두근두근 파이썬 (만들면서 배우는)</td>\n",
       "      <td>천인국</td>\n",
       "      <td>생능출판</td>\n",
       "      <td>2023.01.05.</td>\n",
       "      <td>4.85</td>\n",
       "      <td>13</td>\n",
       "      <td>23000</td>\n",
       "    </tr>\n",
       "    <tr>\n",
       "      <th>39</th>\n",
       "      <td>새내기 파이썬</td>\n",
       "      <td>천인국</td>\n",
       "      <td>생능출판</td>\n",
       "      <td>2022.06.30.</td>\n",
       "      <td>5.0</td>\n",
       "      <td>13</td>\n",
       "      <td>27600</td>\n",
       "    </tr>\n",
       "  </tbody>\n",
       "</table>\n",
       "</div>"
      ],
      "text/plain": [
       "                                                  책제목               저자  \\\n",
       "0            Do it! 점프 투 파이썬 (중학생도 첫날부터 실습하는 초고속 입문서)              박응용   \n",
       "1                혼자 공부하는 파이썬 (1:1 과외하듯 배우는 프로그래밍 자습서)              윤인성   \n",
       "2                                                 파이썬              홍의경   \n",
       "3                                              독학 파이썬         야마다 요시히로   \n",
       "4                                           파이썬 (제2판)         염기원, 오지영   \n",
       "5                                        으뜸 파이썬 (개정판)         박동규, 강영민   \n",
       "6                                                 파이썬              염기원   \n",
       "7                                                 파이썬              김영천   \n",
       "8                            파이썬 (비전공자를위한 파이썬 기초 입문서)              김명호   \n",
       "9                      파이썬 + AI (코드조각과 실행화면으로 배우는 코딩)         안용제, 김남규   \n",
       "10                                                파이썬    이정환, 신항식 외 2명   \n",
       "11                         파이썬 (다양한 예제로 알로리즘 쉽게 분석하기)              김유진   \n",
       "12                                                파이썬         서정원, 김태령   \n",
       "13                           파이썬 마스터 (실생활 융합 예제로 배우는)         김종훈, 김동건   \n",
       "14                                                파이썬  Y. Daniel Liang   \n",
       "15                           파이썬 (컴퓨팅 사고력을 키우는 SW 교육)              우재남   \n",
       "16                                                파이썬              천인국   \n",
       "17                    내공의 파이썬 (한 권으로 끝내는 초보자용 코딩 입문서)              한선관   \n",
       "18                                                파이썬  Y. Daniel Liang   \n",
       "19                                            파이썬 플러스              최희식   \n",
       "20                                            파이썬 워크북              안기수   \n",
       "21                              엑셀X파이썬 (엑셀이 파이썬을 품었다)              정성일   \n",
       "22                                             파이썬컴퓨팅    한종대, 민경하 외 1명   \n",
       "23             이지파이썬 1 (그림과 스토리텔링으로 이해하는 쉽고 재미있는 파이썬)       한국인공지능아카데미   \n",
       "24             이지파이썬 2 (그림과 스토리텔링으로 이해하는 쉽고 재미있는 파이썬)       한국인공지능아카데미   \n",
       "25             이지파이썬 1 (그림과 스토리텔링으로 이해하는 쉽고 재미있는 파이썬)       한국인공지능아카데미   \n",
       "26                                             파이썬 강좌              류주환   \n",
       "27                                           파이썬데이터처리         한종대, 민경하   \n",
       "28                                파이썬 통계학 기초 (단계별 접근)    문창권, 박수용 외 2명   \n",
       "29                             파이썬 프로그래밍 (기초부터 딥러닝까지)               허준   \n",
       "30                    자기주도 파이썬 (혼자서도 쉽게 익힐 수 있는, 제4판)  한컴에듀케이션 알고리즘연구소   \n",
       "31  처음이야? 파이썬 기초 (동영상 강의로 배우는 292개 코드 따라하기(핵심노트+오픈...     윤영빈, 오환 외 1명   \n",
       "32                                            안녕, 파이썬              김학인   \n",
       "33                                     달구나 파이썬! (개정판)    노순국, 이금분 외 1명   \n",
       "34                                       파이썬 연습 (개정판)              김기용   \n",
       "35                                            파이썬의 정석         조용주, 임좌상   \n",
       "36                             파이썬 올인원 (기초부터 데이터분석까지)         이지민, 임희경   \n",
       "37                     파이썬 3 (프로그래밍을 배우기에 가장 재미있는 언어)              박상현   \n",
       "38                                두근두근 파이썬 (만들면서 배우는)              천인국   \n",
       "39                                            새내기 파이썬              천인국   \n",
       "\n",
       "                 출판사          출간일    평점 리뷰수     가격  \n",
       "0            이지스퍼블리싱  2023.06.15.  4.96  85  19800  \n",
       "1              한빛미디어  2022.06.01.  4.91  23  19800  \n",
       "2               생능출판  2022.03.09.     0   0  29440  \n",
       "3              정보문화사  2024.12.20.     0   0  28800  \n",
       "4                 북두  2022.01.20.     0   0  16200  \n",
       "5               생능출판  2024.06.14.   4.6  10  30600  \n",
       "6              복두출판사  2020.08.20.     0   0  13500  \n",
       "7                기한재  2020.02.25.     0   0  23000  \n",
       "8               에듀웨이  2019.05.25.     0   0  16200  \n",
       "9              디지털북스  2024.07.15.   5.0   1  23940  \n",
       "10  도서출판 홍릉(홍릉과학출판사)  2019.09.02.     0   0  23750  \n",
       "11                다본  2019.04.10.     0   0  22500  \n",
       "12              생능출판  2019.02.28.     0   0      0  \n",
       "13            한빛아카데미  2025.01.17.   5.0   3  29440  \n",
       "14             에피스테메  2018.03.02.     0   0  31500  \n",
       "15            한빛아카데미  2016.07.20.     0   0  20460  \n",
       "16            인피니티북스  2017.08.30.     0   0  10800  \n",
       "17            자유아카데미  2025.03.15.     0   0  24840  \n",
       "18              생능출판  2016.02.05.     0   0      0  \n",
       "19            인피니티북스  2024.07.31.   5.0   1  22500  \n",
       "20              생능출판  2025.01.15.     0   0  13500  \n",
       "21                길벗  2024.07.30.     0   0  21375  \n",
       "22    한국방송통신대학교출판문화원  2024.07.25.     0   0  14910  \n",
       "23            클라우드북스  2024.09.01.     0   0  14400  \n",
       "24            클라우드북스  2024.09.01.     0   0  14400  \n",
       "25            클라우드북스  2024.09.01.     0   0      0  \n",
       "26                퍼플  2023.03.27.     0   0  19000  \n",
       "27    한국방송통신대학교출판문화원  2025.07.25.     0   0  19300  \n",
       "28             탐진출판사  2025.08.11.     0   0  31500  \n",
       "29               성안당  2025.03.12.     0   0  21375  \n",
       "30             복두출판사  2024.08.05.     0   0  16560  \n",
       "31              영진닷컴  2025.06.20.   5.0   2  18000  \n",
       "32                북랩  2022.03.14.   5.0   1  16110  \n",
       "33             연두에디션  2023.08.15.   5.0   1  18000  \n",
       "34                그린  2022.02.25.   5.0   1  23400  \n",
       "35             길벗캠퍼스  2023.01.10.     0   0  26820  \n",
       "36             연두에디션  2023.09.04.     0   0  20700  \n",
       "37             한빛미디어  2016.02.10.     0   0  15750  \n",
       "38              생능출판  2023.01.05.  4.85  13  23000  \n",
       "39              생능출판  2022.06.30.   5.0  13  27600  "
      ]
     },
     "execution_count": 27,
     "metadata": {},
     "output_type": "execute_result"
    }
   ],
   "source": [
    "import time\n",
    "import pandas as pd\n",
    "from selenium import webdriver\n",
    "from selenium.webdriver.chrome.service import Service\n",
    "from selenium.webdriver.chrome.options import Options\n",
    "from webdriver_manager.chrome import ChromeDriverManager\n",
    "from selenium.webdriver.common.by import By\n",
    "from selenium.webdriver.common.keys import Keys\n",
    "\n",
    "# 웹브라우저를 실행 할 때 사용할 옵션 - 사람인 것처럼 정보 입력\n",
    "options = Options()\n",
    "options.add_experimental_option(\"detach\", True)\n",
    "options.add_argument(\"start-maximized\")\n",
    "options.add_argument(\"Chrome/141.0.0.0\")\n",
    "options.add_argument(\"lang=ko_KR\")\n",
    "\n",
    "\n",
    "driver = webdriver.Chrome(\n",
    "    service=Service(ChromeDriverManager().install()),\n",
    "    options=options\n",
    "    )\n",
    "\n",
    "keyword = input(\"검색어를 입력하세요:  \")\n",
    "# 웹브라우저에서 url 열기\n",
    "book_info_list = {}\n",
    "for page in range(1, 11):\n",
    "    driver.get(f\"https://search.shopping.naver.com/book/search?bookTabType=ALL&pageIndex={page}&pageSize=40&prevQuery={keyword}&query={keyword}&sort=REL\")\n",
    "    # 전체 40개 데이터를 얻기 위해서 마우스 스크롤\n",
    "    for scroll in range(0, 8001, 1000):\n",
    "        driver.execute_script(f\"window.scrollTo({0}, {scroll})\")\n",
    "        time.sleep(2)\n",
    "\n",
    "    book_list = driver.find_elements(By.CSS_SELECTOR, \".list_book > li\")\n",
    "    for book in book_list:\n",
    "        # 책제목\n",
    "        title = book.find_element(By.CSS_SELECTOR, \".bookListItem_title__1mWGq\").text\n",
    "\n",
    "        try:\n",
    "            # 저자\n",
    "            author= book.find_element(By.CSS_SELECTOR, \".bookListItem_define_item__jqcW8 > span:nth-child(2)\").text\n",
    "        except:\n",
    "            author= \"\"\n",
    "        try:\n",
    "            # 출판사\n",
    "            publisher = book.find_element(By.CSS_SELECTOR, \".bookListItem_detail_publish__SGgZN > span:nth-child(2)\").text\n",
    "        except:\n",
    "            publisher = \"\"\n",
    "        try:\n",
    "            # 출간일\n",
    "            pub_date = book.find_element(By.CSS_SELECTOR, \".bookListItem_detail_date__6_wYJ\").text\n",
    "        except:\n",
    "            pub_date = \"\"\n",
    "        try:\n",
    "            # 평점\n",
    "            rating = book.find_element(By.CSS_SELECTOR, \".bookListItem_grade__e60mi\").text.split()[0][2:]\n",
    "        except:\n",
    "            rating = 0\n",
    "        try:\n",
    "            # 리뷰수\n",
    "            n_reviews = book.find_element(By.CSS_SELECTOR, \".bookListItem_grade__e60mi\").text.split()[1].replace(\"(\", \"\").replace(\")\", \"\") if book.find_element(By.CSS_SELECTOR, \".bookListItem_grade__e60mi\") != None else 0\n",
    "        except:\n",
    "            n_reviews = 0\n",
    "        try:\n",
    "            # 가격\n",
    "            price = int(book.find_element(By.CSS_SELECTOR, \".bookPrice_price__Nv4Ee > em\").text.replace(\",\", \"\")) \n",
    "        except:\n",
    "            price = 0\n",
    "\n",
    "        keys = ['책제목', '저자', '출판사', '출간일', '평점', '리뷰수', '가격']\n",
    "        book_info = (title, author, publisher, pub_date, rating, n_reviews, price)\n",
    "\n",
    "        for key, value in zip(keys, book_info):\n",
    "            book_info_list.setdefault(key, []).append(value)\n",
    "\n",
    "driver.close()            \n",
    "            \n",
    "df = pd.DataFrame(book_info_list)\n",
    "df"
   ]
  },
  {
   "cell_type": "code",
   "execution_count": 77,
   "id": "003b2b46",
   "metadata": {},
   "outputs": [
    {
     "data": {
      "text/plain": [
       "['핀테크 4.0 (핀테크 혁명과 금융의 미래)',\n",
       " '핀테크 4.0 (핀테크 혁명과 금융의 미래)',\n",
       " '핀테크',\n",
       " '핀테크 (IT와 금융이 만나는 새로운 세상)',\n",
       " '핀테크와 법 (제3판)',\n",
       " '핀테크 4.0 (핀테크 혁명과 금융의 미래)',\n",
       " '핀테크 4.0 (핀테크 혁명과 금융의 미래)',\n",
       " '핀테크 혁명 (모바일 은행 설립자가 알려주는 핀테크 시대의 돈 관리 기술)',\n",
       " '핀테크가 강한 나라 (석학 9인의 금융 플랫폼 미래 통찰)',\n",
       " '핀테크가 강한 나라 (석학 9인의 금융 플랫폼 미래 통찰)']"
      ]
     },
     "execution_count": 77,
     "metadata": {},
     "output_type": "execute_result"
    }
   ],
   "source": [
    "title"
   ]
  },
  {
   "cell_type": "code",
   "execution_count": 78,
   "id": "e3ca865b",
   "metadata": {},
   "outputs": [
    {
     "data": {
      "text/plain": [
       "['김종현',\n",
       " '김종현',\n",
       " '한석주',\n",
       " '강창호',\n",
       " '강현구, 유주선 외 1명',\n",
       " '김종현',\n",
       " '김종현',\n",
       " '앤 보덴',\n",
       " '강형구, 김솔 외 3명',\n",
       " '강형구, 김솔 외 3명']"
      ]
     },
     "execution_count": 78,
     "metadata": {},
     "output_type": "execute_result"
    }
   ],
   "source": [
    "author"
   ]
  },
  {
   "cell_type": "code",
   "execution_count": 79,
   "id": "40a1997d",
   "metadata": {},
   "outputs": [
    {
     "data": {
      "text/plain": [
       "['한국금융연수원',\n",
       " '한국금융연수원',\n",
       " '커뮤니케이션북스',\n",
       " '한빛미디어',\n",
       " '씨아이알',\n",
       " '한국금융연수원',\n",
       " '한국금융연수원',\n",
       " '유엑스리뷰',\n",
       " '한울',\n",
       " '한울아카데미']"
      ]
     },
     "execution_count": 79,
     "metadata": {},
     "output_type": "execute_result"
    }
   ],
   "source": [
    "publisher"
   ]
  },
  {
   "cell_type": "code",
   "execution_count": 80,
   "id": "12c66897",
   "metadata": {},
   "outputs": [
    {
     "data": {
      "text/plain": [
       "['2025.08.26.',\n",
       " '2024.12.16.',\n",
       " '2015.11.01.',\n",
       " '2015.06.05.',\n",
       " '2020.11.12.',\n",
       " '2020.08.05.',\n",
       " '2020.08.05.',\n",
       " '2020.03.03.',\n",
       " '2024.04.08.',\n",
       " '2024.04.08.']"
      ]
     },
     "execution_count": 80,
     "metadata": {},
     "output_type": "execute_result"
    }
   ],
   "source": [
    "pub_date"
   ]
  },
  {
   "cell_type": "code",
   "execution_count": 81,
   "id": "78979490",
   "metadata": {},
   "outputs": [
    {
     "data": {
      "text/plain": [
       "[]"
      ]
     },
     "execution_count": 81,
     "metadata": {},
     "output_type": "execute_result"
    }
   ],
   "source": [
    "rating"
   ]
  },
  {
   "cell_type": "code",
   "execution_count": 82,
   "id": "390e6c0d",
   "metadata": {},
   "outputs": [
    {
     "data": {
      "text/plain": [
       "[]"
      ]
     },
     "execution_count": 82,
     "metadata": {},
     "output_type": "execute_result"
    }
   ],
   "source": [
    "n_reviews"
   ]
  },
  {
   "cell_type": "code",
   "execution_count": 85,
   "id": "01b10393",
   "metadata": {},
   "outputs": [
    {
     "data": {
      "text/plain": [
       "[]"
      ]
     },
     "execution_count": 85,
     "metadata": {},
     "output_type": "execute_result"
    }
   ],
   "source": [
    "price"
   ]
  },
  {
   "cell_type": "code",
   "execution_count": null,
   "id": "487cd033",
   "metadata": {},
   "outputs": [],
   "source": []
  },
  {
   "cell_type": "code",
   "execution_count": null,
   "id": "98fe6866",
   "metadata": {},
   "outputs": [],
   "source": []
  }
 ],
 "metadata": {
  "kernelspec": {
   "display_name": "Python 3 (ipykernel)",
   "language": "python",
   "name": "python3"
  },
  "language_info": {
   "codemirror_mode": {
    "name": "ipython",
    "version": 3
   },
   "file_extension": ".py",
   "mimetype": "text/x-python",
   "name": "python",
   "nbconvert_exporter": "python",
   "pygments_lexer": "ipython3",
   "version": "3.9.23"
  }
 },
 "nbformat": 4,
 "nbformat_minor": 5
}
