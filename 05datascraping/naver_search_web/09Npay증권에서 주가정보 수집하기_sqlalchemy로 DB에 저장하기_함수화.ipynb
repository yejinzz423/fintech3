{
 "cells": [
  {
   "cell_type": "markdown",
   "id": "aa711f72",
   "metadata": {},
   "source": [
    "# Npay증권에서 주가정보 수집하기_sqlalchemy로 DB에 저장하기_함수화"
   ]
  },
  {
   "cell_type": "code",
   "execution_count": 1,
   "id": "849c49eb",
   "metadata": {},
   "outputs": [],
   "source": [
    "import os\n",
    "import re\n",
    "import time\n",
    "import requests\n",
    "import pandas as pd\n",
    "from bs4 import BeautifulSoup as bs\n",
    "from datetime import datetime\n",
    "from dbio import load_data, to_db"
   ]
  },
  {
   "cell_type": "markdown",
   "id": "43e2a36e",
   "metadata": {},
   "source": [
    "# dbio를 이용해서 DB에서 데이터 불러오기"
   ]
  },
  {
   "cell_type": "code",
   "execution_count": 2,
   "id": "4a07464c",
   "metadata": {},
   "outputs": [],
   "source": [
    "data = load_data(\"stock_info_20251021\", \"stock_company_list20251021\")"
   ]
  },
  {
   "cell_type": "markdown",
   "id": "684d9c4d",
   "metadata": {},
   "source": [
    "# 주가 정보 수집코드를 함수화, 1개 데이터를 바로 DB 저장"
   ]
  },
  {
   "cell_type": "code",
   "execution_count": 5,
   "id": "66b0a7b3",
   "metadata": {},
   "outputs": [],
   "source": [
    "def naver_stock(code):\n",
    "    result = {}\n",
    "    cols = [\"수집일\", \"종목명\", \"종목코드\", \"현재가\", \"변동금액\", \"변동률\", \"전일가\", \"시가\", \"고가\", \"상한가\",\n",
    "           \"저가\", \"하한가\", \"거래량\"]\n",
    "    \n",
    "    today = datetime.today()\n",
    "    today = f\"{today.year}{today.month}{today.day}\"\n",
    "    \n",
    "    url = f\"https://finance.naver.com/item/main.naver?code={code}\"\n",
    "    r = requests.get(url)\n",
    "    soup = bs(r.content, 'lxml')\n",
    "    # 종목명\n",
    "    stock_name = soup.select_one(\"dl.blind > dd:nth-child(3)\").text.split()[1]\n",
    "    #현재가\n",
    "    today_price = soup.select_one(\"dl.blind > dd:nth-child(5)\").text.split()[1]\n",
    "    # 변동금액\n",
    "    change = soup.select_one(\"dl.blind > dd:nth-child(5)\").text.split()[3:5]\n",
    "    change = -int(change[1].replace(\",\", \"\")) if change[0] == '하락' else int(change[1].replace(\",\", \"\"))\n",
    "    # 변동률\n",
    "    percent = soup.select_one(\"dl.blind > dd:nth-child(5)\").text.split()[5:]\n",
    "    percent = \"\".join(percent)\n",
    "    percent = percent.replace(\"플러스\", \"\").replace(\"마이너스\", \"-\").replace(\"퍼센트\", \"%\")\n",
    "    # 전일가\n",
    "    yeaster_price = int(soup.select_one(\"dl.blind > dd:nth-child(6)\").text.split()[1].replace(\",\", \"\"))\n",
    "    # 시가\n",
    "    opening_price = int(soup.select_one(\"dl.blind > dd:nth-child(7)\").text.split()[1].replace(\",\", \"\"))\n",
    "    # 고가\n",
    "    hi = int(soup.select_one(\"dl.blind > dd:nth-child(8)\").text.split()[1].replace(\",\", \"\"))\n",
    "    #상한가\n",
    "    top = int(soup.select_one(\"dl.blind > dd:nth-child(9)\").text.split()[1].replace(\",\", \"\"))\n",
    "    #저가\n",
    "    low = int(soup.select_one(\"dl.blind > dd:nth-child(10)\").text.split()[1].replace(\",\", \"\"))\n",
    "    #하한가\n",
    "    bottom = int(soup.select_one(\"dl.blind > dd:nth-child(11)\").text.split()[1].replace(\",\", \"\"))\n",
    "    #거래량\n",
    "    volume = int(soup.select_one(\"dl.blind > dd:nth-child(12)\").text.split()[1].replace(\",\", \"\"))\n",
    "\n",
    "    values = (today, stock_name, code, today_price, change, percent, yeaster_price, opening_price, hi,\n",
    "    top, low, bottom, volume)\n",
    "\n",
    "    for key, value in zip(cols, values):\n",
    "        result.setdefault(key, []).append(value)\n",
    "\n",
    "    df = pd.DataFrame(result)\n",
    "            \n",
    "    to_db(\"stock_info_20251021\", f\"stock_price_{today[:4]}\", df)\n",
    "    \n",
    "    return print(f\"{stock_name} 주가정보 수집완료          \", end=\"\\r\")\n",
    "\n",
    "        \n",
    "\n"
   ]
  },
  {
   "cell_type": "markdown",
   "id": "45132cee",
   "metadata": {},
   "source": [
    "# 데이터 수집 및 저장하기"
   ]
  },
  {
   "cell_type": "code",
   "execution_count": 6,
   "id": "e7866694",
   "metadata": {},
   "outputs": [
    {
     "name": "stdout",
     "output_type": "stream",
     "text": [
      "invalid literal for int() with base 10: 'USA'\n",
      "invalid literal for int() with base 10: 'SGP'\n",
      "invalid literal for int() with base 10: 'HKG'\n",
      "invalid literal for int() with base 10: 'USA'\n",
      "invalid literal for int() with base 10: 'HKG'\n",
      "invalid literal for int() with base 10: 'JPN'\n",
      "invalid literal for int() with base 10: 'USA'\n",
      "invalid literal for int() with base 10: 'HKG'\n",
      "invalid literal for int() with base 10: 'HKG'\n",
      "invalid literal for int() with base 10: 'HKG'\n",
      "invalid literal for int() with base 10: 'USA'\n",
      "invalid literal for int() with base 10: 'HKG'\n",
      "invalid literal for int() with base 10: 'HKG'\n",
      "invalid literal for int() with base 10: 'CYM'\n",
      "invalid literal for int() with base 10: 'USA'\n",
      "invalid literal for int() with base 10: 'CYM'\n",
      "invalid literal for int() with base 10: 'HKG'\n",
      "invalid literal for int() with base 10: 'USA'\n",
      "invalid literal for int() with base 10: 'CYM'\n",
      "invalid literal for int() with base 10: 'CYM'\n",
      "한진중공업홀딩스 주가정보 수집완료             \r"
     ]
    }
   ],
   "source": [
    "for idx, code in enumerate(data['종목코드']):\n",
    "    print(f\"{idx+1}/{len(data['종목코드'])} 데이터 수집중\", end=\"\\r\")\n",
    "    try:\n",
    "        int(code[:3])\n",
    "        naver_stock(code)\n",
    "    except Exception as e:\n",
    "        print(e)\n",
    "        "
   ]
  },
  {
   "cell_type": "code",
   "execution_count": null,
   "id": "650705b9",
   "metadata": {},
   "outputs": [],
   "source": []
  },
  {
   "cell_type": "code",
   "execution_count": null,
   "id": "b446d7ce",
   "metadata": {},
   "outputs": [],
   "source": []
  },
  {
   "cell_type": "code",
   "execution_count": null,
   "id": "811d2a2b",
   "metadata": {},
   "outputs": [],
   "source": []
  },
  {
   "cell_type": "code",
   "execution_count": null,
   "id": "c5e80c7b",
   "metadata": {},
   "outputs": [],
   "source": []
  },
  {
   "cell_type": "code",
   "execution_count": null,
   "id": "8f6f91f9",
   "metadata": {
    "scrolled": true
   },
   "outputs": [],
   "source": [
    "\n",
    "            "
   ]
  },
  {
   "cell_type": "code",
   "execution_count": null,
   "id": "402a7a42",
   "metadata": {},
   "outputs": [],
   "source": []
  },
  {
   "cell_type": "code",
   "execution_count": null,
   "id": "a33df5e8",
   "metadata": {},
   "outputs": [],
   "source": []
  },
  {
   "cell_type": "code",
   "execution_count": null,
   "id": "e124c388",
   "metadata": {},
   "outputs": [],
   "source": []
  },
  {
   "cell_type": "code",
   "execution_count": null,
   "id": "5f04b348",
   "metadata": {},
   "outputs": [],
   "source": []
  },
  {
   "cell_type": "code",
   "execution_count": null,
   "id": "d8e1d22f",
   "metadata": {},
   "outputs": [],
   "source": []
  },
  {
   "cell_type": "code",
   "execution_count": null,
   "id": "4e33221d",
   "metadata": {},
   "outputs": [],
   "source": []
  }
 ],
 "metadata": {
  "kernelspec": {
   "display_name": "Python 3 (ipykernel)",
   "language": "python",
   "name": "python3"
  },
  "language_info": {
   "codemirror_mode": {
    "name": "ipython",
    "version": 3
   },
   "file_extension": ".py",
   "mimetype": "text/x-python",
   "name": "python",
   "nbconvert_exporter": "python",
   "pygments_lexer": "ipython3",
   "version": "3.9.23"
  }
 },
 "nbformat": 4,
 "nbformat_minor": 5
}
