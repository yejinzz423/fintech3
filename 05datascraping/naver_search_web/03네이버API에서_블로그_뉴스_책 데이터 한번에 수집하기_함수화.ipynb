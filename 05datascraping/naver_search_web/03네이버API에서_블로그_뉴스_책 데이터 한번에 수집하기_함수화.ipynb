{
 "cells": [
  {
   "cell_type": "markdown",
   "id": "e26b711b",
   "metadata": {},
   "source": [
    "# 네이버 API에서 키워드 입력 받아 블로그, 뉴스, 책 데이터 수집\n",
    "# 각각의 카테고리별로 csv 파일로 저장\n",
    "# 파일명에는 수집날짜가 자동으로 파일명에 포함되도록\n",
    "# 반복되는 부분은 함수를 이용해서 중복 줄이기\n"
   ]
  },
  {
   "cell_type": "code",
   "execution_count": 4,
   "id": "04726104",
   "metadata": {},
   "outputs": [
    {
     "data": {
      "text/plain": [
       "True"
      ]
     },
     "execution_count": 4,
     "metadata": {},
     "output_type": "execute_result"
    }
   ],
   "source": [
    "import requests\n",
    "import pandas as pd\n",
    "from dotenv import load_dotenv\n",
    "import re\n",
    "import os\n",
    "import time\n",
    "import re\n",
    "from datetime import datetime\n",
    "load_dotenv(dotenv_path=\"./naver_search_/data/.env\")\n"
   ]
  },
  {
   "cell_type": "code",
   "execution_count": 21,
   "id": "de8baaa7",
   "metadata": {},
   "outputs": [],
   "source": [
    "import re\n",
    "def text_clean(text):\n",
    "    # html 태그를 없애는 정규표현식\n",
    "    result = re.sub(r\"</?[^>]+>\", \"\", text)\n",
    "    # 한글, 영문, 숫자 외의 모든 문자 제거 후 공백으로 변환\n",
    "    result = re.sub(r\"[^가-힣a-zA-Z0-9]\", \" \", result)\n",
    "    result = result.replace(\"  \", \" \").replace(\"  \", \" \").replace(\"  \", \" \")\n",
    "    return result"
   ]
  },
  {
   "cell_type": "code",
   "execution_count": 13,
   "id": "58c2b9db",
   "metadata": {},
   "outputs": [
    {
     "name": "stdout",
     "output_type": "stream",
     "text": [
      "검색할 키워드를 입력해 주세요핀테크\n"
     ]
    },
    {
     "ename": "NameError",
     "evalue": "name 'text_clean' is not defined",
     "output_type": "error",
     "traceback": [
      "\u001b[1;31m---------------------------------------------------------------------------\u001b[0m",
      "\u001b[1;31mNameError\u001b[0m                                 Traceback (most recent call last)",
      "Cell \u001b[1;32mIn[13], line 21\u001b[0m\n\u001b[0;32m     19\u001b[0m \u001b[38;5;28;01mfor\u001b[39;00m key, value \u001b[38;5;129;01min\u001b[39;00m item\u001b[38;5;241m.\u001b[39mitems():\n\u001b[0;32m     20\u001b[0m     \u001b[38;5;28;01mif\u001b[39;00m key \u001b[38;5;129;01min\u001b[39;00m [\u001b[38;5;124m\"\u001b[39m\u001b[38;5;124mtitle\u001b[39m\u001b[38;5;124m\"\u001b[39m, \u001b[38;5;124m\"\u001b[39m\u001b[38;5;124mdescription\u001b[39m\u001b[38;5;124m\"\u001b[39m]:\n\u001b[1;32m---> 21\u001b[0m         result\u001b[38;5;241m.\u001b[39msetdefault(key, [])\u001b[38;5;241m.\u001b[39mappend(\u001b[43mtext_clean\u001b[49m(value))\n\u001b[0;32m     22\u001b[0m     \u001b[38;5;28;01melse\u001b[39;00m:\n\u001b[0;32m     23\u001b[0m         result\u001b[38;5;241m.\u001b[39msetdefault(key, [])\u001b[38;5;241m.\u001b[39mappend(value)\n",
      "\u001b[1;31mNameError\u001b[0m: name 'text_clean' is not defined"
     ]
    }
   ],
   "source": [
    "keyword = input(\"검색할 키워드를 입력해 주세요\")\n",
    "\n",
    "user_id = os.getenv(\"id\")\n",
    "user_secret = os.getenv(\"pw\")\n",
    "url = f\"https://openapi.naver.com/v1/search/blog\"\n",
    "payload = dict(query=keyword, display=100, sort=\"date\")\n",
    "headers = {\"X-Naver-Client-Id\" : user_id, \"X-Naver-Client-Secret\" : user_secret}\n",
    "r= requests.get(url, params=payload, headers=headers)\n",
    "response = r.json()\n",
    "\n",
    "total_page = response['total'] // 100+1\n",
    "if total_page > 11:\n",
    "    total_page = 11\n",
    "else :\n",
    "    total_page = response['total'] // 100+1\n",
    "\n",
    "result = {}\n",
    "for item in response['items']:\n",
    "    for key, value in item.items():\n",
    "        if key in [\"title\", \"description\"]:\n",
    "            result.setdefault(key, []).append(text_clean(value))\n",
    "        else:\n",
    "            result.setdefault(key, []).append(value)\n",
    "df = pd.DataFrame.result"
   ]
  },
  {
   "cell_type": "code",
   "execution_count": 18,
   "id": "43c59dd7",
   "metadata": {},
   "outputs": [
    {
     "data": {
      "text/plain": [
       "<bound method Response.json of <Response [401]>>"
      ]
     },
     "execution_count": 18,
     "metadata": {},
     "output_type": "execute_result"
    }
   ],
   "source": [
    "response"
   ]
  },
  {
   "cell_type": "code",
   "execution_count": 19,
   "id": "904056a5",
   "metadata": {},
   "outputs": [
    {
     "ename": "TypeError",
     "evalue": "'method' object is not subscriptable",
     "output_type": "error",
     "traceback": [
      "\u001b[1;31m---------------------------------------------------------------------------\u001b[0m",
      "\u001b[1;31mTypeError\u001b[0m                                 Traceback (most recent call last)",
      "Cell \u001b[1;32mIn[19], line 1\u001b[0m\n\u001b[1;32m----> 1\u001b[0m total_page \u001b[38;5;241m=\u001b[39m \u001b[43mresponse\u001b[49m\u001b[43m[\u001b[49m\u001b[38;5;124;43m'\u001b[39;49m\u001b[38;5;124;43mtotal\u001b[39;49m\u001b[38;5;124;43m'\u001b[39;49m\u001b[43m]\u001b[49m \u001b[38;5;241m/\u001b[39m\u001b[38;5;241m/\u001b[39m \u001b[38;5;241m100\u001b[39m\u001b[38;5;241m+\u001b[39m\u001b[38;5;241m1\u001b[39m\n",
      "\u001b[1;31mTypeError\u001b[0m: 'method' object is not subscriptable"
     ]
    }
   ],
   "source": [
    "total_page = response['total'] // 100+1"
   ]
  },
  {
   "cell_type": "code",
   "execution_count": 20,
   "id": "b2569896",
   "metadata": {},
   "outputs": [
    {
     "ename": "TypeError",
     "evalue": "'method' object is not subscriptable",
     "output_type": "error",
     "traceback": [
      "\u001b[1;31m---------------------------------------------------------------------------\u001b[0m",
      "\u001b[1;31mTypeError\u001b[0m                                 Traceback (most recent call last)",
      "Cell \u001b[1;32mIn[20], line 1\u001b[0m\n\u001b[1;32m----> 1\u001b[0m \u001b[38;5;28;01mfor\u001b[39;00m item \u001b[38;5;129;01min\u001b[39;00m \u001b[43mresponse\u001b[49m\u001b[43m[\u001b[49m\u001b[38;5;124;43m'\u001b[39;49m\u001b[38;5;124;43mitems\u001b[39;49m\u001b[38;5;124;43m'\u001b[39;49m\u001b[43m]\u001b[49m[:\u001b[38;5;241m2\u001b[39m]:\n\u001b[0;32m      2\u001b[0m     \u001b[38;5;28mprint\u001b[39m(item)\n\u001b[0;32m      3\u001b[0m     \u001b[38;5;28;01mfor\u001b[39;00m key, value \u001b[38;5;129;01min\u001b[39;00m item\u001b[38;5;241m.\u001b[39mitems():\n",
      "\u001b[1;31mTypeError\u001b[0m: 'method' object is not subscriptable"
     ]
    }
   ],
   "source": [
    "for item in response['items'][:2]:\n",
    "    print(item)\n",
    "    for key, value in item.items():\n",
    "        result.setdefault(key,[]).append(value)\n",
    "result"
   ]
  },
  {
   "cell_type": "code",
   "execution_count": 22,
   "id": "8cbfebe1",
   "metadata": {},
   "outputs": [
    {
     "ename": "TypeError",
     "evalue": "'method' object is not subscriptable",
     "output_type": "error",
     "traceback": [
      "\u001b[1;31m---------------------------------------------------------------------------\u001b[0m",
      "\u001b[1;31mTypeError\u001b[0m                                 Traceback (most recent call last)",
      "Cell \u001b[1;32mIn[22], line 1\u001b[0m\n\u001b[1;32m----> 1\u001b[0m \u001b[43mresponse\u001b[49m\u001b[43m[\u001b[49m\u001b[38;5;124;43m'\u001b[39;49m\u001b[38;5;124;43mitems\u001b[39;49m\u001b[38;5;124;43m'\u001b[39;49m\u001b[43m]\u001b[49m[\u001b[38;5;241m0\u001b[39m]\u001b[38;5;241m.\u001b[39mkeys()\n",
      "\u001b[1;31mTypeError\u001b[0m: 'method' object is not subscriptable"
     ]
    }
   ],
   "source": [
    "response['items'][0].keys()"
   ]
  },
  {
   "cell_type": "code",
   "execution_count": 26,
   "id": "bc3b7ee4",
   "metadata": {},
   "outputs": [
    {
     "ename": "TypeError",
     "evalue": "'method' object is not subscriptable",
     "output_type": "error",
     "traceback": [
      "\u001b[1;31m---------------------------------------------------------------------------\u001b[0m",
      "\u001b[1;31mTypeError\u001b[0m                                 Traceback (most recent call last)",
      "Cell \u001b[1;32mIn[26], line 2\u001b[0m\n\u001b[0;32m      1\u001b[0m result \u001b[38;5;241m=\u001b[39m {}\n\u001b[1;32m----> 2\u001b[0m \u001b[38;5;28;01mfor\u001b[39;00m item \u001b[38;5;129;01min\u001b[39;00m \u001b[43mresponse\u001b[49m\u001b[43m[\u001b[49m\u001b[38;5;124;43m'\u001b[39;49m\u001b[38;5;124;43mitems\u001b[39;49m\u001b[38;5;124;43m'\u001b[39;49m\u001b[43m]\u001b[49m:\n\u001b[0;32m      3\u001b[0m     \u001b[38;5;28;01mfor\u001b[39;00m key, value \u001b[38;5;129;01min\u001b[39;00m item\u001b[38;5;241m.\u001b[39mitems():\n\u001b[0;32m      4\u001b[0m         \u001b[38;5;28;01mif\u001b[39;00m key \u001b[38;5;129;01min\u001b[39;00m [\u001b[38;5;124m\"\u001b[39m\u001b[38;5;124mtitle\u001b[39m\u001b[38;5;124m\"\u001b[39m, \u001b[38;5;124m\"\u001b[39m\u001b[38;5;124mdescription\u001b[39m\u001b[38;5;124m\"\u001b[39m]:\n",
      "\u001b[1;31mTypeError\u001b[0m: 'method' object is not subscriptable"
     ]
    }
   ],
   "source": [
    "result = {}\n",
    "for item in response['items']:\n",
    "    for key, value in item.items():\n",
    "        if key in [\"title\", \"description\"]:\n",
    "            result.setdefault(key, []).append(text_clean(value))\n",
    "        else:\n",
    "            result.setdefault(key, []).append(value)\n",
    "df = pd.DataFrame.result"
   ]
  },
  {
   "cell_type": "markdown",
   "id": "ebddc05b",
   "metadata": {},
   "source": [
    "# 전체페이지 수집"
   ]
  },
  {
   "cell_type": "code",
   "execution_count": null,
   "id": "de3f9b16",
   "metadata": {},
   "outputs": [],
   "source": [
    "keyword = input(\"검색할 키워드를 입력해 주세요\")"
   ]
  },
  {
   "cell_type": "code",
   "execution_count": 48,
   "id": "975a50fd",
   "metadata": {},
   "outputs": [
    {
     "ename": "SyntaxError",
     "evalue": "invalid syntax (2039338343.py, line 29)",
     "output_type": "error",
     "traceback": [
      "\u001b[1;36m  Cell \u001b[1;32mIn[48], line 29\u001b[1;36m\u001b[0m\n\u001b[1;33m    for cate == 'blog':\u001b[0m\n\u001b[1;37m                      ^\u001b[0m\n\u001b[1;31mSyntaxError\u001b[0m\u001b[1;31m:\u001b[0m invalid syntax\n"
     ]
    }
   ],
   "source": [
    "blog_data = []\n",
    "news_data = []\n",
    "book_data = []\n",
    "\n",
    "category = ['blog', 'news', 'book']\n",
    "\n",
    "for cate in category:\n",
    "    page_num = 1\n",
    "    total_page = 1\n",
    "    start_num = 1\n",
    "    while page_num <=total_page:\n",
    "        print(cate, page_num, total_page, end=\"\\r\")\n",
    "        user_id = os.getenv(\"id\")\n",
    "        user_secret = os.getenv(\"pw\")\n",
    "        url = f\"https://openapi.naver.com/v1/search/{cate}\"\n",
    "        payload = dict(query=keyword, display=100, start=num, sort=\"date\")\n",
    "        headers = {\"X-Naver-Client-Id\" : user_id, \"X-Naver-Client-Secret\" : user_secret}\n",
    "        r= requests.get(url, params=payload, headers=headers)\n",
    "        response = r.json\n",
    "\n",
    "        result = {}\n",
    "        for item in response['items']:\n",
    "\n",
    "            for key, value in item.items():\n",
    "                if key in [\"title\", \"description\"]:\n",
    "                    result.setdefault(key, []).append(text_clean(value))\n",
    "                else:\n",
    "                    result.setdefault(key, []).append(value)\n",
    "                    for cate == 'blog':\n",
    "                        blog_data.append(pd.DataFrame(result))\n",
    "                    elif cate == 'news':\n",
    "                        news_data.append(pd.DataFrame(result))\n",
    "                    elif cate == 'book':\n",
    "                        book_data.append(pd.DataFrame(result))\n",
    "\n",
    "\n",
    "        total_page = response['total'] // 100+1\n",
    "        if total_page > 11:\n",
    "            total_page == 11\n",
    "        else :\n",
    "            total_page = response['total'] // 100+1\n",
    "\n",
    "        page_num += 1\n",
    "\n",
    "        if start_num < 901:\n",
    "            start_num += 100\n",
    "        else start_num > 900:\n",
    "            start_num += 99\n",
    "\n",
    "        print(page_num, start_num)\n",
    "    \n",
    "blog_df = pd.contact(blog_data)\n",
    "news_df = pd.contact(news_data)\n",
    "book_df = pd.contact(book_data)\n",
    "\n",
    "blog_df = blog_df.reset_index(drop=True)\n",
    "news_df = news_df.reset_index(drop=True)\n",
    "book_df = book_df.reset_index(drop=True)\n",
    "\n",
    "display(blog_df)\n",
    "display(news_df)\n",
    "display(book_df)"
   ]
  },
  {
   "cell_type": "markdown",
   "id": "05d7f99f",
   "metadata": {},
   "source": [
    "# 코드를 함수화"
   ]
  },
  {
   "cell_type": "code",
   "execution_count": 52,
   "id": "c1b9cc04",
   "metadata": {},
   "outputs": [],
   "source": [
    "def naver_api(keyword, cate):\n",
    "    page_num = 1\n",
    "    total_page = 1\n",
    "    start_num = 1\n",
    "    \n",
    "    all_data = []\n",
    "    while page_num <=total_page:\n",
    "        print(cate, page_num, total_page, end=\"\\r\")\n",
    "        user_id = os.getenv(\"id\")\n",
    "        user_secret = os.getenv(\"pw\")\n",
    "        url = f\"https://openapi.naver.com/v1/search/{cate}\"\n",
    "        payload = dict(query=keyword, display=100, start=num, sort=\"date\")\n",
    "        headers = {\"X-Naver-Client-Id\" : user_id, \"X-Naver-Client-Secret\" : user_secret}\n",
    "        r= requests.get(url, params=payload, headers=headers)\n",
    "        response = r.json\n",
    "\n",
    "        result = {}\n",
    "        for item in response['items']:\n",
    "\n",
    "            for key, value in item.items():\n",
    "                if key in [\"title\", \"description\"]:\n",
    "                    result.setdefault(key, []).append(text_clean(value))\n",
    "                else:\n",
    "                    result.setdefault(key, []).append(value)\n",
    "        \n",
    "        all_data.append(pd.DataFrame(result))\n",
    "\n",
    "        total_page = response['total'] // 100+1\n",
    "        if total_page > 11:\n",
    "            total_page == 11\n",
    "        else :\n",
    "            total_page = response['total'] // 100+1\n",
    "\n",
    "        page_num += 1\n",
    "\n",
    "        if start_num < 901:\n",
    "            start_num += 100\n",
    "        elif start_num > 900:\n",
    "            start_num += 99\n",
    "    \n",
    "    result_df = pd.concat(pd.all_data)\n",
    "    result_df = result_df.result_index(drop=True)\n",
    "    return pd.DataFrame(all_data)"
   ]
  },
  {
   "cell_type": "code",
   "execution_count": null,
   "id": "bbef98b9",
   "metadata": {},
   "outputs": [],
   "source": [
    "today = datetime.today()\n",
    "date = f\"{today.year}{today.month:02d}{todat.day:02d}\"\n",
    "for cate in category:\n",
    "    result = naver.api(keyword, cate)\n",
    "    "
   ]
  },
  {
   "cell_type": "code",
   "execution_count": null,
   "id": "bae37818",
   "metadata": {},
   "outputs": [],
   "source": [
    "d"
   ]
  },
  {
   "cell_type": "code",
   "execution_count": 54,
   "id": "3c339a53",
   "metadata": {},
   "outputs": [
    {
     "name": "stdout",
     "output_type": "stream",
     "text": [
      "검색어를 입력하세요.핀테크\n",
      "cate 1 1\r"
     ]
    },
    {
     "ename": "TypeError",
     "evalue": "'method' object is not subscriptable",
     "output_type": "error",
     "traceback": [
      "\u001b[1;31m---------------------------------------------------------------------------\u001b[0m",
      "\u001b[1;31mTypeError\u001b[0m                                 Traceback (most recent call last)",
      "Cell \u001b[1;32mIn[54], line 3\u001b[0m\n\u001b[0;32m      1\u001b[0m keword \u001b[38;5;241m=\u001b[39m \u001b[38;5;28minput\u001b[39m(\u001b[38;5;124m\"\u001b[39m\u001b[38;5;124m검색어를 입력하세요.\u001b[39m\u001b[38;5;124m\"\u001b[39m)\n\u001b[0;32m      2\u001b[0m \u001b[38;5;28;01mfor\u001b[39;00m cate \u001b[38;5;129;01min\u001b[39;00m category:\n\u001b[1;32m----> 3\u001b[0m     result \u001b[38;5;241m=\u001b[39m \u001b[43mnaver_api\u001b[49m\u001b[43m(\u001b[49m\u001b[38;5;124;43m\"\u001b[39;49m\u001b[38;5;124;43mkeyword\u001b[39;49m\u001b[38;5;124;43m\"\u001b[39;49m\u001b[43m,\u001b[49m\u001b[43m \u001b[49m\u001b[38;5;124;43m\"\u001b[39;49m\u001b[38;5;124;43mcate\u001b[39;49m\u001b[38;5;124;43m\"\u001b[39;49m\u001b[43m)\u001b[49m\n\u001b[0;32m      4\u001b[0m     result\u001b[38;5;241m.\u001b[39mto_csv(\u001b[38;5;124mf\u001b[39m\u001b[38;5;124m\"\u001b[39m\u001b[38;5;124m./.data/\u001b[39m\u001b[38;5;132;01m{\u001b[39;00mkeyword\u001b[38;5;132;01m}\u001b[39;00m\u001b[38;5;124m_\u001b[39m\u001b[38;5;132;01m{\u001b[39;00mcate\u001b[38;5;132;01m}\u001b[39;00m\u001b[38;5;124m_\u001b[39m\u001b[38;5;124m\"\u001b[39m)\n",
      "Cell \u001b[1;32mIn[52], line 18\u001b[0m, in \u001b[0;36mnaver_api\u001b[1;34m(keyword, cate)\u001b[0m\n\u001b[0;32m     15\u001b[0m response \u001b[38;5;241m=\u001b[39m r\u001b[38;5;241m.\u001b[39mjson\n\u001b[0;32m     17\u001b[0m result \u001b[38;5;241m=\u001b[39m {}\n\u001b[1;32m---> 18\u001b[0m \u001b[38;5;28;01mfor\u001b[39;00m item \u001b[38;5;129;01min\u001b[39;00m \u001b[43mresponse\u001b[49m\u001b[43m[\u001b[49m\u001b[38;5;124;43m'\u001b[39;49m\u001b[38;5;124;43mitems\u001b[39;49m\u001b[38;5;124;43m'\u001b[39;49m\u001b[43m]\u001b[49m:\n\u001b[0;32m     20\u001b[0m     \u001b[38;5;28;01mfor\u001b[39;00m key, value \u001b[38;5;129;01min\u001b[39;00m item\u001b[38;5;241m.\u001b[39mitems():\n\u001b[0;32m     21\u001b[0m         \u001b[38;5;28;01mif\u001b[39;00m key \u001b[38;5;129;01min\u001b[39;00m [\u001b[38;5;124m\"\u001b[39m\u001b[38;5;124mtitle\u001b[39m\u001b[38;5;124m\"\u001b[39m, \u001b[38;5;124m\"\u001b[39m\u001b[38;5;124mdescription\u001b[39m\u001b[38;5;124m\"\u001b[39m]:\n",
      "\u001b[1;31mTypeError\u001b[0m: 'method' object is not subscriptable"
     ]
    }
   ],
   "source": [
    "keword = input(\"검색어를 입력하세요.\")\n",
    "for cate in category:\n",
    "    result = naver_api(\"keyword\", \"cate\")\n",
    "    result.to_csv(f\"./.data/{keyword}_{cate}_\")"
   ]
  },
  {
   "cell_type": "code",
   "execution_count": null,
   "id": "9187082b",
   "metadata": {},
   "outputs": [],
   "source": []
  },
  {
   "cell_type": "code",
   "execution_count": null,
   "id": "135a9a6f",
   "metadata": {},
   "outputs": [],
   "source": []
  },
  {
   "cell_type": "code",
   "execution_count": null,
   "id": "ebf3cce5",
   "metadata": {},
   "outputs": [],
   "source": []
  },
  {
   "cell_type": "code",
   "execution_count": null,
   "id": "77d9e9e4",
   "metadata": {},
   "outputs": [],
   "source": []
  }
 ],
 "metadata": {
  "kernelspec": {
   "display_name": "Python 3 (ipykernel)",
   "language": "python",
   "name": "python3"
  },
  "language_info": {
   "codemirror_mode": {
    "name": "ipython",
    "version": 3
   },
   "file_extension": ".py",
   "mimetype": "text/x-python",
   "name": "python",
   "nbconvert_exporter": "python",
   "pygments_lexer": "ipython3",
   "version": "3.9.23"
  }
 },
 "nbformat": 4,
 "nbformat_minor": 5
}
