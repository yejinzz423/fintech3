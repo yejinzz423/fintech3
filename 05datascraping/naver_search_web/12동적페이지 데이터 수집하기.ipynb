{
 "cells": [
  {
   "cell_type": "markdown",
   "id": "f0fb1b16",
   "metadata": {},
   "source": [
    "# Selenium 이란?\n",
    "* 웹브라우저를 자동으로 제어하는 라이브러리\n",
    "* 원래 다양한 웹브라우저를 자동으로 테스트하는 도구\n",
    "* 코드를 통해 웹브라우저 조작 가능\n",
    "* 동적 웹사이트에서 정보를 가져오는데 활용\n",
    "* https://www.selenium.dev/documentation/webdriver/"
   ]
  },
  {
   "cell_type": "code",
   "execution_count": 3,
   "id": "5204bedd",
   "metadata": {},
   "outputs": [],
   "source": [
    "#!pip install selenium\n",
    "#!pip install webdriver-manager"
   ]
  },
  {
   "cell_type": "code",
   "execution_count": 4,
   "id": "5528de33",
   "metadata": {},
   "outputs": [
    {
     "name": "stdout",
     "output_type": "stream",
     "text": [
      "4.36.0\n"
     ]
    }
   ],
   "source": [
    "import selenium\n",
    "print(selenium.__version__)"
   ]
  },
  {
   "cell_type": "code",
   "execution_count": 6,
   "id": "b45d78bf",
   "metadata": {},
   "outputs": [],
   "source": [
    "from selenium import webdriver\n",
    "from selenium.webdriver.chrome.service import Service\n",
    "from selenium.webdriver.chrome.options import Options\n",
    "from webdriver_manager.chrome import ChromeDriverManager\n",
    "from selenium.webdriver.common.by import By\n",
    "from selenium.webdriver.common.keys import Keys\n",
    "\n",
    "# 웹브라우저를 실행 할 때 사용할 옵션 - 사람인 것처럼 정보 입력\n",
    "options = Options()\n",
    "options.add_experimental_option(\"detach\", True)\n",
    "options.add_argument(\"start-maximized\")\n",
    "options.add_argument(\"Chrome/135.0.0.0\")\n",
    "options.add_argument(\"lang=ko_KR\")\n",
    "\n",
    "driver = webdriver.Chrome(\n",
    "    service=Service(ChromeDriverManager().install()),\n",
    "    options=options\n",
    "    )\n",
    "\n",
    "# 웹브라우저에서 url d열기\n",
    "driver.get(\"https://search.shopping.naver.com/book/search?bookTabType=ALL&pageIndex=1&pageSize=40&prevQuery=%EB%84%A4%EC%9D%B4%EB%B2%84%20%EB%8F%84%EC%84%9C&query=%ED%95%80%ED%85%8C%ED%81%AC&sort=REL\")"
   ]
  },
  {
   "cell_type": "code",
   "execution_count": 26,
   "id": "3a826672",
   "metadata": {},
   "outputs": [],
   "source": [
    "search_box = driver.find_element(By.CSS_SELECTOR, \"._searchInput_search_text_83jy9._nlog_click\")"
   ]
  },
  {
   "cell_type": "code",
   "execution_count": 27,
   "id": "6b41c7ff",
   "metadata": {},
   "outputs": [],
   "source": [
    "# 검색창 텍스트 지우기\n",
    "search_box.clear()"
   ]
  },
  {
   "cell_type": "code",
   "execution_count": 17,
   "id": "a3cbb5a7",
   "metadata": {},
   "outputs": [],
   "source": [
    "# 검색창에 텍스트 입력\n",
    "search_box.send_keys(\"파이썬\")"
   ]
  },
  {
   "cell_type": "code",
   "execution_count": 18,
   "id": "5a0ddc8e",
   "metadata": {},
   "outputs": [],
   "source": [
    "# 검색창에서 검색하기\n",
    "search_box.send_keys(Keys.ENTER)"
   ]
  },
  {
   "cell_type": "code",
   "execution_count": 29,
   "id": "bbbcd568",
   "metadata": {},
   "outputs": [],
   "source": [
    "search_button = driver.find_element(By.CSS_SELECTOR, \"._searchInput_button_search_wu9xq._nlog_click\")"
   ]
  },
  {
   "cell_type": "code",
   "execution_count": 23,
   "id": "1ed769c4",
   "metadata": {},
   "outputs": [],
   "source": [
    "# 검색창 버튼 클릭\n",
    "search_button.click()"
   ]
  },
  {
   "cell_type": "code",
   "execution_count": 30,
   "id": "5aa9e1de",
   "metadata": {},
   "outputs": [],
   "source": [
    "search_box.clear()\n",
    "search_box.send_keys(\"증권\")\n",
    "search_button.click()"
   ]
  },
  {
   "cell_type": "markdown",
   "id": "cc87f852",
   "metadata": {},
   "source": [
    "# Selenium에서 원하는 요소찾기\n",
    "* driver.find_element(By.CSS_SELECTOR, \"css 셀렉터\"): 1개 요소 찾기\n",
    "* driver.find_elements(By.CSS_SELECTOR, \"css 셀렉터\"): 여러개 요소 찾기, list로 반환\n",
    "* driver.find_element(By.ID, \"id\"): html에서 id에 해당하는 태그 찾아줌\n",
    "* driver.find_element(By.LINK_TEXT, \"link에 포함된 문자\"): link에 포함된 문자 찾기\n",
    "* driver.find_element(By.PARTIAL_LINK_TEXT, \"link에 포함된 일부 문자\"): link에 포함된 일부 문자 찾기"
   ]
  },
  {
   "cell_type": "code",
   "execution_count": 33,
   "id": "206ea533",
   "metadata": {
    "scrolled": true
   },
   "outputs": [
    {
     "data": {
      "text/plain": [
       "'<span class=\"bookListItem_text__oxa7M\"><span>Do it! 점프 투 파이썬</span><span> (중학생도 첫날부터 실습하는 초고속 입문서)</span></span>'"
      ]
     },
     "execution_count": 33,
     "metadata": {},
     "output_type": "execute_result"
    }
   ],
   "source": [
    "# 찾은 태그 안쪽 html 출력 .get_attribute('innerHTML')\n",
    "driver.find_element(By.CSS_SELECTOR, \".bookListItem_title__1mWGq\").get_attribute('innerHTML').text"
   ]
  },
  {
   "cell_type": "code",
   "execution_count": 34,
   "id": "ee12d470",
   "metadata": {
    "scrolled": true
   },
   "outputs": [
    {
     "data": {
      "text/plain": [
       "'<div class=\"bookListItem_title__1mWGq\"><span class=\"bookListItem_text__oxa7M\"><span>Do it! 점프 투 파이썬</span><span> (중학생도 첫날부터 실습하는 초고속 입문서)</span></span></div>'"
      ]
     },
     "execution_count": 34,
     "metadata": {},
     "output_type": "execute_result"
    }
   ],
   "source": [
    "# 찾은 태그 안쪽 전체 html 출력 .get_attribute('outerHTML')\n",
    "driver.find_element(By.CSS_SELECTOR, \".bookListItem_title__1mWGq\").get_attribute('outerHTML')"
   ]
  },
  {
   "cell_type": "code",
   "execution_count": 35,
   "id": "143d363f",
   "metadata": {},
   "outputs": [
    {
     "data": {
      "text/plain": [
       "'Do it! 점프 투 파이썬 (중학생도 첫날부터 실습하는 초고속 입문서)'"
      ]
     },
     "execution_count": 35,
     "metadata": {},
     "output_type": "execute_result"
    }
   ],
   "source": [
    "# 책제목\n",
    "title = driver.find_element(By.CSS_SELECTOR, \".bookListItem_title__1mWGq\").text"
   ]
  },
  {
   "cell_type": "code",
   "execution_count": 39,
   "id": "abeb115f",
   "metadata": {},
   "outputs": [
    {
     "data": {
      "text/plain": [
       "'박응용'"
      ]
     },
     "execution_count": 39,
     "metadata": {},
     "output_type": "execute_result"
    }
   ],
   "source": [
    "# 저자\n",
    "author = driver.find_element(By.CSS_SELECTOR, \".bookListItem_define_item__jqcW8 > span:nth-child(2)\").text"
   ]
  },
  {
   "cell_type": "code",
   "execution_count": 43,
   "id": "580c6b14",
   "metadata": {},
   "outputs": [
    {
     "data": {
      "text/plain": [
       "'이지스퍼블리싱'"
      ]
     },
     "execution_count": 43,
     "metadata": {},
     "output_type": "execute_result"
    }
   ],
   "source": [
    "# 출판사\n",
    "publisher = driver.find_element(By.CSS_SELECTOR, \".bookListItem_detail_publish__SGgZN > span:nth-child(2)\").text\n",
    "publisher"
   ]
  },
  {
   "cell_type": "code",
   "execution_count": 47,
   "id": "9f401428",
   "metadata": {},
   "outputs": [],
   "source": [
    "# 출간일\n",
    "pub_date = driver.find_element(By.CSS_SELECTOR, \".bookListItem_detail_date__6_wYJ\").text"
   ]
  },
  {
   "cell_type": "code",
   "execution_count": 56,
   "id": "453cd4ec",
   "metadata": {},
   "outputs": [
    {
     "data": {
      "text/plain": [
       "'4.96'"
      ]
     },
     "execution_count": 56,
     "metadata": {},
     "output_type": "execute_result"
    }
   ],
   "source": [
    "# 평점\n",
    "rating = driver.find_element(By.CSS_SELECTOR, \".bookListItem_grade__e60mi\").text.split()[0][2:]\n",
    "rating"
   ]
  },
  {
   "cell_type": "code",
   "execution_count": 61,
   "id": "78696cb2",
   "metadata": {},
   "outputs": [
    {
     "data": {
      "text/plain": [
       "'84'"
      ]
     },
     "execution_count": 61,
     "metadata": {},
     "output_type": "execute_result"
    }
   ],
   "source": [
    "# 리뷰수\n",
    "n_reviews = driver.find_element(By.CSS_SELECTOR, \".bookListItem_grade__e60mi\").text.split()[1].replace(\"(\", \"\").replace(\")\", \"\")\n",
    "n_reviews"
   ]
  },
  {
   "cell_type": "code",
   "execution_count": 63,
   "id": "9717a2fd",
   "metadata": {
    "scrolled": true
   },
   "outputs": [
    {
     "data": {
      "text/plain": [
       "19800"
      ]
     },
     "execution_count": 63,
     "metadata": {},
     "output_type": "execute_result"
    }
   ],
   "source": [
    "# 가격\n",
    "price = int(driver.find_element(By.CSS_SELECTOR, \".bookPrice_price__Nv4Ee > em\").text.replace(\",\", \"\"))"
   ]
  },
  {
   "cell_type": "code",
   "execution_count": null,
   "id": "5d30b8c7",
   "metadata": {},
   "outputs": [],
   "source": []
  },
  {
   "cell_type": "code",
   "execution_count": 88,
   "id": "bc516eff",
   "metadata": {},
   "outputs": [
    {
     "data": {
      "text/html": [
       "<div>\n",
       "<style scoped>\n",
       "    .dataframe tbody tr th:only-of-type {\n",
       "        vertical-align: middle;\n",
       "    }\n",
       "\n",
       "    .dataframe tbody tr th {\n",
       "        vertical-align: top;\n",
       "    }\n",
       "\n",
       "    .dataframe thead th {\n",
       "        text-align: right;\n",
       "    }\n",
       "</style>\n",
       "<table border=\"1\" class=\"dataframe\">\n",
       "  <thead>\n",
       "    <tr style=\"text-align: right;\">\n",
       "      <th></th>\n",
       "      <th>책제목</th>\n",
       "      <th>저자</th>\n",
       "      <th>출판사</th>\n",
       "      <th>출간일</th>\n",
       "      <th>평점</th>\n",
       "      <th>리뷰수</th>\n",
       "      <th>가격</th>\n",
       "    </tr>\n",
       "  </thead>\n",
       "  <tbody>\n",
       "  </tbody>\n",
       "</table>\n",
       "</div>"
      ],
      "text/plain": [
       "Empty DataFrame\n",
       "Columns: [책제목, 저자, 출판사, 출간일, 평점, 리뷰수, 가격]\n",
       "Index: []"
      ]
     },
     "execution_count": 88,
     "metadata": {},
     "output_type": "execute_result"
    }
   ],
   "source": [
    "import pandas as pd\n",
    "from selenium import webdriver\n",
    "from selenium.webdriver.chrome.service import Service\n",
    "from selenium.webdriver.chrome.options import Options\n",
    "from webdriver_manager.chrome import ChromeDriverManager\n",
    "from selenium.webdriver.common.by import By\n",
    "from selenium.webdriver.common.keys import Keys\n",
    "\n",
    "# 웹브라우저를 실행 할 때 사용할 옵션 - 사람인 것처럼 정보 입력\n",
    "options = Options()\n",
    "options.add_experimental_option(\"detach\", True)\n",
    "options.add_argument(\"start-maximized\")\n",
    "options.add_argument(\"Chrome/135.0.0.0\")\n",
    "options.add_argument(\"lang=ko_KR\")\n",
    "\n",
    "driver = webdriver.Chrome(\n",
    "    service=Service(ChromeDriverManager().install()),\n",
    "    options=options\n",
    "    )\n",
    "\n",
    "# 웹브라우저에서 url d열기\n",
    "# driver.get(\"https://search.shopping.naver.com/book/search?bookTabType=ALL&pageIndex=1&pageSize=40&prevQuery=%EB%84%A4%EC%9D%B4%EB%B2%84%20%EB%8F%84%EC%84%9C&query=%ED%95%80%ED%85%8C%ED%81%AC&sort=REL\")\n",
    "\n",
    "# 책제목\n",
    "title = [title.text for title in driver.find_elements(By.CSS_SELECTOR, \".bookListItem_title__1mWGq\")]\n",
    "\n",
    "# 저자\n",
    "author = [author.text for author in driver.find_elements(By.CSS_SELECTOR, \".bookListItem_define_item__jqcW8 > span:nth-child(2)\")]\n",
    "\n",
    "# 출판사\n",
    "publisher = [publisher.text for publisher in driver.find_elements(By.CSS_SELECTOR, \".bookListItem_detail_publish__SGgZN > span:nth-child(2)\")]\n",
    "\n",
    "# 출간일\n",
    "pub_date = [pub_date.text for pub_date in driver.find_elements(By.CSS_SELECTOR, \".bookListItem_detail_date__6_wYJ\")]\n",
    "\n",
    "# 평점\n",
    "rating = [rating.text.split()[0][2:] for rating in driver.find_elements(By.CSS_SELECTOR, \".bookListItem_grade__e60mi\")]\n",
    "\n",
    "# 리뷰수\n",
    "n_reviews = [n_reviews.text.split()[1].replace(\"(\", \"\").replace(\")\", \"\") for n_reviews in driver.find_elements(By.CSS_SELECTOR, \".bookListItem_grade__e60mi\")]\n",
    "\n",
    "# 가격\n",
    "price = [int(price.text.replace(\",\", \"\")) for price in driver.find_elements(By.CSS_SELECTOR, \".bookPrice_price__Nv4Ee > em\")]\n",
    "\n",
    "result = dict(책제목=title, 저자=author, 출판사=publisher, 출간일=pub_date, 평점=rating, 리뷰수=n_reviews, 가격=price)\n",
    "\n",
    "df = pd.DataFrame(result)\n",
    "df"
   ]
  },
  {
   "cell_type": "code",
   "execution_count": 77,
   "id": "003b2b46",
   "metadata": {},
   "outputs": [
    {
     "data": {
      "text/plain": [
       "['핀테크 4.0 (핀테크 혁명과 금융의 미래)',\n",
       " '핀테크 4.0 (핀테크 혁명과 금융의 미래)',\n",
       " '핀테크',\n",
       " '핀테크 (IT와 금융이 만나는 새로운 세상)',\n",
       " '핀테크와 법 (제3판)',\n",
       " '핀테크 4.0 (핀테크 혁명과 금융의 미래)',\n",
       " '핀테크 4.0 (핀테크 혁명과 금융의 미래)',\n",
       " '핀테크 혁명 (모바일 은행 설립자가 알려주는 핀테크 시대의 돈 관리 기술)',\n",
       " '핀테크가 강한 나라 (석학 9인의 금융 플랫폼 미래 통찰)',\n",
       " '핀테크가 강한 나라 (석학 9인의 금융 플랫폼 미래 통찰)']"
      ]
     },
     "execution_count": 77,
     "metadata": {},
     "output_type": "execute_result"
    }
   ],
   "source": [
    "title"
   ]
  },
  {
   "cell_type": "code",
   "execution_count": 78,
   "id": "e3ca865b",
   "metadata": {},
   "outputs": [
    {
     "data": {
      "text/plain": [
       "['김종현',\n",
       " '김종현',\n",
       " '한석주',\n",
       " '강창호',\n",
       " '강현구, 유주선 외 1명',\n",
       " '김종현',\n",
       " '김종현',\n",
       " '앤 보덴',\n",
       " '강형구, 김솔 외 3명',\n",
       " '강형구, 김솔 외 3명']"
      ]
     },
     "execution_count": 78,
     "metadata": {},
     "output_type": "execute_result"
    }
   ],
   "source": [
    "author"
   ]
  },
  {
   "cell_type": "code",
   "execution_count": 79,
   "id": "40a1997d",
   "metadata": {},
   "outputs": [
    {
     "data": {
      "text/plain": [
       "['한국금융연수원',\n",
       " '한국금융연수원',\n",
       " '커뮤니케이션북스',\n",
       " '한빛미디어',\n",
       " '씨아이알',\n",
       " '한국금융연수원',\n",
       " '한국금융연수원',\n",
       " '유엑스리뷰',\n",
       " '한울',\n",
       " '한울아카데미']"
      ]
     },
     "execution_count": 79,
     "metadata": {},
     "output_type": "execute_result"
    }
   ],
   "source": [
    "publisher"
   ]
  },
  {
   "cell_type": "code",
   "execution_count": 80,
   "id": "12c66897",
   "metadata": {},
   "outputs": [
    {
     "data": {
      "text/plain": [
       "['2025.08.26.',\n",
       " '2024.12.16.',\n",
       " '2015.11.01.',\n",
       " '2015.06.05.',\n",
       " '2020.11.12.',\n",
       " '2020.08.05.',\n",
       " '2020.08.05.',\n",
       " '2020.03.03.',\n",
       " '2024.04.08.',\n",
       " '2024.04.08.']"
      ]
     },
     "execution_count": 80,
     "metadata": {},
     "output_type": "execute_result"
    }
   ],
   "source": [
    "pub_date"
   ]
  },
  {
   "cell_type": "code",
   "execution_count": 81,
   "id": "78979490",
   "metadata": {},
   "outputs": [
    {
     "data": {
      "text/plain": [
       "[]"
      ]
     },
     "execution_count": 81,
     "metadata": {},
     "output_type": "execute_result"
    }
   ],
   "source": [
    "rating"
   ]
  },
  {
   "cell_type": "code",
   "execution_count": 82,
   "id": "390e6c0d",
   "metadata": {},
   "outputs": [
    {
     "data": {
      "text/plain": [
       "[]"
      ]
     },
     "execution_count": 82,
     "metadata": {},
     "output_type": "execute_result"
    }
   ],
   "source": [
    "n_reviews"
   ]
  },
  {
   "cell_type": "code",
   "execution_count": 85,
   "id": "01b10393",
   "metadata": {},
   "outputs": [
    {
     "data": {
      "text/plain": [
       "[]"
      ]
     },
     "execution_count": 85,
     "metadata": {},
     "output_type": "execute_result"
    }
   ],
   "source": [
    "price"
   ]
  },
  {
   "cell_type": "code",
   "execution_count": null,
   "id": "487cd033",
   "metadata": {},
   "outputs": [],
   "source": []
  },
  {
   "cell_type": "code",
   "execution_count": null,
   "id": "98fe6866",
   "metadata": {},
   "outputs": [],
   "source": []
  }
 ],
 "metadata": {
  "kernelspec": {
   "display_name": "Python 3 (ipykernel)",
   "language": "python",
   "name": "python3"
  },
  "language_info": {
   "codemirror_mode": {
    "name": "ipython",
    "version": 3
   },
   "file_extension": ".py",
   "mimetype": "text/x-python",
   "name": "python",
   "nbconvert_exporter": "python",
   "pygments_lexer": "ipython3",
   "version": "3.9.23"
  }
 },
 "nbformat": 4,
 "nbformat_minor": 5
}
