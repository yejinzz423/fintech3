{
 "cells": [
  {
   "cell_type": "markdown",
   "id": "5957e001",
   "metadata": {},
   "source": [
    "# XML은 HTML 처럼 태그 기반으로 자료를 저장한 포멧\n",
    "* xml parser을 통해서 str을 xml로 변환하는 작업이 필요\n",
    "* xml로 변환이 되면 태그 기반으로 자료를 찾아서 정리\n",
    "* 태그에서 자료를 추출할 때는 beautifulsoup이라는 라이브러리를 이용"
   ]
  },
  {
   "cell_type": "markdown",
   "id": "632461f4",
   "metadata": {},
   "source": [
    "# 경기도 아파트 정보 xml로 추출하기"
   ]
  },
  {
   "cell_type": "code",
   "execution_count": 4,
   "id": "8ef1b5ec",
   "metadata": {},
   "outputs": [
    {
     "data": {
      "text/plain": [
       "False"
      ]
     },
     "execution_count": 4,
     "metadata": {},
     "output_type": "execute_result"
    }
   ],
   "source": [
    "import requests\n",
    "import pandas as pd\n",
    "from dotenv import load_dotenv\n",
    "import os\n",
    "import re\n",
    "load_dotenv(\"./naver_search_web/data/\")"
   ]
  },
  {
   "cell_type": "code",
   "execution_count": 5,
   "id": "72281491",
   "metadata": {},
   "outputs": [
    {
     "name": "stdout",
     "output_type": "stream",
     "text": [
      "https://openapi.gg.go.kr/TBGGDLNGPRCAPTTRDSRCM?Type=xml&pIndex=1&pSize=10\n",
      "200\n"
     ]
    },
    {
     "data": {
      "text/plain": [
       "'<?xml version=\"1.0\" encoding=\"UTF-8\"?>\\n\\n<TBGGDLNGPRCAPTTRDSRCM>\\n  <head>\\n    <list_total_count>134842</list_total_count>\\n    <RESULT>\\n      <CODE>INFO-000</CODE>\\n      <MESSAGE>정상 처리되었습니다.</MESSAGE>\\n    </RESULT>\\n    <api_version>1.0v</api_version>\\n  </head>\\n  <row>\\n    <NO>134904</NO>\\n    <REFINE_STATE_CD></REFINE_STATE_CD>\\n    <LOTNO_ADDR>996</LOTNO_ADDR>\\n    <LOTNO_ORIGNO>996</LOTNO_ORIGNO>\\n    <LOTNO_VICENO>0</LOTNO_VICENO>\\n    <HSCOMPLEX_NM>주공그린빌</HSCOMPLEX_NM>\\n    <PRVTUSE_AR>84.8</PRVTUSE_AR>\\n    <CONTRACT_YM>2018-01</CONTRACT_YM>\\n    <CONTRACT_DAY>1~10</CONTRACT_DAY>\\n    <DELNG_AMT>26900</DELNG_AMT>\\n    <FLOOR_NM>5</FLOOR_NM>\\n    <BUILD_YY>2003</BUILD_YY>\\n    <ROAD_NM>통일로802번길</ROAD_NM>\\n    <REFINE_CMPLT_YN></REFINE_CMPLT_YN>\\n    <CREAT_DE></CREAT_DE>\\n    <REFINE_LOTNO_ADDR></REFINE_LOTNO_ADDR>\\n    <REFINE_ROADNM_ADDR></REFINE_ROADNM_ADDR>\\n    <REFINE_ZIPNO></REFINE_ZIPNO>\\n    <REFINE_WGS84_LOGT></REFINE_WGS84_LOGT>\\n    <REFINE_WGS84_LAT></REFINE_WGS84_LAT>\\n    <REFINE_MANAGE_NO></REFINE_MANAGE_NO>\\n    <REFINE_RESLT_CD></REFINE_RESLT_CD>\\n    <REFINE_ADDR_DIV_CD></REFINE_ADDR_DIV_CD>\\n    <REFINE_SYS_DIV_CD></REFINE_SYS_DIV_CD>\\n    <REFINE_DTM></REFINE_DTM>\\n    <REFINE_NOADMIT_YN></REFINE_NOADMIT_YN>\\n    <ADDR>경기도 고양덕양구 관산동</ADDR>\\n  </row>\\n  <row>\\n    <NO>134905</NO>\\n    <REFINE_STATE_CD></REFINE_STATE_CD>\\n    <LOTNO_ADDR>996</LOTNO_ADDR>\\n    <LOTNO_ORIGNO>996</LOTNO_ORIGNO>\\n    <LOTNO_VICENO>0</LOTNO_VICENO>\\n    <HSCOMPLEX_NM>주공그린빌</HSCOMPLEX_NM>\\n    <PRVTUSE_AR>75.95</PRVTUSE_AR>\\n    <CONTRACT_YM>2018-01</CONTRACT_YM>\\n    <CONTRACT_DAY>11~20</CONTRACT_DAY>\\n    <DELNG_AMT>27000</DELNG_AMT>\\n    <FLOOR_NM>10</FLOOR_NM>\\n    <BUILD_YY>2003</BUILD_YY>\\n    <ROAD_NM>통일로802번길</ROAD_NM>\\n    <REFINE_CMPLT_YN></REFINE_CMPLT_YN>\\n    <CREAT_DE></CREAT_DE>\\n    <REFINE_LOTNO_ADDR></REFINE_LOTNO_ADDR>\\n    <REFINE_ROADNM_ADDR></REFINE_ROADNM_ADDR>\\n    <REFINE_ZIPNO></REFINE_ZIPNO>\\n    <REFINE_WGS84_LOGT></REFINE_WGS84_LOGT>\\n    <REFINE_WGS84_LAT></REFINE_WGS84_LAT>\\n    <REFINE_MANAGE_NO></REFINE_MANAGE_NO>\\n    <REFINE_RESLT_CD></REFINE_RESLT_CD>\\n    <REFINE_ADDR_DIV_CD></REFINE_ADDR_DIV_CD>\\n    <REFINE_SYS_DIV_CD></REFINE_SYS_DIV_CD>\\n    <REFINE_DTM></REFINE_DTM>\\n    <REFINE_NOADMIT_YN></REFINE_NOADMIT_YN>\\n    <ADDR>경기도 고양덕양구 관산동</ADDR>\\n  </row>\\n  <row>\\n    <NO>134906</NO>\\n    <REFINE_STATE_CD></REFINE_STATE_CD>\\n    <LOTNO_ADDR>996</LOTNO_ADDR>\\n    <LOTNO_ORIGNO>996</LOTNO_ORIGNO>\\n    <LOTNO_VICENO>0</LOTNO_VICENO>\\n    <HSCOMPLEX_NM>주공그린빌</HSCOMPLEX_NM>\\n    <PRVTUSE_AR>84.51</PRVTUSE_AR>\\n    <CONTRACT_YM>2018-01</CONTRACT_YM>\\n    <CONTRACT_DAY>11~20</CONTRACT_DAY>\\n    <DELNG_AMT>25500</DELNG_AMT>\\n    <FLOOR_NM>2</FLOOR_NM>\\n    <BUILD_YY>2003</BUILD_YY>\\n    <ROAD_NM>통일로802번길</ROAD_NM>\\n    <REFINE_CMPLT_YN></REFINE_CMPLT_YN>\\n    <CREAT_DE></CREAT_DE>\\n    <REFINE_LOTNO_ADDR></REFINE_LOTNO_ADDR>\\n    <REFINE_ROADNM_ADDR></REFINE_ROADNM_ADDR>\\n    <REFINE_ZIPNO></REFINE_ZIPNO>\\n    <REFINE_WGS84_LOGT></REFINE_WGS84_LOGT>\\n    <REFINE_WGS84_LAT></REFINE_WGS84_LAT>\\n    <REFINE_MANAGE_NO></REFINE_MANAGE_NO>\\n    <REFINE_RESLT_CD></REFINE_RESLT_CD>\\n    <REFINE_ADDR_DIV_CD></REFINE_ADDR_DIV_CD>\\n    <REFINE_SYS_DIV_CD></REFINE_SYS_DIV_CD>\\n    <REFINE_DTM></REFINE_DTM>\\n    <REFINE_NOADMIT_YN></REFINE_NOADMIT_YN>\\n    <ADDR>경기도 고양덕양구 관산동</ADDR>\\n  </row>\\n  <row>\\n    <NO>134907</NO>\\n    <REFINE_STATE_CD></REFINE_STATE_CD>\\n    <LOTNO_ADDR>996</LOTNO_ADDR>\\n    <LOTNO_ORIGNO>996</LOTNO_ORIGNO>\\n    <LOTNO_VICENO>0</LOTNO_VICENO>\\n    <HSCOMPLEX_NM>주공그린빌</HSCOMPLEX_NM>\\n    <PRVTUSE_AR>59.92</PRVTUSE_AR>\\n    <CONTRACT_YM>2018-01</CONTRACT_YM>\\n    <CONTRACT_DAY>11~20</CONTRACT_DAY>\\n    <DELNG_AMT>23700</DELNG_AMT>\\n    <FLOOR_NM>10</FLOOR_NM>\\n    <BUILD_YY>2003</BUILD_YY>\\n    <ROAD_NM>통일로802번길</ROAD_NM>\\n    <REFINE_CMPLT_YN></REFINE_CMPLT_YN>\\n    <CREAT_DE></CREAT_DE>\\n    <REFINE_LOTNO_ADDR></REFINE_LOTNO_ADDR>\\n    <REFINE_ROADNM_ADDR></REFINE_ROADNM_ADDR>\\n    <REFINE_ZIPNO></REFINE_ZIPNO>\\n    <REFINE_WGS84_LOGT></REFINE_WGS84_LOGT>\\n    <REFINE_WGS84_LAT></REFINE_WGS84_LAT>\\n    <REFINE_MANAGE_NO></REFINE_MANAGE_NO>\\n    <REFINE_RESLT_CD></REFINE_RESLT_CD>\\n    <REFINE_ADDR_DIV_CD></REFINE_ADDR_DIV_CD>\\n    <REFINE_SYS_DIV_CD></REFINE_SYS_DIV_CD>\\n    <REFINE_DTM></REFINE_DTM>\\n    <REFINE_NOADMIT_YN></REFINE_NOADMIT_YN>\\n    <ADDR>경기도 고양덕양구 관산동</ADDR>\\n  </row>\\n  <row>\\n    <NO>134908</NO>\\n    <REFINE_STATE_CD></REFINE_STATE_CD>\\n    <LOTNO_ADDR>996</LOTNO_ADDR>\\n    <LOTNO_ORIGNO>996</LOTNO_ORIGNO>\\n    <LOTNO_VICENO>0</LOTNO_VICENO>\\n    <HSCOMPLEX_NM>주공그린빌</HSCOMPLEX_NM>\\n    <PRVTUSE_AR>84.8</PRVTUSE_AR>\\n    <CONTRACT_YM>2018-01</CONTRACT_YM>\\n    <CONTRACT_DAY>11~20</CONTRACT_DAY>\\n    <DELNG_AMT>27450</DELNG_AMT>\\n    <FLOOR_NM>4</FLOOR_NM>\\n    <BUILD_YY>2003</BUILD_YY>\\n    <ROAD_NM>통일로802번길</ROAD_NM>\\n    <REFINE_CMPLT_YN></REFINE_CMPLT_YN>\\n    <CREAT_DE></CREAT_DE>\\n    <REFINE_LOTNO_ADDR></REFINE_LOTNO_ADDR>\\n    <REFINE_ROADNM_ADDR></REFINE_ROADNM_ADDR>\\n    <REFINE_ZIPNO></REFINE_ZIPNO>\\n    <REFINE_WGS84_LOGT></REFINE_WGS84_LOGT>\\n    <REFINE_WGS84_LAT></REFINE_WGS84_LAT>\\n    <REFINE_MANAGE_NO></REFINE_MANAGE_NO>\\n    <REFINE_RESLT_CD></REFINE_RESLT_CD>\\n    <REFINE_ADDR_DIV_CD></REFINE_ADDR_DIV_CD>\\n    <REFINE_SYS_DIV_CD></REFINE_SYS_DIV_CD>\\n    <REFINE_DTM></REFINE_DTM>\\n    <REFINE_NOADMIT_YN></REFINE_NOADMIT_YN>\\n    <ADDR>경기도 고양덕양구 관산동</ADDR>\\n  </row>\\n</TBGGDLNGPRCAPTTRDSRCM>\\n\\n'"
      ]
     },
     "execution_count": 5,
     "metadata": {},
     "output_type": "execute_result"
    }
   ],
   "source": [
    "url=\"https://openapi.gg.go.kr/TBGGDLNGPRCAPTTRDSRCM\"\n",
    "payload = dict(KEY=os.getenv(\"gg_api\"), Type=\"xml\", pIndex=1, pSize=10)\n",
    "r = requests.get(url, params=payload)\n",
    "print(r.url)\n",
    "print(r.status_code)\n",
    "response = r.text\n",
    "response"
   ]
  },
  {
   "cell_type": "code",
   "execution_count": null,
   "id": "991ef240",
   "metadata": {},
   "outputs": [],
   "source": [
    "print(type(response))"
   ]
  },
  {
   "cell_type": "markdown",
   "id": "df8c8e3b",
   "metadata": {},
   "source": [
    "* xml로 데이터를 받으면 처음에는 단순 문자열로 받게 됨\n",
    "* beautifulsoup을 이용해 xml로 변환후 select, select_one을 이용해 css 셀렉터 기반으로 데이터가 있는 위치를 찾아서 내용 추출\n",
    "* select: 해당 태그나 css를 문서에서 모두 찾아서 list로 반환\n",
    "* select_one: 해당 태그나 css를 문서에서 찾아서 가장 앞의 것 1개만 반환\n",
    "* find: 해당 태그를 찾아서 가장 앞의 것 1개만 반환\n",
    "* find_all: 해당 태그를 문서에서 모두 찾아서 list로 반환\n",
    "* 찾아온 태그.name: 태그 이름 반환\n",
    "* 찾아온 태그.text, .string: 태그 안쪽의 텍스트 반환"
   ]
  },
  {
   "cell_type": "code",
   "execution_count": null,
   "id": "e1f821b1",
   "metadata": {},
   "outputs": [],
   "source": [
    "from bs4 import BeautifulSoup as bs"
   ]
  },
  {
   "cell_type": "code",
   "execution_count": null,
   "id": "37d9c852",
   "metadata": {},
   "outputs": [],
   "source": [
    "soup = bs(response, 'xml')\n",
    "soup"
   ]
  },
  {
   "cell_type": "code",
   "execution_count": null,
   "id": "867e603f",
   "metadata": {},
   "outputs": [],
   "source": [
    "soup.select_one(\"list_total_count\").name"
   ]
  },
  {
   "cell_type": "code",
   "execution_count": null,
   "id": "572f8eac",
   "metadata": {},
   "outputs": [],
   "source": [
    "soup.select_one(\"list_total_count\").text"
   ]
  },
  {
   "cell_type": "code",
   "execution_count": null,
   "id": "7187b4ba",
   "metadata": {},
   "outputs": [],
   "source": [
    "soup.select_one(\"list_total_count\").string"
   ]
  },
  {
   "cell_type": "code",
   "execution_count": null,
   "id": "2bff0e86",
   "metadata": {},
   "outputs": [],
   "source": [
    "soup.select(\"row\")"
   ]
  },
  {
   "cell_type": "code",
   "execution_count": null,
   "id": "c277270c",
   "metadata": {},
   "outputs": [],
   "source": [
    "aparts = soup.select(\"row\")"
   ]
  },
  {
   "cell_type": "code",
   "execution_count": null,
   "id": "8136544b",
   "metadata": {},
   "outputs": [],
   "source": [
    "for apart in aparts[:2]:\n",
    "#    print(apart)\n",
    "    print(apart.select(\"NO\"))\n",
    "    print(type(apart.select(\"NO\")))\n",
    "    print(type(apart.select_one(\"NO\")))\n",
    "    print(apart.select_one(\"NO\").text)"
   ]
  },
  {
   "cell_type": "code",
   "execution_count": null,
   "id": "ab20d662",
   "metadata": {},
   "outputs": [],
   "source": [
    "aparts[0].name"
   ]
  },
  {
   "cell_type": "code",
   "execution_count": 6,
   "id": "f19ecab8",
   "metadata": {},
   "outputs": [],
   "source": [
    "cols = ['NO', 'LOTNO_ADDR', 'LOTNO_ORIGNO', 'LOTNO_VICENO',\n",
    "       'HSCOMPLEX_NM', 'PRVTUSE_AR', 'CONTRACT_YM', 'CONTRACT_DAY',\n",
    "       'DELNG_AMT', 'FLOOR_NM', 'BUILD_YY', 'ROAD_NM', 'ADDR']"
   ]
  },
  {
   "cell_type": "code",
   "execution_count": null,
   "id": "1e008e82",
   "metadata": {},
   "outputs": [],
   "source": [
    "key : []\n",
    "key2: []"
   ]
  },
  {
   "cell_type": "code",
   "execution_count": null,
   "id": "2fe2c52f",
   "metadata": {},
   "outputs": [],
   "source": [
    "aparts[0].select('NO')"
   ]
  },
  {
   "cell_type": "code",
   "execution_count": 9,
   "id": "57737a4b",
   "metadata": {},
   "outputs": [
    {
     "data": {
      "text/html": [
       "<div>\n",
       "<style scoped>\n",
       "    .dataframe tbody tr th:only-of-type {\n",
       "        vertical-align: middle;\n",
       "    }\n",
       "\n",
       "    .dataframe tbody tr th {\n",
       "        vertical-align: top;\n",
       "    }\n",
       "\n",
       "    .dataframe thead th {\n",
       "        text-align: right;\n",
       "    }\n",
       "</style>\n",
       "<table border=\"1\" class=\"dataframe\">\n",
       "  <thead>\n",
       "    <tr style=\"text-align: right;\">\n",
       "      <th></th>\n",
       "      <th>NO</th>\n",
       "      <th>LOTNO_ADDR</th>\n",
       "      <th>LOTNO_ORIGNO</th>\n",
       "      <th>LOTNO_VICENO</th>\n",
       "      <th>HSCOMPLEX_NM</th>\n",
       "      <th>PRVTUSE_AR</th>\n",
       "      <th>CONTRACT_YM</th>\n",
       "      <th>CONTRACT_DAY</th>\n",
       "      <th>DELNG_AMT</th>\n",
       "      <th>FLOOR_NM</th>\n",
       "      <th>BUILD_YY</th>\n",
       "      <th>ROAD_NM</th>\n",
       "      <th>ADDR</th>\n",
       "    </tr>\n",
       "  </thead>\n",
       "  <tbody>\n",
       "    <tr>\n",
       "      <th>0</th>\n",
       "      <td>134904</td>\n",
       "      <td>996</td>\n",
       "      <td>996</td>\n",
       "      <td>0</td>\n",
       "      <td>주공그린빌</td>\n",
       "      <td>84.8</td>\n",
       "      <td>2018-01</td>\n",
       "      <td>1~10</td>\n",
       "      <td>26900</td>\n",
       "      <td>5</td>\n",
       "      <td>2003</td>\n",
       "      <td>통일로802번길</td>\n",
       "      <td>경기도 고양덕양구 관산동</td>\n",
       "    </tr>\n",
       "    <tr>\n",
       "      <th>1</th>\n",
       "      <td>134905</td>\n",
       "      <td>996</td>\n",
       "      <td>996</td>\n",
       "      <td>0</td>\n",
       "      <td>주공그린빌</td>\n",
       "      <td>75.95</td>\n",
       "      <td>2018-01</td>\n",
       "      <td>11~20</td>\n",
       "      <td>27000</td>\n",
       "      <td>10</td>\n",
       "      <td>2003</td>\n",
       "      <td>통일로802번길</td>\n",
       "      <td>경기도 고양덕양구 관산동</td>\n",
       "    </tr>\n",
       "    <tr>\n",
       "      <th>2</th>\n",
       "      <td>134906</td>\n",
       "      <td>996</td>\n",
       "      <td>996</td>\n",
       "      <td>0</td>\n",
       "      <td>주공그린빌</td>\n",
       "      <td>84.51</td>\n",
       "      <td>2018-01</td>\n",
       "      <td>11~20</td>\n",
       "      <td>25500</td>\n",
       "      <td>2</td>\n",
       "      <td>2003</td>\n",
       "      <td>통일로802번길</td>\n",
       "      <td>경기도 고양덕양구 관산동</td>\n",
       "    </tr>\n",
       "    <tr>\n",
       "      <th>3</th>\n",
       "      <td>134907</td>\n",
       "      <td>996</td>\n",
       "      <td>996</td>\n",
       "      <td>0</td>\n",
       "      <td>주공그린빌</td>\n",
       "      <td>59.92</td>\n",
       "      <td>2018-01</td>\n",
       "      <td>11~20</td>\n",
       "      <td>23700</td>\n",
       "      <td>10</td>\n",
       "      <td>2003</td>\n",
       "      <td>통일로802번길</td>\n",
       "      <td>경기도 고양덕양구 관산동</td>\n",
       "    </tr>\n",
       "    <tr>\n",
       "      <th>4</th>\n",
       "      <td>134908</td>\n",
       "      <td>996</td>\n",
       "      <td>996</td>\n",
       "      <td>0</td>\n",
       "      <td>주공그린빌</td>\n",
       "      <td>84.8</td>\n",
       "      <td>2018-01</td>\n",
       "      <td>11~20</td>\n",
       "      <td>27450</td>\n",
       "      <td>4</td>\n",
       "      <td>2003</td>\n",
       "      <td>통일로802번길</td>\n",
       "      <td>경기도 고양덕양구 관산동</td>\n",
       "    </tr>\n",
       "  </tbody>\n",
       "</table>\n",
       "</div>"
      ],
      "text/plain": [
       "       NO LOTNO_ADDR LOTNO_ORIGNO LOTNO_VICENO HSCOMPLEX_NM PRVTUSE_AR  \\\n",
       "0  134904        996          996            0        주공그린빌       84.8   \n",
       "1  134905        996          996            0        주공그린빌      75.95   \n",
       "2  134906        996          996            0        주공그린빌      84.51   \n",
       "3  134907        996          996            0        주공그린빌      59.92   \n",
       "4  134908        996          996            0        주공그린빌       84.8   \n",
       "\n",
       "  CONTRACT_YM CONTRACT_DAY DELNG_AMT FLOOR_NM BUILD_YY   ROAD_NM  \\\n",
       "0     2018-01         1~10     26900        5     2003  통일로802번길   \n",
       "1     2018-01        11~20     27000       10     2003  통일로802번길   \n",
       "2     2018-01        11~20     25500        2     2003  통일로802번길   \n",
       "3     2018-01        11~20     23700       10     2003  통일로802번길   \n",
       "4     2018-01        11~20     27450        4     2003  통일로802번길   \n",
       "\n",
       "            ADDR  \n",
       "0  경기도 고양덕양구 관산동  \n",
       "1  경기도 고양덕양구 관산동  \n",
       "2  경기도 고양덕양구 관산동  \n",
       "3  경기도 고양덕양구 관산동  \n",
       "4  경기도 고양덕양구 관산동  "
      ]
     },
     "execution_count": 9,
     "metadata": {},
     "output_type": "execute_result"
    }
   ],
   "source": [
    "result = {}\n",
    "for key in cols:\n",
    "    temp = []\n",
    "    for value in soup.select(key):\n",
    "       # print(value.text)\n",
    "        temp.append(value.text)\n",
    "    result[key] = temp    \n",
    "\n",
    "result\n",
    "df = pd.DataFrame(result)\n",
    "df"
   ]
  },
  {
   "cell_type": "code",
   "execution_count": 10,
   "id": "64393b52",
   "metadata": {},
   "outputs": [
    {
     "data": {
      "text/html": [
       "<div>\n",
       "<style scoped>\n",
       "    .dataframe tbody tr th:only-of-type {\n",
       "        vertical-align: middle;\n",
       "    }\n",
       "\n",
       "    .dataframe tbody tr th {\n",
       "        vertical-align: top;\n",
       "    }\n",
       "\n",
       "    .dataframe thead th {\n",
       "        text-align: right;\n",
       "    }\n",
       "</style>\n",
       "<table border=\"1\" class=\"dataframe\">\n",
       "  <thead>\n",
       "    <tr style=\"text-align: right;\">\n",
       "      <th></th>\n",
       "      <th>NO</th>\n",
       "      <th>LOTNO_ADDR</th>\n",
       "      <th>LOTNO_ORIGNO</th>\n",
       "      <th>LOTNO_VICENO</th>\n",
       "      <th>HSCOMPLEX_NM</th>\n",
       "      <th>PRVTUSE_AR</th>\n",
       "      <th>CONTRACT_YM</th>\n",
       "      <th>CONTRACT_DAY</th>\n",
       "      <th>DELNG_AMT</th>\n",
       "      <th>FLOOR_NM</th>\n",
       "      <th>BUILD_YY</th>\n",
       "      <th>ROAD_NM</th>\n",
       "      <th>ADDR</th>\n",
       "    </tr>\n",
       "  </thead>\n",
       "  <tbody>\n",
       "    <tr>\n",
       "      <th>0</th>\n",
       "      <td>134904</td>\n",
       "      <td>996</td>\n",
       "      <td>996</td>\n",
       "      <td>0</td>\n",
       "      <td>주공그린빌</td>\n",
       "      <td>84.8</td>\n",
       "      <td>2018-01</td>\n",
       "      <td>1~10</td>\n",
       "      <td>26900</td>\n",
       "      <td>5</td>\n",
       "      <td>2003</td>\n",
       "      <td>통일로802번길</td>\n",
       "      <td>경기도 고양덕양구 관산동</td>\n",
       "    </tr>\n",
       "    <tr>\n",
       "      <th>1</th>\n",
       "      <td>134905</td>\n",
       "      <td>996</td>\n",
       "      <td>996</td>\n",
       "      <td>0</td>\n",
       "      <td>주공그린빌</td>\n",
       "      <td>75.95</td>\n",
       "      <td>2018-01</td>\n",
       "      <td>11~20</td>\n",
       "      <td>27000</td>\n",
       "      <td>10</td>\n",
       "      <td>2003</td>\n",
       "      <td>통일로802번길</td>\n",
       "      <td>경기도 고양덕양구 관산동</td>\n",
       "    </tr>\n",
       "    <tr>\n",
       "      <th>2</th>\n",
       "      <td>134906</td>\n",
       "      <td>996</td>\n",
       "      <td>996</td>\n",
       "      <td>0</td>\n",
       "      <td>주공그린빌</td>\n",
       "      <td>84.51</td>\n",
       "      <td>2018-01</td>\n",
       "      <td>11~20</td>\n",
       "      <td>25500</td>\n",
       "      <td>2</td>\n",
       "      <td>2003</td>\n",
       "      <td>통일로802번길</td>\n",
       "      <td>경기도 고양덕양구 관산동</td>\n",
       "    </tr>\n",
       "    <tr>\n",
       "      <th>3</th>\n",
       "      <td>134907</td>\n",
       "      <td>996</td>\n",
       "      <td>996</td>\n",
       "      <td>0</td>\n",
       "      <td>주공그린빌</td>\n",
       "      <td>59.92</td>\n",
       "      <td>2018-01</td>\n",
       "      <td>11~20</td>\n",
       "      <td>23700</td>\n",
       "      <td>10</td>\n",
       "      <td>2003</td>\n",
       "      <td>통일로802번길</td>\n",
       "      <td>경기도 고양덕양구 관산동</td>\n",
       "    </tr>\n",
       "    <tr>\n",
       "      <th>4</th>\n",
       "      <td>134908</td>\n",
       "      <td>996</td>\n",
       "      <td>996</td>\n",
       "      <td>0</td>\n",
       "      <td>주공그린빌</td>\n",
       "      <td>84.8</td>\n",
       "      <td>2018-01</td>\n",
       "      <td>11~20</td>\n",
       "      <td>27450</td>\n",
       "      <td>4</td>\n",
       "      <td>2003</td>\n",
       "      <td>통일로802번길</td>\n",
       "      <td>경기도 고양덕양구 관산동</td>\n",
       "    </tr>\n",
       "  </tbody>\n",
       "</table>\n",
       "</div>"
      ],
      "text/plain": [
       "       NO LOTNO_ADDR LOTNO_ORIGNO LOTNO_VICENO HSCOMPLEX_NM PRVTUSE_AR  \\\n",
       "0  134904        996          996            0        주공그린빌       84.8   \n",
       "1  134905        996          996            0        주공그린빌      75.95   \n",
       "2  134906        996          996            0        주공그린빌      84.51   \n",
       "3  134907        996          996            0        주공그린빌      59.92   \n",
       "4  134908        996          996            0        주공그린빌       84.8   \n",
       "\n",
       "  CONTRACT_YM CONTRACT_DAY DELNG_AMT FLOOR_NM BUILD_YY   ROAD_NM  \\\n",
       "0     2018-01         1~10     26900        5     2003  통일로802번길   \n",
       "1     2018-01        11~20     27000       10     2003  통일로802번길   \n",
       "2     2018-01        11~20     25500        2     2003  통일로802번길   \n",
       "3     2018-01        11~20     23700       10     2003  통일로802번길   \n",
       "4     2018-01        11~20     27450        4     2003  통일로802번길   \n",
       "\n",
       "            ADDR  \n",
       "0  경기도 고양덕양구 관산동  \n",
       "1  경기도 고양덕양구 관산동  \n",
       "2  경기도 고양덕양구 관산동  \n",
       "3  경기도 고양덕양구 관산동  \n",
       "4  경기도 고양덕양구 관산동  "
      ]
     },
     "execution_count": 10,
     "metadata": {},
     "output_type": "execute_result"
    }
   ],
   "source": [
    "result = {}\n",
    "for key in cols:\n",
    "    for value in soup.select(key):\n",
    "        result.setdefault(key, []).append(value.text)\n",
    "\n",
    "df = pd.DataFrame(result)\n",
    "df"
   ]
  },
  {
   "cell_type": "markdown",
   "id": "6d269c6e",
   "metadata": {},
   "source": [
    "# 전체 데이터 수집해서 csv 파일로 저장하기"
   ]
  },
  {
   "cell_type": "code",
   "execution_count": 7,
   "id": "79b2d18a",
   "metadata": {},
   "outputs": [
    {
     "data": {
      "text/plain": [
       "False"
      ]
     },
     "execution_count": 7,
     "metadata": {},
     "output_type": "execute_result"
    }
   ],
   "source": [
    "import requests\n",
    "import pandas as pd\n",
    "from bs4 import BeautifulSoup as bs\n",
    "from dotenv import load_dotenv\n",
    "import time\n",
    "import os\n",
    "import re\n",
    "load_dotenv(\"./naver_search_web/data/\")"
   ]
  },
  {
   "cell_type": "code",
   "execution_count": 8,
   "id": "c227375f",
   "metadata": {},
   "outputs": [
    {
     "name": "stdout",
     "output_type": "stream",
     "text": [
      "135/135수집중입니다\r"
     ]
    },
    {
     "data": {
      "text/html": [
       "<div>\n",
       "<style scoped>\n",
       "    .dataframe tbody tr th:only-of-type {\n",
       "        vertical-align: middle;\n",
       "    }\n",
       "\n",
       "    .dataframe tbody tr th {\n",
       "        vertical-align: top;\n",
       "    }\n",
       "\n",
       "    .dataframe thead th {\n",
       "        text-align: right;\n",
       "    }\n",
       "</style>\n",
       "<table border=\"1\" class=\"dataframe\">\n",
       "  <thead>\n",
       "    <tr style=\"text-align: right;\">\n",
       "      <th></th>\n",
       "      <th>NO</th>\n",
       "      <th>LOTNO_ADDR</th>\n",
       "      <th>LOTNO_ORIGNO</th>\n",
       "      <th>LOTNO_VICENO</th>\n",
       "      <th>HSCOMPLEX_NM</th>\n",
       "      <th>PRVTUSE_AR</th>\n",
       "      <th>CONTRACT_YM</th>\n",
       "      <th>CONTRACT_DAY</th>\n",
       "      <th>DELNG_AMT</th>\n",
       "      <th>FLOOR_NM</th>\n",
       "      <th>BUILD_YY</th>\n",
       "      <th>ROAD_NM</th>\n",
       "      <th>ADDR</th>\n",
       "    </tr>\n",
       "  </thead>\n",
       "  <tbody>\n",
       "    <tr>\n",
       "      <th>0</th>\n",
       "      <td>134904</td>\n",
       "      <td>996</td>\n",
       "      <td>996</td>\n",
       "      <td>0</td>\n",
       "      <td>주공그린빌</td>\n",
       "      <td>84.8</td>\n",
       "      <td>2018-01</td>\n",
       "      <td>1~10</td>\n",
       "      <td>26900</td>\n",
       "      <td>5</td>\n",
       "      <td>2003</td>\n",
       "      <td>통일로802번길</td>\n",
       "      <td>경기도 고양덕양구 관산동</td>\n",
       "    </tr>\n",
       "    <tr>\n",
       "      <th>1</th>\n",
       "      <td>134905</td>\n",
       "      <td>996</td>\n",
       "      <td>996</td>\n",
       "      <td>0</td>\n",
       "      <td>주공그린빌</td>\n",
       "      <td>75.95</td>\n",
       "      <td>2018-01</td>\n",
       "      <td>11~20</td>\n",
       "      <td>27000</td>\n",
       "      <td>10</td>\n",
       "      <td>2003</td>\n",
       "      <td>통일로802번길</td>\n",
       "      <td>경기도 고양덕양구 관산동</td>\n",
       "    </tr>\n",
       "    <tr>\n",
       "      <th>2</th>\n",
       "      <td>134906</td>\n",
       "      <td>996</td>\n",
       "      <td>996</td>\n",
       "      <td>0</td>\n",
       "      <td>주공그린빌</td>\n",
       "      <td>84.51</td>\n",
       "      <td>2018-01</td>\n",
       "      <td>11~20</td>\n",
       "      <td>25500</td>\n",
       "      <td>2</td>\n",
       "      <td>2003</td>\n",
       "      <td>통일로802번길</td>\n",
       "      <td>경기도 고양덕양구 관산동</td>\n",
       "    </tr>\n",
       "    <tr>\n",
       "      <th>3</th>\n",
       "      <td>134907</td>\n",
       "      <td>996</td>\n",
       "      <td>996</td>\n",
       "      <td>0</td>\n",
       "      <td>주공그린빌</td>\n",
       "      <td>59.92</td>\n",
       "      <td>2018-01</td>\n",
       "      <td>11~20</td>\n",
       "      <td>23700</td>\n",
       "      <td>10</td>\n",
       "      <td>2003</td>\n",
       "      <td>통일로802번길</td>\n",
       "      <td>경기도 고양덕양구 관산동</td>\n",
       "    </tr>\n",
       "    <tr>\n",
       "      <th>4</th>\n",
       "      <td>134908</td>\n",
       "      <td>996</td>\n",
       "      <td>996</td>\n",
       "      <td>0</td>\n",
       "      <td>주공그린빌</td>\n",
       "      <td>84.8</td>\n",
       "      <td>2018-01</td>\n",
       "      <td>11~20</td>\n",
       "      <td>27450</td>\n",
       "      <td>4</td>\n",
       "      <td>2003</td>\n",
       "      <td>통일로802번길</td>\n",
       "      <td>경기도 고양덕양구 관산동</td>\n",
       "    </tr>\n",
       "  </tbody>\n",
       "</table>\n",
       "</div>"
      ],
      "text/plain": [
       "       NO LOTNO_ADDR LOTNO_ORIGNO LOTNO_VICENO HSCOMPLEX_NM PRVTUSE_AR  \\\n",
       "0  134904        996          996            0        주공그린빌       84.8   \n",
       "1  134905        996          996            0        주공그린빌      75.95   \n",
       "2  134906        996          996            0        주공그린빌      84.51   \n",
       "3  134907        996          996            0        주공그린빌      59.92   \n",
       "4  134908        996          996            0        주공그린빌       84.8   \n",
       "\n",
       "  CONTRACT_YM CONTRACT_DAY DELNG_AMT FLOOR_NM BUILD_YY   ROAD_NM  \\\n",
       "0     2018-01         1~10     26900        5     2003  통일로802번길   \n",
       "1     2018-01        11~20     27000       10     2003  통일로802번길   \n",
       "2     2018-01        11~20     25500        2     2003  통일로802번길   \n",
       "3     2018-01        11~20     23700       10     2003  통일로802번길   \n",
       "4     2018-01        11~20     27450        4     2003  통일로802번길   \n",
       "\n",
       "            ADDR  \n",
       "0  경기도 고양덕양구 관산동  \n",
       "1  경기도 고양덕양구 관산동  \n",
       "2  경기도 고양덕양구 관산동  \n",
       "3  경기도 고양덕양구 관산동  \n",
       "4  경기도 고양덕양구 관산동  "
      ]
     },
     "execution_count": 8,
     "metadata": {},
     "output_type": "execute_result"
    }
   ],
   "source": [
    "page_num = 1\n",
    "total_page = 1\n",
    "result = {}\n",
    "\n",
    "while page_num <= total_page:\n",
    "    url=\"https://openapi.gg.go.kr/TBGGDLNGPRCAPTTRDSRCM\"\n",
    "    payload = dict(KEY=os.getenv(\"gg_api\"), Type=\"xml\", pIndex=page_num, pSize=1000)\n",
    "    r = requests.get(url, params=payload)\n",
    "    #print(r.url)\n",
    "    #print(r.status_code)\n",
    "    response = r.text\n",
    "    soup = bs(response, 'xml')\n",
    "\n",
    "    total_page=int(soup.select_one(\"list_total_count\").text) // 1000 +1\n",
    "\n",
    "    result = {}\n",
    "    for key in cols:\n",
    "        for value in soup.select(key):\n",
    "            result.setdefault(key, []).append(value.text)\n",
    "    print(f\"{page_num}/{total_page}수집중입니다\", end=\"\\r\")\n",
    "    page_num += 1\n",
    "    \n",
    "    time.sleep(0.2)\n",
    "\n",
    "df = pd.DataFrame(result)\n",
    "df"
   ]
  },
  {
   "cell_type": "code",
   "execution_count": null,
   "id": "85bcb2a8",
   "metadata": {},
   "outputs": [],
   "source": []
  },
  {
   "cell_type": "code",
   "execution_count": null,
   "id": "c231711d",
   "metadata": {},
   "outputs": [],
   "source": []
  },
  {
   "cell_type": "code",
   "execution_count": null,
   "id": "a77b11ab",
   "metadata": {},
   "outputs": [],
   "source": []
  },
  {
   "cell_type": "code",
   "execution_count": null,
   "id": "44633f46",
   "metadata": {},
   "outputs": [],
   "source": []
  }
 ],
 "metadata": {
  "kernelspec": {
   "display_name": "Python 3 (ipykernel)",
   "language": "python",
   "name": "python3"
  },
  "language_info": {
   "codemirror_mode": {
    "name": "ipython",
    "version": 3
   },
   "file_extension": ".py",
   "mimetype": "text/x-python",
   "name": "python",
   "nbconvert_exporter": "python",
   "pygments_lexer": "ipython3",
   "version": "3.9.23"
  }
 },
 "nbformat": 4,
 "nbformat_minor": 5
}
