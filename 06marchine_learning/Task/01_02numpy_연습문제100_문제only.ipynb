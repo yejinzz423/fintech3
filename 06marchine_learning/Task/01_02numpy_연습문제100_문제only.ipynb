{
 "cells": [
  {
   "cell_type": "markdown",
   "id": "72616dae",
   "metadata": {},
   "source": [
    "# NumPy 연습문제 100 (문제만)\n",
    "직접 코드를 작성하여 출력 결과를 확인해 보세요. 각 문제마다 새로운 코드 셀을 만들어 풀이해 보세요.\n"
   ]
  },
  {
   "cell_type": "markdown",
   "id": "d5bfba19",
   "metadata": {},
   "source": [
    "## 문제 1\n",
    "1. numpy를 np 라는 별칭으로 임포트하고, 정수 10 하나만 담긴 0차원 배열 a를 만들어서 a, a.ndim, a.shape 를 출력하세요.\n",
    "\n",
    "```python\n",
    "10\n",
    "0\n",
    "()\n",
    "```"
   ]
  },
  {
   "cell_type": "code",
   "execution_count": null,
   "id": "aa259fec",
   "metadata": {},
   "outputs": [],
   "source": []
  },
  {
   "cell_type": "markdown",
   "id": "e7e7e3c7",
   "metadata": {},
   "source": [
    "## 문제 2\n",
    "2. [1,2,3,4,5] 리스트로부터 1차원 ndarray arr 를 만들고, arr의 dtype 과 size를 출력하세요.\n",
    "```python\n",
    "int64\n",
    "5\n",
    "```\n",
    "아래 빈 코드 셀에 직접 코드를 작성해보세요."
   ]
  },
  {
   "cell_type": "code",
   "execution_count": null,
   "id": "c3aaddc8",
   "metadata": {},
   "outputs": [],
   "source": []
  },
  {
   "cell_type": "markdown",
   "id": "cf26ec5b",
   "metadata": {},
   "source": [
    "## 문제 3\n",
    "3. 파이썬 리스트 [[1,2,3],[4,5,6]] 로부터 2행 3열 배열 m 을 만들고 m.ndim 과 m.shape 를 출력하세요.\n",
    "```python\n",
    "2\n",
    "(2, 3)\n",
    "```\n",
    "아래 빈 코드 셀에 직접 코드를 작성해보세요."
   ]
  },
  {
   "cell_type": "code",
   "execution_count": null,
   "id": "58551a00",
   "metadata": {},
   "outputs": [],
   "source": []
  },
  {
   "cell_type": "markdown",
   "id": "313a8e8e",
   "metadata": {},
   "source": [
    "## 문제 4\n",
    "4. np.array() 로 문자열과 정수를 섞어 넣으면 모두 문자열로 변환됩니다. ['1',2,'3'] 로 배열 x 를 만들고 x, x.dtype 를 출력하세요.\n",
    "```python\n",
    "['1' '2' '3']\n",
    "<U21\n",
    "```\n",
    "아래 빈 코드 셀에 직접 코드를 작성해보세요."
   ]
  },
  {
   "cell_type": "code",
   "execution_count": null,
   "id": "2eb8375f",
   "metadata": {},
   "outputs": [],
   "source": []
  },
  {
   "cell_type": "markdown",
   "id": "b01b3461",
   "metadata": {},
   "source": [
    "## 문제 5\n",
    "5. np.arange 를 이용해 0부터 9까지 담긴 배열 r 을 만들고 r 과 r.shape 를 출력하세요.\n",
    "```python\n",
    "[0 1 2 3 4 5 6 7 8 9]\n",
    "(10,)\n",
    "```\n",
    "아래 빈 코드 셀에 직접 코드를 작성해보세요."
   ]
  },
  {
   "cell_type": "code",
   "execution_count": null,
   "id": "38c3822e",
   "metadata": {},
   "outputs": [],
   "source": []
  },
  {
   "cell_type": "markdown",
   "id": "bff3fd2e",
   "metadata": {},
   "source": [
    "## 문제 6\n",
    "6. np.arange 를 이용해 1부터 10까지 2씩 증가하는 배열 r2 를 만들고 r2 를 출력하세요.\n",
    "```python\n",
    "[1 3 5 7 9]\n",
    "```\n",
    "아래 빈 코드 셀에 직접 코드를 작성해보세요."
   ]
  },
  {
   "cell_type": "code",
   "execution_count": null,
   "id": "bd31516b",
   "metadata": {},
   "outputs": [],
   "source": []
  },
  {
   "cell_type": "markdown",
   "id": "26282076",
   "metadata": {},
   "source": [
    "## 문제 7\n",
    "7. 12개의 원소(0~11)를 가진 배열을 만든 뒤, reshape 로 3행 4열 matrix m 을 만들고 m 과 m.shape 를 출력하세요.\n",
    "```python\n",
    "[[ 0  1  2  3]\n",
    " [ 4  5  6  7]\n",
    " [ 8  9 10 11]]\n",
    "(3, 4)\n",
    "```\n",
    "아래 빈 코드 셀에 직접 코드를 작성해보세요."
   ]
  },
  {
   "cell_type": "code",
   "execution_count": null,
   "id": "5999dde8",
   "metadata": {},
   "outputs": [],
   "source": []
  },
  {
   "cell_type": "markdown",
   "id": "9ef59d67",
   "metadata": {},
   "source": [
    "## 문제 8\n",
    "8. 문제7에서 만든 m 을 다시 4행 3열로 바꾼 m2 를 만들어서 m2.shape 를 출력하세요.\n",
    "```python\n",
    "(4, 3)\n",
    "```\n",
    "아래 빈 코드 셀에 직접 코드를 작성해보세요."
   ]
  },
  {
   "cell_type": "code",
   "execution_count": null,
   "id": "bc337775",
   "metadata": {},
   "outputs": [],
   "source": []
  },
  {
   "cell_type": "markdown",
   "id": "7b59e113",
   "metadata": {},
   "source": [
    "## 문제 9\n",
    "9. 2행 2열 배열 [[1,2],[3,4]] 를 만들고, flatten() 으로 1차원으로 펴서 결과를 출력하세요.\n",
    "```python\n",
    "[1 2 3 4]\n",
    "```\n",
    "아래 빈 코드 셀에 직접 코드를 작성해보세요."
   ]
  },
  {
   "cell_type": "code",
   "execution_count": null,
   "id": "f7f324fd",
   "metadata": {},
   "outputs": [],
   "source": []
  },
  {
   "cell_type": "markdown",
   "id": "0b4d73f1",
   "metadata": {},
   "source": [
    "## 문제 10\n",
    "10. np.linspace 를 사용해 0부터 1까지를 '5개의 구간'으로 균등하게 나눈 배열 lin 을 만들고 lin 을 출력하세요.\n",
    "```python\n",
    "[0.   0.25 0.5  0.75 1.  ]\n",
    "```\n",
    "아래 빈 코드 셀에 직접 코드를 작성해보세요."
   ]
  },
  {
   "cell_type": "code",
   "execution_count": null,
   "id": "8218ccf5",
   "metadata": {},
   "outputs": [],
   "source": []
  },
  {
   "cell_type": "markdown",
   "id": "e8945967",
   "metadata": {},
   "source": [
    "## 문제 11\n",
    "11. 0~9 배열 a 에서 첫 번째 원소, 마지막 원소, 앞에서 3개만 슬라이싱해서 각각 출력하세요.\n",
    "```python\n",
    "0\n",
    "9\n",
    "[0 1 2]\n",
    "```\n",
    "아래 빈 코드 셀에 직접 코드를 작성해보세요."
   ]
  },
  {
   "cell_type": "code",
   "execution_count": null,
   "id": "2300e791",
   "metadata": {},
   "outputs": [],
   "source": []
  },
  {
   "cell_type": "markdown",
   "id": "aa68f001",
   "metadata": {},
   "source": [
    "## 문제 12\n",
    "12. 3행4열 배열 b = np.arange(12).reshape(3,4) 에서 첫 행만 출력하고, 마지막 열만 출력하세요.\n",
    "```\n",
    "[0 1 2 3]\n",
    "[ 3  7 11]\n",
    "```\n",
    "아래 빈 코드 셀에 직접 코드를 작성해보세요."
   ]
  },
  {
   "cell_type": "code",
   "execution_count": null,
   "id": "72e9de20",
   "metadata": {},
   "outputs": [],
   "source": []
  },
  {
   "cell_type": "markdown",
   "id": "b842c6a0",
   "metadata": {},
   "source": [
    "## 문제 13\n",
    "13. 문제12의 b 에서 가운데 행(인덱스1)과 열0~1만 남긴 작은 배열 sub 를 만들고 sub 를 출력하세요.\n",
    "```python\n",
    "[4 5]\n",
    "```\n",
    "아래 빈 코드 셀에 직접 코드를 작성해보세요."
   ]
  },
  {
   "cell_type": "code",
   "execution_count": null,
   "id": "00bd03fb",
   "metadata": {},
   "outputs": [],
   "source": []
  },
  {
   "cell_type": "markdown",
   "id": "5609534a",
   "metadata": {},
   "source": [
    "## 문제 14\n",
    "14. 5행5열 배열 c = np.arange(25).reshape(5,5) 에서 대각선 원소들(0,0),(1,1),... 만 골라서 diag 라는 1차원 배열로 만들고 출력하세요.\n",
    "```python\n",
    "[ 0  6 12 18 24]\n",
    "```\n",
    "아래 빈 코드 셀에 직접 코드를 작성해보세요."
   ]
  },
  {
   "cell_type": "code",
   "execution_count": null,
   "id": "969050b6",
   "metadata": {},
   "outputs": [],
   "source": []
  },
  {
   "cell_type": "markdown",
   "id": "887d21b2",
   "metadata": {},
   "source": [
    "## 문제 15\n",
    "15. 4행3열 배열 d 를 0~11 로 채운 뒤, 마지막 두 행만 잘라서 d_tail 로 저장하고 출력하세요.\n",
    "```python\n",
    "[[ 6  7  8]\n",
    " [ 9 10 11]]\n",
    "```\n",
    "아래 빈 코드 셀에 직접 코드를 작성해보세요."
   ]
  },
  {
   "cell_type": "code",
   "execution_count": null,
   "id": "50dc16ba",
   "metadata": {},
   "outputs": [],
   "source": []
  },
  {
   "cell_type": "markdown",
   "id": "8ae5925d",
   "metadata": {},
   "source": [
    "## 문제 16\n",
    "16. 1차원 배열 arr = np.array([10,20,30,40,50]) 에서 [10,30,50]만 골라서 new_arr 에 담아 출력하세요. (인덱스 사용)\n",
    "```python\n",
    "[10 30 50]\n",
    "```\n",
    "아래 빈 코드 셀에 직접 코드를 작성해보세요."
   ]
  },
  {
   "cell_type": "code",
   "execution_count": null,
   "id": "30d12c2e",
   "metadata": {},
   "outputs": [],
   "source": []
  },
  {
   "cell_type": "markdown",
   "id": "1591a1b1",
   "metadata": {},
   "source": [
    "## 문제 17\n",
    "17. 2차원 배열 e = np.arange(16).reshape(4,4) 에서 (0,1),(1,2),(2,3) 위치의 값만 골라서 picked 로 저장하고 출력하세요.\n",
    "```python\n",
    "[ 1  6 11]\n",
    "```\n",
    "아래 빈 코드 셀에 직접 코드를 작성해보세요."
   ]
  },
  {
   "cell_type": "code",
   "execution_count": null,
   "id": "a48e1049",
   "metadata": {},
   "outputs": [],
   "source": []
  },
  {
   "cell_type": "markdown",
   "id": "bda8f13b",
   "metadata": {},
   "source": [
    "## 문제 18\n",
    "18. 문제17의 e 에서 짝수 인덱스 행(0,2행)과 홀수 인덱스 열(1,3열)만 남긴 sub2 를 만들고 출력하세요.\n",
    "```python\n",
    "[[ 1  3]\n",
    " [ 9 11]]\n",
    "```\n",
    "아래 빈 코드 셀에 직접 코드를 작성해보세요."
   ]
  },
  {
   "cell_type": "code",
   "execution_count": null,
   "id": "405fd12c",
   "metadata": {},
   "outputs": [],
   "source": []
  },
  {
   "cell_type": "markdown",
   "id": "ab82529a",
   "metadata": {},
   "source": [
    "## 문제 19\n",
    "19. 1차원 배열 x = np.array([3,6,9,12,15,18]) 에서 값이 10보다 큰 값들만 골라서 출력하세요. (불리언 인덱싱)\n",
    "```python\n",
    "[12 15 18]\n",
    "```\n",
    "아래 빈 코드 셀에 직접 코드를 작성해보세요."
   ]
  },
  {
   "cell_type": "code",
   "execution_count": null,
   "id": "eb4c285b",
   "metadata": {},
   "outputs": [],
   "source": []
  },
  {
   "cell_type": "markdown",
   "id": "a6f91bbc",
   "metadata": {},
   "source": [
    "## 문제 20\n",
    "20. 0~11 배열을 3x4로 만든 arr2D 에서 값이 짝수인 원소만 골라서 even_only 에 담아 출력하세요.\n",
    "```phton\n",
    "[ 0  2  4  6  8 10]\n",
    "```\n",
    "아래 빈 코드 셀에 직접 코드를 작성해보세요."
   ]
  },
  {
   "cell_type": "code",
   "execution_count": null,
   "id": "02679511",
   "metadata": {},
   "outputs": [],
   "source": []
  },
  {
   "cell_type": "markdown",
   "id": "8e0ed1f3",
   "metadata": {},
   "source": [
    "## 문제 21\n",
    "21. np.arange(5) 로 만든 v 에 10을 더한 결과를 출력하세요. (브로드캐스팅)\n",
    "```python\n",
    "[10 11 12 13 14]\n",
    "```\n",
    "아래 빈 코드 셀에 직접 코드를 작성해보세요."
   ]
  },
  {
   "cell_type": "code",
   "execution_count": null,
   "id": "694f7291",
   "metadata": {},
   "outputs": [],
   "source": []
  },
  {
   "cell_type": "markdown",
   "id": "53d3d082",
   "metadata": {},
   "source": [
    "## 문제 22\n",
    "22. 2x3 배열 A 와 1x3 배열 B 를 만들어 A+B 를 출력하세요. 예: A는 0~5 reshape(2,3), B는 [10,10,10]\n",
    "```python\n",
    "[[10 11 12]\n",
    " [13 14 15]]\n",
    "```\n",
    "아래 빈 코드 셀에 직접 코드를 작성해보세요."
   ]
  },
  {
   "cell_type": "code",
   "execution_count": null,
   "id": "bcf1ed2a",
   "metadata": {},
   "outputs": [],
   "source": []
  },
  {
   "cell_type": "markdown",
   "id": "5e8a2ddd",
   "metadata": {},
   "source": [
    "## 문제 23\n",
    "23. 2x3 배열 A 에서 각 행의 합( axis=1 )과 각 열의 합( axis=0 )을 각각 출력하세요.\n",
    "```python\n",
    "[ 3 12]\n",
    "[3 5 7]\n",
    "```\n",
    "아래 빈 코드 셀에 직접 코드를 작성해보세요."
   ]
  },
  {
   "cell_type": "code",
   "execution_count": null,
   "id": "a6c94a4d",
   "metadata": {},
   "outputs": [],
   "source": []
  },
  {
   "cell_type": "markdown",
   "id": "bb28c8d6",
   "metadata": {},
   "source": [
    "## 문제 24\n",
    "24. 3x3 배열 M = np.arange(9).reshape(3,3) 에서 전체 평균값과, axis=0 평균값을 출력하세요.\n",
    "```python\n",
    "4.0\n",
    "[3. 4. 5.]\n",
    "```\n",
    "아래 빈 코드 셀에 직접 코드를 작성해보세요."
   ]
  },
  {
   "cell_type": "code",
   "execution_count": null,
   "id": "b315a586",
   "metadata": {},
   "outputs": [],
   "source": []
  },
  {
   "cell_type": "markdown",
   "id": "f5767503",
   "metadata": {},
   "source": [
    "## 문제 25\n",
    "25. np.where 를 사용해 1차원 배열 data = np.array([5,-2,7,-9,0]) 에서 음수는 0, 양수는 그대로 유지한 cleaned 를 만들어 출력하세요.\n",
    "```python\n",
    "[5 0 7 0 0]\n",
    "```\n",
    "아래 빈 코드 셀에 직접 코드를 작성해보세요."
   ]
  },
  {
   "cell_type": "code",
   "execution_count": null,
   "id": "e90b45c5",
   "metadata": {},
   "outputs": [],
   "source": []
  },
  {
   "cell_type": "markdown",
   "id": "52cfa357",
   "metadata": {},
   "source": [
    "## 문제 26\n",
    "26. np.where 를 사용해 arr = np.arange(10) 에서 짝수면 'even', 홀수면 'odd' 라는 문자열 배열 label 을 만들어 출력하세요.\n",
    "```python\n",
    "['even' 'odd' 'even' 'odd' 'even' 'odd' 'even' 'odd' 'even' 'odd']\n",
    "```\n",
    "아래 빈 코드 셀에 직접 코드를 작성해보세요."
   ]
  },
  {
   "cell_type": "code",
   "execution_count": null,
   "id": "d556ea97",
   "metadata": {},
   "outputs": [],
   "source": []
  },
  {
   "cell_type": "markdown",
   "id": "f8f2ffea",
   "metadata": {},
   "source": [
    "## 문제 27\n",
    "27. 2x2 배열 X = [[1,2],[3,4]] 와 Y = [[10,20],[30,40]] 를 만들어 X+Y, X*Y (원소별 곱) 을 각각 출력하세요.\n",
    "```python\n",
    "[[11 22]\n",
    " [33 44]]\n",
    "[[ 10  40]\n",
    " [ 90 160]]\n",
    "```\n",
    "아래 빈 코드 셀에 직접 코드를 작성해보세요."
   ]
  },
  {
   "cell_type": "code",
   "execution_count": null,
   "id": "5ccdf5f4",
   "metadata": {},
   "outputs": [],
   "source": []
  },
  {
   "cell_type": "markdown",
   "id": "107b8698",
   "metadata": {},
   "source": [
    "## 문제 28\n",
    "28. 문제27의 X 와 Y 에서 행렬 곱( @ 연산자 ) 결과도 출력하세요.\n",
    "```python\n",
    "[[ 70 100]\n",
    " [150 220]]\n",
    "```\n",
    "아래 빈 코드 셀에 직접 코드를 작성해보세요."
   ]
  },
  {
   "cell_type": "code",
   "execution_count": null,
   "id": "466a03d4",
   "metadata": {},
   "outputs": [],
   "source": []
  },
  {
   "cell_type": "markdown",
   "id": "dc7f357f",
   "metadata": {},
   "source": [
    "## 문제 29\n",
    "29. 실수 배열 f = np.array([1.2, 3.7, 4.5]) 를 정수형(int)으로 변환한 g 를 만들고 g 와 g.dtype 을 출력하세요.\n",
    "```python\n",
    "[1 3 4]\n",
    "int64\n",
    "```\n",
    "아래 빈 코드 셀에 직접 코드를 작성해보세요."
   ]
  },
  {
   "cell_type": "code",
   "execution_count": null,
   "id": "356dc84a",
   "metadata": {},
   "outputs": [],
   "source": []
  },
  {
   "cell_type": "markdown",
   "id": "09786c27",
   "metadata": {},
   "source": [
    "## 문제 30\n",
    "30. 1차원 배열 z = np.array([0,0,1,1,1,2,2,3]) 에서 고유값(중복제거)만 뽑아 unique_vals 에 저장하고 출력하세요. (np.unique)\n",
    "```python\n",
    "[0 1 2 3]\n",
    "```\n",
    "아래 빈 코드 셀에 직접 코드를 작성해보세요."
   ]
  },
  {
   "cell_type": "code",
   "execution_count": null,
   "id": "6a494eda",
   "metadata": {},
   "outputs": [],
   "source": []
  },
  {
   "cell_type": "markdown",
   "id": "0c66c047",
   "metadata": {},
   "source": [
    "## 문제 31\n",
    "31. 배열 s = np.array([5,1,9,3]) 를 오름차순 정렬한 결과를 출력하세요. (np.sort 사용)\n",
    "```python\n",
    "[1 3 5 9]\n",
    "```\n",
    "아래 빈 코드 셀에 직접 코드를 작성해보세요."
   ]
  },
  {
   "cell_type": "code",
   "execution_count": null,
   "id": "4cc2e061",
   "metadata": {},
   "outputs": [],
   "source": []
  },
  {
   "cell_type": "markdown",
   "id": "52c7389b",
   "metadata": {},
   "source": [
    "## 문제 32\n",
    "32. 문제31의 s 를 정렬했을 때의 인덱스 순서를 args 라고 할 때, np.argsort 로 args 를 구하고 출력하세요.\n",
    "```python\n",
    "[1 3 0 2]\n",
    "```\n",
    "아래 빈 코드 셀에 직접 코드를 작성해보세요."
   ]
  },
  {
   "cell_type": "code",
   "execution_count": null,
   "id": "4ef223e8",
   "metadata": {},
   "outputs": [],
   "source": []
  },
  {
   "cell_type": "markdown",
   "id": "ba3dfbc7",
   "metadata": {},
   "source": [
    "## 문제 33\n",
    "33. 2차원 배열 arr2 = np.array([[3,1],[2,4]]) 에서 각 행을 기준으로 정렬한 결과를 출력하세요. (np.sort(arr2, axis=1))\n",
    "```python\n",
    "[[1 3]\n",
    " [2 4]]\n",
    "```\n",
    "아래 빈 코드 셀에 직접 코드를 작성해보세요."
   ]
  },
  {
   "cell_type": "code",
   "execution_count": null,
   "id": "c59953f8",
   "metadata": {},
   "outputs": [],
   "source": []
  },
  {
   "cell_type": "markdown",
   "id": "f966a916",
   "metadata": {},
   "source": [
    "## 문제 34\n",
    "34. arr2(문제33)에서 각 열을 기준으로 오름차순 정렬한 결과를 출력하세요. (axis=0)\n",
    "```python\n",
    "[[2 1]\n",
    " [3 4]]\n",
    "```\n",
    "아래 빈 코드 셀에 직접 코드를 작성해보세요."
   ]
  },
  {
   "cell_type": "code",
   "execution_count": null,
   "id": "71c9586e",
   "metadata": {},
   "outputs": [],
   "source": []
  },
  {
   "cell_type": "markdown",
   "id": "5ead406d",
   "metadata": {},
   "source": [
    "## 문제 35\n",
    "35. 1차원 배열 w = np.array([10,40,20,30]) 에서 가장 큰 값의 인덱스를 np.argmax 로 구해 출력하세요.\n",
    "```python\n",
    "1\n",
    "```\n",
    "아래 빈 코드 셀에 직접 코드를 작성해보세요."
   ]
  },
  {
   "cell_type": "code",
   "execution_count": null,
   "id": "e78f5d31",
   "metadata": {},
   "outputs": [],
   "source": []
  },
  {
   "cell_type": "markdown",
   "id": "4da5cf40",
   "metadata": {},
   "source": [
    "## 문제 36\n",
    "36. 문제35의 w 에서 가장 작은 값의 인덱스를 np.argmin 으로 구해 출력하세요.\n",
    "```python\n",
    "0\n",
    "```\n",
    "아래 빈 코드 셀에 직접 코드를 작성해보세요."
   ]
  },
  {
   "cell_type": "code",
   "execution_count": null,
   "id": "0232f45d",
   "metadata": {},
   "outputs": [],
   "source": []
  },
  {
   "cell_type": "markdown",
   "id": "e645d428",
   "metadata": {},
   "source": [
    "## 문제 37\n",
    "37. 2차원 배열 q = np.arange(12).reshape(3,4) 에서 axis=1 기준으로 argmax 를 구해 출력하세요.\n",
    "```python\n",
    "[3 3 3]\n",
    "```\n",
    "아래 빈 코드 셀에 직접 코드를 작성해보세요."
   ]
  },
  {
   "cell_type": "code",
   "execution_count": null,
   "id": "4c8a6738",
   "metadata": {},
   "outputs": [],
   "source": []
  },
  {
   "cell_type": "markdown",
   "id": "c8f679da",
   "metadata": {},
   "source": [
    "## 문제 38\n",
    "38. 같은 q 에서 axis=0 기준으로 argmin 을 구해 출력하세요.\n",
    "```python\n",
    "[0 0 0 0]\n",
    "```\n",
    "아래 빈 코드 셀에 직접 코드를 작성해보세요."
   ]
  },
  {
   "cell_type": "code",
   "execution_count": null,
   "id": "12810eac",
   "metadata": {},
   "outputs": [],
   "source": []
  },
  {
   "cell_type": "markdown",
   "id": "1fc31a3d",
   "metadata": {},
   "source": [
    "## 문제 39\n",
    "39. 배열 mix = np.array([3,3,2,1,2,3,0]) 의 고유값을 정렬된 순서로 출력하고, 그 개수도 함께 출력하세요.\n",
    "```\n",
    "[0 1 2 3]\n",
    "4\n",
    "```\n",
    "아래 빈 코드 셀에 직접 코드를 작성해보세요."
   ]
  },
  {
   "cell_type": "code",
   "execution_count": null,
   "id": "b5acd0f3",
   "metadata": {},
   "outputs": [],
   "source": []
  },
  {
   "cell_type": "markdown",
   "id": "e07ecf86",
   "metadata": {},
   "source": [
    "## 문제 40\n",
    "40. np.linspace(0,10,6) 으로 만든 배열 L 을 내림차순으로 정렬한 결과를 출력하세요. (np.sort 결과를 뒤집기)\n",
    "```python\n",
    "[10.  8.  6.  4.  2.  0.]\n",
    "```\n",
    "아래 빈 코드 셀에 직접 코드를 작성해보세요."
   ]
  },
  {
   "cell_type": "code",
   "execution_count": null,
   "id": "9d0805ea",
   "metadata": {},
   "outputs": [],
   "source": []
  },
  {
   "cell_type": "markdown",
   "id": "5c918e29",
   "metadata": {},
   "source": [
    "## 문제 41\n",
    "41. a = np.array([1,2,3]), b = np.array([4,5,6]) 을 위아래(axis=0)로 붙인 merged 를 np.concatenate 로 만들고 출력하세요.\n",
    "```python\n",
    "[1 2 3 4 5 6]\n",
    "```\n",
    "아래 빈 코드 셀에 직접 코드를 작성해보세요."
   ]
  },
  {
   "cell_type": "code",
   "execution_count": null,
   "id": "fcbc05ea",
   "metadata": {},
   "outputs": [],
   "source": []
  },
  {
   "cell_type": "markdown",
   "id": "3bcab023",
   "metadata": {},
   "source": [
    "## 문제 42\n",
    "42. 2x2 배열 A=[[1,2],[3,4]] 와 B=[[5,6],[7,8]] 를 세로방향(axis=0)으로 붙여서 출력하세요.\n",
    "```python\n",
    "[[1 2]\n",
    " [3 4]\n",
    " [5 6]\n",
    " [7 8]]\n",
    "```\n",
    "아래 빈 코드 셀에 직접 코드를 작성해보세요."
   ]
  },
  {
   "cell_type": "code",
   "execution_count": null,
   "id": "656294d6",
   "metadata": {},
   "outputs": [],
   "source": []
  },
  {
   "cell_type": "markdown",
   "id": "f2229ec2",
   "metadata": {},
   "source": [
    "## 문제 43\n",
    "43. 문제42의 A,B 를 가로방향(axis=1)으로 붙여서 출력하세요.\n",
    "```python\n",
    "[[1 2 5 6]\n",
    " [3 4 7 8]]\n",
    "```\n",
    "아래 빈 코드 셀에 직접 코드를 작성해보세요."
   ]
  },
  {
   "cell_type": "code",
   "execution_count": null,
   "id": "743036cd",
   "metadata": {},
   "outputs": [],
   "source": []
  },
  {
   "cell_type": "markdown",
   "id": "266bf332",
   "metadata": {},
   "source": [
    "## 문제 44\n",
    "44. 서로 shape 이 맞지 않으면 concatenate 가 에러가 납니다. 아래 코드가 왜 에러인지 주석으로 설명을 적고 실행해 보세요.\n",
    "\n",
    "import numpy as np<br>\n",
    "x = np.array([[1,2,3]])<br>\n",
    "y = np.array([[4,5]])<br>\n",
    "np.concatenate((x,y), axis=0)<br>\n",
    "\n",
    "아래 빈 코드 셀에 직접 코드를 작성해보세요."
   ]
  },
  {
   "cell_type": "code",
   "execution_count": null,
   "id": "8bb13b5a",
   "metadata": {},
   "outputs": [],
   "source": []
  },
  {
   "cell_type": "markdown",
   "id": "14acaf81",
   "metadata": {},
   "source": [
    "## 문제 45\n",
    "45. 2x3 배열 Z = np.arange(6).reshape(2,3)를 전치(transpose)해서 Z_T 를 만들고 Z_T 와 Z_T.shape 를 출력하세요. (.T 사용)\n",
    "```python\n",
    "[[0 3]\n",
    " [1 4]\n",
    " [2 5]]\n",
    "(3, 2)\n",
    "```\n",
    "아래 빈 코드 셀에 직접 코드를 작성해보세요."
   ]
  },
  {
   "cell_type": "code",
   "execution_count": null,
   "id": "0233da86",
   "metadata": {},
   "outputs": [],
   "source": []
  },
  {
   "cell_type": "markdown",
   "id": "f4a85755",
   "metadata": {},
   "source": [
    "## 문제 46\n",
    "46. 3x2 배열 Y = np.array([[1,2],[3,4],[5,6]]) 를 .transpose() 메서드로 전치해 출력하세요.\n",
    "```python\n",
    "[[1 3 5]\n",
    " [2 4 6]]\n",
    "```\n",
    "아래 빈 코드 셀에 직접 코드를 작성해보세요."
   ]
  },
  {
   "cell_type": "code",
   "execution_count": null,
   "id": "2752b1c9",
   "metadata": {},
   "outputs": [],
   "source": []
  },
  {
   "cell_type": "markdown",
   "id": "cce092fd",
   "metadata": {},
   "source": [
    "## 문제 47\n",
    "47. 2x2x3 배열 R = np.arange(12).reshape(2,2,3)를 만들고, R.shape 와 R.ndim 을 출력하세요.\n",
    "```python\n",
    "(2, 2, 3)\n",
    "3\n",
    "```\n",
    "아래 빈 코드 셀에 직접 코드를 작성해보세요."
   ]
  },
  {
   "cell_type": "code",
   "execution_count": null,
   "id": "2d589a3a",
   "metadata": {},
   "outputs": [],
   "source": []
  },
  {
   "cell_type": "markdown",
   "id": "a59cdc75",
   "metadata": {},
   "source": [
    "## 문제 48\n",
    "48. 문제47의 R 에서 첫 번째 블록 R[0] 과 두 번째 블록 R[1] 을 각각 출력하세요.\n",
    "```python\n",
    "[[0 1 2]\n",
    " [3 4 5]]\n",
    "[[ 6  7  8]\n",
    " [ 9 10 11]]\n",
    "```\n",
    "아래 빈 코드 셀에 직접 코드를 작성해보세요."
   ]
  },
  {
   "cell_type": "code",
   "execution_count": null,
   "id": "db5e1dc2",
   "metadata": {},
   "outputs": [],
   "source": []
  },
  {
   "cell_type": "markdown",
   "id": "924964ef",
   "metadata": {},
   "source": [
    "## 문제 49\n",
    "49. 문제47의 R 에서 모든 값에 100을 더한 R2 를 만들고 R2 를 출력하세요. (브로드캐스팅)\n",
    "```python\n",
    "[[[100 101 102]\n",
    "  [103 104 105]]\n",
    "\n",
    " [[106 107 108]\n",
    "  [109 110 111]]]\n",
    "```\n",
    "아래 빈 코드 셀에 직접 코드를 작성해보세요."
   ]
  },
  {
   "cell_type": "code",
   "execution_count": null,
   "id": "aaa0fe19",
   "metadata": {},
   "outputs": [],
   "source": []
  },
  {
   "cell_type": "markdown",
   "id": "7f0affc1",
   "metadata": {},
   "source": [
    "## 문제 50\n",
    "50. 문제47의 R 에서 axis=0 으로 합을 구해 sum0 에 저장하고 sum0 과 sum0.shape 를 출력하세요.\n",
    "```python\n",
    "[[ 6  8 10]\n",
    " [12 14 16]]\n",
    "(2, 3)\n",
    "```\n",
    "아래 빈 코드 셀에 직접 코드를 작성해보세요."
   ]
  },
  {
   "cell_type": "code",
   "execution_count": null,
   "id": "caba2d83",
   "metadata": {},
   "outputs": [],
   "source": []
  },
  {
   "cell_type": "markdown",
   "id": "5d86e10c",
   "metadata": {},
   "source": [
    "## 문제 51\n",
    "51. 1차원 배열 score = np.array([95,60,72,88,45]) 에서 70 이상이면 'pass', 아니면 'fail' 문자열로 만든 result 를 출력하세요.\n",
    "```python\n",
    "['pass' 'fail' 'pass' 'pass' 'fail']\n",
    "```\n",
    "아래 빈 코드 셀에 직접 코드를 작성해보세요."
   ]
  },
  {
   "cell_type": "code",
   "execution_count": null,
   "id": "94eea60f",
   "metadata": {},
   "outputs": [],
   "source": []
  },
  {
   "cell_type": "markdown",
   "id": "77699262",
   "metadata": {},
   "source": [
    "## 문제 52\n",
    "52. score 에서 80 이상인 값들만 골라 high 에 넣고 출력하세요.\n",
    "```python\n",
    "[95 88]\n",
    "```\n",
    "아래 빈 코드 셀에 직접 코드를 작성해보세요."
   ]
  },
  {
   "cell_type": "code",
   "execution_count": null,
   "id": "dae6b23b",
   "metadata": {},
   "outputs": [],
   "source": []
  },
  {
   "cell_type": "markdown",
   "id": "01b4891e",
   "metadata": {},
   "source": [
    "## 문제 53\n",
    "53. score 의 평균을 구하고, 평균 이상인 점수만 골라서 출력하세요.\n",
    "```python\n",
    "72.0\n",
    "[95 72 88]\n",
    "```\n",
    "아래 빈 코드 셀에 직접 코드를 작성해보세요."
   ]
  },
  {
   "cell_type": "code",
   "execution_count": null,
   "id": "fc377e43",
   "metadata": {},
   "outputs": [],
   "source": []
  },
  {
   "cell_type": "markdown",
   "id": "fa2683ec",
   "metadata": {},
   "source": [
    "## 문제 54\n",
    "54. 2차원 배열 temp = np.array([[10,-5],[3,-1],[0,7]]) 에서 음수는 0으로 바꾸고 양수/0은 그대로 두는 fixed 를 출력하세요. (np.where)\n",
    "```python\n",
    "[[10  0]\n",
    " [ 3  0]\n",
    " [ 0  7]]\n",
    "```\n",
    "아래 빈 코드 셀에 직접 코드를 작성해보세요."
   ]
  },
  {
   "cell_type": "code",
   "execution_count": null,
   "id": "4b764f27",
   "metadata": {},
   "outputs": [],
   "source": []
  },
  {
   "cell_type": "markdown",
   "id": "9d71d1c4",
   "metadata": {},
   "source": [
    "## 문제 55\n",
    "55. temp 배열에서 0보다 작은 값들의 위치(불리언 mask)를 mask 라고 할 때, mask 와 temp[mask] 를 각각 출력하세요.\n",
    "```python\n",
    "[[False  True]\n",
    " [False  True]\n",
    " [False False]]\n",
    "[-5 -1]\n",
    "```\n",
    "아래 빈 코드 셀에 직접 코드를 작성해보세요."
   ]
  },
  {
   "cell_type": "code",
   "execution_count": null,
   "id": "b5f301cf",
   "metadata": {},
   "outputs": [],
   "source": []
  },
  {
   "cell_type": "markdown",
   "id": "25bc4246",
   "metadata": {},
   "source": [
    "## 문제 56\n",
    "56. arr = np.arange(1,13).reshape(3,4) 에서 짝수는 그대로, 홀수는 arr 값에 -1을 곱한 배열 new_arr 를 만들어 출력하세요.\n",
    "```python\n",
    "[[ -1   2  -3   4]\n",
    " [ -5   6  -7   8]\n",
    " [ -9  10 -11  12]]\n",
    "```\n",
    "아래 빈 코드 셀에 직접 코드를 작성해보세요."
   ]
  },
  {
   "cell_type": "code",
   "execution_count": null,
   "id": "d099ffd7",
   "metadata": {},
   "outputs": [],
   "source": []
  },
  {
   "cell_type": "markdown",
   "id": "a8cf241e",
   "metadata": {},
   "source": [
    "## 문제 57\n",
    "57. arr(문제56) 에서 각 행별 최대값을 출력하세요. (axis=1)\n",
    "```python\n",
    "[ 4  8 12]\n",
    "```\n",
    "아래 빈 코드 셀에 직접 코드를 작성해보세요."
   ]
  },
  {
   "cell_type": "code",
   "execution_count": null,
   "id": "ba6e902e",
   "metadata": {},
   "outputs": [],
   "source": []
  },
  {
   "cell_type": "markdown",
   "id": "66a7a9eb",
   "metadata": {},
   "source": [
    "## 문제 58\n",
    "58. arr(문제56) 에서 각 열별 최소값을 출력하세요. (axis=0)\n",
    "```python\n",
    "[1 2 3 4]\n",
    "```\n",
    "아래 빈 코드 셀에 직접 코드를 작성해보세요."
   ]
  },
  {
   "cell_type": "code",
   "execution_count": null,
   "id": "abc49e38",
   "metadata": {},
   "outputs": [],
   "source": []
  },
  {
   "cell_type": "markdown",
   "id": "fdb12e4e",
   "metadata": {},
   "source": [
    "## 문제 59\n",
    "59. arr(문제56) 의 표준편차를 np.std 로 구해 출력하세요.\n",
    "```python\n",
    "3.452052529534663\n",
    "```\n",
    "아래 빈 코드 셀에 직접 코드를 작성해보세요."
   ]
  },
  {
   "cell_type": "code",
   "execution_count": null,
   "id": "cd544fa8",
   "metadata": {},
   "outputs": [],
   "source": []
  },
  {
   "cell_type": "markdown",
   "id": "f25a9b02",
   "metadata": {},
   "source": [
    "## 문제 60\n",
    "60. arr(문제56) 의 분산을 np.var 로 구해 출력하세요.\n",
    "```python\n",
    "11.916666666666666\n",
    "```\n",
    "아래 빈 코드 셀에 직접 코드를 작성해보세요."
   ]
  },
  {
   "cell_type": "code",
   "execution_count": null,
   "id": "4fa5ba18",
   "metadata": {},
   "outputs": [],
   "source": []
  },
  {
   "cell_type": "markdown",
   "id": "7e99583f",
   "metadata": {},
   "source": [
    "## 문제 61\n",
    "61. np.arange(24)를 2x3x4 형태로 바꾼 cube 를 만들고 cube.shape 와 cube.ndim 을 출력하세요.\n",
    "```python\n",
    "(2, 3, 4)\n",
    "3\n",
    "```\n",
    "아래 빈 코드 셀에 직접 코드를 작성해보세요."
   ]
  },
  {
   "cell_type": "code",
   "execution_count": null,
   "id": "856c0d6e",
   "metadata": {},
   "outputs": [],
   "source": []
  },
  {
   "cell_type": "markdown",
   "id": "72a471f3",
   "metadata": {},
   "source": [
    "## 문제 62\n",
    "62. cube(문제61) 에서 첫 번째 블록(cube[0]) 만 출력하세요.\n",
    "```python\n",
    "[[ 0  1  2  3]\n",
    " [ 4  5  6  7]\n",
    " [ 8  9 10 11]]\n",
    "```\n",
    "아래 빈 코드 셀에 직접 코드를 작성해보세요."
   ]
  },
  {
   "cell_type": "code",
   "execution_count": null,
   "id": "39f6bf94",
   "metadata": {},
   "outputs": [],
   "source": []
  },
  {
   "cell_type": "markdown",
   "id": "e87c08de",
   "metadata": {},
   "source": [
    "## 문제 63\n",
    "63. cube 에 100을 더한 cube2 를 만든 다음 cube2 의 (1,2,3) 위치 값을 출력하세요.\n",
    "```python\n",
    "123\n",
    "```\n",
    "아래 빈 코드 셀에 직접 코드를 작성해보세요."
   ]
  },
  {
   "cell_type": "code",
   "execution_count": null,
   "id": "2830d496",
   "metadata": {},
   "outputs": [],
   "source": []
  },
  {
   "cell_type": "markdown",
   "id": "a8cc0e7f",
   "metadata": {},
   "source": [
    "## 문제 64\n",
    "64. cube 의 axis=0 합, axis=1 합, axis=2 합을 각각 구해 출력하세요.\n",
    "```python\n",
    "[[12 14 16 18]\n",
    " [20 22 24 26]\n",
    " [28 30 32 34]]\n",
    "[[12 15 18 21]\n",
    " [48 51 54 57]]\n",
    "[[ 6 22 38]\n",
    " [54 70 86]]\n",
    "```\n",
    "아래 빈 코드 셀에 직접 코드를 작성해보세요."
   ]
  },
  {
   "cell_type": "code",
   "execution_count": null,
   "id": "57831ca6",
   "metadata": {},
   "outputs": [],
   "source": []
  },
  {
   "cell_type": "markdown",
   "id": "57dfa3df",
   "metadata": {},
   "source": [
    "## 문제 65\n",
    "65. cube 의 전치(축 순서 바꾸기)를 transpose(1,0,2) 로 수행한 t 를 만들고, t.shape 를 출력하세요.\n",
    "```python\n",
    "(3, 2, 4)\n",
    "```\n",
    "아래 빈 코드 셀에 직접 코드를 작성해보세요."
   ]
  },
  {
   "cell_type": "code",
   "execution_count": null,
   "id": "58e7d4ea",
   "metadata": {},
   "outputs": [],
   "source": []
  },
  {
   "cell_type": "markdown",
   "id": "2830c6d2",
   "metadata": {},
   "source": [
    "## 문제 66\n",
    "66. cube 의 마지막 축(axis=2) 기준 평균을 mean_last 에 저장하고 mean_last 과 mean_last.shape 를 출력하세요.\n",
    "```python\n",
    "[[ 1.5  5.5  9.5]\n",
    " [13.5 17.5 21.5]]\n",
    "(2, 3)\n",
    "```\n",
    "아래 빈 코드 셀에 직접 코드를 작성해보세요."
   ]
  },
  {
   "cell_type": "code",
   "execution_count": null,
   "id": "32a1ce27",
   "metadata": {},
   "outputs": [],
   "source": []
  },
  {
   "cell_type": "markdown",
   "id": "aa871f39",
   "metadata": {},
   "source": [
    "## 문제 67\n",
    "67. 1차원 배열 vec = np.arange(1,6) 을 (5,1) 모양과 (1,5) 모양으로 각각 reshape 해서 출력하세요.\n",
    "```python\n",
    "[[1]\n",
    " [2]\n",
    " [3]\n",
    " [4]\n",
    " [5]]\n",
    "[[1 2 3 4 5]]\n",
    "```\n",
    "아래 빈 코드 셀에 직접 코드를 작성해보세요."
   ]
  },
  {
   "cell_type": "code",
   "execution_count": null,
   "id": "d5857233",
   "metadata": {},
   "outputs": [],
   "source": []
  },
  {
   "cell_type": "markdown",
   "id": "3a52f82e",
   "metadata": {},
   "source": [
    "## 문제 68\n",
    "68. 문제67에서 만든 (5,1) 배열과 (1,5) 배열을 곱하면 5x5 행렬이 됩니다. 이를 mat 라고 하고 mat.shape 와 mat 를 출력하세요. (브로드캐스팅)\n",
    "```pyhton\n",
    "(5, 5)\n",
    "[[ 1  2  3  4  5]\n",
    " [ 2  4  6  8 10]\n",
    " [ 3  6  9 12 15]\n",
    " [ 4  8 12 16 20]\n",
    " [ 5 10 15 20 25]]\n",
    "``` \n",
    "아래 빈 코드 셀에 직접 코드를 작성해보세요."
   ]
  },
  {
   "cell_type": "code",
   "execution_count": null,
   "id": "e2a0e819",
   "metadata": {},
   "outputs": [],
   "source": []
  },
  {
   "cell_type": "markdown",
   "id": "d1260d3e",
   "metadata": {},
   "source": [
    "## 문제 69\n",
    "69. np.arange(1,10).reshape(3,3) 을 M 이라고 할 때, M 에서 대각선 요소만 0으로 바꾼 M2 를 만들어 출력하세요.\n",
    "```python\n",
    "[[0 2 3]\n",
    " [4 0 6]\n",
    " [7 8 0]]\n",
    "```\n",
    "아래 빈 코드 셀에 직접 코드를 작성해보세요."
   ]
  },
  {
   "cell_type": "code",
   "execution_count": null,
   "id": "eb6470b7",
   "metadata": {},
   "outputs": [],
   "source": []
  },
  {
   "cell_type": "markdown",
   "id": "58f23ba8",
   "metadata": {},
   "source": [
    "## 문제 70\n",
    "70. 문제69의 M 에서 상삼각(대각선 위) 부분만 골라서 upper 라는 1차원 배열로 만들어 출력하세요.\n",
    "```python\n",
    "[2 3 6]\n",
    "```\n",
    "아래 빈 코드 셀에 직접 코드를 작성해보세요."
   ]
  },
  {
   "cell_type": "code",
   "execution_count": null,
   "id": "1de2c3f0",
   "metadata": {},
   "outputs": [],
   "source": []
  },
  {
   "cell_type": "markdown",
   "id": "3b61a442",
   "metadata": {},
   "source": [
    "## 문제 71\n",
    "71. 길이가 10인 0으로 채워진 배열 zeros 를 만들고 zeros 를 출력하세요. (np.zeros)\n",
    "```python\n",
    "[0. 0. 0. 0. 0. 0. 0. 0. 0. 0.]\n",
    "```\n",
    "아래 빈 코드 셀에 직접 코드를 작성해보세요."
   ]
  },
  {
   "cell_type": "code",
   "execution_count": null,
   "id": "8e5d3a76",
   "metadata": {},
   "outputs": [],
   "source": []
  },
  {
   "cell_type": "markdown",
   "id": "d3e5787a",
   "metadata": {},
   "source": [
    "## 문제 72\n",
    "72. 3행4열 모두 1로 채워진 배열 ones 를 만들고 ones 와 ones.dtype 를 출력하세요. (np.ones)\n",
    "```python\n",
    "[[1. 1. 1. 1.]\n",
    " [1. 1. 1. 1.]\n",
    " [1. 1. 1. 1.]]\n",
    "float64\n",
    "```\n",
    "아래 빈 코드 셀에 직접 코드를 작성해보세요."
   ]
  },
  {
   "cell_type": "code",
   "execution_count": null,
   "id": "a1efe69b",
   "metadata": {},
   "outputs": [],
   "source": []
  },
  {
   "cell_type": "markdown",
   "id": "5deb1aeb",
   "metadata": {},
   "source": [
    "## 문제 73\n",
    "73. (2,3) 모양의 모든 값이 7인 배열 sevens 를 np.full 로 만들고 출력하세요.\n",
    "```python\n",
    "[[7 7 7]\n",
    " [7 7 7]]\n",
    "```\n",
    "아래 빈 코드 셀에 직접 코드를 작성해보세요."
   ]
  },
  {
   "cell_type": "code",
   "execution_count": null,
   "id": "12265528",
   "metadata": {},
   "outputs": [],
   "source": []
  },
  {
   "cell_type": "markdown",
   "id": "cac807fc",
   "metadata": {},
   "source": [
    "## 문제 74\n",
    "74. 1차원 배열 a = np.array([1,2,3,4,5]) 의 평균을 구하고, 각 원소에서 평균을 뺀 결과 centered 를 출력하세요.\n",
    "```python\n",
    "[-2. -1.  0.  1.  2.]\n",
    "```\n",
    "아래 빈 코드 셀에 직접 코드를 작성해보세요."
   ]
  },
  {
   "cell_type": "code",
   "execution_count": null,
   "id": "f92b36d3",
   "metadata": {},
   "outputs": [],
   "source": []
  },
  {
   "cell_type": "markdown",
   "id": "bdd7767d",
   "metadata": {},
   "source": [
    "## 문제 75\n",
    "75. 두 배열 p=[2,4,6] 와 q=[1,3,5] 에 대해 (p-q), (p*q), (p/q) 를 각각 출력하세요.\n",
    "```python\n",
    "[1 1 1]\n",
    "[ 2 12 30]\n",
    "[2.         1.33333333 1.2       ]\n",
    "```\n",
    "아래 빈 코드 셀에 직접 코드를 작성해보세요."
   ]
  },
  {
   "cell_type": "code",
   "execution_count": null,
   "id": "898317ce",
   "metadata": {},
   "outputs": [],
   "source": []
  },
  {
   "cell_type": "markdown",
   "id": "0a71e9c5",
   "metadata": {},
   "source": [
    "## 문제 76\n",
    "76. arr = np.array([1,2,0,4,0,5]) 에서 0이 아닌 값들만 골라 nonzero_vals 로 저장하고 출력하세요.\n",
    "```python\n",
    "[1 2 4 5]\n",
    "```\n",
    "아래 빈 코드 셀에 직접 코드를 작성해보세요."
   ]
  },
  {
   "cell_type": "code",
   "execution_count": null,
   "id": "b229d7e4",
   "metadata": {},
   "outputs": [],
   "source": []
  },
  {
   "cell_type": "markdown",
   "id": "89ebcce4",
   "metadata": {},
   "source": [
    "## 문제 77\n",
    "77. arr 에서 0인 원소의 인덱스만 np.where 로 찾아서 idx_zero 에 저장하고 출력하세요.\n",
    "```python\n",
    "(array([2, 4]),)\n",
    "```\n",
    "아래 빈 코드 셀에 직접 코드를 작성해보세요."
   ]
  },
  {
   "cell_type": "code",
   "execution_count": null,
   "id": "5e10570a",
   "metadata": {},
   "outputs": [],
   "source": []
  },
  {
   "cell_type": "markdown",
   "id": "49c5aa9e",
   "metadata": {},
   "source": [
    "## 문제 78\n",
    "78. 2차원 배열 G = np.arange(1,10).reshape(3,3) 에서 전체 합과 대각선의 합을 각각 구해 출력하세요.\n",
    "```python\n",
    "45\n",
    "15\n",
    "```\n",
    "아래 빈 코드 셀에 직접 코드를 작성해보세요."
   ]
  },
  {
   "cell_type": "code",
   "execution_count": null,
   "id": "34d8d931",
   "metadata": {},
   "outputs": [],
   "source": []
  },
  {
   "cell_type": "markdown",
   "id": "b60d8589",
   "metadata": {},
   "source": [
    "## 문제 79\n",
    "79. G(문제78)의 역순(마지막 행부터 첫 행까지) 배열 rev_rows 를 만들어 출력하세요.\n",
    "```python\n",
    "[[7 8 9]\n",
    " [4 5 6]\n",
    " [1 2 3]]\n",
    "```\n",
    "아래 빈 코드 셀에 직접 코드를 작성해보세요."
   ]
  },
  {
   "cell_type": "code",
   "execution_count": null,
   "id": "061e3ef6",
   "metadata": {},
   "outputs": [],
   "source": []
  },
  {
   "cell_type": "markdown",
   "id": "f20dcc19",
   "metadata": {},
   "source": [
    "## 문제 80\n",
    "80. G(문제78)의 각 행을 거꾸로 뒤집은 rev_cols 를 만들어 출력하세요. (슬라이싱 사용)\n",
    "```python\n",
    "[[3 2 1]\n",
    " [6 5 4]\n",
    " [9 8 7]]\n",
    "```\n",
    "아래 빈 코드 셀에 직접 코드를 작성해보세요."
   ]
  },
  {
   "cell_type": "code",
   "execution_count": null,
   "id": "915a9da9",
   "metadata": {},
   "outputs": [],
   "source": []
  },
  {
   "cell_type": "markdown",
   "id": "2cab7717",
   "metadata": {},
   "source": [
    "## 문제 81\n",
    "81. 길이가 10인 배열 h 를 0~9 로 만들고, h 의 짝수 인덱스 위치에만 100을 더한 h2 를 만들어 출력하세요.\n",
    "```python\n",
    "[100   1 102   3 104   5 106   7 108   9]\n",
    "```\n",
    "아래 빈 코드 셀에 직접 코드를 작성해보세요."
   ]
  },
  {
   "cell_type": "code",
   "execution_count": null,
   "id": "74cbd394",
   "metadata": {},
   "outputs": [],
   "source": []
  },
  {
   "cell_type": "markdown",
   "id": "c17f537f",
   "metadata": {},
   "source": [
    "## 문제 82\n",
    "82. 1차원 배열 src = np.array([10,20,30,40,50]) 에서 가운데 3개 값(20,30,40)을 0으로 바꾼 dst 를 만들어 출력하세요.\n",
    "```python\n",
    "[10  0  0  0 50]\n",
    "```\n",
    "아래 빈 코드 셀에 직접 코드를 작성해보세요."
   ]
  },
  {
   "cell_type": "code",
   "execution_count": null,
   "id": "d91152d7",
   "metadata": {},
   "outputs": [],
   "source": []
  },
  {
   "cell_type": "markdown",
   "id": "1b061f89",
   "metadata": {},
   "source": [
    "## 문제 83\n",
    "83. 4x4 배열 H = np.arange(16).reshape(4,4) 에서 테두리(가장 바깥 행/열)만 남기고 나머지는 0으로 만든 mask_arr 를 출력하세요.\n",
    "```python\n",
    "[[ 0  1  2  3]\n",
    " [ 4  0  0  7]\n",
    " [ 8  0  0 11]\n",
    " [12 13 14 15]]\n",
    "```\n",
    "아래 빈 코드 셀에 직접 코드를 작성해보세요."
   ]
  },
  {
   "cell_type": "code",
   "execution_count": null,
   "id": "b64c8839",
   "metadata": {},
   "outputs": [],
   "source": []
  },
  {
   "cell_type": "markdown",
   "id": "5e3677c9",
   "metadata": {},
   "source": [
    "## 문제 84\n",
    "84. H(문제83) 의 가운데 2x2 영역만 잘라서 center 라는 배열에 담고 출력하세요.\n",
    "```python\n",
    "[[ 5  6]\n",
    " [ 9 10]]\n",
    "```\n",
    "아래 빈 코드 셀에 직접 코드를 작성해보세요."
   ]
  },
  {
   "cell_type": "code",
   "execution_count": null,
   "id": "25e88100",
   "metadata": {},
   "outputs": [],
   "source": []
  },
  {
   "cell_type": "markdown",
   "id": "b34f5aa6",
   "metadata": {},
   "source": [
    "## 문제 85\n",
    "85. np.arange(1,17).reshape(4,4)를 K 라고 할 때, K 의 각 행 평균을 row_mean 에 저장하고 출력하세요.\n",
    "```python\n",
    "[ 2.5  6.5 10.5 14.5]\n",
    "```\n",
    "아래 빈 코드 셀에 직접 코드를 작성해보세요."
   ]
  },
  {
   "cell_type": "code",
   "execution_count": null,
   "id": "c857682d",
   "metadata": {},
   "outputs": [],
   "source": []
  },
  {
   "cell_type": "markdown",
   "id": "200ab881",
   "metadata": {},
   "source": [
    "## 문제 86\n",
    "86. K 의 각 열 평균을 col_mean 에 저장하고 출력하세요.\n",
    "```python\n",
    "[ 7.  8.  9. 10.]\n",
    "```\n",
    "아래 빈 코드 셀에 직접 코드를 작성해보세요."
   ]
  },
  {
   "cell_type": "code",
   "execution_count": null,
   "id": "a8dd6e6d",
   "metadata": {},
   "outputs": [],
   "source": []
  },
  {
   "cell_type": "markdown",
   "id": "cde0f1a9",
   "metadata": {},
   "source": [
    "## 문제 87\n",
    "87. K 에서 (row_mean 을 열방향으로) 빼서, 각 행이 평균이 0이 되도록 표준화한 centered_K 를 출력하세요. (브로드캐스팅)\n",
    "```python\n",
    "[[-1.5 -0.5  0.5  1.5]\n",
    " [-1.5 -0.5  0.5  1.5]\n",
    " [-1.5 -0.5  0.5  1.5]\n",
    " [-1.5 -0.5  0.5  1.5]]\n",
    "```\n",
    "아래 빈 코드 셀에 직접 코드를 작성해보세요."
   ]
  },
  {
   "cell_type": "code",
   "execution_count": null,
   "id": "5949560b",
   "metadata": {},
   "outputs": [],
   "source": []
  },
  {
   "cell_type": "markdown",
   "id": "403d9c05",
   "metadata": {},
   "source": [
    "## 문제 88\n",
    "88. 1차원 배열 t = np.array([1,2,3,4,5]) 의 누적합(np.cumsum)을 출력하세요.\n",
    "```python\n",
    "[ 1  3  6 10 15]\n",
    "```\n",
    "아래 빈 코드 셀에 직접 코드를 작성해보세요."
   ]
  },
  {
   "cell_type": "code",
   "execution_count": null,
   "id": "fc807e3b",
   "metadata": {},
   "outputs": [],
   "source": []
  },
  {
   "cell_type": "markdown",
   "id": "8e08ac7f",
   "metadata": {},
   "source": [
    "## 문제 89\n",
    "89. t 의 누적곱(np.cumprod)을 출력하세요.\n",
    "```python\n",
    "[  1   2   6  24 120]\n",
    "```\n",
    "아래 빈 코드 셀에 직접 코드를 작성해보세요."
   ]
  },
  {
   "cell_type": "code",
   "execution_count": null,
   "id": "12043021",
   "metadata": {},
   "outputs": [],
   "source": []
  },
  {
   "cell_type": "markdown",
   "id": "1f665578",
   "metadata": {},
   "source": [
    "## 문제 90\n",
    "90. 0~8 배열을 3x3 으로 만든 U 에서 대각선 아래(하삼각) 원소만 0으로 만든 U2 를 출력하세요. (인덱싱 사용)\n",
    "```python\n",
    "[[0 1 2]\n",
    " [3 4 5]\n",
    " [6 7 8]]\n",
    "\n",
    "[[0 1 2]\n",
    " [0 4 5]\n",
    " [0 0 8]]\n",
    "```\n",
    "아래 빈 코드 셀에 직접 코드를 작성해보세요."
   ]
  },
  {
   "cell_type": "code",
   "execution_count": null,
   "id": "30568c49",
   "metadata": {},
   "outputs": [],
   "source": []
  },
  {
   "cell_type": "markdown",
   "id": "7fc18cab",
   "metadata": {},
   "source": [
    "## 문제 91\n",
    "91. 파이썬 리스트 [170, 180, 175, 160, 165] (cm)를 배열 height 로 만들고, 평균 키와 최대/최소 키를 출력하세요.\n",
    "```python\n",
    "170.0\n",
    "180\n",
    "160\n",
    "```\n",
    "아래 빈 코드 셀에 직접 코드를 작성해보세요."
   ]
  },
  {
   "cell_type": "code",
   "execution_count": null,
   "id": "21e1030e",
   "metadata": {},
   "outputs": [],
   "source": []
  },
  {
   "cell_type": "markdown",
   "id": "604f0e1c",
   "metadata": {},
   "source": [
    "## 문제 92\n",
    "92. 문제91의 height 에서 평균 이상인 값만 골라 tall_group 에 저장하고 출력하세요.\n",
    "```python\n",
    "[170 180 175]\n",
    "```\n",
    "아래 빈 코드 셀에 직접 코드를 작성해보세요."
   ]
  },
  {
   "cell_type": "code",
   "execution_count": null,
   "id": "1d770f0e",
   "metadata": {},
   "outputs": [],
   "source": []
  },
  {
   "cell_type": "markdown",
   "id": "bcf0dcc8",
   "metadata": {},
   "source": [
    "## 문제 93\n",
    "93. 1~12 를 가진 배열 sales 를 3x4 로 바꾸고, 각 월(열)별 합계를 month_sum 으로 구해 출력하세요. (axis=0)\n",
    "```python\n",
    "[15 18 21 24]\n",
    "```\n",
    "아래 빈 코드 셀에 직접 코드를 작성해보세요."
   ]
  },
  {
   "cell_type": "code",
   "execution_count": null,
   "id": "6663a8bf",
   "metadata": {},
   "outputs": [],
   "source": []
  },
  {
   "cell_type": "markdown",
   "id": "85e303b2",
   "metadata": {},
   "source": [
    "## 문제 94\n",
    "94. 문제93의 sales 에서 각 지점(행)별 평균을 branch_mean 으로 구해 출력하세요. (axis=1)\n",
    "```python\n",
    "[ 2.5  6.5 10.5]\n",
    "```\n",
    "아래 빈 코드 셀에 직접 코드를 작성해보세요."
   ]
  },
  {
   "cell_type": "code",
   "execution_count": null,
   "id": "a1460493",
   "metadata": {},
   "outputs": [],
   "source": []
  },
  {
   "cell_type": "markdown",
   "id": "2c78c457",
   "metadata": {},
   "source": [
    "## 문제 95\n",
    "95. sales 에서 가장 많이 팔린 값이 어느 위치(행,열)인지 np.argmax 를 이용해 찾아서 그 행과 열 인덱스를 각각 출력하세요.\n",
    "```python\n",
    "2 3\n",
    "```\n",
    "아래 빈 코드 셀에 직접 코드를 작성해보세요."
   ]
  },
  {
   "cell_type": "code",
   "execution_count": null,
   "id": "c689ab59",
   "metadata": {},
   "outputs": [],
   "source": []
  },
  {
   "cell_type": "markdown",
   "id": "1f1088a3",
   "metadata": {},
   "source": [
    "## 문제 96\n",
    "96. 시험 점수 scores = np.array([88,92,75,90,68,100]) 에서 상위 3개 점수만 큰 순서대로 출력하세요.\n",
    "```python\n",
    "[100  92  90]\n",
    "```\n",
    "아래 빈 코드 셀에 직접 코드를 작성해보세요."
   ]
  },
  {
   "cell_type": "code",
   "execution_count": null,
   "id": "cfbcc093",
   "metadata": {},
   "outputs": [],
   "source": []
  },
  {
   "cell_type": "markdown",
   "id": "0877d343",
   "metadata": {},
   "source": [
    "## 문제 97\n",
    "97. scores 에서 평균과 표준편차(np.std)를 구하고 출력하세요.\n",
    "```python\n",
    "85.5\n",
    "10.766460266339475\n",
    "```\n",
    "아래 빈 코드 셀에 직접 코드를 작성해보세요."
   ]
  },
  {
   "cell_type": "code",
   "execution_count": null,
   "id": "4e3e8fa2",
   "metadata": {},
   "outputs": [],
   "source": []
  },
  {
   "cell_type": "markdown",
   "id": "2971ae5e",
   "metadata": {},
   "source": [
    "## 문제 98\n",
    "98. product = np.array([10,20,30,40]) 와 cost = np.array([7,15,22,35]) 가 있을 때, 각 원소별 이익(=product-cost)을 profit 으로 계산해 출력하세요.\n",
    "```python\n",
    "[3 5 8 5]\n",
    "```\n",
    "아래 빈 코드 셀에 직접 코드를 작성해보세요."
   ]
  },
  {
   "cell_type": "code",
   "execution_count": null,
   "id": "a478c36a",
   "metadata": {},
   "outputs": [],
   "source": []
  },
  {
   "cell_type": "markdown",
   "id": "9c402d43",
   "metadata": {},
   "source": [
    "## 문제 99\n",
    "99. product 와 cost 로부터 이익률(이익/원가 *100)을 perc 로 계산해 출력하세요.\n",
    "```python\n",
    "[42.85714286 33.33333333 36.36363636 14.28571429]\n",
    "```\n",
    "아래 빈 코드 셀에 직접 코드를 작성해보세요."
   ]
  },
  {
   "cell_type": "code",
   "execution_count": null,
   "id": "04c7e341",
   "metadata": {},
   "outputs": [],
   "source": []
  },
  {
   "cell_type": "markdown",
   "id": "b894141e",
   "metadata": {},
   "source": [
    "## 문제 100\n",
    "100. 임의의 3x3 배열 data = np.array([[5,2,7],[1,9,3],[4,6,8]]) 에서 각 열마다 가장 큰 값을 max_col 로 저장하고 max_col 을 출력하세요.\n",
    "```python\n",
    "[5 9 8]\n",
    "```\n",
    "아래 빈 코드 셀에 직접 코드를 작성해보세요."
   ]
  },
  {
   "cell_type": "code",
   "execution_count": null,
   "id": "2a0ed665",
   "metadata": {},
   "outputs": [],
   "source": []
  }
 ],
 "metadata": {
  "kernelspec": {
   "display_name": "Python 3 (ipykernel)",
   "language": "python",
   "name": "python3"
  },
  "language_info": {
   "codemirror_mode": {
    "name": "ipython",
    "version": 3
   },
   "file_extension": ".py",
   "mimetype": "text/x-python",
   "name": "python",
   "nbconvert_exporter": "python",
   "pygments_lexer": "ipython3",
   "version": "3.9.23"
  }
 },
 "nbformat": 4,
 "nbformat_minor": 5
}
